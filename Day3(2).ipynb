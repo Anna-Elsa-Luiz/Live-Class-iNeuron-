{
 "cells": [
  {
   "cell_type": "code",
   "execution_count": 4,
   "id": "33015fe8-286c-4de4-a38a-7eb02068ba25",
   "metadata": {},
   "outputs": [
    {
     "name": "stdout",
     "output_type": "stream",
     "text": [
      "10 9 hello 6.5\n"
     ]
    }
   ],
   "source": [
    "Class=10\n",
    "Return=9\n",
    "If= \"hello\"\n",
    "Else= 6.5\n",
    "\n",
    "print(Class,Return,If,Else)"
   ]
  },
  {
   "cell_type": "code",
   "execution_count": 1,
   "id": "4dcd12b3-5d8f-4360-9d6c-ceb0817550e1",
   "metadata": {},
   "outputs": [
    {
     "name": "stdout",
     "output_type": "stream",
     "text": [
      "3\n"
     ]
    }
   ],
   "source": [
    "a=1 #value of a is 1\n",
    "b=2 #value of b is 2\n",
    "c=a+b #sum is in c\n",
    "print(c)"
   ]
  },
  {
   "cell_type": "code",
   "execution_count": 10,
   "id": "ed4dc4ae-c7b4-41bb-aa86-b5d3d6aea89b",
   "metadata": {},
   "outputs": [
    {
     "name": "stdout",
     "output_type": "stream",
     "text": [
      "22\n"
     ]
    }
   ],
   "source": [
    "a=10\n",
    "b=12\n",
    "\n",
    "def add_number(a,b):\n",
    "  \"\"\"\n",
    "  Parameters:\n",
    "  a (int): The first variable \n",
    "  b (int): The second variable \n",
    "  \n",
    "  Return:\n",
    "  int: which is the sum of a and b\n",
    "  \n",
    "  \"\"\"\n",
    "  return a + b \n",
    "print(a+b)"
   ]
  },
  {
   "cell_type": "code",
   "execution_count": 11,
   "id": "446d30cc-c20e-41e7-a83a-041ebf0c638d",
   "metadata": {},
   "outputs": [
    {
     "name": "stdout",
     "output_type": "stream",
     "text": [
      "\n",
      "  Parameters:\n",
      "  a (int): The first variable \n",
      "  b (int): The second variable \n",
      "  \n",
      "  Return:\n",
      "  int: which is the sum of a and b\n",
      "  \n",
      "  \n"
     ]
    }
   ],
   "source": [
    "print(add_number.__doc__)"
   ]
  },
  {
   "cell_type": "code",
   "execution_count": 17,
   "id": "bd13923f-38ae-49f8-8853-8172cf6f0a8b",
   "metadata": {},
   "outputs": [
    {
     "name": "stdout",
     "output_type": "stream",
     "text": [
      "This is True\n"
     ]
    }
   ],
   "source": [
    "if True:\n",
    "    print(\"This is True\") # Error :expected an indented block\n",
    "    "
   ]
  },
  {
   "cell_type": "code",
   "execution_count": 18,
   "id": "31ea8454-539b-4894-933b-8049c1602029",
   "metadata": {},
   "outputs": [
    {
     "name": "stdout",
     "output_type": "stream",
     "text": [
      "This is true!\n"
     ]
    }
   ],
   "source": [
    "#incorrect use of indentation\n",
    "#1\n",
    "if True:\n",
    "     print(\"This is true!\")\n",
    "        "
   ]
  },
  {
   "cell_type": "code",
   "execution_count": 19,
   "id": "e8182011-69db-4320-a88f-3134f458bd7b",
   "metadata": {},
   "outputs": [
    {
     "name": "stdout",
     "output_type": "stream",
     "text": [
      "0\n",
      "1\n",
      "2\n"
     ]
    }
   ],
   "source": [
    "#2\n",
    "for i in range(3):\n",
    "    print (i)"
   ]
  },
  {
   "cell_type": "code",
   "execution_count": 21,
   "id": "ee1038c2-26e2-4848-90db-ffa0b91a22db",
   "metadata": {},
   "outputs": [],
   "source": [
    "#3\n",
    "def hello():\n",
    "    print(\"Hello,world\")"
   ]
  },
  {
   "cell_type": "code",
   "execution_count": 24,
   "id": "c4eb73e4-8114-403b-98c0-1bf685d9b0fe",
   "metadata": {},
   "outputs": [],
   "source": [
    "#4\n",
    "while False:\n",
    "    print(\"This wont print\")"
   ]
  },
  {
   "cell_type": "code",
   "execution_count": 26,
   "id": "9160dcbe-a221-4bb3-a5f0-bc02f525eb7a",
   "metadata": {},
   "outputs": [
    {
     "name": "stdout",
     "output_type": "stream",
     "text": [
      "positive number\n"
     ]
    }
   ],
   "source": [
    "#conditional statements\n",
    "x= 2 \n",
    "if x>0:\n",
    "    print(\"positive number\")"
   ]
  },
  {
   "cell_type": "code",
   "execution_count": 29,
   "id": "4d895016-f85a-4219-8c42-bfb4e5fd841c",
   "metadata": {},
   "outputs": [
    {
     "name": "stdout",
     "output_type": "stream",
     "text": [
      "28\n"
     ]
    }
   ],
   "source": [
    "#multi-line statemets\n",
    "\n",
    "s= 1+1+1+1+1+1+1+1+1+1\\\n",
    "   +2+2+2+2+2+2+2+2+2\n",
    "print(s)"
   ]
  },
  {
   "cell_type": "code",
   "execution_count": 30,
   "id": "f26f59d6-690b-4c79-ab85-2fc18b0d2bf2",
   "metadata": {},
   "outputs": [
    {
     "name": "stdout",
     "output_type": "stream",
     "text": [
      "82\n"
     ]
    }
   ],
   "source": [
    "#or \n",
    "\n",
    "s= (1+1+1+1+1+1+1+1+1\n",
    "    +2+2+2+2+2+2+2+2+\n",
    "    3+3+3+3+3+3+3+33+3)\n",
    "print(s)"
   ]
  },
  {
   "cell_type": "code",
   "execution_count": 31,
   "id": "179ec7de-f497-4208-ba05-d98ff454f73c",
   "metadata": {},
   "outputs": [
    {
     "name": "stdout",
     "output_type": "stream",
     "text": [
      "{82}\n"
     ]
    }
   ],
   "source": [
    "#or \n",
    "\n",
    "s= {1+1+1+1+1+1+1+1+1\n",
    "    +2+2+2+2+2+2+2+2+\n",
    "    3+3+3+3+3+3+3+33+3}\n",
    "print(s)"
   ]
  },
  {
   "cell_type": "code",
   "execution_count": 32,
   "id": "66873ee1-15a8-4734-a6d7-9946e5bd8dbf",
   "metadata": {},
   "outputs": [
    {
     "name": "stdout",
     "output_type": "stream",
     "text": [
      "[82]\n"
     ]
    }
   ],
   "source": [
    "#or \n",
    "\n",
    "s= [1+1+1+1+1+1+1+1+1\n",
    "    +2+2+2+2+2+2+2+2+\n",
    "    3+3+3+3+3+3+3+33+3]\n",
    "print(s)"
   ]
  },
  {
   "cell_type": "code",
   "execution_count": 36,
   "id": "8dcca341-f5f7-41cd-8214-87be6f3d4b67",
   "metadata": {},
   "outputs": [
    {
     "data": {
      "text/plain": [
       "float"
      ]
     },
     "execution_count": 36,
     "metadata": {},
     "output_type": "execute_result"
    }
   ],
   "source": [
    "a=6.01\n",
    "type(a)"
   ]
  },
  {
   "cell_type": "code",
   "execution_count": 37,
   "id": "aa7505b9-9c4d-4e87-809c-4b3f40346995",
   "metadata": {},
   "outputs": [
    {
     "data": {
      "text/plain": [
       "str"
      ]
     },
     "execution_count": 37,
     "metadata": {},
     "output_type": "execute_result"
    }
   ],
   "source": [
    "b= \"a\"\n",
    "type(b)"
   ]
  },
  {
   "cell_type": "code",
   "execution_count": 38,
   "id": "b25170fe-9c71-41e5-93c5-841024273e8c",
   "metadata": {},
   "outputs": [
    {
     "data": {
      "text/plain": [
       "int"
      ]
     },
     "execution_count": 38,
     "metadata": {},
     "output_type": "execute_result"
    }
   ],
   "source": [
    "c= 2\n",
    "type(c)"
   ]
  },
  {
   "cell_type": "code",
   "execution_count": 41,
   "id": "f30a90f6-0eaa-45f7-b5c0-0a7dfd2baf2c",
   "metadata": {},
   "outputs": [
    {
     "name": "stdout",
     "output_type": "stream",
     "text": [
      "['apple', 'orange', 'grapes']\n"
     ]
    },
    {
     "data": {
      "text/plain": [
       "list"
      ]
     },
     "execution_count": 41,
     "metadata": {},
     "output_type": "execute_result"
    }
   ],
   "source": [
    "#list\n",
    "\n",
    "fruits= [\"apple\",\"orange\",\"grapes\"]\n",
    "print(fruits)\n",
    "type(fruits)"
   ]
  },
  {
   "cell_type": "code",
   "execution_count": 45,
   "id": "0f10c443-437e-4890-81b4-91d48c08475f",
   "metadata": {},
   "outputs": [
    {
     "name": "stdout",
     "output_type": "stream",
     "text": [
      "[95.5, 25, 'fifty']\n"
     ]
    }
   ],
   "source": [
    "#mutable\n",
    "#heterogenous\n",
    "marks=[95.5,25,\"fifty\"]\n",
    "print(marks)"
   ]
  },
  {
   "cell_type": "code",
   "execution_count": 52,
   "id": "a0481606-46d5-44d4-a6f7-f5a0ed95d254",
   "metadata": {},
   "outputs": [
    {
     "name": "stdout",
     "output_type": "stream",
     "text": [
      "(1, [2, 3, 4, 5], 6)\n"
     ]
    }
   ],
   "source": [
    "#tuple\n",
    "\n",
    "my_tuple=(1,[2,3,4,5],6)\n",
    "print(my_tuple)\n"
   ]
  },
  {
   "cell_type": "code",
   "execution_count": 53,
   "id": "509bd0a3-298e-47c5-a9a6-1a0d5ea84973",
   "metadata": {},
   "outputs": [
    {
     "name": "stdout",
     "output_type": "stream",
     "text": [
      "{'name': 'Tom', 'percentage': 88}\n"
     ]
    }
   ],
   "source": [
    "#dict\n",
    "#mutable\n",
    "#heterogenous\n",
    "person= {\"name\":\"Tom\", \"percentage\": 88}\n",
    "print(person)"
   ]
  },
  {
   "cell_type": "code",
   "execution_count": 54,
   "id": "4801a1b3-aa8c-4171-ba83-aec65c1c7758",
   "metadata": {},
   "outputs": [
    {
     "name": "stdout",
     "output_type": "stream",
     "text": [
      "{'white', 'black', 'blue'}\n"
     ]
    }
   ],
   "source": [
    "#sets\n",
    "color={\"blue\",\"white\",\"black\"}\n",
    "print(color)"
   ]
  },
  {
   "cell_type": "code",
   "execution_count": 55,
   "id": "b7913286-8c00-47cd-8da2-ba727b0de28c",
   "metadata": {},
   "outputs": [
    {
     "name": "stdout",
     "output_type": "stream",
     "text": [
      "12458\n"
     ]
    }
   ],
   "source": [
    "#standard output\n",
    "\n",
    "a=12458\n",
    "print(a)"
   ]
  },
  {
   "cell_type": "code",
   "execution_count": 56,
   "id": "e795ff1e-df3c-45a2-8d05-ab6edfdbae12",
   "metadata": {},
   "outputs": [
    {
     "name": "stdin",
     "output_type": "stream",
     "text": [
      "Enter your name Anna\n"
     ]
    },
    {
     "name": "stdout",
     "output_type": "stream",
     "text": [
      "how are you,Anna\n"
     ]
    }
   ],
   "source": [
    "#standard input\n",
    "\n",
    "name= input(\"Enter your name\")\n",
    "\n",
    "print(f\"how are you,{name}\")"
   ]
  },
  {
   "cell_type": "code",
   "execution_count": null,
   "id": "980ed107-f4bc-42dd-b7a1-0480943d4cfc",
   "metadata": {},
   "outputs": [],
   "source": []
  }
 ],
 "metadata": {
  "kernelspec": {
   "display_name": "Python 3 (ipykernel)",
   "language": "python",
   "name": "python3"
  },
  "language_info": {
   "codemirror_mode": {
    "name": "ipython",
    "version": 3
   },
   "file_extension": ".py",
   "mimetype": "text/x-python",
   "name": "python",
   "nbconvert_exporter": "python",
   "pygments_lexer": "ipython3",
   "version": "3.10.6"
  }
 },
 "nbformat": 4,
 "nbformat_minor": 5
}
