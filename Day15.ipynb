{
 "cells": [
  {
   "cell_type": "markdown",
   "id": "8e360210-71cf-4379-ae04-d8638ff693ad",
   "metadata": {},
   "source": [
    "## OOPS \n",
    "\n",
    "### class ---> Blueprint of an object\n",
    "\n",
    "Eg: House class                            methods\n",
    "                \n",
    "                ---> land size              ---> cooking ()\n",
    "\n",
    "                ---> no. of bedrooms\n",
    "                \n",
    "                ---> no of bathrooms\n",
    "                \n",
    "                ...\n",
    "                \n",
    "                ---> no of kitchen\n",
    "                \n",
    "                \n",
    "Eg:  Bank Account class                    methods (functionalities)\n",
    "                \n",
    "                ---> Acc no                --> deposit()\n",
    "\n",
    "                ---> IFSC code             --> withdraw()\n",
    "                \n",
    "                ---> Mob No.               --> transaction() \n",
    "                \n",
    "                ...\n",
    "                \n",
    "                ---> Balance               -->  loan()\n",
    "                           "
   ]
  },
  {
   "cell_type": "markdown",
   "id": "ef2d9ea5-ea0b-430e-8aa5-48b3ed1bb1a9",
   "metadata": {},
   "source": [
    "## Classes"
   ]
  },
  {
   "cell_type": "code",
   "execution_count": 13,
   "id": "31381f4a-da55-4cb2-a382-1d49557b04b3",
   "metadata": {},
   "outputs": [],
   "source": [
    "class Person:\n",
    "    pass      #created an empty class"
   ]
  },
  {
   "cell_type": "code",
   "execution_count": 14,
   "id": "5801f236-349b-4afe-aff6-976cce95f4c3",
   "metadata": {},
   "outputs": [],
   "source": [
    "person1 = Person() # created an object or instance (person1)"
   ]
  },
  {
   "cell_type": "code",
   "execution_count": 15,
   "id": "22ac0012-4ff0-4082-9dc9-1dc5f8f39f6b",
   "metadata": {},
   "outputs": [
    {
     "data": {
      "text/plain": [
       "__main__.Person"
      ]
     },
     "execution_count": 15,
     "metadata": {},
     "output_type": "execute_result"
    }
   ],
   "source": [
    "type(person1)"
   ]
  },
  {
   "cell_type": "code",
   "execution_count": 16,
   "id": "85f870f9-6561-4071-b83a-1b701f4d6b9e",
   "metadata": {},
   "outputs": [
    {
     "data": {
      "text/plain": [
       "<__main__.Person at 0x7f0a04ed9ae0>"
      ]
     },
     "execution_count": 16,
     "metadata": {},
     "output_type": "execute_result"
    }
   ],
   "source": [
    "person1 # an object is created in class Person() and stored in 0x7f0a04d0d660> location"
   ]
  },
  {
   "cell_type": "code",
   "execution_count": 26,
   "id": "5da5ce4f-9629-42a6-97ff-a7e1382e7135",
   "metadata": {},
   "outputs": [],
   "source": [
    "person1.name = 'Anna Elsa Luiz' # created an attribute \n",
    "person1.mob_no = 986545532      #created another atrribute "
   ]
  },
  {
   "cell_type": "markdown",
   "id": "25bdeedb-d26c-468d-87da-3eca481039b2",
   "metadata": {},
   "source": [
    " creating an attribute like mentioned above will be a problem in case of large projects .\n",
    " so we can define in a better way"
   ]
  },
  {
   "cell_type": "code",
   "execution_count": 25,
   "id": "4abbcc4a-b4c5-4455-bb71-fe8d68a87068",
   "metadata": {},
   "outputs": [],
   "source": [
    "person1 = Person()  # a constructor is called "
   ]
  },
  {
   "cell_type": "code",
   "execution_count": 27,
   "id": "03a9c50e-0c6f-4b10-870e-09c9d4108f95",
   "metadata": {},
   "outputs": [
    {
     "data": {
      "text/plain": [
       "['__class__',\n",
       " '__delattr__',\n",
       " '__dict__',\n",
       " '__dir__',\n",
       " '__doc__',\n",
       " '__eq__',\n",
       " '__format__',\n",
       " '__ge__',\n",
       " '__getattribute__',\n",
       " '__gt__',\n",
       " '__hash__',\n",
       " '__init__',\n",
       " '__init_subclass__',\n",
       " '__le__',\n",
       " '__lt__',\n",
       " '__module__',\n",
       " '__ne__',\n",
       " '__new__',\n",
       " '__reduce__',\n",
       " '__reduce_ex__',\n",
       " '__repr__',\n",
       " '__setattr__',\n",
       " '__sizeof__',\n",
       " '__str__',\n",
       " '__subclasshook__',\n",
       " '__weakref__',\n",
       " 'mob_no',\n",
       " 'name']"
      ]
     },
     "execution_count": 27,
     "metadata": {},
     "output_type": "execute_result"
    }
   ],
   "source": [
    "dir(person1)"
   ]
  },
  {
   "cell_type": "code",
   "execution_count": 1,
   "id": "6dc2d355-18ce-4b55-aacb-1af38b142443",
   "metadata": {},
   "outputs": [],
   "source": [
    "class Person:\n",
    "    def __init__(self,name1,mob_no1,Address1,Mail_id1) :\n",
    "        self.name = name1   #name attribute will get created and 'Anna Elsa Luiz ' will assigned to the attribute\n",
    "        self.mob_no= mob_no1\n",
    "        self.Address= Address1\n",
    "        self.Mail_id = Mail_id1\n",
    "    def __str__(self):\n",
    "        return \" The name : {} , Mobile number : {}, Address : {}, Mail id :\".format(self.name,self.mob_no, self.Address,self.Mail_id)"
   ]
  },
  {
   "cell_type": "code",
   "execution_count": 2,
   "id": "b09a7390-c352-4ae3-a84f-4f74829ddf26",
   "metadata": {},
   "outputs": [],
   "source": [
    "person1 = Person('Anna Elsa Luiz', 624595711, 'Cross Street 101', 'ASSDRFH@gmail.com')\n",
    "person2 = Person('Amal Alfred Antony', 475879854, 'Ross Street 410', 'asesweftg@gmail.com')"
   ]
  },
  {
   "cell_type": "code",
   "execution_count": 3,
   "id": "9fe1cf6b-7400-4fd5-914f-2e1f2dcc8ed4",
   "metadata": {},
   "outputs": [
    {
     "name": "stdout",
     "output_type": "stream",
     "text": [
      " The name : Anna Elsa Luiz , Mobile number : 624595711, Address : Cross Street 101, Mail id :\n",
      " The name : Amal Alfred Antony , Mobile number : 475879854, Address : Ross Street 410, Mail id :\n"
     ]
    }
   ],
   "source": [
    "print(person1)\n",
    "print(person2)"
   ]
  },
  {
   "cell_type": "code",
   "execution_count": 57,
   "id": "62ff660f-135d-4da3-83f0-bb7fceda7611",
   "metadata": {},
   "outputs": [
    {
     "name": "stdout",
     "output_type": "stream",
     "text": [
      "Anna Elsa Luiz\n",
      "Amal Alfred Antony\n"
     ]
    }
   ],
   "source": [
    "print(person1.name)\n",
    "print(person2.name)"
   ]
  },
  {
   "cell_type": "code",
   "execution_count": 4,
   "id": "ceeeca31-ff29-4743-942d-2e954717e7e1",
   "metadata": {},
   "outputs": [
    {
     "data": {
      "text/plain": [
       "'hello how are you Anna'"
      ]
     },
     "execution_count": 4,
     "metadata": {},
     "output_type": "execute_result"
    }
   ],
   "source": [
    "'hello how are you {}'.format('Anna')"
   ]
  },
  {
   "cell_type": "markdown",
   "id": "4d262dc1-cc4c-48f2-bc47-8e48a485fcb7",
   "metadata": {},
   "source": [
    "## Bank Account Class"
   ]
  },
  {
   "cell_type": "markdown",
   "id": "093e1300-2268-4287-8f5b-51d96e1b2788",
   "metadata": {},
   "source": [
    "### Create a bank acc class and add information like acc num, acc holder name, balance"
   ]
  },
  {
   "cell_type": "code",
   "execution_count": 307,
   "id": "ef4b45e6-875d-4611-80fd-8a8851e4ea85",
   "metadata": {},
   "outputs": [],
   "source": [
    "class Bank_Account:\n",
    "    def __init__(self,Acc_number,Acc_Holder_Name,IFSC_Code,Mob_no,Balance=0): #constructor(attributes must be defined within the constructor)\n",
    "        self.Acc_number = Acc_number\n",
    "        self.Acc_Holder_Name = Acc_Holder_Name\n",
    "        self.IFSC_Code = IFSC_Code\n",
    "        self.MOb_no = Mob_no\n",
    "        self.Balance = Balance\n",
    "        \n",
    "    def deposit(self,amount): #functionalities  # self is used to acces the var in the class\n",
    "        self.Balance += amount\n",
    "        print('Amount deposited : {}'.format(amount))\n",
    "        print('Total Balance : {}'.format(self.Balance))\n",
    "        \n",
    "    def withdraw(self,amount):\n",
    "        if amount <= self.Balance:\n",
    "            self.Balance -= amount\n",
    "            print('Amount withdrawn :{}'.format(amount))\n",
    "            print('Total Balance : {}'.format(self.Balance))\n",
    "        else:\n",
    "            print('Insufficient Balance :{}'.format(self.Balance))\n",
    "            \n",
    "    def display(self) :\n",
    "        print(f\" Available Balance : {self.Balance}\")\n",
    "            "
   ]
  },
  {
   "cell_type": "code",
   "execution_count": 308,
   "id": "856db12d-0316-459f-98f0-5ae0652e1958",
   "metadata": {},
   "outputs": [],
   "source": [
    "Account_1 = Bank_Account('754126354','Anna Elsa Luiz','SBIN0012O3',987456322,0)\n",
    "Account_2 = Bank_Account('854126354','Angel Maria','SBIN008543',785456322,0)\n",
    "Account_3 = Bank_Account('54126354','Abel Jose','SBIN008752O3',0)"
   ]
  },
  {
   "cell_type": "code",
   "execution_count": 309,
   "id": "adf6314f-6bb3-4eb7-a0e2-246f75a8770f",
   "metadata": {},
   "outputs": [
    {
     "name": "stdout",
     "output_type": "stream",
     "text": [
      "Amount deposited : 500\n",
      "Total Balance : 500\n"
     ]
    }
   ],
   "source": [
    "Account_1.deposit(500)\n",
    "#Account_1.withdraw(1000)"
   ]
  },
  {
   "cell_type": "code",
   "execution_count": 310,
   "id": "a8a549fb-3a2a-46aa-9f6e-e6a9643186a5",
   "metadata": {},
   "outputs": [
    {
     "name": "stdout",
     "output_type": "stream",
     "text": [
      "Insufficient Balance :500\n"
     ]
    }
   ],
   "source": [
    "Account_1.withdraw(1000)"
   ]
  },
  {
   "cell_type": "code",
   "execution_count": 311,
   "id": "62e168c3-7dcf-4008-8120-86c0559917a2",
   "metadata": {},
   "outputs": [
    {
     "data": {
      "text/plain": [
       "['Acc_Holder_Name',\n",
       " 'Acc_number',\n",
       " 'Balance',\n",
       " 'IFSC_Code',\n",
       " 'MOb_no',\n",
       " '__class__',\n",
       " '__delattr__',\n",
       " '__dict__',\n",
       " '__dir__',\n",
       " '__doc__',\n",
       " '__eq__',\n",
       " '__format__',\n",
       " '__ge__',\n",
       " '__getattribute__',\n",
       " '__gt__',\n",
       " '__hash__',\n",
       " '__init__',\n",
       " '__init_subclass__',\n",
       " '__le__',\n",
       " '__lt__',\n",
       " '__module__',\n",
       " '__ne__',\n",
       " '__new__',\n",
       " '__reduce__',\n",
       " '__reduce_ex__',\n",
       " '__repr__',\n",
       " '__setattr__',\n",
       " '__sizeof__',\n",
       " '__str__',\n",
       " '__subclasshook__',\n",
       " '__weakref__',\n",
       " 'deposit',\n",
       " 'display',\n",
       " 'withdraw']"
      ]
     },
     "execution_count": 311,
     "metadata": {},
     "output_type": "execute_result"
    }
   ],
   "source": [
    "dir(Account_1)"
   ]
  },
  {
   "cell_type": "code",
   "execution_count": 312,
   "id": "5414df47-76e4-4540-a596-bc32516518d1",
   "metadata": {},
   "outputs": [
    {
     "name": "stdout",
     "output_type": "stream",
     "text": [
      "Amount withdrawn :50\n",
      "Total Balance : 450\n"
     ]
    }
   ],
   "source": [
    "Account_1.withdraw(50)"
   ]
  },
  {
   "cell_type": "code",
   "execution_count": 314,
   "id": "e010c7fc-4852-41e4-9652-a8622e303e19",
   "metadata": {},
   "outputs": [
    {
     "name": "stdout",
     "output_type": "stream",
     "text": [
      "Amount deposited : 5000000\n",
      "Total Balance : 5000450\n"
     ]
    }
   ],
   "source": [
    "Account_1.deposit(5000000)"
   ]
  },
  {
   "cell_type": "code",
   "execution_count": 315,
   "id": "c2e1f52b-bf94-444b-9b3f-e5f91109305b",
   "metadata": {},
   "outputs": [
    {
     "name": "stdout",
     "output_type": "stream",
     "text": [
      " Available Balance : 5000450\n"
     ]
    }
   ],
   "source": [
    "Account_1.display()"
   ]
  },
  {
   "cell_type": "code",
   "execution_count": 301,
   "id": "6670418f-e139-4bea-9f37-e434ccb6a362",
   "metadata": {},
   "outputs": [
    {
     "name": "stdout",
     "output_type": "stream",
     "text": [
      "Amount deposited : 5000\n",
      "Total Balance : 5000\n"
     ]
    }
   ],
   "source": [
    "Account_2.deposit(5000)"
   ]
  },
  {
   "cell_type": "code",
   "execution_count": 302,
   "id": "a5a56436-40ea-4506-9b65-4174f4f5e5ed",
   "metadata": {},
   "outputs": [
    {
     "name": "stdout",
     "output_type": "stream",
     "text": [
      "Amount deposited : 500\n",
      "Total Balance : 5500\n"
     ]
    }
   ],
   "source": [
    "Account_2.deposit(500)"
   ]
  },
  {
   "cell_type": "code",
   "execution_count": 303,
   "id": "10944443-973a-40a9-aeb9-5aafa4df7e94",
   "metadata": {},
   "outputs": [
    {
     "name": "stdout",
     "output_type": "stream",
     "text": [
      "Amount deposited : 500000\n",
      "Total Balance : 500000\n"
     ]
    }
   ],
   "source": [
    "Account_3.deposit(500000)"
   ]
  },
  {
   "cell_type": "markdown",
   "id": "fd55ff08-3dba-4af8-afaf-84d80276add7",
   "metadata": {},
   "source": [
    "Changing self keyword"
   ]
  },
  {
   "cell_type": "code",
   "execution_count": null,
   "id": "87ef55bf-c261-491f-b927-31bcd52bd4a2",
   "metadata": {},
   "outputs": [],
   "source": [
    "# we can create class without self keyword\n",
    "# self is a keyword used to refer to the particular object or instance .\n",
    "class Bank_Account:\n",
    "    def __init__(Anna,Acc_number,Acc_Holder_Name,IFSC_Code,Mob_no,Balance=0): #constructor(attributes must be defined within the constructor)\n",
    "        Anna.Acc_number = Acc_number\n",
    "        Anna.Acc_Holder_Name = Acc_Holder_Name\n",
    "        Anna.IFSC_Code = IFSC_Code\n",
    "        Anna.MOb_no = Mob_no\n",
    "        Anna.Balance = Balance\n",
    "        \n",
    "    def deposit(Anna,amount): #functionalities  # self is used to acces the var in the class\n",
    "        Anna.Balance += amount\n",
    "        print('Amount deposited : {}'.format(amount))\n",
    "        print('Total Balance : {}'.format( Anna.Balance))\n",
    "        \n",
    "    def withdraw( Anna,amount):\n",
    "        if amount <=  Anna.Balance:\n",
    "            Anna.Balance -= amount\n",
    "            print('Amount withdrawn :{}'.format(amount))\n",
    "            print('Total Balance : {}'.format( Anna.Balance))\n",
    "        else:\n",
    "            print('Insufficient Balance :{}'.format( Anna.Balance))\n",
    "            "
   ]
  },
  {
   "cell_type": "code",
   "execution_count": 282,
   "id": "b0244bf9-e4d6-445f-9027-1d57f500f931",
   "metadata": {},
   "outputs": [],
   "source": [
    "Account_1 = Bank_Account('754126354','Anna Elsa Luiz','SBIN0012O3',987456322,0)\n",
    "Account_2 = Bank_Account('854126354','Angel Maria','SBIN008543',785456322,0)\n",
    "Account_3 = Bank_Account('54126354','Abel Jose','SBIN008752O3',0)"
   ]
  },
  {
   "cell_type": "code",
   "execution_count": 286,
   "id": "3f08f744-30c3-4e9b-93eb-42863c30a9a9",
   "metadata": {},
   "outputs": [
    {
     "name": "stdout",
     "output_type": "stream",
     "text": [
      "Amount deposited : 500\n",
      "Total Balance : 2000\n"
     ]
    }
   ],
   "source": [
    "Account_1.deposit(500)\n",
    "#Account_1.withdraw(1000)"
   ]
  },
  {
   "cell_type": "markdown",
   "id": "abbd9d50-d433-4a71-95f8-d6624e3be648",
   "metadata": {},
   "source": [
    "## To Do List Class"
   ]
  },
  {
   "cell_type": "code",
   "execution_count": 269,
   "id": "6bd0d1be-c548-40df-b352-138c20824eee",
   "metadata": {},
   "outputs": [],
   "source": [
    "class To_Do_List :\n",
    "    def __init__(self,Owner):  #\n",
    "        self.Owner = Owner\n",
    "        self.Tasks = [] \n",
    "        \n",
    "        \n",
    "    def Add_task(self,Task):\n",
    "        self.Tasks.append(Task)\n",
    "        \n",
    "        \n",
    "    def complete_task(self,Task):\n",
    "        if Task in self.Tasks:\n",
    "            self.Tasks.remove(Task)\n",
    "            print('The Task {} completed'.format(Task))\n",
    "        \n",
    "        else:\n",
    "            print('The Task is not found')\n",
    "            \n",
    "        \n",
    "    def display_Tasks(self):  \n",
    "        print(f\"The Incompleted - To Do Task of {self.Owner}:\")\n",
    "        for Task in self.Tasks:\n",
    "            print(Task)"
   ]
  },
  {
   "cell_type": "code",
   "execution_count": 270,
   "id": "47157826-4623-4f35-86d1-5efcbb9eb379",
   "metadata": {},
   "outputs": [
    {
     "data": {
      "text/plain": [
       "[]"
      ]
     },
     "execution_count": 270,
     "metadata": {},
     "output_type": "execute_result"
    }
   ],
   "source": [
    "Owner1 = To_Do_List('Anna Elsa Luiz')\n",
    "Owner2 = To_Do_List('Agnel Joe')\n",
    "Owner3 = To_Do_List('Maria')\n",
    "\n",
    "Owner1.Tasks\n",
    "Owner2.Tasks\n",
    "Owner3.Tasks\n"
   ]
  },
  {
   "cell_type": "code",
   "execution_count": 271,
   "id": "76b2753a-5215-47b7-8830-f0d6948dea7d",
   "metadata": {},
   "outputs": [],
   "source": [
    "Owner1.Add_task('Yoga at 7:00')\n",
    "Owner1.Add_task('Driving at 8:30')\n",
    "Owner1.Add_task('Learn from 10:30 - 1:30 , 2:30-4:30,7:00-9:00')\n",
    "Owner1.Add_task('Diet ')\n",
    "Owner1.Add_task('pray')\n",
    "\n",
    "\n",
    "Owner2.Add_task('Swimmimg Class at 7:00')\n",
    "Owner2.Add_task('Breakfast at 8:30')\n",
    "Owner2.Add_task('Class from 10:30 - 5:00')\n",
    "Owner2.Add_task('Tution ')\n",
    "Owner2.Add_task('pray')\n",
    "\n",
    "\n",
    "Owner3.Add_task('Get Up at 7:00')\n",
    "Owner3.Add_task('Breakfast at 8:30')\n",
    "Owner3.Add_task('Work from 9:30 - 7:00')\n",
    "Owner3.Add_task('Dance')\n",
    "Owner3.Add_task('GYM')"
   ]
  },
  {
   "cell_type": "code",
   "execution_count": 272,
   "id": "2f191d20-dd8f-4e1e-8117-453d08d556bd",
   "metadata": {},
   "outputs": [
    {
     "name": "stdout",
     "output_type": "stream",
     "text": [
      "The Task Yoga at 7:00 completed\n",
      "The Task Driving at 8:30 completed\n",
      "The Task Diet  completed\n"
     ]
    }
   ],
   "source": [
    "Owner1.complete_task('Yoga at 7:00')\n",
    "Owner1.complete_task('Driving at 8:30')\n",
    "Owner1.complete_task('Diet ')\n"
   ]
  },
  {
   "cell_type": "code",
   "execution_count": 273,
   "id": "acdc187e-12d6-4f5c-8dfd-b4916923dea2",
   "metadata": {},
   "outputs": [
    {
     "name": "stdout",
     "output_type": "stream",
     "text": [
      "The Task Swimmimg Class at 7:00 completed\n",
      "The Task Breakfast at 8:30 completed\n"
     ]
    }
   ],
   "source": [
    "Owner2.complete_task('Swimmimg Class at 7:00')\n",
    "Owner2.complete_task('Breakfast at 8:30')"
   ]
  },
  {
   "cell_type": "code",
   "execution_count": 274,
   "id": "1ddbff0f-2880-4a32-918d-d96f6a85011b",
   "metadata": {},
   "outputs": [
    {
     "name": "stdout",
     "output_type": "stream",
     "text": [
      "The Task Get Up at 7:00 completed\n",
      "The Task Breakfast at 8:30 completed\n",
      "The Task Work from 9:30 - 7:00 completed\n"
     ]
    }
   ],
   "source": [
    "Owner3.complete_task('Get Up at 7:00')\n",
    "Owner3.complete_task('Breakfast at 8:30')\n",
    "Owner3.complete_task('Work from 9:30 - 7:00')\n"
   ]
  },
  {
   "cell_type": "code",
   "execution_count": 275,
   "id": "1474b97c-e5b3-403f-ba21-ce9b62739623",
   "metadata": {},
   "outputs": [
    {
     "name": "stdout",
     "output_type": "stream",
     "text": [
      "The Incompleted - To Do Task of Anna Elsa Luiz:\n",
      "Learn from 10:30 - 1:30 , 2:30-4:30,7:00-9:00\n",
      "pray\n",
      "----------------------------------------------\n",
      "The Incompleted - To Do Task of Agnel Joe:\n",
      "Class from 10:30 - 5:00\n",
      "Tution \n",
      "pray\n",
      "----------------------------------------------\n",
      "The Incompleted - To Do Task of Maria:\n",
      "Dance\n",
      "GYM\n",
      "----------------------------------------------\n"
     ]
    }
   ],
   "source": [
    "Owner1.display_Tasks()\n",
    "print('----------------------------------------------')\n",
    "Owner2.display_Tasks()\n",
    "print('----------------------------------------------')\n",
    "Owner3.display_Tasks()\n",
    "print('----------------------------------------------')"
   ]
  },
  {
   "cell_type": "markdown",
   "id": "ffb5c193-24d2-42c2-996a-47da035b5b0d",
   "metadata": {},
   "source": [
    "## Car Class"
   ]
  },
  {
   "cell_type": "code",
   "execution_count": 335,
   "id": "6e030ecd-ff8b-4ad3-b5fe-e456ecf7f630",
   "metadata": {},
   "outputs": [],
   "source": [
    "class Car:\n",
    "    def __init__(self,Brand,Model,Color,Seater,Mode):\n",
    "        self.Brand  = Brand\n",
    "        self.Model  = Model\n",
    "        self.Color  = Color\n",
    "        self.seater = Seater\n",
    "        self.Mode   = Mode\n",
    "        \n",
    "    def engine_start(self) :\n",
    "        print('Welcome! Your engine is On')\n",
    "        print(f\"Brand :{self.Brand}  Model:{self.Model}  Color:{self.Color}  Seater:{self.seater}  Mode:{ self.Mode}\")\n",
    "        \n",
    "    def driving(self):\n",
    "        print(f\"Your {self.Brand}  is  in drive mode\")\n",
    "        \n",
    "    \n",
    "    def engine_stop(self) :\n",
    "        print('Thank you ! Shutting Off now!')\n",
    "        \n",
    "        \n",
    "        \n",
    "        \n"
   ]
  },
  {
   "cell_type": "code",
   "execution_count": 336,
   "id": "9d7654d2-56c9-466e-837b-8343409c1125",
   "metadata": {},
   "outputs": [],
   "source": [
    "car_1 = Car('BMW','C-Class','Black',4,'Auto')\n",
    "car_2 = Car('Baleno','Zeta','Grey',5,'Manual')\n",
    "car_3 = Car('Swift','Alpha','Red',7,'Auto')"
   ]
  },
  {
   "cell_type": "code",
   "execution_count": 337,
   "id": "6c4bcbea-ec13-4597-8016-c0709802d08b",
   "metadata": {},
   "outputs": [
    {
     "name": "stdout",
     "output_type": "stream",
     "text": [
      "Welcome! Your engine is On\n",
      "Brand :BMW  Model:C-Class  Color:Black  Seater:4  Mode:Auto\n"
     ]
    }
   ],
   "source": [
    "car_1.engine_start()"
   ]
  },
  {
   "cell_type": "code",
   "execution_count": 338,
   "id": "3b5d8adc-e478-47cf-891a-53e7811ef229",
   "metadata": {},
   "outputs": [
    {
     "name": "stdout",
     "output_type": "stream",
     "text": [
      "Your BMW  is  in drive mode\n"
     ]
    }
   ],
   "source": [
    "car_1.driving()"
   ]
  },
  {
   "cell_type": "code",
   "execution_count": 339,
   "id": "56e49d3c-97e8-4cba-979f-919a659e07eb",
   "metadata": {},
   "outputs": [
    {
     "name": "stdout",
     "output_type": "stream",
     "text": [
      "Thank you ! Shutting Off now!\n"
     ]
    }
   ],
   "source": [
    "car_1.engine_stop()"
   ]
  },
  {
   "cell_type": "markdown",
   "id": "cb3e2b6c-b528-45b4-b689-6d4a228dd73e",
   "metadata": {},
   "source": [
    "## Class Mobile Phones"
   ]
  },
  {
   "cell_type": "code",
   "execution_count": 453,
   "id": "c17c63c0-1cee-485e-8a5a-8dccb8f4f051",
   "metadata": {},
   "outputs": [],
   "source": [
    "class Mobile_phones:\n",
    "    def __init__(self,Brand,Model,Processor,Color,Price):\n",
    "        self.Brand     = Brand\n",
    "        self.Model     = Model\n",
    "        self.Processor = Processor\n",
    "        self.Color     = Color\n",
    "        self.Price     = Price\n",
    "        \n",
    "    def make_calls(self,Contact_name,number):\n",
    "        print(f\"Calling {Contact_name}:{number} from {self.Brand} {self.Model}\")\n",
    "        print('This call is now being recorded')\n",
    "        \n",
    "    def play_games(self,Game_name):\n",
    "        print(f\"Opening {Game_name}\")\n",
    "        print('Have Fun!')\n",
    "        \n",
    "    def send_messages(self,Contact_name,number):\n",
    "        print(f\"Sending message to {Contact_name}: {number} from {self.Brand} {self.Model}\")\n",
    "        print('Message Sent')\n",
    "            "
   ]
  },
  {
   "cell_type": "code",
   "execution_count": 454,
   "id": "5b39927d-23b0-41f0-9594-670391905d02",
   "metadata": {},
   "outputs": [],
   "source": [
    "User_1 = Mobile_phones('Samsung','M51','Qualcomm Snapdragon 730G','Black',25000)\n",
    "User_2 = Mobile_phones('Redmi','Note 10','Qualcomm SDM678 Snapdragon 678','Blue',15000)\n",
    "User_3 = Mobile_phones('Iphone','13','A15 Bionic system','Green',75000)\n",
    "User_4 = Mobile_phones('OnePlus','13 ','Qualcomm Snapdragon 8 Plus Gen 1','Silver',19000)\n"
   ]
  },
  {
   "cell_type": "code",
   "execution_count": 455,
   "id": "2fefa68a-21e6-48ec-8af8-e7a8b96f79e6",
   "metadata": {},
   "outputs": [
    {
     "name": "stdout",
     "output_type": "stream",
     "text": [
      "Calling Anna Elsa Luiz:987514213 from Samsung M51\n",
      "This call is now being recorded\n"
     ]
    }
   ],
   "source": [
    "User_1.make_calls('Anna Elsa Luiz', 987514213)"
   ]
  },
  {
   "cell_type": "code",
   "execution_count": 456,
   "id": "db4eeac7-bcd4-4aba-9325-743d42b96b02",
   "metadata": {},
   "outputs": [
    {
     "name": "stdout",
     "output_type": "stream",
     "text": [
      "Sending message to Maria: 687514213 from Redmi Note 10\n",
      "Message Sent\n"
     ]
    }
   ],
   "source": [
    "User_2.send_messages('Maria', 687514213)"
   ]
  },
  {
   "cell_type": "code",
   "execution_count": 457,
   "id": "be3328f0-465f-47da-8842-34e05a6db0f5",
   "metadata": {},
   "outputs": [
    {
     "name": "stdout",
     "output_type": "stream",
     "text": [
      "Opening Need For Speed\n",
      "Have Fun!\n"
     ]
    }
   ],
   "source": [
    "User_3.play_games('Need For Speed')"
   ]
  },
  {
   "cell_type": "markdown",
   "id": "b809d7c8-e88e-4814-b3f2-d54c6faab167",
   "metadata": {},
   "source": [
    "## Class Laptop"
   ]
  },
  {
   "cell_type": "code",
   "execution_count": 445,
   "id": "5963bfbe-4407-4db9-9aa7-0f477c7d1ba2",
   "metadata": {},
   "outputs": [],
   "source": [
    "class Laptop:\n",
    "    def __init__(self,Brand,Model,Processor,Storage,Price,Color):\n",
    "        self.Brand     = Brand\n",
    "        self.Model     = Model\n",
    "        self.Processor = Processor\n",
    "        self.Storage   = Storage\n",
    "        self.Price     = Price\n",
    "        self.Color     = Color\n",
    "        \n",
    "    def power_on(self,User_name):\n",
    "        print(f\"Welcome {User_name}\")\n",
    "        \n",
    "    def Gaming(self,game_name):\n",
    "        print(f\"Opening {game_name}\")\n",
    "        print('Have Fun!')\n",
    "        \n",
    "    def Microsoft_word(self,file_name):\n",
    "        print(f\"Opening {file_name}\")\n",
    "        \n",
    "    def About(self):\n",
    "        print(f\"Brand Name: {self.Brand}\" )\n",
    "        print(f\"Model Name: {self.Model}\")\n",
    "        print(f\"Processor: { self.Processor}\")\n",
    "        print(f\"Storage: {self.Storage}\") \n",
    "        print(f\"Price: { self.Price }\") \n",
    "        print(f\"Color: {self.Color}\")       \n",
    "              \n",
    "    def Web_Search(self,Browser_name):\n",
    "        print(f\"Opening {Browser_name}...\") \n",
    "        search = input('Search ')   \n",
    "        print('About 8,30,00,00,000 results (0.59 seconds) ')      \n",
    "        \n",
    "    def Calculator(self):\n",
    "        print('Opening Calculator')\n",
    "              \n",
    "    def Video_player(self): \n",
    "        print('Opening Video Player')\n",
    "              \n",
    "    def power_off(self): \n",
    "        print('Shutting down...')      "
   ]
  },
  {
   "cell_type": "code",
   "execution_count": 446,
   "id": "bfa75b61-49da-4295-afd4-0cc89ab092fa",
   "metadata": {},
   "outputs": [],
   "source": [
    "Laptop_1 = Laptop('hp', 'AMD', 'Rayzen','350 GB ' , 75000, 'silver')\n",
    "Laptop_2 = Laptop('hp', 'BsS', 'Rayzen','2800 GB ' , 125000, 'Matte Black')\n",
    "Laptop_3 = Laptop('hp', 'AMc', 'Rayzen','250 GB ' , 50000, 'Coral Pink')"
   ]
  },
  {
   "cell_type": "code",
   "execution_count": 447,
   "id": "d23ae219-c1e1-4e0f-a32d-87b4b4f40603",
   "metadata": {},
   "outputs": [
    {
     "name": "stdout",
     "output_type": "stream",
     "text": [
      "Welcome Anna Elsa Luiz\n"
     ]
    }
   ],
   "source": [
    "Laptop_1.power_on('Anna Elsa Luiz')\n"
   ]
  },
  {
   "cell_type": "code",
   "execution_count": 448,
   "id": "259abc1b-f1b8-4ebd-aaf0-6e9bf05fd7b0",
   "metadata": {},
   "outputs": [
    {
     "name": "stdout",
     "output_type": "stream",
     "text": [
      "Opening Call of Duty\n",
      "Have Fun!\n"
     ]
    }
   ],
   "source": [
    "Laptop_1.Gaming(\"Call of Duty\")"
   ]
  },
  {
   "cell_type": "code",
   "execution_count": 449,
   "id": "f94ff241-e046-4593-b664-71d4d4c5d582",
   "metadata": {},
   "outputs": [
    {
     "name": "stdout",
     "output_type": "stream",
     "text": [
      "Brand Name: hp\n",
      "Model Name: AMD\n",
      "Processor: Rayzen\n",
      "Storage: 350 GB \n",
      "Price: 75000\n",
      "Color: silver\n"
     ]
    }
   ],
   "source": [
    "Laptop_1.About()"
   ]
  },
  {
   "cell_type": "code",
   "execution_count": 450,
   "id": "e2c21064-4de7-49c2-bc79-116a09f7702d",
   "metadata": {},
   "outputs": [
    {
     "name": "stdout",
     "output_type": "stream",
     "text": [
      "Opening Chrome...\n"
     ]
    },
    {
     "name": "stdin",
     "output_type": "stream",
     "text": [
      "Search  man\n"
     ]
    },
    {
     "name": "stdout",
     "output_type": "stream",
     "text": [
      "About 8,30,00,00,000 results (0.59 seconds) \n"
     ]
    }
   ],
   "source": [
    "Laptop_1.Web_Search('Chrome')"
   ]
  },
  {
   "cell_type": "code",
   "execution_count": 451,
   "id": "486045c9-4ca4-4696-97cc-f902459cec3e",
   "metadata": {},
   "outputs": [
    {
     "name": "stdout",
     "output_type": "stream",
     "text": [
      "Shutting down...\n"
     ]
    }
   ],
   "source": [
    "Laptop_1.power_off()"
   ]
  },
  {
   "cell_type": "code",
   "execution_count": 459,
   "id": "5231ab42-84e7-467b-8c1a-7092ba10c9f9",
   "metadata": {},
   "outputs": [
    {
     "data": {
      "text/plain": [
       "['About',\n",
       " 'Brand',\n",
       " 'Calculator',\n",
       " 'Color',\n",
       " 'Gaming',\n",
       " 'Microsoft_word',\n",
       " 'Model',\n",
       " 'Price',\n",
       " 'Processor',\n",
       " 'Storage',\n",
       " 'Video_player',\n",
       " 'Web_Search',\n",
       " '__class__',\n",
       " '__delattr__',\n",
       " '__dict__',\n",
       " '__dir__',\n",
       " '__doc__',\n",
       " '__eq__',\n",
       " '__format__',\n",
       " '__ge__',\n",
       " '__getattribute__',\n",
       " '__gt__',\n",
       " '__hash__',\n",
       " '__init__',\n",
       " '__init_subclass__',\n",
       " '__le__',\n",
       " '__lt__',\n",
       " '__module__',\n",
       " '__ne__',\n",
       " '__new__',\n",
       " '__reduce__',\n",
       " '__reduce_ex__',\n",
       " '__repr__',\n",
       " '__setattr__',\n",
       " '__sizeof__',\n",
       " '__str__',\n",
       " '__subclasshook__',\n",
       " '__weakref__',\n",
       " 'power_off',\n",
       " 'power_on']"
      ]
     },
     "execution_count": 459,
     "metadata": {},
     "output_type": "execute_result"
    }
   ],
   "source": [
    "dir(Laptop_1)"
   ]
  },
  {
   "cell_type": "code",
   "execution_count": 460,
   "id": "ed683a52-501a-4b38-b63c-9fd22f5f0297",
   "metadata": {},
   "outputs": [],
   "source": [
    "### Assignment : research for all the functions and try to over write them"
   ]
  },
  {
   "cell_type": "markdown",
   "id": "a79dc14d-0f1a-4946-b79c-7d8b50576f57",
   "metadata": {},
   "source": [
    "## Class VLC Media Player"
   ]
  },
  {
   "cell_type": "code",
   "execution_count": 10,
   "id": "57fb6bb8-6494-42ec-90cf-2561f0d5bb5f",
   "metadata": {},
   "outputs": [],
   "source": [
    "class VLC_Media_Player :\n",
    "    def __init__(self,File_name ,File_type, File_size,Duration,Audio_language ,Subtitles):\n",
    "        self.File_name      = File_name\n",
    "        self.File_type      = File_type\n",
    "        self.File_size      = File_size\n",
    "        self.Duration       = Duration\n",
    "        self.Audio_language = Audio_language \n",
    "        self.Subtitles      = Subtitles\n",
    "   \n",
    "    def open_VLC_Media_Player(self):\n",
    "        print('Opening VLC Media Player...')\n",
    "    \n",
    "    def properties(self):\n",
    "        print(f\"File_name: { self.File_name}\")\n",
    "        print(f\"File_type: { self.File_type}\")\n",
    "        print(f\"File_size: { self.File_size}\")\n",
    "        print(f\"Duration: {  self.Duration }\")\n",
    "        print(f\"Audio_language: {self.Audio_language }\")\n",
    "        print(f\"Subtitles:{self.Subtitles}\")\n",
    "    \n",
    "    def play(self, _from):\n",
    "        if _from == '00:00:00':\n",
    "            print(f\"Playing {self.File_name} form the beginning..\")\n",
    "        else:\n",
    "            print(f\"Continue watching {self.File_name} from {_from}\")\n",
    "            \n",
    "    def pause(self):\n",
    "        print('Your Video has been Paused')\n",
    "        \n",
    "        \n",
    "    def Add_subtitles(self):\n",
    "        print(f\" Added {self.Subtitles} subtitle \")\n",
    "        \n",
    "        \n",
    "    def lock_screen(self):\n",
    "        print(\"Screen Locked. Swipe to unlock\")\n",
    "        \n",
    "       \n",
    "    def close_VLC_Media_Player(self):    \n",
    "        print('Closing VLC Media Player....')\n",
    "        \n",
    "       \n",
    "        "
   ]
  },
  {
   "cell_type": "code",
   "execution_count": 11,
   "id": "8a2af77a-6559-440f-a8d7-bf357d05c21b",
   "metadata": {},
   "outputs": [],
   "source": [
    "file_1 = VLC_Media_Player('2018','Mp4','1.5 Gb','02:36:46','Malayalam','English')\n",
    "file_2 = VLC_Media_Player('Pachuvum Albutha Vilakkum','Mp4','2.6 Gb','02:10:12','Malayalam','English')\n",
    "file_3 = VLC_Media_Player('North 24 Katham','Mp4','02:16:06','0.88 Gb','Malayalam','No subtitles available')\n",
    "file_4 = VLC_Media_Player('Banglore days','Mp4','1.1 Gb','02:46:00','Malayalam','English')"
   ]
  },
  {
   "cell_type": "code",
   "execution_count": null,
   "id": "79a77f9a-e959-4686-9389-d0db94c75972",
   "metadata": {},
   "outputs": [],
   "source": []
  },
  {
   "cell_type": "code",
   "execution_count": 16,
   "id": "2d672f13-8194-4150-aebd-b7237cb80a87",
   "metadata": {},
   "outputs": [
    {
     "name": "stdout",
     "output_type": "stream",
     "text": [
      "Opening VLC Media Player...\n"
     ]
    }
   ],
   "source": [
    "file_1.open_VLC_Media_Player()"
   ]
  },
  {
   "cell_type": "code",
   "execution_count": 17,
   "id": "1c85e73e-3116-4db4-9c79-2f4ca5b93fe1",
   "metadata": {},
   "outputs": [
    {
     "name": "stdout",
     "output_type": "stream",
     "text": [
      "Continue watching 2018 from 00:20:02\n"
     ]
    }
   ],
   "source": [
    "file_1.play('00:20:02')"
   ]
  },
  {
   "cell_type": "code",
   "execution_count": 18,
   "id": "38070d86-ef42-4f72-90ea-e31c063580ea",
   "metadata": {},
   "outputs": [
    {
     "name": "stdout",
     "output_type": "stream",
     "text": [
      "Your Video has been Paused\n"
     ]
    }
   ],
   "source": [
    "file_1.pause()"
   ]
  },
  {
   "cell_type": "code",
   "execution_count": 15,
   "id": "72ff0a67-069a-4e49-97d8-2cf447c39088",
   "metadata": {},
   "outputs": [
    {
     "name": "stdout",
     "output_type": "stream",
     "text": [
      " Added English subtitle \n"
     ]
    }
   ],
   "source": [
    "file_1.Add_subtitles()"
   ]
  },
  {
   "cell_type": "code",
   "execution_count": 16,
   "id": "509649c1-b5d6-4a71-951a-9a5e9ad30140",
   "metadata": {},
   "outputs": [
    {
     "name": "stdout",
     "output_type": "stream",
     "text": [
      "Screen Locked. Swipe to unlock\n"
     ]
    }
   ],
   "source": [
    "file_1.lock_screen()"
   ]
  },
  {
   "cell_type": "code",
   "execution_count": 17,
   "id": "be6f8ce7-98e0-4141-bdc9-fa3c3a38844b",
   "metadata": {},
   "outputs": [
    {
     "name": "stdout",
     "output_type": "stream",
     "text": [
      "Closing VLC Media Player....\n"
     ]
    }
   ],
   "source": [
    "file_1.close_VLC_Media_Player()"
   ]
  },
  {
   "cell_type": "code",
   "execution_count": 18,
   "id": "439c7a8f-7c2b-410a-9cc5-2a042d565144",
   "metadata": {},
   "outputs": [
    {
     "name": "stdout",
     "output_type": "stream",
     "text": [
      "File_name: 2018\n",
      "File_type: Mp4\n",
      "File_size: 1.5 Gb\n",
      "Duration: 02:36:46\n",
      "Audio_language: Malayalam\n",
      "Subtitles:English\n"
     ]
    }
   ],
   "source": [
    "file_1.properties()"
   ]
  },
  {
   "cell_type": "code",
   "execution_count": null,
   "id": "477e4cf2-f2f3-4d68-92ce-d4b5e10bad04",
   "metadata": {},
   "outputs": [],
   "source": []
  },
  {
   "cell_type": "markdown",
   "id": "93633662-36a4-4f45-9a9c-b464332aa8b9",
   "metadata": {},
   "source": [
    "## Class Camera "
   ]
  },
  {
   "cell_type": "code",
   "execution_count": 1,
   "id": "cc4ec118-52b6-4fe6-981b-4000f4d31fce",
   "metadata": {},
   "outputs": [],
   "source": [
    "class Camera:\n",
    "    def __init__(self,settings,Filter,Resolution,Night_mode,Timer):\n",
    "        self.settings   = settings\n",
    "        self.Filter     = Filter\n",
    "        self.Resolution = Resolution\n",
    "        self.Night_mode = Night_mode\n",
    "        self.Timer      = Timer\n",
    "        \n",
    "    def Open(self):\n",
    "        print('Opening camera')\n",
    "        \n",
    "        \n",
    "    def Video(self) :\n",
    "        print('Recording....')\n",
    "        \n",
    "    def photo(self):\n",
    "        print('Photo saved')\n",
    "        \n",
    "    def portratit(self):\n",
    "        print('Portrait mode on')\n",
    "        \n",
    "    def macro(self):\n",
    "        print( 'cant zoom in macro mode.')\n",
    "    \n",
    "    def  change_filter(self,filter_name):\n",
    "        print(f\"{filter_name}\")\n",
    "        \n",
    "    def Menu(self):\n",
    "        print(f\"Settings : {self.settings}  Filter:{self.Filter} Resolution:{ self.Resolution}  Night_mode: { self.Night_mode} Timer:{self.Timer }\")"
   ]
  },
  {
   "cell_type": "code",
   "execution_count": 3,
   "id": "9c9ea717-791b-4cd6-a0d9-ff76acb6a7d1",
   "metadata": {},
   "outputs": [],
   "source": [
    "User_1 = Camera('a','b','c','d','e')"
   ]
  },
  {
   "cell_type": "code",
   "execution_count": 4,
   "id": "97698967-c68c-4401-89ff-ef884636aa21",
   "metadata": {},
   "outputs": [
    {
     "name": "stdout",
     "output_type": "stream",
     "text": [
      "Settings : a  Filter:b Resolution:c  Night_mode: d Timer:e\n"
     ]
    }
   ],
   "source": [
    "User_1.Menu()"
   ]
  },
  {
   "cell_type": "code",
   "execution_count": 5,
   "id": "30206fd7-3147-4ea7-9c7a-e11375d31d6b",
   "metadata": {},
   "outputs": [
    {
     "name": "stdout",
     "output_type": "stream",
     "text": [
      "Photo saved\n"
     ]
    }
   ],
   "source": [
    "User_1.photo()"
   ]
  },
  {
   "cell_type": "code",
   "execution_count": 7,
   "id": "2b798ccf-464e-4803-a7fa-d573eab9bf7d",
   "metadata": {},
   "outputs": [
    {
     "name": "stdout",
     "output_type": "stream",
     "text": [
      "Opening camera\n"
     ]
    }
   ],
   "source": [
    "User_1.Open()"
   ]
  },
  {
   "cell_type": "code",
   "execution_count": 8,
   "id": "5ca76e59-2397-4703-b2b1-d10df47568d9",
   "metadata": {},
   "outputs": [
    {
     "name": "stdout",
     "output_type": "stream",
     "text": [
      "Recording....\n"
     ]
    }
   ],
   "source": [
    "User_1.Video()"
   ]
  },
  {
   "cell_type": "code",
   "execution_count": null,
   "id": "c9c9893e-55b9-4408-ab04-e45c80cbfdc7",
   "metadata": {},
   "outputs": [],
   "source": []
  },
  {
   "cell_type": "markdown",
   "id": "978f4d41-da2f-4e33-bfca-e672baa1ba0f",
   "metadata": {},
   "source": [
    "## Games "
   ]
  },
  {
   "cell_type": "code",
   "execution_count": 9,
   "id": "5aa16d56-8f09-4a6d-9778-e7c5734a6766",
   "metadata": {},
   "outputs": [],
   "source": [
    "class Games:\n",
    "    \n",
    "    def __init__(self,Name,Developed_on,Terms_and_conditions,Player_mode,settings):\n",
    "        self.Name                 = Name\n",
    "        self.Developed_on         = Developed_on\n",
    "        self.Terms_and_conditions = Terms_and_conditions\n",
    "        self.Player_mode          = Player_mode\n",
    "        "
   ]
  },
  {
   "cell_type": "code",
   "execution_count": null,
   "id": "db1ba29e-0a7c-401a-919b-c08a72dac584",
   "metadata": {},
   "outputs": [],
   "source": []
  },
  {
   "cell_type": "code",
   "execution_count": null,
   "id": "da196bf6-ed44-463d-ab28-bd0f21e650ac",
   "metadata": {},
   "outputs": [],
   "source": []
  },
  {
   "cell_type": "code",
   "execution_count": null,
   "id": "8609f57c-ddbc-43d9-a9d8-65f251693977",
   "metadata": {},
   "outputs": [],
   "source": []
  },
  {
   "cell_type": "code",
   "execution_count": null,
   "id": "dfc62af8-4924-440f-82ad-c06b59dde82e",
   "metadata": {},
   "outputs": [],
   "source": []
  },
  {
   "cell_type": "code",
   "execution_count": null,
   "id": "b34fe361-e336-41a8-b52a-d3e1ebb24547",
   "metadata": {},
   "outputs": [],
   "source": []
  },
  {
   "cell_type": "markdown",
   "id": "86728eb0-765a-43d7-bbd1-ab7c117d372c",
   "metadata": {},
   "source": [
    "## Dishwasher"
   ]
  },
  {
   "cell_type": "code",
   "execution_count": null,
   "id": "6f43d068-a869-422a-85e1-1e64f4d369ff",
   "metadata": {},
   "outputs": [],
   "source": [
    "class Dishwasher:\n",
    "    def __init__(self,Name,):"
   ]
  },
  {
   "cell_type": "code",
   "execution_count": null,
   "id": "7492badd-2c48-4c37-90a9-d93c94d5d61d",
   "metadata": {},
   "outputs": [],
   "source": []
  },
  {
   "cell_type": "markdown",
   "id": "2d7196cb-b6b3-4e63-ab18-3387904b56ed",
   "metadata": {},
   "source": [
    "## Washing Machine"
   ]
  },
  {
   "cell_type": "code",
   "execution_count": null,
   "id": "f0091815-84ad-4377-8311-fc1a1664c3be",
   "metadata": {},
   "outputs": [],
   "source": []
  },
  {
   "cell_type": "code",
   "execution_count": null,
   "id": "6ee4e36d-a08b-4573-a126-e7b604ebd29b",
   "metadata": {},
   "outputs": [],
   "source": []
  }
 ],
 "metadata": {
  "kernelspec": {
   "display_name": "Python 3 (ipykernel)",
   "language": "python",
   "name": "python3"
  },
  "language_info": {
   "codemirror_mode": {
    "name": "ipython",
    "version": 3
   },
   "file_extension": ".py",
   "mimetype": "text/x-python",
   "name": "python",
   "nbconvert_exporter": "python",
   "pygments_lexer": "ipython3",
   "version": "3.10.6"
  }
 },
 "nbformat": 4,
 "nbformat_minor": 5
}
