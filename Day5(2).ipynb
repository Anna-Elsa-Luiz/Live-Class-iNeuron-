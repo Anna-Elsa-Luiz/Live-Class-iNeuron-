{
 "cells": [
  {
   "cell_type": "code",
   "execution_count": 5,
   "id": "326fe7c1-2366-499f-9a62-35244b834312",
   "metadata": {},
   "outputs": [
    {
     "name": "stdout",
     "output_type": "stream",
     "text": [
      "32\n",
      "8\n",
      "1.6666666666666667\n",
      "240\n",
      "1\n",
      "8\n"
     ]
    }
   ],
   "source": [
    "#arithmetic operator\n",
    "a=20\n",
    "b=12\n",
    "print(a+b) \n",
    "print(a-b)\n",
    "print(a/b)\n",
    "print(a*b)\n",
    "print(a//b)# not includes the decimal part (floor division operator )\n",
    "print(a%b)# reminder"
   ]
  },
  {
   "cell_type": "code",
   "execution_count": 7,
   "id": "6b1c3f6c-fdbf-4425-88d0-7710f7926973",
   "metadata": {},
   "outputs": [
    {
     "name": "stdout",
     "output_type": "stream",
     "text": [
      "4096000000000000\n"
     ]
    }
   ],
   "source": [
    "print(a**b)"
   ]
  },
  {
   "cell_type": "code",
   "execution_count": 12,
   "id": "97727956-ff56-408c-bb07-6b0050c3fbc7",
   "metadata": {},
   "outputs": [
    {
     "name": "stdout",
     "output_type": "stream",
     "text": [
      "8\n"
     ]
    }
   ],
   "source": [
    "c=2\n",
    "d=3\n",
    "print(c**d)\n",
    "\n"
   ]
  },
  {
   "cell_type": "code",
   "execution_count": 15,
   "id": "4fbd85e1-a2fd-40b6-b240-858af4774770",
   "metadata": {},
   "outputs": [
    {
     "name": "stdout",
     "output_type": "stream",
     "text": [
      "False\n"
     ]
    }
   ],
   "source": [
    "e=5\n",
    "f=12\n",
    "print(e==f)#checking whether they are true."
   ]
  },
  {
   "cell_type": "code",
   "execution_count": 16,
   "id": "c475040b-ea25-45a2-b885-b6babc943f65",
   "metadata": {},
   "outputs": [
    {
     "name": "stdout",
     "output_type": "stream",
     "text": [
      "True\n"
     ]
    }
   ],
   "source": [
    "a=2.5\n",
    "b=2.5\n",
    "print(a==b)"
   ]
  },
  {
   "cell_type": "code",
   "execution_count": 18,
   "id": "29e8c623-25b2-4fc8-94ff-125917dda4ff",
   "metadata": {},
   "outputs": [
    {
     "name": "stdout",
     "output_type": "stream",
     "text": [
      "False\n"
     ]
    }
   ],
   "source": [
    "print(a!=b)"
   ]
  },
  {
   "cell_type": "code",
   "execution_count": 19,
   "id": "42e2515b-3453-4aa7-a4bb-87eaeae2fc5b",
   "metadata": {},
   "outputs": [
    {
     "name": "stdout",
     "output_type": "stream",
     "text": [
      "False\n"
     ]
    }
   ],
   "source": [
    "a=2.5\n",
    "b=3.5\n",
    "print(a>b)"
   ]
  },
  {
   "cell_type": "code",
   "execution_count": 21,
   "id": "df7f91f6-668f-4115-a72c-d16c00979517",
   "metadata": {},
   "outputs": [
    {
     "name": "stdout",
     "output_type": "stream",
     "text": [
      "True\n"
     ]
    }
   ],
   "source": [
    "a=2.5\n",
    "b=3.5\n",
    "print(a<b)"
   ]
  },
  {
   "cell_type": "code",
   "execution_count": 24,
   "id": "eb439fe8-6c45-498a-9a0a-426505575bd4",
   "metadata": {},
   "outputs": [
    {
     "name": "stdout",
     "output_type": "stream",
     "text": [
      "True\n"
     ]
    }
   ],
   "source": [
    "a=2.5\n",
    "b=2.5\n",
    "print(a>=b)"
   ]
  },
  {
   "cell_type": "code",
   "execution_count": 25,
   "id": "39fa69b8-22f3-4419-8316-9dcbf9e4094e",
   "metadata": {},
   "outputs": [
    {
     "name": "stdout",
     "output_type": "stream",
     "text": [
      "False\n"
     ]
    }
   ],
   "source": [
    "#logical operators\n",
    "a= True\n",
    "b= False\n",
    "\n",
    "print(a and b)"
   ]
  },
  {
   "cell_type": "code",
   "execution_count": 26,
   "id": "e53ccf85-571e-4c25-b350-4671b5e4452d",
   "metadata": {},
   "outputs": [
    {
     "name": "stdout",
     "output_type": "stream",
     "text": [
      "True\n"
     ]
    }
   ],
   "source": [
    "a= True\n",
    "b= False\n",
    "print(a or b)"
   ]
  },
  {
   "cell_type": "code",
   "execution_count": 29,
   "id": "3f74001b-1acb-409a-9431-c235abd5159a",
   "metadata": {},
   "outputs": [
    {
     "name": "stdout",
     "output_type": "stream",
     "text": [
      "False\n",
      "True\n"
     ]
    }
   ],
   "source": [
    "a= True\n",
    "b= False\n",
    "print(not a)\n",
    "print(not b)\n"
   ]
  },
  {
   "cell_type": "code",
   "execution_count": 31,
   "id": "cf405c21-54b7-469c-bc50-d677b9904d8d",
   "metadata": {},
   "outputs": [],
   "source": [
    "#AND\n",
    "#how to apply for a job: two conditions are there; (1) More than 60% mark and (2) You should be from Cs or IT\n",
    "#Tom has 75% mark and from arts--> rejected\n",
    "# Alice has 61% and from Cs -----> accepted\n",
    "\n",
    "#OR\n",
    "#how to apply for a job: two conditions are there; (1) More than 60% mark or (2) You should be from Cs or IT\n",
    "#Tom has 75% mark and from arts--> accepted\n",
    "# Alice has 61% and from Cs -----> accepted\n",
    "\n",
    "#NOT\n",
    "#compliment of the statement"
   ]
  },
  {
   "cell_type": "code",
   "execution_count": 33,
   "id": "c75c047a-5928-4198-9eed-587d4d16670c",
   "metadata": {},
   "outputs": [
    {
     "name": "stdout",
     "output_type": "stream",
     "text": [
      "0\n"
     ]
    }
   ],
   "source": [
    "a=10 #\n",
    "b=4\n",
    "print(a & b)"
   ]
  },
  {
   "cell_type": "code",
   "execution_count": 37,
   "id": "dee13a46-7198-441a-98ac-6e7611fff58b",
   "metadata": {},
   "outputs": [
    {
     "name": "stdout",
     "output_type": "stream",
     "text": [
      "14\n"
     ]
    },
    {
     "data": {
      "text/plain": [
       "'0b1110'"
      ]
     },
     "execution_count": 37,
     "metadata": {},
     "output_type": "execute_result"
    }
   ],
   "source": [
    "a=10 #\n",
    "b=4\n",
    "print(a | b)\n",
    "bin(14)"
   ]
  },
  {
   "cell_type": "code",
   "execution_count": 38,
   "id": "49260f27-65d9-4246-a3ba-9d3496bd97b1",
   "metadata": {},
   "outputs": [
    {
     "data": {
      "text/plain": [
       "'0b1'"
      ]
     },
     "execution_count": 38,
     "metadata": {},
     "output_type": "execute_result"
    }
   ],
   "source": [
    "bin(1)"
   ]
  },
  {
   "cell_type": "code",
   "execution_count": 46,
   "id": "db12551f-276a-4429-ac24-0d2c9599a0a0",
   "metadata": {},
   "outputs": [
    {
     "name": "stdout",
     "output_type": "stream",
     "text": [
      "14\n"
     ]
    }
   ],
   "source": [
    "#XOR\n",
    "# campares ^ each bit of the 1st operand with the 2nd. If one bit is (but not both)\n",
    "# the corresponding result bit is set to 1 , otherwise set to 0\n",
    "\n",
    "a= 10 \n",
    "b=4\n",
    "\n",
    "print(a^b)"
   ]
  },
  {
   "cell_type": "code",
   "execution_count": 49,
   "id": "22264756-1b51-4399-815b-7210bd3f8d6a",
   "metadata": {},
   "outputs": [
    {
     "name": "stdout",
     "output_type": "stream",
     "text": [
      "2\n"
     ]
    }
   ],
   "source": [
    "#Right shift operator\n",
    "\n",
    "a=10\n",
    "print(a>>2)"
   ]
  },
  {
   "cell_type": "code",
   "execution_count": 51,
   "id": "c96bfeb8-b758-4ec5-9cd9-13b7f0b6efe1",
   "metadata": {},
   "outputs": [
    {
     "name": "stdout",
     "output_type": "stream",
     "text": [
      "40\n"
     ]
    }
   ],
   "source": [
    "#Left shift\n",
    "#a=10\n",
    "print(a<<2)"
   ]
  },
  {
   "cell_type": "code",
   "execution_count": 11,
   "id": "468be166-7aa6-4bc4-8e6d-a549dc698498",
   "metadata": {},
   "outputs": [
    {
     "name": "stdout",
     "output_type": "stream",
     "text": [
      "1\n",
      "8\n"
     ]
    }
   ],
   "source": [
    "#left shift operator \n",
    "\n",
    "a=5\n",
    "print(a>>2)\n",
    "#a= 5 = 0 1 0 1\n",
    "#   1 = 0 0 0 1\n",
    "\n",
    "b=2\n",
    "#Right shift operator \n",
    "print(b<<2)\n",
    "#a= 5 = 0 1 0 1 0\n",
    "#   20= 1 0 1 0 0\n"
   ]
  },
  {
   "cell_type": "code",
   "execution_count": 12,
   "id": "db26dd03-43f0-45da-a125-cd41ec53295e",
   "metadata": {},
   "outputs": [
    {
     "data": {
      "text/plain": [
       "'0b1000'"
      ]
     },
     "execution_count": 12,
     "metadata": {},
     "output_type": "execute_result"
    }
   ],
   "source": [
    "bin(8)"
   ]
  },
  {
   "cell_type": "code",
   "execution_count": 14,
   "id": "cac2148b-20cd-47aa-92d2-eaaee86a1041",
   "metadata": {},
   "outputs": [
    {
     "name": "stdout",
     "output_type": "stream",
     "text": [
      "5\n"
     ]
    }
   ],
   "source": [
    "#assignment operator \n",
    "a= 2\n",
    "a+= 3 # a= a+3 = 2+3\n",
    "print(a)"
   ]
  },
  {
   "cell_type": "code",
   "execution_count": 15,
   "id": "a41317e2-e335-4f41-92eb-c11487a3a777",
   "metadata": {},
   "outputs": [
    {
     "name": "stdout",
     "output_type": "stream",
     "text": [
      "-1\n"
     ]
    }
   ],
   "source": [
    "b= 2\n",
    "b-= 3 # b= b-3 = 2-3\n",
    "print(b)"
   ]
  },
  {
   "cell_type": "code",
   "execution_count": 16,
   "id": "3fc90a87-f503-4f07-9a28-2a19d195bd42",
   "metadata": {},
   "outputs": [
    {
     "name": "stdout",
     "output_type": "stream",
     "text": [
      "6\n"
     ]
    }
   ],
   "source": [
    "a= 2\n",
    "a*= 3 # a= a*3 = 2*3\n",
    "print(a)"
   ]
  },
  {
   "cell_type": "code",
   "execution_count": 17,
   "id": "361ff5f0-0128-4186-850c-614a7d41a4d3",
   "metadata": {},
   "outputs": [
    {
     "name": "stdout",
     "output_type": "stream",
     "text": [
      "0.6666666666666666\n"
     ]
    }
   ],
   "source": [
    "b= 2\n",
    "b/= 3 # b= b/3 = 2/3\n",
    "print(b)"
   ]
  },
  {
   "cell_type": "code",
   "execution_count": 13,
   "id": "586d8770-e91f-4530-975c-1384dbceda08",
   "metadata": {},
   "outputs": [
    {
     "name": "stdin",
     "output_type": "stream",
     "text": [
      "Enter your Name Anna Elsa Luiz\n",
      " Enter your class 10 A\n"
     ]
    },
    {
     "name": "stdout",
     "output_type": "stream",
     "text": [
      "welcome:Anna Elsa Luiz\n",
      "You are in :10 A\n"
     ]
    }
   ],
   "source": [
    "#Standard input and Standard output\n",
    "\n",
    "#take input from the user \n",
    "name= input(\"Enter your Name\")\n",
    "Class= input(\" Enter your class\")\n",
    "print(f\"welcome:{name}\")\n",
    "print(f\"You are in :{Class}\")\n",
    "\n",
    "      \n",
    "\n"
   ]
  },
  {
   "cell_type": "code",
   "execution_count": 1,
   "id": "b4a66577-b7f1-4dbb-9278-10a36f1e6d26",
   "metadata": {},
   "outputs": [
    {
     "name": "stdout",
     "output_type": "stream",
     "text": [
      "Congratualations,You can drive\n"
     ]
    }
   ],
   "source": [
    "#if Statement \n",
    "\n",
    "age =20\n",
    "if age >=18:\n",
    "    print(\"Congratualations,You can drive\")"
   ]
  },
  {
   "cell_type": "code",
   "execution_count": 3,
   "id": "94559310-b749-4b83-9eed-867cea00a327",
   "metadata": {},
   "outputs": [
    {
     "name": "stdout",
     "output_type": "stream",
     "text": [
      "Sorry,Go home safely\n"
     ]
    }
   ],
   "source": [
    "age = 11\n",
    "if age >=18:\n",
    "    print(\"Congratulations,You can drive\")\n",
    "else :\n",
    "    print(\"Sorry,Go home safely\")\n"
   ]
  },
  {
   "cell_type": "code",
   "execution_count": 9,
   "id": "99f9285c-fcab-4b99-876f-3bb8ed4b908d",
   "metadata": {},
   "outputs": [
    {
     "name": "stdout",
     "output_type": "stream",
     "text": [
      "sorry, Try again!\n"
     ]
    }
   ],
   "source": [
    "mark= 39\n",
    "if mark>= 90:\n",
    "    print(\"Congratulations,excellent\")\n",
    "elif mark>= 60:\n",
    "    print(\"Good,keep it up\")\n",
    "\n",
    "elif mark>=40:\n",
    "    print(\"Try harder\")\n",
    "    \n",
    "else:  \n",
    "    print(\"sorry, Try again!\")"
   ]
  },
  {
   "cell_type": "code",
   "execution_count": 13,
   "id": "7a9342e7-83ee-45b6-aadc-c6071b1bc4e2",
   "metadata": {},
   "outputs": [
    {
     "name": "stdout",
     "output_type": "stream",
     "text": [
      "Congratulations,excellent\n"
     ]
    }
   ],
   "source": [
    "mark =93\n",
    "if mark>= 90:\n",
    "    print(\"Congratulations,excellent\")\n",
    "elif mark>= 60:\n",
    "    print(\"Good,keep it up\")\n",
    "\n",
    "elif mark>=40:\n",
    "    print(\"Try harder\")\n",
    "    \n",
    "else:  \n",
    "    print(\"sorry, Try again!\")"
   ]
  },
  {
   "cell_type": "code",
   "execution_count": 19,
   "id": "00bafe2c-b4cd-4fc6-b1a7-8b5c0aea14ac",
   "metadata": {},
   "outputs": [
    {
     "name": "stdout",
     "output_type": "stream",
     "text": [
      "b is the greatest\n"
     ]
    }
   ],
   "source": [
    "#find largest among three numbers\n",
    "a= 320\n",
    "b=520\n",
    "c=410\n",
    "\n",
    "if a>b and a>c:\n",
    "    print(\"a is the greatest\")\n",
    "elif b>a and b>c:\n",
    "    print(\"b is the greatest\")\n",
    "else:\n",
    "    print(\"c is the greatest \")"
   ]
  },
  {
   "cell_type": "code",
   "execution_count": null,
   "id": "2b1542eb-f28d-4f6a-bc3c-2d87fb8d6c66",
   "metadata": {},
   "outputs": [],
   "source": []
  }
 ],
 "metadata": {
  "kernelspec": {
   "display_name": "Python 3 (ipykernel)",
   "language": "python",
   "name": "python3"
  },
  "language_info": {
   "codemirror_mode": {
    "name": "ipython",
    "version": 3
   },
   "file_extension": ".py",
   "mimetype": "text/x-python",
   "name": "python",
   "nbconvert_exporter": "python",
   "pygments_lexer": "ipython3",
   "version": "3.10.6"
  }
 },
 "nbformat": 4,
 "nbformat_minor": 5
}
