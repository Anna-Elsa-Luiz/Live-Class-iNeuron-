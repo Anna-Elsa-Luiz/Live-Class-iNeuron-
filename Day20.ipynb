{
 "cells": [
  {
   "cell_type": "markdown",
   "metadata": {},
   "source": [
    "python programming languages(Dynamic Programming Languag)\n",
    "----------------------------- \n",
    "1. Functional approach.\n",
    "2. OOPs approach.\n",
    "-------------------\n",
    "\n"
   ]
  },
  {
   "cell_type": "code",
   "execution_count": 1,
   "metadata": {},
   "outputs": [],
   "source": [
    "class emp:\n",
    "    def __init__(self):\n",
    "        print(\"object created\")\n",
    "\n",
    "    def test(self): #using self is the generic method.\n",
    "        print(\"Python is fun\")\n",
    "\n",
    "    def demo(self):  \n",
    "        print(\"python rocks!\")      "
   ]
  },
  {
   "cell_type": "code",
   "execution_count": 32,
   "metadata": {},
   "outputs": [
    {
     "name": "stdout",
     "output_type": "stream",
     "text": [
      "object created\n"
     ]
    }
   ],
   "source": [
    "Anna_Elsa_Luiz = emp()\n"
   ]
  },
  {
   "cell_type": "code",
   "execution_count": 33,
   "metadata": {},
   "outputs": [
    {
     "name": "stdout",
     "output_type": "stream",
     "text": [
      "python rocks!\n"
     ]
    }
   ],
   "source": [
    "Anna_Elsa_Luiz.demo()"
   ]
  },
  {
   "cell_type": "code",
   "execution_count": 34,
   "metadata": {},
   "outputs": [
    {
     "name": "stdout",
     "output_type": "stream",
     "text": [
      "Python is fun\n"
     ]
    }
   ],
   "source": [
    "Anna_Elsa_Luiz.test()"
   ]
  },
  {
   "cell_type": "markdown",
   "metadata": {},
   "source": [
    "Constructors are those method which will be call immediately(automatically) whenever we create object."
   ]
  },
  {
   "cell_type": "code",
   "execution_count": 35,
   "metadata": {},
   "outputs": [],
   "source": [
    "class employee:\n",
    "    def __init__(self,age,name,salary): \n",
    "        self.age = age            \n",
    "        self.name = name\n",
    "        self.salary = salary\n",
    "\n",
    "    def show(self): \n",
    "        print(f\"Age = {self.age} , Name = {self.name} , Salary = {self.salary}\") \n",
    "                "
   ]
  },
  {
   "cell_type": "code",
   "execution_count": 36,
   "metadata": {},
   "outputs": [],
   "source": [
    "employee1 = employee(23,\"Anna\",25000)"
   ]
  },
  {
   "cell_type": "code",
   "execution_count": 37,
   "metadata": {},
   "outputs": [
    {
     "name": "stdout",
     "output_type": "stream",
     "text": [
      "Age = 23 , Name = Anna , Salary = 25000\n"
     ]
    }
   ],
   "source": [
    "employee1.show()"
   ]
  },
  {
   "cell_type": "code",
   "execution_count": 38,
   "metadata": {},
   "outputs": [],
   "source": [
    "class car:\n",
    "    def __init__(self,a,b,c):\n",
    "        self.top_speed     = a\n",
    "        self.fuel_capacity = b\n",
    "        self.disk_break    = c\n",
    "\n",
    "    def show(self):  \n",
    "          print(f\"Top speed = {self.top_speed } , Name = {self.name} , Salary = {self.salary}\")\n",
    "\n",
    "    def drive(self,x):\n",
    "         print(f\"It can drive {x} \")      "
   ]
  },
  {
   "cell_type": "code",
   "execution_count": 39,
   "metadata": {},
   "outputs": [],
   "source": [
    "car1 = car(160,45,'Yes')"
   ]
  },
  {
   "cell_type": "code",
   "execution_count": 40,
   "metadata": {},
   "outputs": [
    {
     "name": "stdout",
     "output_type": "stream",
     "text": [
      "It can drive 60\n"
     ]
    }
   ],
   "source": [
    "car1.drive(60)"
   ]
  },
  {
   "cell_type": "code",
   "execution_count": null,
   "metadata": {},
   "outputs": [],
   "source": [
    "import math\n",
    "\n",
    "class circle:\n",
    "    def __init__(self,radius):\n",
    "        self.radius = radius #instance variable\n",
    "        print(f\"The given radius is {self.radius}\")\n",
    "\n",
    "    def circumference(self): \n",
    "        self.circ = 2 * math.pi * (self.radius) \n",
    "\n",
    "    def area(self):\n",
    "        self.area = math.pi *((self.radius)  **2)  \n",
    "\n",
    "    def display(self):\n",
    "        print(f\"Circumference  of the circle :{self.circ}\") \n",
    "        print(f\"Area of the circle           :{self.area}\")       "
   ]
  },
  {
   "cell_type": "code",
   "execution_count": 59,
   "metadata": {},
   "outputs": [
    {
     "name": "stdout",
     "output_type": "stream",
     "text": [
      "The given radius is 3\n"
     ]
    }
   ],
   "source": [
    "circle1 = circle(3)"
   ]
  },
  {
   "cell_type": "code",
   "execution_count": 60,
   "metadata": {},
   "outputs": [],
   "source": [
    "circle1.circumference()\n",
    "circle1.area()"
   ]
  },
  {
   "cell_type": "code",
   "execution_count": 61,
   "metadata": {},
   "outputs": [
    {
     "name": "stdout",
     "output_type": "stream",
     "text": [
      "Circumference  of the circle :18.84955592153876\n",
      "Area of the circle           :28.274333882308138\n"
     ]
    }
   ],
   "source": [
    "circle1.display()"
   ]
  },
  {
   "cell_type": "code",
   "execution_count": 93,
   "metadata": {},
   "outputs": [],
   "source": [
    "import math\n",
    "class circle:\n",
    "\n",
    "    def __init__(self,radius):\n",
    "                                   #instance variable (a)\n",
    "        self.radius = radius       #local variable  (x)\n",
    "        print(self.radius)\n",
    "\n",
    "    def Cal_area(self):\n",
    "        a = ( self.radius ** 2 ) * math.pi \n",
    "        return f\"Area = {a}\" \n",
    "    \n",
    "    def Cal_circ(self):\n",
    "        b = 2 * math.pi * self.radius\n",
    "        return f\"Circumference = {b}\""
   ]
  },
  {
   "cell_type": "code",
   "execution_count": 85,
   "metadata": {},
   "outputs": [
    {
     "name": "stdout",
     "output_type": "stream",
     "text": [
      "3\n"
     ]
    }
   ],
   "source": [
    "circle1 = circle(3)"
   ]
  },
  {
   "cell_type": "code",
   "execution_count": 86,
   "metadata": {},
   "outputs": [
    {
     "data": {
      "text/plain": [
       "'Circumference = 18.84955592153876'"
      ]
     },
     "execution_count": 86,
     "metadata": {},
     "output_type": "execute_result"
    }
   ],
   "source": [
    "circle1.Cal_circ()\n"
   ]
  },
  {
   "cell_type": "code",
   "execution_count": 87,
   "metadata": {},
   "outputs": [
    {
     "data": {
      "text/plain": [
       "'Area = 28.274333882308138'"
      ]
     },
     "execution_count": 87,
     "metadata": {},
     "output_type": "execute_result"
    }
   ],
   "source": [
    "circle1.Cal_area()"
   ]
  },
  {
   "cell_type": "code",
   "execution_count": 88,
   "metadata": {},
   "outputs": [],
   "source": [
    "class Comp_stud():\n",
    "    stream = \"CSE\" #class variable\n",
    "\n",
    "    def __init__(self,name,roll_no):\n",
    "        self.name    = name\n",
    "        self.roll_no = roll_no\n",
    "        \n",
    "     \n"
   ]
  },
  {
   "cell_type": "code",
   "execution_count": 89,
   "metadata": {},
   "outputs": [],
   "source": [
    "Comp_stud1 = Comp_stud(\"anna\",2351)\n"
   ]
  },
  {
   "cell_type": "code",
   "execution_count": 90,
   "metadata": {},
   "outputs": [
    {
     "data": {
      "text/plain": [
       "'CSE'"
      ]
     },
     "execution_count": 90,
     "metadata": {},
     "output_type": "execute_result"
    }
   ],
   "source": [
    "Comp_stud1.stream\n",
    " "
   ]
  },
  {
   "cell_type": "code",
   "execution_count": 91,
   "metadata": {},
   "outputs": [
    {
     "data": {
      "text/plain": [
       "'anna'"
      ]
     },
     "execution_count": 91,
     "metadata": {},
     "output_type": "execute_result"
    }
   ],
   "source": [
    "Comp_stud1.name\n"
   ]
  },
  {
   "cell_type": "code",
   "execution_count": 92,
   "metadata": {},
   "outputs": [
    {
     "data": {
      "text/plain": [
       "2351"
      ]
     },
     "execution_count": 92,
     "metadata": {},
     "output_type": "execute_result"
    }
   ],
   "source": [
    "Comp_stud1.roll_no"
   ]
  },
  {
   "cell_type": "markdown",
   "metadata": {},
   "source": [
    "Variables\n",
    "--------\n",
    "Class variables,Local variables,Instance variables"
   ]
  },
  {
   "cell_type": "code",
   "execution_count": 113,
   "metadata": {},
   "outputs": [],
   "source": [
    "class demo:\n",
    "    branch = \"CSE\"                   #class variable\n",
    "    def __init__(self,name,age):\n",
    "        self.name = name             #instance variable.\n",
    "        self.age = age\n",
    "        roll_no = 11                 # Local variable.; it can only be accessed inside the funt"
   ]
  },
  {
   "cell_type": "code",
   "execution_count": 114,
   "metadata": {},
   "outputs": [],
   "source": [
    "obj1 = demo('anna',20)"
   ]
  },
  {
   "cell_type": "code",
   "execution_count": 115,
   "metadata": {},
   "outputs": [
    {
     "data": {
      "text/plain": [
       "'CSE'"
      ]
     },
     "execution_count": 115,
     "metadata": {},
     "output_type": "execute_result"
    }
   ],
   "source": [
    "obj1.branch"
   ]
  },
  {
   "cell_type": "code",
   "execution_count": 116,
   "metadata": {},
   "outputs": [
    {
     "data": {
      "text/plain": [
       "'anna'"
      ]
     },
     "execution_count": 116,
     "metadata": {},
     "output_type": "execute_result"
    }
   ],
   "source": [
    "obj1.name"
   ]
  },
  {
   "cell_type": "code",
   "execution_count": 117,
   "metadata": {},
   "outputs": [
    {
     "name": "stdout",
     "output_type": "stream",
     "text": [
      "'demo' object has no attribute 'roll_no'\n"
     ]
    }
   ],
   "source": [
    "try:\n",
    "    obj1.roll_no # cant access since it is a local variable\n",
    "\n",
    "except  AttributeError:  \n",
    "    print(\"'demo' object has no attribute 'roll_no'\")"
   ]
  },
  {
   "cell_type": "markdown",
   "metadata": {},
   "source": [
    "Methods\n",
    "-------\n",
    "1. Instance method\n",
    "2. class method\n",
    "3. Static method"
   ]
  },
  {
   "cell_type": "code",
   "execution_count": 119,
   "metadata": {},
   "outputs": [],
   "source": [
    "import math\n",
    "\n",
    "class circle:\n",
    "    def __init__(self,radius):\n",
    "        self.radius = radius \n",
    "        print(f\"The given radius is {self.radius}\")\n",
    "\n",
    "    def circumference(self):                            #instance method\n",
    "        self.circ = 2 * math.pi * (self.radius) \n",
    "\n",
    "    def area(self):\n",
    "        self.area = math.pi *((self.radius)  **2)       #instance method\n",
    "\n",
    "    def display(self):\n",
    "        print(f\"Circumference  of the circle :{self.circ}\") \n",
    "        print(f\"Area of the circle           :{self.area}\")"
   ]
  },
  {
   "cell_type": "code",
   "execution_count": 157,
   "metadata": {},
   "outputs": [],
   "source": [
    "class Emp:\n",
    "\n",
    "    raise_amount = 25\n",
    "\n",
    "    def __init__(self,Name,age,Salary):\n",
    "        self.Name = Name\n",
    "        self.age = age\n",
    "        self.Salary = Salary\n",
    "\n",
    "    def increase_sal(self):\n",
    "        self.Salary = ((Emp.raise_amount / 100 ) * self.Salary ) + self.Salary\n",
    "        return f\"Salary of {self.Name} incremented!\"\n",
    "        \n",
    "    \n",
    "    def display(self):\n",
    "        print(\":::::Details of employee:::::\")\n",
    "        print(\"----------------------------\")\n",
    "        print(f\"Name   : {self.Name}\")\n",
    "        print(f\"Age    : {self.age}\")\n",
    "        print(f\"Salary : {self.Salary}\")\n"
   ]
  },
  {
   "cell_type": "code",
   "execution_count": 158,
   "metadata": {},
   "outputs": [],
   "source": [
    "Emp1 = Emp(\"Anna\",25,10000)\n",
    "Emp2 = Emp(\"Elsa\",25,12000)"
   ]
  },
  {
   "cell_type": "code",
   "execution_count": 159,
   "metadata": {},
   "outputs": [
    {
     "name": "stdout",
     "output_type": "stream",
     "text": [
      ":::::Details of employee:::::\n",
      "----------------------------\n",
      "Name   : Anna\n",
      "Age    : 25\n",
      "Salary : 10000\n"
     ]
    }
   ],
   "source": [
    "Emp1.display()"
   ]
  },
  {
   "cell_type": "code",
   "execution_count": 160,
   "metadata": {},
   "outputs": [
    {
     "data": {
      "text/plain": [
       "'Salary of Anna incremented!'"
      ]
     },
     "execution_count": 160,
     "metadata": {},
     "output_type": "execute_result"
    }
   ],
   "source": [
    "Emp1.increase_sal()"
   ]
  },
  {
   "cell_type": "code",
   "execution_count": 161,
   "metadata": {},
   "outputs": [
    {
     "name": "stdout",
     "output_type": "stream",
     "text": [
      ":::::Details of employee:::::\n",
      "----------------------------\n",
      "Name   : Anna\n",
      "Age    : 25\n",
      "Salary : 12500.0\n"
     ]
    }
   ],
   "source": [
    "Emp1.display()"
   ]
  },
  {
   "cell_type": "code",
   "execution_count": 162,
   "metadata": {},
   "outputs": [
    {
     "name": "stdout",
     "output_type": "stream",
     "text": [
      ":::::Details of employee:::::\n",
      "----------------------------\n",
      "Name   : Elsa\n",
      "Age    : 25\n",
      "Salary : 12000\n"
     ]
    }
   ],
   "source": [
    "Emp2.display()"
   ]
  },
  {
   "cell_type": "code",
   "execution_count": 163,
   "metadata": {},
   "outputs": [
    {
     "data": {
      "text/plain": [
       "'Salary of Elsa incremented!'"
      ]
     },
     "execution_count": 163,
     "metadata": {},
     "output_type": "execute_result"
    }
   ],
   "source": [
    "Emp2.increase_sal()"
   ]
  },
  {
   "cell_type": "code",
   "execution_count": 164,
   "metadata": {},
   "outputs": [
    {
     "name": "stdout",
     "output_type": "stream",
     "text": [
      ":::::Details of employee:::::\n",
      "----------------------------\n",
      "Name   : Elsa\n",
      "Age    : 25\n",
      "Salary : 15000.0\n"
     ]
    }
   ],
   "source": [
    "Emp2.display()"
   ]
  },
  {
   "cell_type": "code",
   "execution_count": 167,
   "metadata": {},
   "outputs": [
    {
     "name": "stdout",
     "output_type": "stream",
     "text": [
      "Raise amount = 30\n"
     ]
    }
   ],
   "source": [
    "class Emp:\n",
    "\n",
    "    raise_amount = int(input(\"Enter\"))\n",
    "    print(f\"Raise amount = {raise_amount}\")\n",
    "\n",
    "    def __init__(self,Name,age,Salary):\n",
    "        self.Name = Name\n",
    "        self.age = age\n",
    "        self.Salary = Salary\n",
    "\n",
    "    def increase_sal(self):\n",
    "        self.Salary = ((self.raise_amount / 100 ) * self.Salary ) + self.Salary\n",
    "        return f\"Salary of {self.Name} incremented!\"\n",
    "        \n",
    "    \n",
    "    def display(self):\n",
    "        print(\":::::Details of employee:::::\")\n",
    "        print(\"----------------------------\")\n",
    "        print(f\"Name   : {self.Name}\")\n",
    "        print(f\"Age    : {self.age}\")\n",
    "        print(f\"Salary : {self.Salary}\")\n"
   ]
  },
  {
   "cell_type": "markdown",
   "metadata": {},
   "source": [
    "Class method\n",
    "-----------"
   ]
  },
  {
   "cell_type": "markdown",
   "metadata": {},
   "source": [
    "class demo:\n",
    "\n",
    "    Class variable       --------------------> class variable\n",
    "\n",
    "    @classmethod         --------------------> class method #decorator\n",
    "        def test1(ref):  \n",
    "            pass\n",
    "\n",
    "    @staticmethod        --------------------> static method #decorator \n",
    "        def test(ref):\n",
    "            pass\n",
    "\n",
    "    def __init__(self):  --------------------> constructor\n",
    "        pass\n",
    "\n",
    "    def show(self):       --------------------> instance method\n",
    "        pass    \n"
   ]
  },
  {
   "cell_type": "markdown",
   "metadata": {},
   "source": [
    "* **@classmethod** have the authority to interact with anything within the class using the reference.\n",
    "* **@static method** don't have authority over the class.They cannot access anything regarding the class.It is an **individual entity** inside the memory."
   ]
  },
  {
   "cell_type": "code",
   "execution_count": 168,
   "metadata": {},
   "outputs": [],
   "source": [
    "class demo:\n",
    "    pass"
   ]
  },
  {
   "cell_type": "code",
   "execution_count": 172,
   "metadata": {},
   "outputs": [
    {
     "name": "stdout",
     "output_type": "stream",
     "text": [
      "<__main__.demo object at 0x00000222DB1F3310>\n",
      "2348703744816\n"
     ]
    }
   ],
   "source": [
    "obj1= demo()\n",
    "print(obj1)\n",
    "print(id(demo))  #id :identity"
   ]
  },
  {
   "cell_type": "code",
   "execution_count": 173,
   "metadata": {},
   "outputs": [],
   "source": [
    "class Demo:\n",
    "    def __init__(self):\n",
    "        print(\"I am in the init function\")\n",
    "        print(f\"Here is a value of {id(self)} \")"
   ]
  },
  {
   "cell_type": "code",
   "execution_count": 174,
   "metadata": {},
   "outputs": [
    {
     "name": "stdout",
     "output_type": "stream",
     "text": [
      "I am in the init function\n",
      "Here is a value of 2348734347344 \n"
     ]
    }
   ],
   "source": [
    "obj1= Demo()"
   ]
  },
  {
   "cell_type": "code",
   "execution_count": 175,
   "metadata": {},
   "outputs": [],
   "source": [
    "class Demo1:\n",
    "    city = \"kerala\"\n",
    "\n",
    "    def __init__(self,name):\n",
    "        self.name = name \n",
    "    "
   ]
  },
  {
   "cell_type": "code",
   "execution_count": 176,
   "metadata": {},
   "outputs": [],
   "source": [
    "Object1 = Demo1(\"Aravind\")"
   ]
  },
  {
   "cell_type": "code",
   "execution_count": 177,
   "metadata": {},
   "outputs": [
    {
     "data": {
      "text/plain": [
       "'Aravind'"
      ]
     },
     "execution_count": 177,
     "metadata": {},
     "output_type": "execute_result"
    }
   ],
   "source": [
    "Object1.name"
   ]
  },
  {
   "cell_type": "code",
   "execution_count": 181,
   "metadata": {},
   "outputs": [
    {
     "name": "stdout",
     "output_type": "stream",
     "text": [
      "Rohit\n",
      "kerala\n"
     ]
    }
   ],
   "source": [
    "Object2 = Demo1(\"Rohit\")\n",
    "print(Object2.name)\n",
    "print(Object1.city)"
   ]
  },
  {
   "cell_type": "code",
   "execution_count": 182,
   "metadata": {},
   "outputs": [
    {
     "name": "stdout",
     "output_type": "stream",
     "text": [
      "2348734560496\n",
      "2348734560496\n"
     ]
    }
   ],
   "source": [
    "print(id(Object1.city))  #same id since class variable \n",
    "print(id(Object2.city))"
   ]
  },
  {
   "cell_type": "code",
   "execution_count": 186,
   "metadata": {},
   "outputs": [],
   "source": [
    "class demo:\n",
    "    city = \"Bhopal\"\n",
    "\n",
    "    @classmethod\n",
    "    def test1(cls):\n",
    "        print(\"I am working as a class method \")\n",
    "        print(f\"Here is a address of cls {id(cls)}\") \n",
    "        print(demo.city)\n",
    "\n",
    "    @staticmethod\n",
    "    def test2():\n",
    "        print(\"Here I am working with static method\")  \n",
    "\n",
    "\n",
    "    def __init__(self,name):\n",
    "      self.name = name \n"
   ]
  },
  {
   "cell_type": "code",
   "execution_count": 187,
   "metadata": {},
   "outputs": [],
   "source": [
    "demo1 = demo(\"Anna\")"
   ]
  },
  {
   "cell_type": "code",
   "execution_count": 191,
   "metadata": {},
   "outputs": [
    {
     "name": "stdout",
     "output_type": "stream",
     "text": [
      "Here I am working with static method\n"
     ]
    }
   ],
   "source": [
    "demo.test2()"
   ]
  },
  {
   "cell_type": "code",
   "execution_count": 193,
   "metadata": {},
   "outputs": [
    {
     "data": {
      "text/plain": [
       "'Anna'"
      ]
     },
     "execution_count": 193,
     "metadata": {},
     "output_type": "execute_result"
    }
   ],
   "source": [
    "demo1.name"
   ]
  },
  {
   "cell_type": "code",
   "execution_count": 194,
   "metadata": {},
   "outputs": [
    {
     "data": {
      "text/plain": [
       "'Bhopal'"
      ]
     },
     "execution_count": 194,
     "metadata": {},
     "output_type": "execute_result"
    }
   ],
   "source": [
    "demo.city"
   ]
  },
  {
   "cell_type": "code",
   "execution_count": 233,
   "metadata": {},
   "outputs": [],
   "source": [
    "def create_operation(x):\n",
    "\n",
    "    def add(y):\n",
    "    return x - y\n",
    "  return add"
   ]
  },
  {
   "cell_type": "code",
   "execution_count": 234,
   "metadata": {},
   "outputs": [],
   "source": [
    "a=create_operation(10)"
   ]
  },
  {
   "cell_type": "code",
   "execution_count": 235,
   "metadata": {},
   "outputs": [
    {
     "data": {
      "text/plain": [
       "5"
      ]
     },
     "execution_count": 235,
     "metadata": {},
     "output_type": "execute_result"
    }
   ],
   "source": [
    "a(5)"
   ]
  },
  {
   "cell_type": "code",
   "execution_count": 236,
   "metadata": {},
   "outputs": [
    {
     "data": {
      "text/plain": [
       "7"
      ]
     },
     "execution_count": 236,
     "metadata": {},
     "output_type": "execute_result"
    }
   ],
   "source": [
    "#which is equal to\n",
    "create_operation(12)(5)"
   ]
  },
  {
   "cell_type": "code",
   "execution_count": 246,
   "metadata": {},
   "outputs": [],
   "source": [
    "def hello_decorator(funt):\n",
    "    def inner(a,b):\n",
    "        print(\"before execution\")\n",
    "        value = funt(a,b)\n",
    "        print(\"after exection\")\n",
    "        return value \n",
    "    return inner"
   ]
  },
  {
   "cell_type": "code",
   "execution_count": 247,
   "metadata": {},
   "outputs": [],
   "source": [
    "@hello_decorator\n",
    "def sum_two_number(a,b):\n",
    "    print(\"Inside the function\")\n",
    "    return a + b"
   ]
  },
  {
   "cell_type": "code",
   "execution_count": 248,
   "metadata": {},
   "outputs": [
    {
     "name": "stdout",
     "output_type": "stream",
     "text": [
      "before execution\n",
      "Inside the function\n",
      "after exection\n"
     ]
    },
    {
     "data": {
      "text/plain": [
       "7"
      ]
     },
     "execution_count": 248,
     "metadata": {},
     "output_type": "execute_result"
    }
   ],
   "source": [
    "sum_two_number(5,2)"
   ]
  },
  {
   "cell_type": "markdown",
   "metadata": {},
   "source": [
    "Decorator\n",
    "----------------"
   ]
  },
  {
   "cell_type": "markdown",
   "metadata": {},
   "source": [
    "* Can use multiple decorators in a single funt"
   ]
  },
  {
   "cell_type": "markdown",
   "metadata": {},
   "source": []
  }
 ],
 "metadata": {
  "kernelspec": {
   "display_name": "Python 3 (ipykernel)",
   "language": "python",
   "name": "python3"
  },
  "language_info": {
   "codemirror_mode": {
    "name": "ipython",
    "version": 3
   },
   "file_extension": ".py",
   "mimetype": "text/x-python",
   "name": "python",
   "nbconvert_exporter": "python",
   "pygments_lexer": "ipython3",
   "version": "3.10.6"
  }
 },
 "nbformat": 4,
 "nbformat_minor": 4
}
