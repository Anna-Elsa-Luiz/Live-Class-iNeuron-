{
 "cells": [
  {
   "cell_type": "code",
   "execution_count": 23,
   "id": "856a1583-a9c2-4176-975b-d73b6458aea1",
   "metadata": {},
   "outputs": [
    {
     "name": "stdout",
     "output_type": "stream",
     "text": [
      "JOHN DOE\n"
     ]
    }
   ],
   "source": [
    "name= \"JOHN DOE\"\n",
    "print(name)"
   ]
  },
  {
   "cell_type": "code",
   "execution_count": 16,
   "id": "578db4fa-975a-46e0-802b-992154695168",
   "metadata": {},
   "outputs": [
    {
     "name": "stdout",
     "output_type": "stream",
     "text": [
      "J\n"
     ]
    }
   ],
   "source": [
    "#indexing starts from 0 to n-1\n",
    "print(name[0])"
   ]
  },
  {
   "cell_type": "code",
   "execution_count": 17,
   "id": "fc51bdbe-056a-41ee-abc8-3bfa23c30473",
   "metadata": {},
   "outputs": [
    {
     "name": "stdout",
     "output_type": "stream",
     "text": [
      "JOH\n"
     ]
    }
   ],
   "source": [
    "print(name[0:3])"
   ]
  },
  {
   "cell_type": "code",
   "execution_count": 18,
   "id": "806abb8b-0bcf-4abe-a89d-1cc23262571e",
   "metadata": {},
   "outputs": [
    {
     "name": "stdout",
     "output_type": "stream",
     "text": [
      "h\n",
      "e\n",
      "l\n",
      "l\n",
      "o\n"
     ]
    }
   ],
   "source": [
    "for i in \"hello\":\n",
    "    print(i)"
   ]
  },
  {
   "cell_type": "code",
   "execution_count": 19,
   "id": "c865ba14-4f49-4ca6-a315-76d7c715a3e9",
   "metadata": {},
   "outputs": [
    {
     "data": {
      "text/plain": [
       "7"
      ]
     },
     "execution_count": 19,
     "metadata": {},
     "output_type": "execute_result"
    }
   ],
   "source": [
    "len('abcdefg')"
   ]
  },
  {
   "cell_type": "code",
   "execution_count": 24,
   "id": "25e51d72-e195-4336-9e61-2fd231160018",
   "metadata": {},
   "outputs": [
    {
     "data": {
      "text/plain": [
       "8"
      ]
     },
     "execution_count": 24,
     "metadata": {},
     "output_type": "execute_result"
    }
   ],
   "source": [
    "len(name)"
   ]
  },
  {
   "cell_type": "code",
   "execution_count": 26,
   "id": "dd297060-834b-4886-8edf-33b394719c38",
   "metadata": {},
   "outputs": [
    {
     "name": "stdout",
     "output_type": "stream",
     "text": [
      "False\n"
     ]
    }
   ],
   "source": [
    "tw= \" Indian economy growth is not as expected\"\n",
    "print(\"good\" in tw)"
   ]
  },
  {
   "cell_type": "code",
   "execution_count": 27,
   "id": "b969b072-cd5d-4a17-8532-ba99fed0b122",
   "metadata": {},
   "outputs": [
    {
     "name": "stdout",
     "output_type": "stream",
     "text": [
      "True\n"
     ]
    }
   ],
   "source": [
    "print(\"In\" in tw)"
   ]
  },
  {
   "cell_type": "code",
   "execution_count": 29,
   "id": "07881a16-61e5-460f-8a0e-4d97f57256d5",
   "metadata": {},
   "outputs": [
    {
     "name": "stdout",
     "output_type": "stream",
     "text": [
      "data is in there in tw\n"
     ]
    }
   ],
   "source": [
    "if \"gro\" in tw:\n",
    "    print(\"data is in there in tw\")"
   ]
  },
  {
   "cell_type": "code",
   "execution_count": 32,
   "id": "3779f1b7-a016-41bd-9f66-192e4991195b",
   "metadata": {},
   "outputs": [
    {
     "name": "stdout",
     "output_type": "stream",
     "text": [
      "data is in there in tw\n"
     ]
    }
   ],
   "source": [
    "if \"gro\" not in tw:\n",
    "    print(\"data is not in there in tw\")\n",
    "else:\n",
    "    print(\"data is in there in tw\")"
   ]
  },
  {
   "cell_type": "code",
   "execution_count": 33,
   "id": "cab411e2-5a4d-45b1-b5d3-8ab82b2764fc",
   "metadata": {},
   "outputs": [
    {
     "name": "stdout",
     "output_type": "stream",
     "text": [
      "data is not in there in tw\n"
     ]
    }
   ],
   "source": [
    "if \"um\" not in tw:\n",
    "    print(\"data is not in there in tw\")\n",
    "else:\n",
    "    print(\"data is in there in tw\")"
   ]
  },
  {
   "cell_type": "code",
   "execution_count": 36,
   "id": "7c8030c3-f01a-45cd-ae07-45a43647c831",
   "metadata": {},
   "outputs": [
    {
     "name": "stdout",
     "output_type": "stream",
     "text": [
      "data is in there in tw\n"
     ]
    }
   ],
   "source": [
    "if \" \" not in tw:\n",
    "    print(\"data is not in there in tw\")\n",
    "else:\n",
    "    print(\"data is in there in tw\")"
   ]
  },
  {
   "cell_type": "code",
   "execution_count": 37,
   "id": "fa1c1f34-a000-4ead-a5f9-fe9de797d277",
   "metadata": {},
   "outputs": [
    {
     "name": "stdout",
     "output_type": "stream",
     "text": [
      "data is not in there in tw\n"
     ]
    }
   ],
   "source": [
    "if \"  \" not in tw:\n",
    "    print(\"data is not in there in tw\")\n",
    "else:\n",
    "    print(\"data is in there in tw\")"
   ]
  },
  {
   "cell_type": "code",
   "execution_count": 40,
   "id": "8f8be027-61fa-4203-b71a-6be9750cd167",
   "metadata": {},
   "outputs": [
    {
     "name": "stdout",
     "output_type": "stream",
     "text": [
      "h\n"
     ]
    }
   ],
   "source": [
    "#slicing \n",
    "#extract a particular part of the string\n",
    "#string name[start,end]\n",
    "#start is inclusive \n",
    "#end is exclusive\n",
    "\n",
    "name = \"John Doe\"\n",
    "print(name[2])"
   ]
  },
  {
   "cell_type": "code",
   "execution_count": 41,
   "id": "c77d43a9-98f8-469e-80bc-1b07985009eb",
   "metadata": {},
   "outputs": [
    {
     "name": "stdout",
     "output_type": "stream",
     "text": [
      "Joh\n"
     ]
    }
   ],
   "source": [
    "print(name[0:3])"
   ]
  },
  {
   "cell_type": "code",
   "execution_count": 42,
   "id": "3c6436dd-2191-4e6c-a29e-6cc9b67b88d0",
   "metadata": {},
   "outputs": [
    {
     "name": "stdout",
     "output_type": "stream",
     "text": [
      "John\n"
     ]
    }
   ],
   "source": [
    "print(name[0:4])"
   ]
  },
  {
   "cell_type": "code",
   "execution_count": 43,
   "id": "52e15542-c252-4c41-a28f-06b0bb930e1c",
   "metadata": {},
   "outputs": [
    {
     "name": "stdout",
     "output_type": "stream",
     "text": [
      "Doe\n"
     ]
    }
   ],
   "source": [
    "print(name[5:8])"
   ]
  },
  {
   "cell_type": "code",
   "execution_count": 44,
   "id": "1a317b9f-47a3-4662-9543-afd7e0bd08a0",
   "metadata": {},
   "outputs": [],
   "source": [
    "word= \"My name is Anna Elsa Luiz\"\n"
   ]
  },
  {
   "cell_type": "code",
   "execution_count": 46,
   "id": "d290a8f1-f7bb-4e8b-bb41-a49db5f84426",
   "metadata": {},
   "outputs": [
    {
     "name": "stdout",
     "output_type": "stream",
     "text": [
      "My \n"
     ]
    }
   ],
   "source": [
    "print(word[0:3])"
   ]
  },
  {
   "cell_type": "code",
   "execution_count": 49,
   "id": "87b73ace-e781-4597-9217-bd2fce354e4e",
   "metadata": {},
   "outputs": [
    {
     "name": "stdout",
     "output_type": "stream",
     "text": [
      "name\n"
     ]
    }
   ],
   "source": [
    "print(word[3:7])"
   ]
  },
  {
   "cell_type": "code",
   "execution_count": 50,
   "id": "6e61845c-54db-4204-8859-7cd2b3848164",
   "metadata": {},
   "outputs": [
    {
     "name": "stdout",
     "output_type": "stream",
     "text": [
      "is\n"
     ]
    }
   ],
   "source": [
    "print(word[8:10])"
   ]
  },
  {
   "cell_type": "code",
   "execution_count": 51,
   "id": "115c9c4b-abd1-4d21-97df-e1c957208f32",
   "metadata": {},
   "outputs": [
    {
     "name": "stdout",
     "output_type": "stream",
     "text": [
      "Anna\n"
     ]
    }
   ],
   "source": [
    "print(word[11:15])"
   ]
  },
  {
   "cell_type": "code",
   "execution_count": 52,
   "id": "08ac1928-c0f4-48bf-ae89-cc6394c70aac",
   "metadata": {},
   "outputs": [
    {
     "name": "stdout",
     "output_type": "stream",
     "text": [
      "Elsa\n"
     ]
    }
   ],
   "source": [
    "print(word[16:20])"
   ]
  },
  {
   "cell_type": "code",
   "execution_count": 54,
   "id": "f89a5b0d-e9ac-4c8f-adb6-70987fbf5df9",
   "metadata": {},
   "outputs": [
    {
     "name": "stdout",
     "output_type": "stream",
     "text": [
      "Luiz\n"
     ]
    }
   ],
   "source": [
    "print(word[21:25])"
   ]
  },
  {
   "cell_type": "code",
   "execution_count": 58,
   "id": "3a7fb648-5079-473b-9f6e-4a2e1beed12e",
   "metadata": {},
   "outputs": [
    {
     "name": "stdout",
     "output_type": "stream",
     "text": [
      "My name is Anna\n"
     ]
    }
   ],
   "source": [
    "print(word[:15])# ends at 14  which begins at the 0 "
   ]
  },
  {
   "cell_type": "code",
   "execution_count": 59,
   "id": "47464d91-ceb2-4ca8-b433-f60781e0cb59",
   "metadata": {},
   "outputs": [
    {
     "name": "stdout",
     "output_type": "stream",
     "text": [
      "Elsa Luiz\n"
     ]
    }
   ],
   "source": [
    "print(word[16:]) # starts at 16 and print till the end"
   ]
  },
  {
   "cell_type": "code",
   "execution_count": 60,
   "id": "148db591-733e-4f4e-b1c2-e36ddd778a56",
   "metadata": {},
   "outputs": [
    {
     "name": "stdout",
     "output_type": "stream",
     "text": [
      "uiz\n"
     ]
    }
   ],
   "source": [
    "print(word[-3:])"
   ]
  },
  {
   "cell_type": "code",
   "execution_count": 61,
   "id": "42852e0c-08f2-481a-ac45-ef887713677d",
   "metadata": {},
   "outputs": [
    {
     "name": "stdout",
     "output_type": "stream",
     "text": [
      "Luiz\n"
     ]
    }
   ],
   "source": [
    "print(word[-4:])"
   ]
  },
  {
   "cell_type": "code",
   "execution_count": 65,
   "id": "8ac5ecce-d0e4-4919-9155-e6513fd49933",
   "metadata": {},
   "outputs": [
    {
     "name": "stdout",
     "output_type": "stream",
     "text": [
      "ame\n"
     ]
    }
   ],
   "source": [
    "print(word[-21:-18])   #    ........,-3,-2 ,-1"
   ]
  },
  {
   "cell_type": "code",
   "execution_count": 67,
   "id": "53ec226a-ff3a-41a5-b856-5c0629e439e0",
   "metadata": {},
   "outputs": [
    {
     "name": "stdout",
     "output_type": "stream",
     "text": [
      "Elsa\n"
     ]
    }
   ],
   "source": [
    "print(word[-9:-5])"
   ]
  },
  {
   "cell_type": "code",
   "execution_count": 68,
   "id": "f004ac7f-35e3-498c-b3df-2af4714cd144",
   "metadata": {},
   "outputs": [],
   "source": [
    "word= \"My name is Anna Elsa Luiz\""
   ]
  },
  {
   "cell_type": "code",
   "execution_count": 71,
   "id": "04fb9f6a-e529-433c-93fa-f3a9db2ac511",
   "metadata": {},
   "outputs": [
    {
     "data": {
      "text/plain": [
       "'MY NAME IS ANNA ELSA LUIZ'"
      ]
     },
     "execution_count": 71,
     "metadata": {},
     "output_type": "execute_result"
    }
   ],
   "source": [
    "word.upper()"
   ]
  },
  {
   "cell_type": "code",
   "execution_count": 72,
   "id": "c3d6e1ce-4225-492c-b763-54afada725c9",
   "metadata": {},
   "outputs": [
    {
     "data": {
      "text/plain": [
       "'my name is anna elsa luiz'"
      ]
     },
     "execution_count": 72,
     "metadata": {},
     "output_type": "execute_result"
    }
   ],
   "source": [
    "word.lower()"
   ]
  },
  {
   "cell_type": "code",
   "execution_count": 73,
   "id": "ced04c30-33ab-48d8-a1b5-af1e67d40d58",
   "metadata": {},
   "outputs": [
    {
     "data": {
      "text/plain": [
       "'My name is anna Elsa Luiz'"
      ]
     },
     "execution_count": 73,
     "metadata": {},
     "output_type": "execute_result"
    }
   ],
   "source": [
    "word.replace(\"A\",\"a\")"
   ]
  },
  {
   "cell_type": "code",
   "execution_count": 74,
   "id": "ec9443eb-d3df-4b69-996c-fbc5338a2b0f",
   "metadata": {},
   "outputs": [
    {
     "data": {
      "text/plain": [
       "'My_name_is_Anna_Elsa_Luiz'"
      ]
     },
     "execution_count": 74,
     "metadata": {},
     "output_type": "execute_result"
    }
   ],
   "source": [
    "word.replace(\" \",\"_\")"
   ]
  },
  {
   "cell_type": "code",
   "execution_count": 78,
   "id": "8267f8cc-4d61-43b7-b734-65d197bf85d6",
   "metadata": {},
   "outputs": [
    {
     "data": {
      "text/plain": [
       "'My name is Appu'"
      ]
     },
     "execution_count": 78,
     "metadata": {},
     "output_type": "execute_result"
    }
   ],
   "source": [
    "word.replace(\"Anna Elsa Luiz\",\"Appu\")"
   ]
  },
  {
   "cell_type": "code",
   "execution_count": 79,
   "id": "fb4f44a7-8669-4a70-8ebd-7c5ddb20d7cf",
   "metadata": {},
   "outputs": [
    {
     "data": {
      "text/plain": [
       "['My', 'name', 'is', 'Anna', 'Elsa', 'Luiz']"
      ]
     },
     "execution_count": 79,
     "metadata": {},
     "output_type": "execute_result"
    }
   ],
   "source": [
    "word.split(\" \")"
   ]
  },
  {
   "cell_type": "code",
   "execution_count": 83,
   "id": "15ad6828-d72b-4b86-ba23-9476e17c9bd7",
   "metadata": {},
   "outputs": [
    {
     "data": {
      "text/plain": [
       "['My name ', ' Anna Elsa Luiz']"
      ]
     },
     "execution_count": 83,
     "metadata": {},
     "output_type": "execute_result"
    }
   ],
   "source": [
    "word.split(\"is\")"
   ]
  },
  {
   "cell_type": "code",
   "execution_count": null,
   "id": "b1432cc7-c268-4bf1-948d-059ad937d81e",
   "metadata": {},
   "outputs": [],
   "source": []
  }
 ],
 "metadata": {
  "kernelspec": {
   "display_name": "Python 3 (ipykernel)",
   "language": "python",
   "name": "python3"
  },
  "language_info": {
   "codemirror_mode": {
    "name": "ipython",
    "version": 3
   },
   "file_extension": ".py",
   "mimetype": "text/x-python",
   "name": "python",
   "nbconvert_exporter": "python",
   "pygments_lexer": "ipython3",
   "version": "3.10.6"
  }
 },
 "nbformat": 4,
 "nbformat_minor": 5
}
