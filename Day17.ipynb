{
 "cells": [
  {
   "cell_type": "markdown",
   "id": "ba5794aa-0b60-481c-8e6c-81d0db770c3e",
   "metadata": {},
   "source": [
    "# Class Variable"
   ]
  },
  {
   "cell_type": "markdown",
   "id": "a108c3f9-0f42-4c39-b27e-e2e0a6cd7126",
   "metadata": {},
   "source": [
    "In python ,class variables are variables that are shared by all instances of a class.They are defined within the class, but outside of any methods or constructors.Class variables are associated with the class itself rather than with instances of the class."
   ]
  },
  {
   "cell_type": "markdown",
   "id": "cc7a0a28-e6a8-4a68-b03f-62a1ce733466",
   "metadata": {},
   "source": [
    "# Class Methods "
   ]
  },
  {
   "cell_type": "markdown",
   "id": "1dbb0aca-e259-4570-9c9d-42a8f5962e4a",
   "metadata": {},
   "source": [
    "**In python , a class method is special type of method that is bound to class rather than a instance of the class.** It is defined using the @classmethod decorator,followed by a function definition within the class. Class methods have access to the class itself as the first parameter,conventionally named cls, instead of the instance (self) that is used in regular methods. "
   ]
  },
  {
   "cell_type": "code",
   "execution_count": 148,
   "id": "4756112b-24b8-4ee9-8c61-ff98ceb1e91c",
   "metadata": {},
   "outputs": [],
   "source": [
    "class person:\n",
    "    company_name = 'iNeuron Pvt ltd'         # class Variable \n",
    "                                             # To make it accessible to all the  objects.\n",
    "    \n",
    "    def __init__(self,first_name,last_name): #instance variable \n",
    "        self.first_name  = first_name\n",
    "        self.last_name   = last_name\n",
    "        \n",
    "    \n",
    "    #instance method    \n",
    "    def update_company(self,company_name):  # not a good practice\n",
    "        self.company_name = company_name\n",
    "        \n",
    "        \n",
    "    #instead  use;    \n",
    "        \n",
    "        \n",
    "    #class matheod\n",
    "    @classmethod                            #decorator which is just like a hat that trying to put on the funt then the funt def entirely change. And with the help of this decorator,it will be appiable to the entire class. \n",
    "    def update_company(cls,company_name):\n",
    "        cls.company_name = company_name \n",
    "        \n",
    "            "
   ]
  },
  {
   "cell_type": "code",
   "execution_count": 149,
   "id": "79b42455-cd16-4bef-979b-dfa2744e49f1",
   "metadata": {},
   "outputs": [],
   "source": [
    "person1 = person('Anna Elsa ','Luiz')"
   ]
  },
  {
   "cell_type": "code",
   "execution_count": 150,
   "id": "4b3a064e-f67b-421e-b992-15a91bd546c5",
   "metadata": {},
   "outputs": [
    {
     "data": {
      "text/plain": [
       "'Anna Elsa '"
      ]
     },
     "execution_count": 150,
     "metadata": {},
     "output_type": "execute_result"
    }
   ],
   "source": [
    "#instance attribute\n",
    "person1.first_name #object attribute (is it an instance attribute...? yes!)"
   ]
  },
  {
   "cell_type": "code",
   "execution_count": 151,
   "id": "4deda6c8-c3ef-4853-b60d-ee2f802fda94",
   "metadata": {},
   "outputs": [
    {
     "data": {
      "text/plain": [
       "'Luiz'"
      ]
     },
     "execution_count": 151,
     "metadata": {},
     "output_type": "execute_result"
    }
   ],
   "source": [
    "person1.last_name"
   ]
  },
  {
   "cell_type": "code",
   "execution_count": 152,
   "id": "a7d20536-49bf-4317-86e8-6c922dcfc13b",
   "metadata": {},
   "outputs": [
    {
     "data": {
      "text/plain": [
       "'iNeuron Pvt ltd'"
      ]
     },
     "execution_count": 152,
     "metadata": {},
     "output_type": "execute_result"
    }
   ],
   "source": [
    "person1.company_name"
   ]
  },
  {
   "cell_type": "code",
   "execution_count": 153,
   "id": "11601240-fa29-4594-9f30-a9a5f91aefb9",
   "metadata": {},
   "outputs": [],
   "source": [
    "person1.update_company('PwSkills') #it can be call directly ( using isntance ) but, it is not a good practice."
   ]
  },
  {
   "cell_type": "code",
   "execution_count": 154,
   "id": "a29d6f8e-2ba9-4f9a-b031-6051a5bab529",
   "metadata": {},
   "outputs": [],
   "source": [
    "person.update_company('PwSkills') # Changing it from class method"
   ]
  },
  {
   "cell_type": "code",
   "execution_count": 155,
   "id": "b8494a09-2afb-4fa0-a3d1-8e0633375150",
   "metadata": {},
   "outputs": [],
   "source": [
    "class cars:\n",
    "    base_price = 100000   # class variable\n",
    "                          # glabal access to all the instance variables\n",
    "    \n",
    "    def __init__(self,brand,model):\n",
    "        self.brand = brand\n",
    "        self.model = model\n",
    "        \n",
    "    def display_price(self):\n",
    "        print(f\"The base price is {self.base_price}\")\n",
    "        \n",
    "        \n",
    "    @classmethod\n",
    "    def update_base_price(cls,inflation):\n",
    "        cls.base_price = cls.base_price + ((inflation/100)* cls.base_price)\n",
    "       "
   ]
  },
  {
   "cell_type": "code",
   "execution_count": 156,
   "id": "9f098f9b-d46a-4839-b624-18622e8d1113",
   "metadata": {},
   "outputs": [],
   "source": [
    "car1 = cars('BMW','EW')"
   ]
  },
  {
   "cell_type": "code",
   "execution_count": 157,
   "id": "df984d7e-712c-4d79-baef-8fc07f461d39",
   "metadata": {},
   "outputs": [
    {
     "name": "stdout",
     "output_type": "stream",
     "text": [
      "The base price is 100000\n"
     ]
    }
   ],
   "source": [
    "car1.display_price()"
   ]
  },
  {
   "cell_type": "code",
   "execution_count": 158,
   "id": "e2d9bf61-8aab-4b7f-b022-9759149b793e",
   "metadata": {},
   "outputs": [
    {
     "name": "stdout",
     "output_type": "stream",
     "text": [
      "The base price is 112000.0\n"
     ]
    }
   ],
   "source": [
    "cars.update_base_price(12)\n",
    "car1.display_price()"
   ]
  },
  {
   "cell_type": "code",
   "execution_count": 159,
   "id": "a9ef039e-935b-4515-9824-2916694c487d",
   "metadata": {},
   "outputs": [
    {
     "name": "stdout",
     "output_type": "stream",
     "text": [
      "The base price is 125440.0\n"
     ]
    }
   ],
   "source": [
    "cars.update_base_price(12)\n",
    "car1.display_price()"
   ]
  },
  {
   "cell_type": "code",
   "execution_count": 160,
   "id": "dfdfe310-beea-4660-a7bc-3e94a975f8a5",
   "metadata": {},
   "outputs": [],
   "source": [
    "class BMW:\n",
    "    base_price = 1000000\n",
    "    \n",
    "    def __init__(self,model):\n",
    "        self.model = model\n",
    "        \n",
    "    def total_price(self):\n",
    "        if self.model == 'EV':\n",
    "            ##functionality to calculate  the  price of the car\n",
    "            pass\n",
    "        \n",
    "    @classmethod \n",
    "    def update_base_price(cls,inflation):\n",
    "        pass\n",
    "        "
   ]
  },
  {
   "cell_type": "markdown",
   "id": "9a7a3749-2fb3-461d-9c11-b2027876d2bd",
   "metadata": {},
   "source": [
    "# Static Method"
   ]
  },
  {
   "cell_type": "markdown",
   "id": "e84a71cf-c24a-4cef-a331-9e91004003f3",
   "metadata": {},
   "source": [
    "In python , a static method is a method that belongs to a class but doesnot have access to the class itself (via self) or its instances. Static methods are defined using the @staticmathod decorator and are typically used when  a method require access to instance-specific data or class-pecific data.\n",
    "\n",
    "Static methods are often used when you have a utility function or a method that doesnt depend on the state of a specific instance or the class itself.They are self-contained and dont have accces to instance variables or class variables unless they are explicitly passed as arguments.\n",
    "\n",
    "Its important to note that static methods dont have the ability to modify the state of instance or the class. They are independent of any specific and can be called without creating an instance of the class."
   ]
  },
  {
   "cell_type": "code",
   "execution_count": 18,
   "id": "53d68f6b-4f49-48e5-ab98-f55a578cd378",
   "metadata": {},
   "outputs": [],
   "source": [
    "class cars:\n",
    "    base_price = 100000   # class variable\n",
    "                          # glabal access to all the instance variables\n",
    "    \n",
    "    def __init__(self,brand,model):\n",
    "        self.brand = brand\n",
    "        self.model = model\n",
    "        \n",
    "    def display_price(self):\n",
    "        print(f\"The base price is {self.base_price}\")\n",
    "        \n",
    "        \n",
    "    @classmethod\n",
    "    def update_base_price(cls,inflation):\n",
    "        cls.base_price = cls.base_price + ((inflation/100)* cls.base_price)\n",
    "     \n",
    "    \n",
    "    #utility method\n",
    "    @staticmethod\n",
    "    def display_base_price(): \n",
    "        print(cars.base_price)\n",
    "    \n",
    "    \n",
    "    \n",
    "    #utility method\n",
    "    @staticmethod\n",
    "    def check_year(year): \n",
    "        if year == 2023:\n",
    "            return True\n",
    "        else:\n",
    "            return False\n",
    "            \n",
    "        "
   ]
  },
  {
   "cell_type": "code",
   "execution_count": 19,
   "id": "d5c351e5-c79f-4c83-9672-0c80011de9bb",
   "metadata": {},
   "outputs": [],
   "source": [
    "car1 = cars('BMW','EW')"
   ]
  },
  {
   "cell_type": "code",
   "execution_count": 20,
   "id": "9690ca99-3d16-41df-a616-26fb9a6aa15c",
   "metadata": {},
   "outputs": [
    {
     "data": {
      "text/plain": [
       "False"
      ]
     },
     "execution_count": 20,
     "metadata": {},
     "output_type": "execute_result"
    }
   ],
   "source": [
    "cars.check_year(2022)"
   ]
  },
  {
   "cell_type": "code",
   "execution_count": 21,
   "id": "a3533275-b923-4445-be46-1e61d7b9789b",
   "metadata": {},
   "outputs": [
    {
     "name": "stdout",
     "output_type": "stream",
     "text": [
      "The base price is 100000\n"
     ]
    }
   ],
   "source": [
    "car1.display_price()"
   ]
  },
  {
   "cell_type": "code",
   "execution_count": 23,
   "id": "4fd608d5-6551-4da0-8f3e-45f75feb0da1",
   "metadata": {},
   "outputs": [
    {
     "name": "stdout",
     "output_type": "stream",
     "text": [
      "100000\n"
     ]
    }
   ],
   "source": [
    "cars.display_base_price()"
   ]
  },
  {
   "cell_type": "markdown",
   "id": "856695d3-8e4a-48b4-bda4-2d0399d9ce39",
   "metadata": {},
   "source": [
    "## Data class"
   ]
  },
  {
   "cell_type": "code",
   "execution_count": 10,
   "id": "12762b3c-c393-4a8c-9177-25548885a11f",
   "metadata": {},
   "outputs": [],
   "source": [
    "# Data Classes\n",
    "# This feature got added in Python 3.7 \n",
    "\n",
    "from dataclasses import dataclass\n",
    "@dataclass         #inbuilt library # we can create our own funt\n",
    "class person:\n",
    "    first_name:str  #as soon as you create attribute and all then by default,created the constructor it initializes the value \n",
    "    last_name:str\n",
    "    "
   ]
  },
  {
   "cell_type": "code",
   "execution_count": 11,
   "id": "a7388c5c-8522-4e3b-8b80-ad5469a2a5c8",
   "metadata": {},
   "outputs": [],
   "source": [
    "person1 = person('Anna Elsa ','Luiz')"
   ]
  },
  {
   "cell_type": "code",
   "execution_count": 12,
   "id": "4a9eb436-ef6b-4285-95cd-23bc7ffa162d",
   "metadata": {},
   "outputs": [],
   "source": [
    "from dataclasses import dataclass\n",
    "@dataclass         #inbuilt library # we can create our own funt\n",
    "class person:\n",
    "    first_name:str  #as soon as you create attribute and all then by default,created the constructor it initializes the value \n",
    "    last_name:str\n",
    "    \n",
    "    \n",
    "    def display_name(self):\n",
    "        print(f\"First Name: {self.first_name}\")\n",
    "        print(f\"Last namme: {self.last_name}\")\n",
    "        "
   ]
  },
  {
   "cell_type": "code",
   "execution_count": 13,
   "id": "76b06dad-a468-4dcb-979d-2f0bbd1a2288",
   "metadata": {},
   "outputs": [],
   "source": [
    "person1 = person('Anna Elsa ','Luiz')"
   ]
  },
  {
   "cell_type": "code",
   "execution_count": 14,
   "id": "4149915b-1620-49a5-9e18-625ce2913d65",
   "metadata": {},
   "outputs": [
    {
     "name": "stdout",
     "output_type": "stream",
     "text": [
      "First Name: Anna Elsa \n",
      "Last namme: Luiz\n"
     ]
    }
   ],
   "source": [
    "person1.display_name()"
   ]
  },
  {
   "cell_type": "code",
   "execution_count": null,
   "id": "6454045c-fa15-477f-9208-4914ee805341",
   "metadata": {},
   "outputs": [],
   "source": []
  }
 ],
 "metadata": {
  "kernelspec": {
   "display_name": "Python 3 (ipykernel)",
   "language": "python",
   "name": "python3"
  },
  "language_info": {
   "codemirror_mode": {
    "name": "ipython",
    "version": 3
   },
   "file_extension": ".py",
   "mimetype": "text/x-python",
   "name": "python",
   "nbconvert_exporter": "python",
   "pygments_lexer": "ipython3",
   "version": "3.10.6"
  }
 },
 "nbformat": 4,
 "nbformat_minor": 5
}
