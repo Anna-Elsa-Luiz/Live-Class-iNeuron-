{
 "cells": [
  {
   "cell_type": "code",
   "execution_count": 26,
   "id": "409a21be-683b-4bce-a69d-52b205198a4b",
   "metadata": {},
   "outputs": [],
   "source": [
    "my_list= [1,2,3,4]"
   ]
  },
  {
   "cell_type": "code",
   "execution_count": 13,
   "id": "64a2f1c8-b289-4174-9219-42646ce1fc10",
   "metadata": {},
   "outputs": [
    {
     "data": {
      "text/plain": [
       "[1, 2, 3, 4]"
      ]
     },
     "execution_count": 13,
     "metadata": {},
     "output_type": "execute_result"
    }
   ],
   "source": [
    "my_list"
   ]
  },
  {
   "cell_type": "code",
   "execution_count": 14,
   "id": "5db265ed-5f4c-444e-a86c-fd4fbe3ea121",
   "metadata": {},
   "outputs": [],
   "source": [
    "list2= [1,2,2.2,'a']"
   ]
  },
  {
   "cell_type": "code",
   "execution_count": 15,
   "id": "cc77abf8-bbfd-47c5-8fe1-74cdf5b4a3df",
   "metadata": {},
   "outputs": [
    {
     "data": {
      "text/plain": [
       "[1, 2, 2.2, 'a']"
      ]
     },
     "execution_count": 15,
     "metadata": {},
     "output_type": "execute_result"
    }
   ],
   "source": [
    "list2"
   ]
  },
  {
   "cell_type": "code",
   "execution_count": 16,
   "id": "51ba04f2-d252-47c4-9501-7efdc9e4f38a",
   "metadata": {},
   "outputs": [
    {
     "data": {
      "text/plain": [
       "4"
      ]
     },
     "execution_count": 16,
     "metadata": {},
     "output_type": "execute_result"
    }
   ],
   "source": [
    "len(list2)"
   ]
  },
  {
   "cell_type": "code",
   "execution_count": 19,
   "id": "65ca13eb-4e4c-4ebf-bc4e-a93550a4fc30",
   "metadata": {},
   "outputs": [
    {
     "data": {
      "text/plain": [
       "[1, 2, 3, 4, 'c', 'b']"
      ]
     },
     "execution_count": 19,
     "metadata": {},
     "output_type": "execute_result"
    }
   ],
   "source": [
    "my_list + ['b']"
   ]
  },
  {
   "cell_type": "code",
   "execution_count": 23,
   "id": "a255ff89-3e66-458a-85c5-1f9044f963a1",
   "metadata": {},
   "outputs": [
    {
     "data": {
      "text/plain": [
       "[1, 2, 3, 4, 'c', 'c', 'c', 'c', 'c']"
      ]
     },
     "execution_count": 23,
     "metadata": {},
     "output_type": "execute_result"
    }
   ],
   "source": [
    "my_list = my_list + ['c']\n",
    "my_list"
   ]
  },
  {
   "cell_type": "code",
   "execution_count": 29,
   "id": "b76535fa-aeac-4bd9-91d7-43324455efac",
   "metadata": {},
   "outputs": [
    {
     "data": {
      "text/plain": [
       "[3, 4]"
      ]
     },
     "execution_count": 29,
     "metadata": {},
     "output_type": "execute_result"
    }
   ],
   "source": [
    "my_list[2:4]"
   ]
  },
  {
   "cell_type": "code",
   "execution_count": 62,
   "id": "79a6bc4f-02e4-47c8-8db8-29f761562b95",
   "metadata": {},
   "outputs": [],
   "source": [
    "my_list= [1,2,3,4]\n",
    "\n",
    "#my_list + [ 2]"
   ]
  },
  {
   "cell_type": "code",
   "execution_count": 39,
   "id": "ea9afb15-f809-4683-87fd-3de9e0847f91",
   "metadata": {},
   "outputs": [
    {
     "data": {
      "text/plain": [
       "[1, 2, 3, 4, 'a']"
      ]
     },
     "execution_count": 39,
     "metadata": {},
     "output_type": "execute_result"
    }
   ],
   "source": [
    "my_list.append('a')\n",
    "my_list"
   ]
  },
  {
   "cell_type": "code",
   "execution_count": 61,
   "id": "ab82b15e-580c-429b-8ead-9a0991b0b1a7",
   "metadata": {},
   "outputs": [
    {
     "data": {
      "text/plain": [
       "[1, 2, 3]"
      ]
     },
     "execution_count": 61,
     "metadata": {},
     "output_type": "execute_result"
    }
   ],
   "source": [
    "my_list.pop()\n",
    "my_list"
   ]
  },
  {
   "cell_type": "code",
   "execution_count": 49,
   "id": "637e434c-71da-42a5-b1bc-5ec1437698dc",
   "metadata": {},
   "outputs": [
    {
     "data": {
      "text/plain": [
       "1"
      ]
     },
     "execution_count": 49,
     "metadata": {},
     "output_type": "execute_result"
    }
   ],
   "source": [
    "my_list.pop(0)"
   ]
  },
  {
   "cell_type": "code",
   "execution_count": 50,
   "id": "f7512f51-373d-40f6-8d54-881b992ffe92",
   "metadata": {},
   "outputs": [
    {
     "data": {
      "text/plain": [
       "[2, 3, 4]"
      ]
     },
     "execution_count": 50,
     "metadata": {},
     "output_type": "execute_result"
    }
   ],
   "source": [
    "my_list"
   ]
  },
  {
   "cell_type": "code",
   "execution_count": 64,
   "id": "794ce7ab-ded0-47e2-b685-d77e70190be5",
   "metadata": {},
   "outputs": [
    {
     "data": {
      "text/plain": [
       "[2, 3, 4]"
      ]
     },
     "execution_count": 64,
     "metadata": {},
     "output_type": "execute_result"
    }
   ],
   "source": [
    "my_list.remove(1)\n",
    "my_list\n"
   ]
  },
  {
   "cell_type": "code",
   "execution_count": 68,
   "id": "91a6c5d1-0dfe-463d-bda6-0188af4666e3",
   "metadata": {},
   "outputs": [
    {
     "data": {
      "text/plain": [
       "[4, 3, 2, 1]"
      ]
     },
     "execution_count": 68,
     "metadata": {},
     "output_type": "execute_result"
    }
   ],
   "source": [
    "my_list= [1,2,3,4]\n",
    "my_list[-1:-5:-1]"
   ]
  },
  {
   "cell_type": "code",
   "execution_count": 70,
   "id": "219d8455-ce61-4409-a10c-050d2dcf8759",
   "metadata": {},
   "outputs": [
    {
     "data": {
      "text/plain": [
       "[4, 3, 2, 1]"
      ]
     },
     "execution_count": 70,
     "metadata": {},
     "output_type": "execute_result"
    }
   ],
   "source": [
    "my_list= [1,2,3,4]\n",
    "my_list.reverse()\n",
    "my_list"
   ]
  },
  {
   "cell_type": "code",
   "execution_count": 72,
   "id": "d4b5d162-29e5-486f-9017-45a592f99d5e",
   "metadata": {},
   "outputs": [
    {
     "data": {
      "text/plain": [
       "[1, 4, 7, 8]"
      ]
     },
     "execution_count": 72,
     "metadata": {},
     "output_type": "execute_result"
    }
   ],
   "source": [
    "my_list= [1,7,8,4]\n",
    "my_list.sort()\n",
    "my_list"
   ]
  },
  {
   "cell_type": "code",
   "execution_count": 73,
   "id": "a76e237c-e724-43e3-9197-71619cef840a",
   "metadata": {},
   "outputs": [
    {
     "data": {
      "text/plain": [
       "['a', 'b', 'c', 'z']"
      ]
     },
     "execution_count": 73,
     "metadata": {},
     "output_type": "execute_result"
    }
   ],
   "source": [
    "my_list= ['c','a','z','b']\n",
    "my_list.sort()\n",
    "my_list"
   ]
  },
  {
   "cell_type": "code",
   "execution_count": 77,
   "id": "dd97de83-f283-4357-8578-61300ac13789",
   "metadata": {},
   "outputs": [
    {
     "data": {
      "text/plain": [
       "[[1, 0, 0], [0, 1, 0], [0, 0, 1]]"
      ]
     },
     "execution_count": 77,
     "metadata": {},
     "output_type": "execute_result"
    }
   ],
   "source": [
    "row_1= [1,0,0]\n",
    "row_2= [0,1,0]\n",
    "row_3= [0,0,1]\n",
    "\n",
    "matrix = [row_1,row_2,row_3]\n",
    "matrix\n"
   ]
  },
  {
   "cell_type": "code",
   "execution_count": 83,
   "id": "82b468b7-792b-459b-9cfb-a31f6bb8d685",
   "metadata": {},
   "outputs": [
    {
     "data": {
      "text/plain": [
       "[1, 0, 0]"
      ]
     },
     "execution_count": 83,
     "metadata": {},
     "output_type": "execute_result"
    }
   ],
   "source": [
    "matrix[0]"
   ]
  },
  {
   "cell_type": "code",
   "execution_count": 79,
   "id": "d2c0c11b-b12c-44d8-ab35-7e715251cca4",
   "metadata": {},
   "outputs": [
    {
     "data": {
      "text/plain": [
       "[0, 1, 0]"
      ]
     },
     "execution_count": 79,
     "metadata": {},
     "output_type": "execute_result"
    }
   ],
   "source": [
    "matrix[1]"
   ]
  },
  {
   "cell_type": "code",
   "execution_count": 82,
   "id": "74a36034-17b9-41d0-b1b1-7a7e5fc25a8b",
   "metadata": {},
   "outputs": [
    {
     "data": {
      "text/plain": [
       "[0, 0, 1]"
      ]
     },
     "execution_count": 82,
     "metadata": {},
     "output_type": "execute_result"
    }
   ],
   "source": [
    "matrix[2]"
   ]
  },
  {
   "cell_type": "code",
   "execution_count": 84,
   "id": "1ddb7cd8-f2d4-42ec-9a53-4cbe67e0fa69",
   "metadata": {},
   "outputs": [
    {
     "data": {
      "text/plain": [
       "1"
      ]
     },
     "execution_count": 84,
     "metadata": {},
     "output_type": "execute_result"
    }
   ],
   "source": [
    "matrix[0][0]"
   ]
  },
  {
   "cell_type": "code",
   "execution_count": 88,
   "id": "be9b924a-ca80-4fd3-aebb-55244b030070",
   "metadata": {},
   "outputs": [
    {
     "data": {
      "text/plain": [
       "{'key1': 123,\n",
       " 'key2': ['a', 'b', 'c', 'd'],\n",
       " 'key3': {'Name': 'Anna', 'Age': 12}}"
      ]
     },
     "execution_count": 88,
     "metadata": {},
     "output_type": "execute_result"
    }
   ],
   "source": [
    "dict= {'key1':123,'key2':['a','b','c','d'], 'key3': {'Name':'Anna','Age':12} }\n",
    "dict"
   ]
  },
  {
   "cell_type": "code",
   "execution_count": 90,
   "id": "0de55cb5-9794-4d0c-958c-62516540a15f",
   "metadata": {},
   "outputs": [
    {
     "data": {
      "text/plain": [
       "223"
      ]
     },
     "execution_count": 90,
     "metadata": {},
     "output_type": "execute_result"
    }
   ],
   "source": [
    "dict['key1'] + 100"
   ]
  },
  {
   "cell_type": "code",
   "execution_count": 98,
   "id": "a7c26d2f-9c1b-4fdf-8fc7-27376beb1270",
   "metadata": {},
   "outputs": [
    {
     "data": {
      "text/plain": [
       "0"
      ]
     },
     "execution_count": 98,
     "metadata": {},
     "output_type": "execute_result"
    }
   ],
   "source": [
    "dict['key1'] - dict['key1'] "
   ]
  },
  {
   "cell_type": "code",
   "execution_count": 3,
   "id": "39e9be16-7e06-4d77-ad6a-80bd864bccb6",
   "metadata": {},
   "outputs": [],
   "source": [
    "t=(1,2,'three','four',5)\n",
    "s=(1,1,2,3,5,7,1,2,3)"
   ]
  },
  {
   "cell_type": "code",
   "execution_count": 2,
   "id": "86bb926c-bce5-4c00-9ed4-a3e032745a09",
   "metadata": {},
   "outputs": [
    {
     "data": {
      "text/plain": [
       "1"
      ]
     },
     "execution_count": 2,
     "metadata": {},
     "output_type": "execute_result"
    }
   ],
   "source": [
    "t[0]"
   ]
  },
  {
   "cell_type": "code",
   "execution_count": 7,
   "id": "ecb36f3f-7452-4a49-8134-53f90ca19496",
   "metadata": {},
   "outputs": [
    {
     "name": "stdout",
     "output_type": "stream",
     "text": [
      "'tuple' object does not support item assignment\n"
     ]
    }
   ],
   "source": [
    "try:\n",
    "\n",
    "    t[1] = 'two'\n",
    "    \n",
    "except TypeError: \n",
    "    print(\"'tuple' object does not support item assignment\")\n",
    "    "
   ]
  },
  {
   "cell_type": "code",
   "execution_count": 8,
   "id": "c57dfeaf-c511-4d4b-87c5-c8b110fd1e77",
   "metadata": {},
   "outputs": [
    {
     "name": "stdout",
     "output_type": "stream",
     "text": [
      "'tuple'  object does not support item assignment\n"
     ]
    }
   ],
   "source": [
    "try:\n",
    "    t[1] = 'two'\n",
    "    \n",
    "except TypeError:\n",
    "    print(\"'tuple'  object does not support item assignment\")"
   ]
  },
  {
   "cell_type": "code",
   "execution_count": 6,
   "id": "d8a203c2-f4b6-4c07-9d47-bc122cdd4330",
   "metadata": {},
   "outputs": [
    {
     "name": "stdout",
     "output_type": "stream",
     "text": [
      "tuple' object has no attribute 'add'\n"
     ]
    }
   ],
   "source": [
    "try:\n",
    "    t.append('two')\n",
    "    \n",
    "except AttributeError:\n",
    "    print(\"tuple' object has no attribute 'add'\")"
   ]
  },
  {
   "cell_type": "code",
   "execution_count": 9,
   "id": "a76ef21f-39fe-48aa-8000-e6a74c24a6c4",
   "metadata": {},
   "outputs": [
    {
     "name": "stdout",
     "output_type": "stream",
     "text": [
      "AttributeError: \"tuple\" object has no attribute append\n"
     ]
    }
   ],
   "source": [
    "try:\n",
    "    t.append('two')\n",
    "    \n",
    "except AttributeError: \n",
    "    print('AttributeError: \"tuple\" object has no attribute append')"
   ]
  },
  {
   "cell_type": "code",
   "execution_count": 7,
   "id": "eebd5f0e-ff3d-4fff-901d-71ef39f3d06c",
   "metadata": {},
   "outputs": [
    {
     "data": {
      "text/plain": [
       "3"
      ]
     },
     "execution_count": 7,
     "metadata": {},
     "output_type": "execute_result"
    }
   ],
   "source": [
    "s.count(1)"
   ]
  },
  {
   "cell_type": "code",
   "execution_count": 5,
   "id": "4d3fdefc-e5a9-4f66-9399-5c4157dc2ae0",
   "metadata": {},
   "outputs": [
    {
     "name": "stdout",
     "output_type": "stream",
     "text": [
      " 'tuple' object has no attribute 'add' \n"
     ]
    }
   ],
   "source": [
    "try:\n",
    "    s.add(6)\n",
    "    \n",
    "except AttributeError:\n",
    "    print(\" 'tuple' object has no attribute 'add' \")"
   ]
  },
  {
   "cell_type": "code",
   "execution_count": 11,
   "id": "9ff132dc-4de3-4e38-b94e-2601e47222e9",
   "metadata": {},
   "outputs": [],
   "source": [
    "s= {'apple','orange','grape','lemon','orange'}"
   ]
  },
  {
   "cell_type": "code",
   "execution_count": 12,
   "id": "f389517c-9ac4-4167-907a-b3f9b644c91a",
   "metadata": {},
   "outputs": [
    {
     "data": {
      "text/plain": [
       "4"
      ]
     },
     "execution_count": 12,
     "metadata": {},
     "output_type": "execute_result"
    }
   ],
   "source": [
    "len(s)"
   ]
  },
  {
   "cell_type": "code",
   "execution_count": 22,
   "id": "5b431576-ee18-488c-92f6-346180ec2f50",
   "metadata": {},
   "outputs": [],
   "source": [
    "s.add('dragon Fruit')"
   ]
  },
  {
   "cell_type": "code",
   "execution_count": 23,
   "id": "c8850a51-1fd5-43b7-85c1-00040a8a7e57",
   "metadata": {},
   "outputs": [],
   "source": [
    "s.add('Apple')"
   ]
  },
  {
   "cell_type": "code",
   "execution_count": 24,
   "id": "0290767c-1e41-4c81-b4c5-992c4ac9a7f3",
   "metadata": {},
   "outputs": [
    {
     "data": {
      "text/plain": [
       "{'Apple',\n",
       " 'Dragon Fruit',\n",
       " 'apple',\n",
       " 'dragon Fruit',\n",
       " 'grape',\n",
       " 'lemon',\n",
       " 'orange',\n",
       " 'ragon Fruit'}"
      ]
     },
     "execution_count": 24,
     "metadata": {},
     "output_type": "execute_result"
    }
   ],
   "source": [
    "s"
   ]
  },
  {
   "cell_type": "code",
   "execution_count": 25,
   "id": "a7e2d9ac-db74-4fa7-a928-3cebf7cbdd7b",
   "metadata": {},
   "outputs": [
    {
     "data": {
      "text/plain": [
       "set"
      ]
     },
     "execution_count": 25,
     "metadata": {},
     "output_type": "execute_result"
    }
   ],
   "source": [
    "type(s)"
   ]
  },
  {
   "cell_type": "code",
   "execution_count": 10,
   "id": "136d4ac2-98b3-43ac-9483-e5046d79630c",
   "metadata": {},
   "outputs": [
    {
     "name": "stdout",
     "output_type": "stream",
     "text": [
      "Odd Number: 1\n",
      "Even Number: 2\n",
      "Odd Number: 3\n",
      "Even Number: 4\n",
      "Odd Number: 5\n",
      "Even Number: 6\n",
      "Odd Number: 7\n",
      "Even Number: 8\n",
      "Odd Number: 9\n",
      "Even Number: 10\n",
      "Odd Number: 11\n",
      "Even Number: 12\n",
      "Odd Number: 13\n",
      "Even Number: 14\n",
      "Odd Number: 15\n",
      "Even Number: 16\n"
     ]
    }
   ],
   "source": [
    "list= [1,2,3,4,5,6,7,8,9,10,11,12,13,14,15,16]\n",
    "\n",
    "for i in list :\n",
    "    if i % 2 == 0:\n",
    "        print('Even Number:',i)\n",
    "    else  :\n",
    "        print('Odd Number:',i)"
   ]
  },
  {
   "cell_type": "code",
   "execution_count": 11,
   "id": "a551ddd9-e7ad-4dfc-a257-9c153868875f",
   "metadata": {},
   "outputs": [
    {
     "name": "stdout",
     "output_type": "stream",
     "text": [
      "Sum = 1\n",
      "Sum = 3\n",
      "Sum = 6\n",
      "Sum = 10\n",
      "Sum = 15\n",
      "Sum = 21\n",
      "Sum = 28\n",
      "Sum = 36\n",
      "Sum = 45\n",
      "Sum = 55\n",
      "Sum = 66\n",
      "Sum = 78\n",
      "Sum = 91\n",
      "Sum = 105\n",
      "Sum = 120\n",
      "Sum = 136\n"
     ]
    }
   ],
   "source": [
    "list_sum = 0 \n",
    "for i in list:\n",
    "    list_sum= list_sum + i\n",
    "    print('Sum =',list_sum)"
   ]
  },
  {
   "cell_type": "code",
   "execution_count": 12,
   "id": "b67d1967-4909-42ef-9b00-5397ff8df04b",
   "metadata": {},
   "outputs": [
    {
     "name": "stdout",
     "output_type": "stream",
     "text": [
      "Sum = 136\n"
     ]
    }
   ],
   "source": [
    "list_sum = 0 \n",
    "for i in list:\n",
    "    list_sum= list_sum + i\n",
    "print('Sum =',list_sum)"
   ]
  },
  {
   "cell_type": "code",
   "execution_count": 15,
   "id": "253c5b08-2d98-4eb4-b288-ea1a6df45369",
   "metadata": {},
   "outputs": [
    {
     "name": "stdout",
     "output_type": "stream",
     "text": [
      "H\n",
      "e\n",
      "y\n",
      " \n",
      "T\n",
      "h\n",
      "e\n",
      "r\n",
      "e\n",
      "!\n",
      " \n",
      "W\n",
      "e\n",
      "l\n",
      "c\n",
      "o\n",
      "m\n",
      "e\n"
     ]
    }
   ],
   "source": [
    "for i in 'Hey There! Welcome':\n",
    "    print(i)"
   ]
  },
  {
   "cell_type": "code",
   "execution_count": 1,
   "id": "3c6485f7-1dfc-46b1-b88b-6e0eaea039c9",
   "metadata": {},
   "outputs": [],
   "source": [
    "list1= [(2,4),(6,8),(10,12)]"
   ]
  },
  {
   "cell_type": "code",
   "execution_count": 2,
   "id": "d1c25ca6-ad62-4dae-a545-b8b54b136223",
   "metadata": {},
   "outputs": [
    {
     "name": "stdout",
     "output_type": "stream",
     "text": [
      "(2, 4)\n",
      "(6, 8)\n",
      "(10, 12)\n"
     ]
    }
   ],
   "source": [
    "for i in list1:\n",
    "    print(i)"
   ]
  },
  {
   "cell_type": "code",
   "execution_count": 7,
   "id": "6ba17bca-0e1f-4f18-8369-eae32a841d55",
   "metadata": {},
   "outputs": [
    {
     "name": "stdout",
     "output_type": "stream",
     "text": [
      "2\n",
      "6\n",
      "10\n"
     ]
    }
   ],
   "source": [
    "for (i,j) in list1:\n",
    "    print(i)"
   ]
  },
  {
   "cell_type": "code",
   "execution_count": 9,
   "id": "c82557be-c66e-458b-baec-0cfd9783b333",
   "metadata": {},
   "outputs": [],
   "source": [
    "list2= [(2,4,0),(6,8,1),(10,12,13)]"
   ]
  },
  {
   "cell_type": "code",
   "execution_count": 13,
   "id": "76a715d2-e018-416f-ae2a-8f5103477d6e",
   "metadata": {},
   "outputs": [
    {
     "name": "stdout",
     "output_type": "stream",
     "text": [
      "2 0\n",
      "6 1\n",
      "10 13\n"
     ]
    }
   ],
   "source": [
    "for (i,j,k) in list2:\n",
    "    print(i,k)"
   ]
  },
  {
   "cell_type": "code",
   "execution_count": null,
   "id": "7662fe00-c6b7-47a6-9802-7558eb1d15fe",
   "metadata": {},
   "outputs": [],
   "source": []
  }
 ],
 "metadata": {
  "kernelspec": {
   "display_name": "Python 3 (ipykernel)",
   "language": "python",
   "name": "python3"
  },
  "language_info": {
   "codemirror_mode": {
    "name": "ipython",
    "version": 3
   },
   "file_extension": ".py",
   "mimetype": "text/x-python",
   "name": "python",
   "nbconvert_exporter": "python",
   "pygments_lexer": "ipython3",
   "version": "3.10.6"
  }
 },
 "nbformat": 4,
 "nbformat_minor": 5
}
