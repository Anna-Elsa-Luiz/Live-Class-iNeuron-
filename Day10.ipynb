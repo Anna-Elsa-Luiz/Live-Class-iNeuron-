{
 "cells": [
  {
   "cell_type": "code",
   "execution_count": 1,
   "id": "3f9fb97c-2d1a-4448-bd9a-74c01445d33b",
   "metadata": {},
   "outputs": [
    {
     "name": "stdin",
     "output_type": "stream",
     "text": [
      "Enter the first number 2\n",
      "Enter the second number 2\n",
      "Enter the third number 2\n"
     ]
    },
    {
     "name": "stdout",
     "output_type": "stream",
     "text": [
      "Sum of the numbers :  6.0\n"
     ]
    }
   ],
   "source": [
    "#lambda funt to add 3 numbers \n",
    "\n",
    "Add= lambda : float(input(\"Enter the first number\")) +  float(input(\"Enter the second number\")) + float(input(\"Enter the third number\"))\n",
    "print(\"Sum of the numbers : \",Add())  "
   ]
  },
  {
   "cell_type": "code",
   "execution_count": 2,
   "id": "f8090c90-1643-410e-be0d-792dff259aa8",
   "metadata": {},
   "outputs": [
    {
     "name": "stdin",
     "output_type": "stream",
     "text": [
      "Enter the first number 1\n",
      "Enter the second number 1\n",
      "Enter the third number 1\n"
     ]
    },
    {
     "name": "stdout",
     "output_type": "stream",
     "text": [
      "Sum of the numbers 1.0 + 1.0 +  1.0 =  3.0\n"
     ]
    }
   ],
   "source": [
    "#lambda funt to add 3 numbers \n",
    "\n",
    "add = lambda  a , b , c: a + b + c\n",
    "num1 = float(input(\"Enter the first number\"))\n",
    "num2 = float(input(\"Enter the second number\"))\n",
    "num3 = float(input(\"Enter the third number\"))\n",
    "print('Sum of the numbers',num1,'+',num2, '+ ', num3, '= ',add(num1,num2,num3))"
   ]
  },
  {
   "cell_type": "code",
   "execution_count": 3,
   "id": "4024831f-4650-41e3-b4f4-06e0499f3d88",
   "metadata": {},
   "outputs": [
    {
     "name": "stdout",
     "output_type": "stream",
     "text": [
      "[1, 4, 9, 16, 25]\n"
     ]
    }
   ],
   "source": [
    "# I have list [1, 2, 3, 4, 5, ...]\n",
    "\n",
    "my_list_call = lambda x: [i ** 2  for i in x ]\n",
    "print(my_list_call([1, 2, 3, 4, 5]))"
   ]
  },
  {
   "cell_type": "code",
   "execution_count": 4,
   "id": "2e4d84fb-7b9e-47bd-b66b-3ab83186d313",
   "metadata": {},
   "outputs": [
    {
     "name": "stdout",
     "output_type": "stream",
     "text": [
      "{1, 4, 36, 9, 25}\n"
     ]
    }
   ],
   "source": [
    "my_set = lambda x : {i ** 2 for i in x }\n",
    "print(my_set({1,3,5,6,2,3}))"
   ]
  },
  {
   "cell_type": "code",
   "execution_count": 5,
   "id": "7ee4d2af-3227-4072-9476-3a49780afb44",
   "metadata": {},
   "outputs": [],
   "source": [
    "# lambda used with map(), filter(), reduce(), sorted()"
   ]
  },
  {
   "cell_type": "code",
   "execution_count": 7,
   "id": "a0f7cc6c-db08-456d-be2b-f58dd2b78007",
   "metadata": {
    "jupyter": {
     "source_hidden": true
    },
    "tags": []
   },
   "outputs": [
    {
     "name": "stdout",
     "output_type": "stream",
     "text": [
      "{'item': 'printer', 'price': 2000, 'brand': 'canon'}\n",
      "{'item': 'scanner', 'price': 8000, 'brand': 'canon'}\n",
      "{'item': 'mobile phone', 'price': 20000, 'brand': 'samsung'}\n",
      "{'item': 'laptop', 'price': 80000, 'brand': 'hp'}\n"
     ]
    }
   ],
   "source": [
    "products= [{'item':'mobile phone', 'price': 20000, 'brand':'samsung'},\n",
    "           {'item':'printer', 'price': 2000, 'brand':'canon'},\n",
    "           {'item':'scanner', 'price': 8000, 'brand':'canon'},\n",
    "           {'item':'laptop', 'price': 80000, 'brand':'hp'}]\n",
    "sort= sorted(products,key =  lambda x : x['price'])\n",
    "for products in sort:\n",
    "    print(products)"
   ]
  },
  {
   "cell_type": "code",
   "execution_count": null,
   "id": "d93942b4-e779-4375-a232-e71808e6c380",
   "metadata": {},
   "outputs": [],
   "source": [
    "#Recursion"
   ]
  },
  {
   "cell_type": "code",
   "execution_count": 9,
   "id": "4fdfe1d2-9b5f-46f8-a192-82946b86d948",
   "metadata": {},
   "outputs": [
    {
     "name": "stdout",
     "output_type": "stream",
     "text": [
      "45\n"
     ]
    }
   ],
   "source": [
    "def rec_sum(n):\n",
    "    if n == 1:\n",
    "        return 1\n",
    "    else:\n",
    "        return n + rec_sum(n - 1)\n",
    "print(rec_sum(9))    "
   ]
  },
  {
   "cell_type": "code",
   "execution_count": 10,
   "id": "44e6370a-5903-4c1b-bbd8-d65d8f61ddc7",
   "metadata": {},
   "outputs": [
    {
     "name": "stdout",
     "output_type": "stream",
     "text": [
      "362880\n"
     ]
    }
   ],
   "source": [
    "def rec_mul(n):\n",
    "    if n == 1:\n",
    "        return 1\n",
    "    else:\n",
    "        return n * rec_mul(n - 1)\n",
    "print(rec_mul(9))    "
   ]
  },
  {
   "cell_type": "code",
   "execution_count": 11,
   "id": "29f3d165-8587-4257-b4ff-77814b1c25cf",
   "metadata": {},
   "outputs": [
    {
     "name": "stdout",
     "output_type": "stream",
     "text": [
      "34\n"
     ]
    }
   ],
   "source": [
    "def fibonnacci(n):\n",
    "    if n <=1:\n",
    "        return n\n",
    "    else:\n",
    "        return  fibonnacci(n - 1) + fibonnacci(n - 2)\n",
    "print(fibonnacci(9))    \n"
   ]
  },
  {
   "cell_type": "code",
   "execution_count": 6,
   "id": "e2ca9e59-404f-4fa5-908b-821242f3ba4b",
   "metadata": {},
   "outputs": [
    {
     "name": "stdout",
     "output_type": "stream",
     "text": [
      "0\n",
      "1\n",
      "1\n",
      "2\n",
      "3\n",
      "5\n"
     ]
    }
   ],
   "source": [
    "def fibonnacci(n):\n",
    "    a , b = 0 , 1 \n",
    "    for i in range(n):\n",
    "        print(a)\n",
    "        a, b = b , a + b \n",
    "        \n",
    "fibonnacci(6)        \n",
    "        \n",
    "        "
   ]
  },
  {
   "cell_type": "code",
   "execution_count": 53,
   "id": "2b580be5-fdca-4b79-b470-5fa450b618d8",
   "metadata": {},
   "outputs": [
    {
     "name": "stdout",
     "output_type": "stream",
     "text": [
      "[0, 1, 1]\n"
     ]
    }
   ],
   "source": [
    "def print_fib(n):\n",
    "    \n",
    "    if n <= 0 :\n",
    "        return []\n",
    "    elif n == 1 :\n",
    "        return [0]\n",
    "    elif n == 2 :\n",
    "        return [0,1]\n",
    "    else:\n",
    "        fib_series = print_fib(n - 1)\n",
    "        fib_series.append(fib_series[-1] + fib_series[-2])\n",
    "        return fib_series\n",
    "    \n",
    "print(print_fib(3))    \n",
    "                          "
   ]
  },
  {
   "cell_type": "code",
   "execution_count": null,
   "id": "55543a0d-c0eb-4947-baa6-8a8ca39f31ac",
   "metadata": {},
   "outputs": [],
   "source": [
    "           "
   ]
  },
  {
   "cell_type": "code",
   "execution_count": null,
   "id": "706fe644-75a1-467c-860a-16e2be223ece",
   "metadata": {},
   "outputs": [],
   "source": []
  },
  {
   "cell_type": "code",
   "execution_count": null,
   "id": "302df2a7-a4c0-4d7f-959b-4c893002d35a",
   "metadata": {},
   "outputs": [],
   "source": []
  }
 ],
 "metadata": {
  "kernelspec": {
   "display_name": "Python 3 (ipykernel)",
   "language": "python",
   "name": "python3"
  },
  "language_info": {
   "codemirror_mode": {
    "name": "ipython",
    "version": 3
   },
   "file_extension": ".py",
   "mimetype": "text/x-python",
   "name": "python",
   "nbconvert_exporter": "python",
   "pygments_lexer": "ipython3",
   "version": "3.10.6"
  }
 },
 "nbformat": 4,
 "nbformat_minor": 5
}
