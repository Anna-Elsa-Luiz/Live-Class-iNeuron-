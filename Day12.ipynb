{
 "cells": [
  {
   "cell_type": "code",
   "execution_count": 114,
   "id": "c3c566a5-c7ec-4e91-b788-b62b76aa836d",
   "metadata": {},
   "outputs": [],
   "source": [
    "# log events can be used for future events \n",
    "# print() funt has its own limitation \n",
    "#whereas the logging can save the activites and checks it "
   ]
  },
  {
   "cell_type": "code",
   "execution_count": 115,
   "id": "b4db9274-bed9-4bba-b6cd-b242cf255fd8",
   "metadata": {},
   "outputs": [],
   "source": [
    "class MyCustomError(Exception):\n",
    "    pass "
   ]
  },
  {
   "cell_type": "code",
   "execution_count": 116,
   "id": "8f144820-9622-4f68-b98b-dbfce16f1e14",
   "metadata": {},
   "outputs": [
    {
     "ename": "MyCustomError",
     "evalue": "This is my customer Exception",
     "output_type": "error",
     "traceback": [
      "\u001b[0;31m---------------------------------------------------------------------------\u001b[0m",
      "\u001b[0;31mMyCustomError\u001b[0m                             Traceback (most recent call last)",
      "Cell \u001b[0;32mIn [116], line 1\u001b[0m\n\u001b[0;32m----> 1\u001b[0m \u001b[38;5;28;01mraise\u001b[39;00m MyCustomError(\u001b[38;5;124m'\u001b[39m\u001b[38;5;124mThis is my customer Exception\u001b[39m\u001b[38;5;124m'\u001b[39m)\n",
      "\u001b[0;31mMyCustomError\u001b[0m: This is my customer Exception"
     ]
    }
   ],
   "source": [
    "raise MyCustomError('This is my customer Exception')\n",
    "                    "
   ]
  },
  {
   "cell_type": "code",
   "execution_count": 117,
   "id": "28089d2a-a5c9-4e31-97f0-9da3f730c952",
   "metadata": {},
   "outputs": [],
   "source": [
    "class WrongAge(Exception):\n",
    "    'Raised when the input age is < 18 '\n",
    "    pass"
   ]
  },
  {
   "cell_type": "code",
   "execution_count": 118,
   "id": "a1f83f30-70bd-42f5-826d-f49c0a4d3515",
   "metadata": {},
   "outputs": [
    {
     "name": "stdin",
     "output_type": "stream",
     "text": [
      "Enter the age  21\n"
     ]
    },
    {
     "name": "stdout",
     "output_type": "stream",
     "text": [
      "You can vote\n"
     ]
    }
   ],
   "source": [
    "n=18\n",
    "\n",
    "try:\n",
    "    input_num = int(input('Enter the age '))\n",
    "    if input_num < n:\n",
    "        raise WrongAge #call your exception\n",
    "    else:\n",
    "        print('You can vote')\n",
    "except WrongAge:\n",
    "    print('You cannot vote at this age')"
   ]
  },
  {
   "cell_type": "code",
   "execution_count": 2,
   "id": "35362fd6-41ae-4fc6-9ef7-f405a1f67e49",
   "metadata": {},
   "outputs": [],
   "source": [
    "class Admission(Exception):\n",
    "    'Raised when the eligibilty doest not match'\n",
    "    pass"
   ]
  },
  {
   "cell_type": "code",
   "execution_count": 3,
   "id": "d5b20256-9dd7-49bb-994f-1d261dde7e2d",
   "metadata": {},
   "outputs": [
    {
     "name": "stdin",
     "output_type": "stream",
     "text": [
      "Enter the eligibility (  BSC Maths,  BSC Stat, BSC CA ) BSC Maths\n"
     ]
    },
    {
     "name": "stdout",
     "output_type": "stream",
     "text": [
      "You are eligible \n"
     ]
    }
   ],
   "source": [
    "list = ['BSC Maths','BSC Stat','BSC CA']\n",
    "\n",
    "try:\n",
    "    eligibilty = input(\"Enter the eligibility (  BSC Maths,  BSC Stat, BSC CA )\")\n",
    "    if eligibilty  not in list:\n",
    "           raise Admission\n",
    "    else:\n",
    "        print('You are eligible ')\n",
    "        \n",
    "except Admission:\n",
    "    print('You are not  eligible ')"
   ]
  },
  {
   "cell_type": "code",
   "execution_count": 121,
   "id": "5562dd03-9fba-4549-8171-77f1b80ecb7a",
   "metadata": {},
   "outputs": [],
   "source": [
    "#Logging"
   ]
  },
  {
   "cell_type": "code",
   "execution_count": 1,
   "id": "8cf420fa-c69a-4f8a-aeb8-7840601789cc",
   "metadata": {},
   "outputs": [],
   "source": [
    "import logging \n",
    "\n",
    "#Debug     (increasing order of danger)     |  \n",
    "#info                                      |\n",
    "#warning                                  |\n",
    "#error                                   |\n",
    "#critical error                         |"
   ]
  },
  {
   "cell_type": "code",
   "execution_count": 2,
   "id": "241a00ea-17ae-46bb-8aab-0eb67d03e8e7",
   "metadata": {},
   "outputs": [
    {
     "name": "stderr",
     "output_type": "stream",
     "text": [
      "DEBUG:root:This is debug message\n",
      "INFO:root:This is debug message\n",
      "WARNING:root:This is debug message\n",
      "ERROR:root:This is debug message\n",
      "CRITICAL:root:This is debug message\n"
     ]
    }
   ],
   "source": [
    "logging.basicConfig(level = logging.DEBUG)\n",
    "logging.debug('This is debug message')\n",
    "logging.info('This is debug message')\n",
    "logging.warning('This is debug message')\n",
    "logging.error('This is debug message')\n",
    "logging.critical('This is debug message')\n"
   ]
  },
  {
   "cell_type": "code",
   "execution_count": 12,
   "id": "dfcca767-d135-4a50-a704-bd4ed2df509b",
   "metadata": {},
   "outputs": [
    {
     "data": {
      "text/plain": [
       "5"
      ]
     },
     "execution_count": 12,
     "metadata": {},
     "output_type": "execute_result"
    }
   ],
   "source": [
    "import logging \n",
    "logging.basicConfig(level = logging.DEBUG)\n",
    "\n",
    "def add(x, y):\n",
    "    logging.debug('Variables are %s and %s',x, y)\n",
    "    return x + y \n",
    "add(2,3)"
   ]
  },
  {
   "cell_type": "code",
   "execution_count": 13,
   "id": "a1bfe7e1-ec8b-4d9a-8da7-519707886355",
   "metadata": {},
   "outputs": [
    {
     "data": {
      "text/plain": [
       "3"
      ]
     },
     "execution_count": 13,
     "metadata": {},
     "output_type": "execute_result"
    }
   ],
   "source": [
    "import logging\n",
    "\n",
    "logging.basicConfig(level=logging.DEBUG)\n",
    "\n",
    "def add(x, y):\n",
    "    logging.debug('Variables are %s and %s', x, y)\n",
    "    return x + y\n",
    "\n",
    "add(1, 2)\n"
   ]
  },
  {
   "cell_type": "code",
   "execution_count": 129,
   "id": "afe25b14-5246-4cc4-a378-48e4d1d29e1d",
   "metadata": {
    "tags": []
   },
   "outputs": [
    {
     "name": "stdin",
     "output_type": "stream",
     "text": [
      "Enter the first number 6\n",
      "Enter the second number 2\n"
     ]
    },
    {
     "data": {
      "text/plain": [
       "8"
      ]
     },
     "execution_count": 129,
     "metadata": {},
     "output_type": "execute_result"
    }
   ],
   "source": [
    "## import logging \n",
    "logging.basicConfig(level = logging.DEBUG)\n",
    "\n",
    "def add():\n",
    "    x= int(input('Enter the first number'))\n",
    "    y= int(input('Enter the second number'))\n",
    "    logging.debug('Variables are %s and %s',x, y)\n",
    "    return x + y \n",
    "add()"
   ]
  },
  {
   "cell_type": "code",
   "execution_count": 130,
   "id": "77db8c55-fabd-4af1-a499-60403662dee7",
   "metadata": {},
   "outputs": [
    {
     "name": "stdin",
     "output_type": "stream",
     "text": [
      "Enter the first number 5\n",
      "Enter the second number 5\n",
      "Enter the third number 4\n"
     ]
    },
    {
     "data": {
      "text/plain": [
       "100"
      ]
     },
     "execution_count": 130,
     "metadata": {},
     "output_type": "execute_result"
    }
   ],
   "source": [
    "import logging  #logging is a module or package \n",
    "logging.basicConfig(level = logging.DEBUG)\n",
    "\n",
    "def multiplication():\n",
    "    x= int(input('Enter the first number'))\n",
    "    y= int(input('Enter the second number'))\n",
    "    z= int(input('Enter the third number'))\n",
    "    logging.debug('Variables are %s , %s , %s',x, y, z)\n",
    "    return x * y * z\n",
    "multiplication()"
   ]
  },
  {
   "cell_type": "code",
   "execution_count": 4,
   "id": "358d7fb4-4305-45ed-8cde-252f7b02fbda",
   "metadata": {},
   "outputs": [],
   "source": [
    "import logging \n",
    "logging.basicConfig(level = logging.INFO)"
   ]
  },
  {
   "cell_type": "code",
   "execution_count": 5,
   "id": "b359bd95-f9a3-46b4-96cd-3ef7786faf23",
   "metadata": {},
   "outputs": [
    {
     "name": "stderr",
     "output_type": "stream",
     "text": [
      "INFO:root:User name is Admin\n"
     ]
    }
   ],
   "source": [
    "def login123(user):\n",
    "    logging.info('User name is %s', user)\n",
    "    \n",
    "login123('Admin') "
   ]
  },
  {
   "cell_type": "code",
   "execution_count": 6,
   "id": "fa4b7ddb-40a7-4ffa-bde1-15aee38c0ae0",
   "metadata": {},
   "outputs": [
    {
     "name": "stdin",
     "output_type": "stream",
     "text": [
      "Enter your full name ANNA ELSA\n",
      "Enter your age 23\n",
      "Enter your id number 215\n"
     ]
    },
    {
     "name": "stderr",
     "output_type": "stream",
     "text": [
      "INFO:root:User name is ANNA ELSA,Age is 23, id_no is 215\n"
     ]
    }
   ],
   "source": [
    "def login123():\n",
    "    name= input('Enter your full name')\n",
    "    age= int(input('Enter your age'))\n",
    "    id_no=int(input('Enter your id number'))\n",
    "    logging.info('User name is %s,Age is %s, id_no is %s', name, age,id_no)\n",
    "    #return( name ,age ,id_no)\n",
    "    #return name\n",
    "    #return age\n",
    "    #return id_no\n",
    "login123()    "
   ]
  },
  {
   "cell_type": "code",
   "execution_count": 27,
   "id": "fc25a1ea-5c64-490c-a08b-5e8c684eacaa",
   "metadata": {},
   "outputs": [],
   "source": [
    "import logging \n",
    "logging.basicConfig(level = logging.WARNING)"
   ]
  },
  {
   "cell_type": "code",
   "execution_count": 34,
   "id": "32c15e28-376f-4066-a544-a630596f059f",
   "metadata": {},
   "outputs": [
    {
     "name": "stderr",
     "output_type": "stream",
     "text": [
      "WARNING:root:Sorry! you have a low balance amount of 600,\n"
     ]
    }
   ],
   "source": [
    "def BankBalance(amount):\n",
    "    if amount < 1000:\n",
    "        logging.warning('Sorry! you have a low balance amount of %s,',amount)\n",
    "    \n",
    "BankBalance(600)   "
   ]
  },
  {
   "cell_type": "code",
   "execution_count": 35,
   "id": "5fbb70c6-4f49-48be-85ba-ca4004700798",
   "metadata": {},
   "outputs": [
    {
     "name": "stdout",
     "output_type": "stream",
     "text": [
      "Suffient balance amount of  6000\n"
     ]
    }
   ],
   "source": [
    "def BankBalance(amount):\n",
    "    if amount < 1000:\n",
    "        logging.warning('Sorry! you have a low balance amount of %s,',amount)\n",
    "    else:\n",
    "        print('Suffient balance amount of ',amount)\n",
    "BankBalance(6000)        "
   ]
  },
  {
   "cell_type": "code",
   "execution_count": 113,
   "id": "64518136-d0eb-4167-8e46-d92cd933dd2e",
   "metadata": {},
   "outputs": [
    {
     "name": "stdin",
     "output_type": "stream",
     "text": [
      "Enter the amount you want to withdraw  10\n"
     ]
    }
   ],
   "source": [
    "def BankBalance():\n",
    "    amount= float(input('Enter the amount you want to withdraw '))\n",
    "    if amount < 100:\n",
    "        logging.warning('Sorry! Not sufficient to withdraw the amount you have entered : %s,',amount)\n",
    "    else:\n",
    "        print('Wait for a moment! Processing.... ')\n",
    "BankBalance()        "
   ]
  },
  {
   "cell_type": "code",
   "execution_count": 41,
   "id": "d8babb3e-697e-4c61-b080-ae1a5f0274fe",
   "metadata": {},
   "outputs": [],
   "source": [
    "import logging \n",
    "logging.basicConfig(level = logging.ERROR)"
   ]
  },
  {
   "cell_type": "code",
   "execution_count": 139,
   "id": "0837d40f-b00a-4473-be3c-c2d3bd40261a",
   "metadata": {},
   "outputs": [],
   "source": [
    "def Divisionbyzero(n,d):\n",
    "    try:\n",
    "        results = n/d\n",
    "    except ZeroDivisionError:\n",
    "        logging.error('Division by zero is not possible  ')\n",
    "    else:\n",
    "        print('Your result is :',results)\n",
    "Divisionbyzero(6,0)        "
   ]
  },
  {
   "cell_type": "code",
   "execution_count": 138,
   "id": "9ad4e426-34e4-4f9e-979b-35b017ca1d0b",
   "metadata": {},
   "outputs": [
    {
     "name": "stdin",
     "output_type": "stream",
     "text": [
      "Enter the numerator  6\n",
      "Enter the denominator  0\n"
     ]
    }
   ],
   "source": [
    "def Divisionbyzero():\n",
    "    try:\n",
    "        n= float(input('Enter the numerator '))\n",
    "        d= float(input('Enter the denominator '))\n",
    "        results = n/d\n",
    "    except ZeroDivisionError:\n",
    "        logging.error('Division by zero is not possible  ')\n",
    "    else:\n",
    "        print('Your result is :',results)\n",
    "Divisionbyzero()        "
   ]
  },
  {
   "cell_type": "code",
   "execution_count": 60,
   "id": "ea67dae6-d19a-4529-9e3b-0d7db3646c8a",
   "metadata": {},
   "outputs": [],
   "source": [
    "import logging\n",
    "logging.basicConfig(level = logging.ERROR)"
   ]
  },
  {
   "cell_type": "code",
   "execution_count": 136,
   "id": "3dc34e86-20b1-4c03-a2de-6c7450d3ac4a",
   "metadata": {},
   "outputs": [
    {
     "name": "stderr",
     "output_type": "stream",
     "text": [
      "CRITICAL:root:System fails. Press F1 to restart your PC: You need to handle the issue\n"
     ]
    }
   ],
   "source": [
    "def SystemVariable(sys):\n",
    "    if sys!= 'OK':\n",
    "        logging.critical('System fails. Press F1 to restart your PC: %s',sys)\n",
    "        \n",
    "        \n",
    "SystemVariable('You need to handle the issue')        \n"
   ]
  },
  {
   "cell_type": "code",
   "execution_count": 2,
   "id": "af3c612a-b684-4175-9c40-096fd3a84dcd",
   "metadata": {},
   "outputs": [
    {
     "name": "stdout",
     "output_type": "stream",
     "text": [
      "/home/jovyan/work/Course/Python class/Class\n"
     ]
    }
   ],
   "source": [
    "import os \n",
    "print(os.getcwd())  #current working directory"
   ]
  },
  {
   "cell_type": "code",
   "execution_count": 3,
   "id": "d62251e1-cc5e-415a-af57-e763901e3ca1",
   "metadata": {},
   "outputs": [],
   "source": [
    "import logging\n",
    "import os "
   ]
  },
  {
   "cell_type": "code",
   "execution_count": 4,
   "id": "4ed3a89c-fe76-4385-a326-bfdaa6ddda39",
   "metadata": {},
   "outputs": [],
   "source": [
    "directory_path = r'/home/jovyan/work/Course/Python class/Class' # r treated as correctors\n",
    "log_file = 'system.txt'\n",
    "full_path =  os.path.join(directory_path,log_file)\n",
    "\n",
    "os.makedirs(directory_path, exist_ok= True)\n",
    "logger = logging.getLogger()\n",
    "logger.setLevel(logging.CRITICAL)\n",
    "\n",
    "#File handler \n",
    "handler = logging.FileHandler(full_path)\n",
    "handler.setFormatter(logging.Formatter('%(asctime)s:%(levelname)s:%(message)s'))\n",
    "logger.addHandler(handler)    \n",
    "                                       \n",
    "def syserror(sys):\n",
    "       if sys!= 'OK':\n",
    "        logging.critical('System failure: %s')  \n",
    "        \n",
    "syserror('You need to restart the PC') \n",
    "handler.close()                                       "
   ]
  },
  {
   "cell_type": "code",
   "execution_count": 145,
   "id": "3fe99e8d-62ad-4680-8bf3-0a7b5267609c",
   "metadata": {},
   "outputs": [
    {
     "name": "stderr",
     "output_type": "stream",
     "text": [
      "CRITICAL:root:System failure: You need to handle the issue now\n"
     ]
    }
   ],
   "source": [
    "dir_path = r'/home/jovyan/work/Course/Python class/Class' # location where should i save the file \n",
    "log_file = 'system.txt'  #file name \n",
    "full_path = os.path.join(dir_path, log_file) # joining the path and file name \n",
    "\n",
    "\n",
    "os.makedirs(dir_path, exist_ok=True)  #checking particular path\n",
    "\n",
    "logger = logging.getLogger() # setting up logging, it helps to fetch the root logger \n",
    "\n",
    "logger.setLevel(logging.CRITICAL) # settingt up the logging level\n",
    "\n",
    "handler = logging.FileHandler(full_path) # instance , where we want to write the particular file \n",
    "\n",
    "handler.setFormatter(logging.Formatter('%(asctime)s:%(levelname)s:%(message)s'))\n",
    "\n",
    "logger.addHandler(handler)\n",
    "\n",
    "\n",
    "def LetUsCheckSystem(sys):\n",
    "    if sys != 'OK':\n",
    "        logging.critical('System failure: %s', sys)\n",
    "\n",
    "LetUsCheckSystem('You need to handle the issue now')\n",
    "handler.close()"
   ]
  },
  {
   "cell_type": "code",
   "execution_count": null,
   "id": "d12ee140-7589-4665-8d81-775b1898cf2e",
   "metadata": {},
   "outputs": [],
   "source": []
  },
  {
   "cell_type": "code",
   "execution_count": null,
   "id": "6e712e4c-f865-4ae8-ae51-d3028a3aa274",
   "metadata": {},
   "outputs": [],
   "source": []
  }
 ],
 "metadata": {
  "kernelspec": {
   "display_name": "Python 3 (ipykernel)",
   "language": "python",
   "name": "python3"
  },
  "language_info": {
   "codemirror_mode": {
    "name": "ipython",
    "version": 3
   },
   "file_extension": ".py",
   "mimetype": "text/x-python",
   "name": "python",
   "nbconvert_exporter": "python",
   "pygments_lexer": "ipython3",
   "version": "3.10.6"
  }
 },
 "nbformat": 4,
 "nbformat_minor": 5
}
