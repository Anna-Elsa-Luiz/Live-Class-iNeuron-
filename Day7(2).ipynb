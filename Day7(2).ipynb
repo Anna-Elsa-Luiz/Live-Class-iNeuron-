{
 "cells": [
  {
   "cell_type": "code",
   "execution_count": 1,
   "id": "c28a52e8-1100-47b3-b817-bd4b8e4b8563",
   "metadata": {},
   "outputs": [
    {
     "name": "stdout",
     "output_type": "stream",
     "text": [
      "John Doe\n"
     ]
    }
   ],
   "source": [
    "name=\"John Doe\"\n",
    "print(name)"
   ]
  },
  {
   "cell_type": "code",
   "execution_count": 2,
   "id": "c8aad9c9-43ce-4721-b329-7ab5a0d51c88",
   "metadata": {},
   "outputs": [
    {
     "name": "stdout",
     "output_type": "stream",
     "text": [
      "o\n"
     ]
    }
   ],
   "source": [
    "#indexing\n",
    "\n",
    "print(name[1])"
   ]
  },
  {
   "cell_type": "code",
   "execution_count": 3,
   "id": "f7edbe8e-7ac9-4f88-8dbb-6ba9a265041c",
   "metadata": {},
   "outputs": [
    {
     "name": "stdout",
     "output_type": "stream",
     "text": [
      "n\n"
     ]
    }
   ],
   "source": [
    "print(name[3])"
   ]
  },
  {
   "cell_type": "code",
   "execution_count": 4,
   "id": "05eb20f5-7bdf-4006-b179-5d5ca4c02254",
   "metadata": {},
   "outputs": [
    {
     "name": "stdout",
     "output_type": "stream",
     "text": [
      " \n"
     ]
    }
   ],
   "source": [
    "print(name[4])"
   ]
  },
  {
   "cell_type": "code",
   "execution_count": 5,
   "id": "60d74bb3-2147-4a3c-8fac-bba7a383fe4d",
   "metadata": {},
   "outputs": [
    {
     "name": "stdout",
     "output_type": "stream",
     "text": [
      "h\n",
      "e\n",
      "l\n",
      "l\n",
      "o\n"
     ]
    }
   ],
   "source": [
    "for i in \"hello\":\n",
    "     print(i)"
   ]
  },
  {
   "cell_type": "code",
   "execution_count": 6,
   "id": "57383a28-7b7b-443c-94b5-794411f2d5c8",
   "metadata": {},
   "outputs": [
    {
     "data": {
      "text/plain": [
       "15"
      ]
     },
     "execution_count": 6,
     "metadata": {},
     "output_type": "execute_result"
    }
   ],
   "source": [
    "len(\"my name is anna\")\n"
   ]
  },
  {
   "cell_type": "code",
   "execution_count": 15,
   "id": "72fbf4ff-18be-4b6f-b7b8-22774b9f5631",
   "metadata": {},
   "outputs": [],
   "source": [
    "tw = \"My name is Anna Elsa Luiz\""
   ]
  },
  {
   "cell_type": "code",
   "execution_count": 16,
   "id": "5ffb487c-44d0-4f08-917b-a873f30dcc49",
   "metadata": {},
   "outputs": [
    {
     "name": "stdout",
     "output_type": "stream",
     "text": [
      "False\n"
     ]
    }
   ],
   "source": [
    "print(\"not\" in tw)"
   ]
  },
  {
   "cell_type": "code",
   "execution_count": 17,
   "id": "33a97974-f1fb-4c55-b312-076e761c9722",
   "metadata": {},
   "outputs": [
    {
     "name": "stdout",
     "output_type": "stream",
     "text": [
      "True\n"
     ]
    }
   ],
   "source": [
    "print(\" \" in tw)"
   ]
  },
  {
   "cell_type": "code",
   "execution_count": 18,
   "id": "15864795-ac15-466e-9a24-905535eef218",
   "metadata": {},
   "outputs": [
    {
     "name": "stdout",
     "output_type": "stream",
     "text": [
      "False\n"
     ]
    }
   ],
   "source": [
    "print(\"A \" in tw)"
   ]
  },
  {
   "cell_type": "code",
   "execution_count": 19,
   "id": "6b3db344-38b4-41a9-a57c-48ec61a9eb05",
   "metadata": {},
   "outputs": [
    {
     "name": "stdout",
     "output_type": "stream",
     "text": [
      "True\n"
     ]
    }
   ],
   "source": [
    "print(\"A\" in tw)"
   ]
  },
  {
   "cell_type": "code",
   "execution_count": 21,
   "id": "c5fe4aa9-e6a9-4d02-b15a-51a49d08862a",
   "metadata": {},
   "outputs": [],
   "source": [
    "#condition\n",
    "\n",
    "if \"not\"  in tw:\n",
    "    print(\"Data is in tw\")"
   ]
  },
  {
   "cell_type": "code",
   "execution_count": 22,
   "id": "f1d8d75b-2779-41da-8473-014a6060ac8a",
   "metadata": {},
   "outputs": [
    {
     "name": "stdout",
     "output_type": "stream",
     "text": [
      "Data is in tw\n"
     ]
    }
   ],
   "source": [
    "if \"Anna\" in tw:\n",
    "    print(\"Data is in tw\")"
   ]
  },
  {
   "cell_type": "code",
   "execution_count": 25,
   "id": "bb187c04-d19a-4e3a-a149-8781c8d877f4",
   "metadata": {},
   "outputs": [
    {
     "name": "stdout",
     "output_type": "stream",
     "text": [
      "Data is in tw\n"
     ]
    }
   ],
   "source": [
    "if \"a\" not in tw:\n",
    "    print(\"Data is not in tw\")\n",
    "else:\n",
    "    print(\"Data is in tw\")"
   ]
  },
  {
   "cell_type": "code",
   "execution_count": 26,
   "id": "ee3f5db9-7178-4748-b581-fe5ddfa4ffef",
   "metadata": {},
   "outputs": [
    {
     "name": "stdout",
     "output_type": "stream",
     "text": [
      "Data is not in tw\n"
     ]
    }
   ],
   "source": [
    "if \"Ammu\" not in tw:\n",
    "    print(\"Data is not in tw\")\n",
    "else:\n",
    "    print(\"Data is in tw\")"
   ]
  },
  {
   "cell_type": "code",
   "execution_count": 27,
   "id": "861e44b5-59cb-4ae6-8a8e-55e91d4b7a64",
   "metadata": {},
   "outputs": [
    {
     "name": "stdout",
     "output_type": "stream",
     "text": [
      "Data is not in tw\n"
     ]
    }
   ],
   "source": [
    "if \"ma\" not in tw:\n",
    "    print(\"Data is not in tw\")\n",
    "else:\n",
    "    print(\"Data is in tw\")"
   ]
  },
  {
   "cell_type": "code",
   "execution_count": 31,
   "id": "2e0ee5ca-40df-45be-883c-e91d7732b101",
   "metadata": {},
   "outputs": [],
   "source": [
    "#slicing\n",
    "#string name[start,end]\n",
    "#start is inclusive\n",
    "#end is exclusive\n",
    "\n",
    "name= \"John Doe\"\n"
   ]
  },
  {
   "cell_type": "code",
   "execution_count": 32,
   "id": "36de13f9-70ff-48ab-a5a9-a5f7b3b0d1fe",
   "metadata": {},
   "outputs": [
    {
     "name": "stdout",
     "output_type": "stream",
     "text": [
      "John\n"
     ]
    }
   ],
   "source": [
    "print(name[0:4])"
   ]
  },
  {
   "cell_type": "code",
   "execution_count": 33,
   "id": "d6380b60-f0b9-4c83-b888-9491da062200",
   "metadata": {},
   "outputs": [
    {
     "name": "stdout",
     "output_type": "stream",
     "text": [
      "Doe\n"
     ]
    }
   ],
   "source": [
    "print(name[5:8])"
   ]
  },
  {
   "cell_type": "code",
   "execution_count": 36,
   "id": "32b5b150-ff88-4bd7-921b-5bf0f3108e93",
   "metadata": {},
   "outputs": [],
   "source": [
    "word=\"My name is Anna Elsa Luiz\"\n"
   ]
  },
  {
   "cell_type": "code",
   "execution_count": 35,
   "id": "1f5f806b-fe4c-4c03-96cd-267c1de9bc12",
   "metadata": {},
   "outputs": [
    {
     "name": "stdout",
     "output_type": "stream",
     "text": [
      "My\n"
     ]
    }
   ],
   "source": [
    "print(word[0:2])"
   ]
  },
  {
   "cell_type": "code",
   "execution_count": 97,
   "id": "f4dae07b-33fe-4604-a866-5c422b03b25c",
   "metadata": {},
   "outputs": [
    {
     "name": "stdout",
     "output_type": "stream",
     "text": [
      "name\n"
     ]
    }
   ],
   "source": [
    "print(word[3:7])"
   ]
  },
  {
   "cell_type": "code",
   "execution_count": 38,
   "id": "75b4d22e-a01e-4868-bd59-e41970c4b87a",
   "metadata": {},
   "outputs": [
    {
     "name": "stdout",
     "output_type": "stream",
     "text": [
      "is\n"
     ]
    }
   ],
   "source": [
    "print(word[8:10])"
   ]
  },
  {
   "cell_type": "code",
   "execution_count": 39,
   "id": "5fb69323-7730-42a6-8207-33493873b01e",
   "metadata": {},
   "outputs": [
    {
     "name": "stdout",
     "output_type": "stream",
     "text": [
      "Anna\n"
     ]
    }
   ],
   "source": [
    "print(word[11:15])"
   ]
  },
  {
   "cell_type": "code",
   "execution_count": 40,
   "id": "489bd4b9-1cd1-4c9f-a457-c529d9d7c13e",
   "metadata": {},
   "outputs": [
    {
     "name": "stdout",
     "output_type": "stream",
     "text": [
      "Elsa\n"
     ]
    }
   ],
   "source": [
    "print(word[16:20])"
   ]
  },
  {
   "cell_type": "code",
   "execution_count": 41,
   "id": "95c288f2-6071-4b88-96fe-ce12f751f218",
   "metadata": {},
   "outputs": [
    {
     "name": "stdout",
     "output_type": "stream",
     "text": [
      "Luiz\n"
     ]
    }
   ],
   "source": [
    "print(word[21:25])"
   ]
  },
  {
   "cell_type": "code",
   "execution_count": 46,
   "id": "17f26c0a-57f6-4fd4-a579-db42aee2678f",
   "metadata": {},
   "outputs": [
    {
     "name": "stdout",
     "output_type": "stream",
     "text": [
      "My name is Anna\n"
     ]
    }
   ],
   "source": [
    "print(word[:15]) # start till 14"
   ]
  },
  {
   "cell_type": "code",
   "execution_count": 47,
   "id": "8af6533a-371a-4b7b-801f-c976a8959e7e",
   "metadata": {},
   "outputs": [
    {
     "name": "stdout",
     "output_type": "stream",
     "text": [
      "Luiz\n"
     ]
    }
   ],
   "source": [
    "print(word[21:]) #start from 21 till end "
   ]
  },
  {
   "cell_type": "code",
   "execution_count": 55,
   "id": "11d862df-7344-4d0a-9eba-306c8bf32c83",
   "metadata": {},
   "outputs": [
    {
     "name": "stdout",
     "output_type": "stream",
     "text": [
      " Luiz\n"
     ]
    }
   ],
   "source": [
    "print(word[-5:]) #  len,...,-5,-4,-3,-2,-1"
   ]
  },
  {
   "cell_type": "code",
   "execution_count": 56,
   "id": "5c296a72-4cca-4f13-aaf4-d47fb0baa008",
   "metadata": {},
   "outputs": [
    {
     "name": "stdout",
     "output_type": "stream",
     "text": [
      "My name is Anna Elsa Lui\n"
     ]
    }
   ],
   "source": [
    "print(word[:-1])"
   ]
  },
  {
   "cell_type": "code",
   "execution_count": 57,
   "id": "c8a71a21-b65f-409f-b2e2-fd9baa1df225",
   "metadata": {},
   "outputs": [
    {
     "name": "stdout",
     "output_type": "stream",
     "text": [
      " Luiz\n"
     ]
    }
   ],
   "source": [
    "print(word[-5:])"
   ]
  },
  {
   "cell_type": "code",
   "execution_count": 58,
   "id": "3833b1b7-4acb-44e0-8db8-7f74b8dc624a",
   "metadata": {},
   "outputs": [
    {
     "name": "stdout",
     "output_type": "stream",
     "text": [
      "Anna Elsa Luiz\n"
     ]
    }
   ],
   "source": [
    "print(word[-14:])"
   ]
  },
  {
   "cell_type": "code",
   "execution_count": 59,
   "id": "9ca67970-4bde-40d0-a482-dbdb3e40a052",
   "metadata": {},
   "outputs": [
    {
     "name": "stdout",
     "output_type": "stream",
     "text": [
      "Anna\n"
     ]
    }
   ],
   "source": [
    "print(word[-14:-10])"
   ]
  },
  {
   "cell_type": "code",
   "execution_count": 61,
   "id": "c2e18cde-eb40-4c7e-9b14-c924b050f899",
   "metadata": {},
   "outputs": [
    {
     "data": {
      "text/plain": [
       "'MY NAME IS ANNA ELSA LUIZ'"
      ]
     },
     "execution_count": 61,
     "metadata": {},
     "output_type": "execute_result"
    }
   ],
   "source": [
    "word.upper()  #upper()"
   ]
  },
  {
   "cell_type": "code",
   "execution_count": 62,
   "id": "3421b7a5-6a8c-4320-988b-e4df70c88c10",
   "metadata": {},
   "outputs": [
    {
     "data": {
      "text/plain": [
       "'my name is anna elsa luiz'"
      ]
     },
     "execution_count": 62,
     "metadata": {},
     "output_type": "execute_result"
    }
   ],
   "source": [
    "word.lower()  #lower()"
   ]
  },
  {
   "cell_type": "code",
   "execution_count": 63,
   "id": "cf58047f-a404-4550-af61-cb87ef3704ea",
   "metadata": {},
   "outputs": [
    {
     "data": {
      "text/plain": [
       "'My_name_is_Anna_Elsa_Luiz'"
      ]
     },
     "execution_count": 63,
     "metadata": {},
     "output_type": "execute_result"
    }
   ],
   "source": [
    "word.replace(\" \" ,\"_\")  #replace()"
   ]
  },
  {
   "cell_type": "code",
   "execution_count": 64,
   "id": "bf79673f-e7c9-4519-b118-b80f8b745224",
   "metadata": {},
   "outputs": [
    {
     "data": {
      "text/plain": [
       "'My name is anna Elsa Luiz'"
      ]
     },
     "execution_count": 64,
     "metadata": {},
     "output_type": "execute_result"
    }
   ],
   "source": [
    "word.replace(\"A\", \"a\")"
   ]
  },
  {
   "cell_type": "code",
   "execution_count": 65,
   "id": "b7ad1d39-769e-4eaa-9edb-3fdd11751c97",
   "metadata": {},
   "outputs": [
    {
     "data": {
      "text/plain": [
       "'My name is Ammu Elsa Luiz'"
      ]
     },
     "execution_count": 65,
     "metadata": {},
     "output_type": "execute_result"
    }
   ],
   "source": [
    "word.replace(\"Anna\", \"Ammu\")"
   ]
  },
  {
   "cell_type": "code",
   "execution_count": 66,
   "id": "f7f8f679-4f76-44c8-92f9-e746495e505a",
   "metadata": {},
   "outputs": [
    {
     "data": {
      "text/plain": [
       "'My name is Ammu'"
      ]
     },
     "execution_count": 66,
     "metadata": {},
     "output_type": "execute_result"
    }
   ],
   "source": [
    "word.replace(\"Anna Elsa Luiz\", \"Ammu\")"
   ]
  },
  {
   "cell_type": "code",
   "execution_count": 70,
   "id": "d016639d-69fb-480a-ac3a-a54f18a5a8ce",
   "metadata": {},
   "outputs": [
    {
     "data": {
      "text/plain": [
       "['My', 'name', 'is', 'Anna', 'Elsa', 'Luiz']"
      ]
     },
     "execution_count": 70,
     "metadata": {},
     "output_type": "execute_result"
    }
   ],
   "source": [
    "word.split(\" \")   #split()"
   ]
  },
  {
   "cell_type": "code",
   "execution_count": 71,
   "id": "312057e4-d5ab-41eb-a0cc-034c37010c6f",
   "metadata": {},
   "outputs": [
    {
     "data": {
      "text/plain": [
       "['My name ', ' Anna Elsa Luiz']"
      ]
     },
     "execution_count": 71,
     "metadata": {},
     "output_type": "execute_result"
    }
   ],
   "source": [
    "word.split(\"is\")"
   ]
  },
  {
   "cell_type": "code",
   "execution_count": 75,
   "id": "1c4250ed-488b-4d6a-9655-5f037687dad0",
   "metadata": {},
   "outputs": [
    {
     "data": {
      "text/plain": [
       "'Hey There!!'"
      ]
     },
     "execution_count": 75,
     "metadata": {},
     "output_type": "execute_result"
    }
   ],
   "source": [
    "#concatenate or join\n",
    "\n",
    "n1= \"Hey\"\n",
    "n2= \" There!!\"\n",
    "\n",
    "n1+ n2"
   ]
  },
  {
   "cell_type": "code",
   "execution_count": 77,
   "id": "08156594-cd75-4d34-b5fc-475fc100931a",
   "metadata": {},
   "outputs": [
    {
     "data": {
      "text/plain": [
       "'My name is Anna Elsa Luiz'"
      ]
     },
     "execution_count": 77,
     "metadata": {},
     "output_type": "execute_result"
    }
   ],
   "source": [
    "n1= 'My'\n",
    "n2= ' name'\n",
    "n3= ' is'\n",
    "n4= ' Anna'\n",
    "n5= ' Elsa'\n",
    "n6= ' Luiz'\n",
    "\n",
    "n1 + n2 + n3 + n4 + n5 + n6 "
   ]
  },
  {
   "cell_type": "code",
   "execution_count": 92,
   "id": "59a5c3e1-4fb9-4512-bfdd-fa7a604deca8",
   "metadata": {},
   "outputs": [
    {
     "name": "stdout",
     "output_type": "stream",
     "text": [
      "['Apple', 'Orange', 'Berries']\n",
      "------------------------------\n",
      "['Grapes', 'Orange', 'Berries']\n"
     ]
    }
   ],
   "source": [
    "#changing the elements using slicing\n",
    "\n",
    "list1=[\"Apple\",\"Orange\",\"Berries\"]\n",
    "print(list1)\n",
    "print(\"------------------------------\")\n",
    "list1[0]=\"Grapes\"\n",
    "print(list1)"
   ]
  },
  {
   "cell_type": "code",
   "execution_count": 93,
   "id": "74dd8a46-0e66-4195-8473-61601e63fd56",
   "metadata": {},
   "outputs": [
    {
     "name": "stdout",
     "output_type": "stream",
     "text": [
      "['Apple', 'Orange', 'Berries', 'Grapes', 'Pomegranate', 'Cherry']\n",
      "------------------------------------------------------------------\n",
      "['Apple', 'Orange', 'Dragon fruit', 'Passion Fruit', 'Pomegranate', 'Cherry']\n"
     ]
    }
   ],
   "source": [
    "#replacing using slicing\n",
    "\n",
    "list2=[\"Apple\",\"Orange\",\"Berries\",\"Grapes\",\"Pomegranate\",\"Cherry\"]\n",
    "print(list2)\n",
    "print(\"------------------------------------------------------------------\")\n",
    "list2[2:4]=[\"Dragon fruit\",\"Passion Fruit\"]\n",
    "print(list2)"
   ]
  },
  {
   "cell_type": "code",
   "execution_count": 96,
   "id": "3a665806-fa07-472f-ba79-3220d9165793",
   "metadata": {},
   "outputs": [
    {
     "name": "stdout",
     "output_type": "stream",
     "text": [
      "['Apple', 'Orange', 'Berries', 'Grapes', 'Pomegranate', 'Cherry']\n",
      "------------------------------------------------------------------\n",
      "['Apple', 'Mango', 'Orange', 'Berries', 'Grapes', 'Pomegranate', 'Cherry']\n"
     ]
    }
   ],
   "source": [
    "list2=[\"Apple\",\"Orange\",\"Berries\",\"Grapes\",\"Pomegranate\",\"Cherry\"]\n",
    "print(list2)\n",
    "print(\"------------------------------------------------------------------\")\n",
    "list2.insert(1,\"Mango\")\n",
    "print(list2)"
   ]
  },
  {
   "cell_type": "code",
   "execution_count": 103,
   "id": "6f22f650-75cc-4940-931f-e1762b642ad2",
   "metadata": {},
   "outputs": [
    {
     "name": "stdout",
     "output_type": "stream",
     "text": [
      "['Apple', 'Orange', 'Berries', 'Grapes', 'Pomegranate', 'Cherry']\n",
      "------------------------------------------------------------------\n",
      "['Apple', 'Mango', 'Orange', 'Berries', 'Grapes', 'Pomegranate', 'Cherry']\n",
      "['Apple', 'Mango', 'Guava', 'Orange', 'Berries', 'Grapes', 'Pomegranate', 'Cherry']\n"
     ]
    }
   ],
   "source": [
    "list2=[\"Apple\",\"Orange\",\"Berries\",\"Grapes\",\"Pomegranate\",\"Cherry\"]\n",
    "print(list2)\n",
    "print(\"------------------------------------------------------------------\")\n",
    "list2.insert(1,\"Mango\")  # in required position\n",
    "print(list2)\n",
    "list2.insert(2,\"Guava\")\n",
    "print(list2)"
   ]
  },
  {
   "cell_type": "code",
   "execution_count": 104,
   "id": "a3bd714e-3c77-47d9-b7f7-a12ad2018e8e",
   "metadata": {},
   "outputs": [
    {
     "name": "stdout",
     "output_type": "stream",
     "text": [
      "['Apple', 'Orange', 'Berries', 'Grapes', 'Pomegranate', 'Cherry']\n",
      "------------------------------------------------------------------\n",
      "['Apple', 'Orange', 'Berries', 'Grapes', 'Pomegranate', 'Cherry', 'Mango']\n"
     ]
    }
   ],
   "source": [
    "list2=[\"Apple\",\"Orange\",\"Berries\",\"Grapes\",\"Pomegranate\",\"Cherry\"]\n",
    "print(list2)\n",
    "print(\"------------------------------------------------------------------\")\n",
    "list2.append(\"Mango\")  # by default at the end \n",
    "print(list2)"
   ]
  },
  {
   "cell_type": "code",
   "execution_count": 105,
   "id": "23dbe74b-ea46-42bb-82a9-c82d43fcb57d",
   "metadata": {},
   "outputs": [
    {
     "name": "stdout",
     "output_type": "stream",
     "text": [
      "['black', 'white', 'yellow', 'red', 'grey', 'pink']\n"
     ]
    }
   ],
   "source": [
    "A= [\"black\",\"white\",\"yellow\",\"red\"]\n",
    "B= [\"grey\",\"pink\"]\n",
    "A.extend(B)\n",
    "print(A)"
   ]
  },
  {
   "cell_type": "code",
   "execution_count": 109,
   "id": "4b072a10-2018-4159-b3a0-e82290f8d522",
   "metadata": {},
   "outputs": [
    {
     "name": "stdout",
     "output_type": "stream",
     "text": [
      "['black', 'white', 'yellow', 'red']\n",
      "-----------------------------------\n",
      "['white', 'yellow', 'red']\n"
     ]
    }
   ],
   "source": [
    "A= [\"black\",\"white\",\"yellow\",\"red\"]\n",
    "print(A)\n",
    "print(\"-----------------------------------\")\n",
    "A.remove(\"black\")\n",
    "print(A)         "
   ]
  },
  {
   "cell_type": "code",
   "execution_count": 5,
   "id": "8cae3f6c-4d66-4f90-9bb9-3250e2a87c1d",
   "metadata": {},
   "outputs": [
    {
     "name": "stdout",
     "output_type": "stream",
     "text": [
      "['black', 'white', 'yellow', 'red']\n",
      "-----------------------------------\n",
      "['white', 'yellow', 'red']\n"
     ]
    }
   ],
   "source": [
    "A= [\"black\",\"white\",\"yellow\",\"red\"]\n",
    "print(A)\n",
    "print(\"-----------------------------------\")\n",
    "A.remove(\"black\")\n",
    "print(A)         "
   ]
  },
  {
   "cell_type": "code",
   "execution_count": 4,
   "id": "65825942-d3bc-4b29-a2c9-2750f0fb3a49",
   "metadata": {},
   "outputs": [
    {
     "name": "stdout",
     "output_type": "stream",
     "text": [
      "['black', 'white', 'yellow', 'red']\n",
      "-----------------------------------\n",
      "['black', 'yellow', 'red']\n"
     ]
    }
   ],
   "source": [
    "A= [\"black\",\"white\",\"yellow\",\"red\"]\n",
    "print(A)\n",
    "print(\"-----------------------------------\")\n",
    "A.pop(1) #removing the specified element\n",
    "print(A)"
   ]
  },
  {
   "cell_type": "code",
   "execution_count": 120,
   "id": "efd0c028-524e-4885-8e57-a608ff1bc2cb",
   "metadata": {},
   "outputs": [
    {
     "name": "stdout",
     "output_type": "stream",
     "text": [
      "['black', 'white', 'yellow', 'red']\n",
      "-----------------------------------\n",
      "['black', 'yellow', 'red']\n"
     ]
    }
   ],
   "source": [
    "A= [\"black\",\"white\",\"yellow\",\"red\"]\n",
    "print(A)\n",
    "print(\"-----------------------------------\")\n",
    "del A[1] \n",
    "print(A)"
   ]
  },
  {
   "cell_type": "code",
   "execution_count": 1,
   "id": "c9fa85f0-426d-42a2-bf8f-9b0a42fe3ce5",
   "metadata": {},
   "outputs": [
    {
     "name": "stdout",
     "output_type": "stream",
     "text": [
      "['black', 'white', 'yellow', 'red']\n",
      "-----------------------------------\n",
      "['black', 'yellow', 'red']\n"
     ]
    }
   ],
   "source": [
    "A= [\"black\",\"white\",\"yellow\",\"red\"]\n",
    "print(A)\n",
    "print(\"-----------------------------------\")\n",
    "del A[1] # can remove a sequence of elements\n",
    "print(A)"
   ]
  },
  {
   "cell_type": "code",
   "execution_count": 127,
   "id": "f32b88d7-6b4e-4bd6-af1c-83fa3b5227b1",
   "metadata": {},
   "outputs": [
    {
     "name": "stdout",
     "output_type": "stream",
     "text": [
      "['black', 'white', 'yellow', 'red']\n",
      "-----------------------------------\n",
      "['black', 'red']\n"
     ]
    }
   ],
   "source": [
    "A= [\"black\",\"white\",\"yellow\",\"red\"]\n",
    "print(A)\n",
    "print(\"-----------------------------------\")\n",
    "del A[1:3] # can remove a sequence of elements\n",
    "print(A)"
   ]
  },
  {
   "cell_type": "code",
   "execution_count": 126,
   "id": "8fbb5fd6-f474-464c-9d3b-81bed205979a",
   "metadata": {},
   "outputs": [
    {
     "name": "stdout",
     "output_type": "stream",
     "text": [
      "black\n",
      "white\n",
      "yellow\n",
      "red\n"
     ]
    }
   ],
   "source": [
    "A=  [\"black\",\"white\",\"yellow\",\"red\"]\n",
    "for i in A:\n",
    "    print(i)"
   ]
  },
  {
   "cell_type": "code",
   "execution_count": 125,
   "id": "dad00d24-ea3c-488a-bef2-1b516e64dd54",
   "metadata": {},
   "outputs": [
    {
     "name": "stdout",
     "output_type": "stream",
     "text": [
      "black\n",
      "white\n",
      "yellow\n",
      "red\n"
     ]
    }
   ],
   "source": [
    "A=  [\"black\",\"white\",\"yellow\",\"red\"]\n",
    "for i in range(len(A)):  #index values of the elements \n",
    "    print(A[i])"
   ]
  },
  {
   "cell_type": "code",
   "execution_count": 5,
   "id": "04025768-50dc-4519-af07-b53c1e8f52e5",
   "metadata": {},
   "outputs": [
    {
     "name": "stdout",
     "output_type": "stream",
     "text": [
      "['Orange']\n"
     ]
    }
   ],
   "source": [
    "\n",
    "\n",
    "list1 = [\"Apple\",\"Orange\",\"Grape\",\"Pineapple\"]\n",
    "newlist= []\n",
    "\n",
    "for i in list1:\n",
    "    if \"O\" in i:\n",
    "        newlist.append(i)\n",
    "print(newlist)        "
   ]
  },
  {
   "cell_type": "code",
   "execution_count": 27,
   "id": "d8cf061c-fadf-466d-a82a-8cb5716ed1e0",
   "metadata": {},
   "outputs": [
    {
     "name": "stdout",
     "output_type": "stream",
     "text": [
      "['Grape']\n"
     ]
    }
   ],
   "source": [
    "list1 = [\"Apple\",\"Orange\",\"Grape\",\"Pineapple\"]\n",
    "newlist= []\n",
    "\n",
    "for i in list1:\n",
    "    if \"G\" in i:\n",
    "        newlist.append(i)\n",
    "print(newlist)   "
   ]
  },
  {
   "cell_type": "code",
   "execution_count": 28,
   "id": "72caf784-c735-4e41-b4c8-9efa1dc8e922",
   "metadata": {},
   "outputs": [
    {
     "name": "stdout",
     "output_type": "stream",
     "text": [
      "['Grape']\n"
     ]
    }
   ],
   "source": [
    "newlist = [i for i in list1 if \"G\" in i] # #list comprehension\n",
    "print(newlist)\n",
    "\n",
    "# [i , for i in list1, if \"G\" in i ]"
   ]
  },
  {
   "cell_type": "code",
   "execution_count": 29,
   "id": "65c2ff93-c48d-43d7-86b9-dc2fd0cfcad2",
   "metadata": {},
   "outputs": [
    {
     "name": "stdout",
     "output_type": "stream",
     "text": [
      "['Orange']\n"
     ]
    }
   ],
   "source": [
    "newlist = [i for i in list1 if \"ran\" in i] # #list comprehension\n",
    "print(newlist)"
   ]
  },
  {
   "cell_type": "code",
   "execution_count": 30,
   "id": "efdde2d8-a1ac-4e2d-b290-caeb1e53ca9f",
   "metadata": {},
   "outputs": [
    {
     "name": "stdout",
     "output_type": "stream",
     "text": [
      "['Apple', 'Grape', 'Orange', 'Pineapple']\n"
     ]
    }
   ],
   "source": [
    "list1 = [\"Apple\",\"Orange\",\"Grape\",\"Pineapple\"]\n",
    "list1.sort()   # by default ascending order\n",
    "print(list1)"
   ]
  },
  {
   "cell_type": "code",
   "execution_count": 31,
   "id": "9080866c-04ca-4f80-8b65-01d655be3035",
   "metadata": {},
   "outputs": [
    {
     "name": "stdout",
     "output_type": "stream",
     "text": [
      "['Pineapple', 'Orange', 'Grape', 'Apple']\n"
     ]
    }
   ],
   "source": [
    "list1 = [\"Apple\",\"Orange\",\"Grape\",\"Pineapple\"]\n",
    "list1.sort(reverse=True)  #descending order\n",
    "print(list1)"
   ]
  },
  {
   "cell_type": "code",
   "execution_count": 26,
   "id": "074c210c-717b-4c58-bb74-2f5a6f6e27a7",
   "metadata": {},
   "outputs": [
    {
     "name": "stdout",
     "output_type": "stream",
     "text": [
      "[89, 52, 42, 36, 36, 25, 12, 12]\n"
     ]
    }
   ],
   "source": [
    "a= [12,52,36,42,89,12,36,25]\n",
    "a.sort(reverse=True)      #descending order\n",
    "print(a)"
   ]
  },
  {
   "cell_type": "code",
   "execution_count": 32,
   "id": "344771eb-4d33-450b-8791-97cca8ffd156",
   "metadata": {},
   "outputs": [
    {
     "name": "stdout",
     "output_type": "stream",
     "text": [
      "[12, 12, 25, 36, 36, 42, 52, 89]\n"
     ]
    }
   ],
   "source": [
    "a= [12,52,36,42,89,12,36,25]\n",
    "a.sort()      #descending order\n",
    "print(a)"
   ]
  },
  {
   "cell_type": "code",
   "execution_count": 34,
   "id": "d47bfcf6-4a80-4b1f-8a10-eddca564ed40",
   "metadata": {},
   "outputs": [
    {
     "name": "stdout",
     "output_type": "stream",
     "text": [
      "['Apple', 'Orange', 'Grape', 'Pineapple']\n"
     ]
    }
   ],
   "source": [
    "list1 = [\"Apple\",\"Orange\",\"Grape\",\"Pineapple\"]\n",
    "list2=list1.copy()\n",
    "print(list2)"
   ]
  },
  {
   "cell_type": "code",
   "execution_count": 36,
   "id": "6bc690ff-9a72-49c3-b2e9-9b70063bb8ae",
   "metadata": {},
   "outputs": [
    {
     "name": "stdout",
     "output_type": "stream",
     "text": [
      "('apple', 'orange')\n"
     ]
    }
   ],
   "source": [
    "tup1= (\"apple\",\"orange\")\n",
    "print(tup1)"
   ]
  },
  {
   "cell_type": "code",
   "execution_count": 37,
   "id": "d93fa4b5-8787-409f-97f3-c08dd4d3f17f",
   "metadata": {},
   "outputs": [
    {
     "name": "stdout",
     "output_type": "stream",
     "text": [
      "apple\n"
     ]
    }
   ],
   "source": [
    "tup1= (\"apple\",\"orange\")\n",
    "print(tup1[0])"
   ]
  },
  {
   "cell_type": "code",
   "execution_count": 38,
   "id": "ec6b6355-896d-4d5c-96c3-dd66d043694d",
   "metadata": {},
   "outputs": [
    {
     "name": "stdout",
     "output_type": "stream",
     "text": [
      "('apple', 'orange')\n"
     ]
    }
   ],
   "source": [
    "tup2 = (\"Apple\",\"Orange\",\"Grape\",\"Pineapple\")\n",
    "print(tup1[0:3])"
   ]
  },
  {
   "cell_type": "code",
   "execution_count": 39,
   "id": "c653d1fc-fce8-4e21-8e6b-78762cbb0272",
   "metadata": {},
   "outputs": [
    {
     "ename": "AttributeError",
     "evalue": "'tuple' object has no attribute 'insert'",
     "output_type": "error",
     "traceback": [
      "\u001b[0;31m---------------------------------------------------------------------------\u001b[0m",
      "\u001b[0;31mAttributeError\u001b[0m                            Traceback (most recent call last)",
      "Cell \u001b[0;32mIn [39], line 1\u001b[0m\n\u001b[0;32m----> 1\u001b[0m \u001b[43mtup2\u001b[49m\u001b[38;5;241;43m.\u001b[39;49m\u001b[43minsert\u001b[49m(\u001b[38;5;241m1\u001b[39m, \u001b[38;5;124m\"\u001b[39m\u001b[38;5;124mlemon\u001b[39m\u001b[38;5;124m\"\u001b[39m)\n",
      "\u001b[0;31mAttributeError\u001b[0m: 'tuple' object has no attribute 'insert'"
     ]
    }
   ],
   "source": [
    "tup2.insert(1, \"lemon\") #cannot manipulate tuples\n",
    "                        #immutable "
   ]
  },
  {
   "cell_type": "code",
   "execution_count": 41,
   "id": "7b0cf87a-dad6-4561-acc3-1fc08dd50770",
   "metadata": {},
   "outputs": [
    {
     "ename": "AttributeError",
     "evalue": "'tuple' object has no attribute 'append'",
     "output_type": "error",
     "traceback": [
      "\u001b[0;31m---------------------------------------------------------------------------\u001b[0m",
      "\u001b[0;31mAttributeError\u001b[0m                            Traceback (most recent call last)",
      "Cell \u001b[0;32mIn [41], line 2\u001b[0m\n\u001b[1;32m      1\u001b[0m tup2 \u001b[38;5;241m=\u001b[39m (\u001b[38;5;124m\"\u001b[39m\u001b[38;5;124mApple\u001b[39m\u001b[38;5;124m\"\u001b[39m,\u001b[38;5;124m\"\u001b[39m\u001b[38;5;124mOrange\u001b[39m\u001b[38;5;124m\"\u001b[39m,\u001b[38;5;124m\"\u001b[39m\u001b[38;5;124mGrape\u001b[39m\u001b[38;5;124m\"\u001b[39m,\u001b[38;5;124m\"\u001b[39m\u001b[38;5;124mPineapple\u001b[39m\u001b[38;5;124m\"\u001b[39m)\n\u001b[0;32m----> 2\u001b[0m tup2\u001b[38;5;241m=\u001b[39m \u001b[43mtup2\u001b[49m\u001b[38;5;241;43m.\u001b[39;49m\u001b[43mappend\u001b[49m(\u001b[38;5;124m\"\u001b[39m\u001b[38;5;124mlemon\u001b[39m\u001b[38;5;124m\"\u001b[39m)\n",
      "\u001b[0;31mAttributeError\u001b[0m: 'tuple' object has no attribute 'append'"
     ]
    }
   ],
   "source": [
    "tup2 = (\"Apple\",\"Orange\",\"Grape\",\"Pineapple\") #cannot manipulate tuples\n",
    "                                              #immutable \n",
    "tup2= tup2.append(\"lemon\")"
   ]
  },
  {
   "cell_type": "code",
   "execution_count": 42,
   "id": "b7437261-8c6f-4377-b0c6-9aca3ec8aaa7",
   "metadata": {},
   "outputs": [
    {
     "ename": "AttributeError",
     "evalue": "'tuple' object has no attribute 'remove'",
     "output_type": "error",
     "traceback": [
      "\u001b[0;31m---------------------------------------------------------------------------\u001b[0m",
      "\u001b[0;31mAttributeError\u001b[0m                            Traceback (most recent call last)",
      "Cell \u001b[0;32mIn [42], line 2\u001b[0m\n\u001b[1;32m      1\u001b[0m tup2 \u001b[38;5;241m=\u001b[39m (\u001b[38;5;124m\"\u001b[39m\u001b[38;5;124mApple\u001b[39m\u001b[38;5;124m\"\u001b[39m,\u001b[38;5;124m\"\u001b[39m\u001b[38;5;124mOrange\u001b[39m\u001b[38;5;124m\"\u001b[39m,\u001b[38;5;124m\"\u001b[39m\u001b[38;5;124mGrape\u001b[39m\u001b[38;5;124m\"\u001b[39m,\u001b[38;5;124m\"\u001b[39m\u001b[38;5;124mPineapple\u001b[39m\u001b[38;5;124m\"\u001b[39m)\n\u001b[0;32m----> 2\u001b[0m \u001b[43mtup2\u001b[49m\u001b[38;5;241;43m.\u001b[39;49m\u001b[43mremove\u001b[49m(\u001b[38;5;124m\"\u001b[39m\u001b[38;5;124mOrange\u001b[39m\u001b[38;5;124m\"\u001b[39m)\n",
      "\u001b[0;31mAttributeError\u001b[0m: 'tuple' object has no attribute 'remove'"
     ]
    }
   ],
   "source": [
    "tup2 = (\"Apple\",\"Orange\",\"Grape\",\"Pineapple\")   #cannot manipulate tuples\n",
    "                                                #immutable \n",
    "tup2.remove(\"Orange\")"
   ]
  },
  {
   "cell_type": "code",
   "execution_count": 48,
   "id": "e804089f-6854-4d78-add9-f6c9c0da259c",
   "metadata": {},
   "outputs": [
    {
     "name": "stdout",
     "output_type": "stream",
     "text": [
      "Apple\n",
      "Orange\n",
      "Grape\n",
      "Pineapple\n"
     ]
    }
   ],
   "source": [
    "tup2 = (\"Apple\",\"Orange\",\"Grape\",\"Pineapple\")\n",
    "for i in tup2 :\n",
    "    print(i)"
   ]
  },
  {
   "cell_type": "code",
   "execution_count": 51,
   "id": "e48fffb0-8715-4dca-8190-0ca108d1ebac",
   "metadata": {},
   "outputs": [
    {
     "name": "stdout",
     "output_type": "stream",
     "text": [
      "Apple\n",
      "Orange\n",
      "Grape\n",
      "Pineapple\n"
     ]
    }
   ],
   "source": [
    "tup2 = (\"Apple\",\"Orange\",\"Grape\",\"Pineapple\")\n",
    "for i in range(len(tup2)) :\n",
    "    print(tup2[i])"
   ]
  },
  {
   "cell_type": "code",
   "execution_count": 54,
   "id": "9056c7f9-8917-47e4-af15-17b3e04cb0c4",
   "metadata": {},
   "outputs": [
    {
     "data": {
      "text/plain": [
       "(1, 2, 3, 4, 5, 6, 'Apple', 'Orange', 'Grape', 'Pineapple')"
      ]
     },
     "execution_count": 54,
     "metadata": {},
     "output_type": "execute_result"
    }
   ],
   "source": [
    "tup1= (1,2,3,4,5,6)\n",
    "tup2 = (\"Apple\",\"Orange\",\"Grape\",\"Pineapple\")\n",
    "\n",
    "tup1 + tup2    #heterogenous "
   ]
  },
  {
   "cell_type": "code",
   "execution_count": null,
   "id": "1dc20927-e87e-4cb6-ab40-0498ab8a39d7",
   "metadata": {},
   "outputs": [],
   "source": []
  }
 ],
 "metadata": {
  "kernelspec": {
   "display_name": "Python 3 (ipykernel)",
   "language": "python",
   "name": "python3"
  },
  "language_info": {
   "codemirror_mode": {
    "name": "ipython",
    "version": 3
   },
   "file_extension": ".py",
   "mimetype": "text/x-python",
   "name": "python",
   "nbconvert_exporter": "python",
   "pygments_lexer": "ipython3",
   "version": "3.10.6"
  }
 },
 "nbformat": 4,
 "nbformat_minor": 5
}
