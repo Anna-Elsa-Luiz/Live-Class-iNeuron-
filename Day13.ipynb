{
 "cells": [
  {
   "cell_type": "code",
   "execution_count": 34,
   "id": "f9c93428-e2c8-4b1e-8295-7ea0cd9dda6a",
   "metadata": {},
   "outputs": [
    {
     "name": "stdout",
     "output_type": "stream",
     "text": [
      "The name of the company : Fresh Mart\n"
     ]
    }
   ],
   "source": [
    "print('The name of the company : Fresh Mart')"
   ]
  },
  {
   "cell_type": "code",
   "execution_count": 35,
   "id": "6c747761-93a4-4381-9492-6206ef671849",
   "metadata": {},
   "outputs": [
    {
     "name": "stdout",
     "output_type": "stream",
     "text": [
      "The year of establishment:  1983\n"
     ]
    }
   ],
   "source": [
    "print('The year of establishment: ', 1983)"
   ]
  },
  {
   "cell_type": "code",
   "execution_count": 36,
   "id": "d880f656-50f6-4b6b-9f97-0e3f551aa3b9",
   "metadata": {},
   "outputs": [
    {
     "name": "stdout",
     "output_type": "stream",
     "text": [
      "Total turnover of the company this year in Million $ is 1.5 \n"
     ]
    }
   ],
   "source": [
    "print('Total turnover of the company this year in Million $ is 1.5 ')"
   ]
  },
  {
   "cell_type": "code",
   "execution_count": 37,
   "id": "b350ef9c-7eb5-444b-bac9-4e762055d485",
   "metadata": {},
   "outputs": [
    {
     "name": "stdout",
     "output_type": "stream",
     "text": [
      "Name : Anna Elsa Luiz \n",
      "Domain: Data Scientist\n",
      "Experience: 2 years \n"
     ]
    }
   ],
   "source": [
    "print('Name : Anna Elsa Luiz ')\n",
    "print('Domain: Data Scientist')\n",
    "print( 'Experience: 2 years ')"
   ]
  },
  {
   "cell_type": "code",
   "execution_count": 44,
   "id": "beb4730d-814f-494e-b126-d2d099a34b9f",
   "metadata": {},
   "outputs": [
    {
     "name": "stdout",
     "output_type": "stream",
     "text": [
      "The name of the company                                :Fresh Mart\n",
      "The year of establishment                              : 1983\n",
      "Total turnover of the company this year in Million $   :1.5 Million\n",
      "Name of the Employee                                   :Anna Elsa Luiz \n",
      "Domain                                                 :Data Scientist\n",
      "Experience                                             :2 years \n"
     ]
    }
   ],
   "source": [
    "print('The name of the company                                :Fresh Mart')\n",
    "print('The year of establishment                              :',1983)\n",
    "print('Total turnover of the company this year in Million $   :1.5 Million')\n",
    "print('Name of the Employee                                   :Anna Elsa Luiz ')\n",
    "print('Domain                                                 :Data Scientist')\n",
    "print('Experience                                             :2 years ')"
   ]
  },
  {
   "cell_type": "code",
   "execution_count": 39,
   "id": "79fc71ea-53cd-437d-b3fc-afa1633e86d2",
   "metadata": {},
   "outputs": [
    {
     "name": "stdout",
     "output_type": "stream",
     "text": [
      "Fresh Mart turnover is  1.5 Million in  1983\n"
     ]
    }
   ],
   "source": [
    "turnover = 1.5 \n",
    "Company_name = 'Fresh Mart'\n",
    "Year = 1983\n",
    "\n",
    "print(Company_name, 'turnover is ' , turnover, 'Million in ', Year)"
   ]
  },
  {
   "cell_type": "code",
   "execution_count": 45,
   "id": "44a12249-bc1f-497a-b1f5-0b0efdff9892",
   "metadata": {},
   "outputs": [
    {
     "data": {
      "text/plain": [
       "float"
      ]
     },
     "execution_count": 45,
     "metadata": {},
     "output_type": "execute_result"
    }
   ],
   "source": [
    "type(turnover )"
   ]
  },
  {
   "cell_type": "code",
   "execution_count": 46,
   "id": "8066f9d9-cdc1-4f58-be01-3553a2620a02",
   "metadata": {},
   "outputs": [
    {
     "data": {
      "text/plain": [
       "str"
      ]
     },
     "execution_count": 46,
     "metadata": {},
     "output_type": "execute_result"
    }
   ],
   "source": [
    "type(Company_name)"
   ]
  },
  {
   "cell_type": "code",
   "execution_count": 49,
   "id": "5a55fe82-7f36-408e-9dc9-ceed3b0550c7",
   "metadata": {},
   "outputs": [
    {
     "data": {
      "text/plain": [
       "int"
      ]
     },
     "execution_count": 49,
     "metadata": {},
     "output_type": "execute_result"
    }
   ],
   "source": [
    "type(Year)"
   ]
  },
  {
   "cell_type": "code",
   "execution_count": 52,
   "id": "9da75a1f-3ff8-4a16-88b2-f12a87f8cb78",
   "metadata": {},
   "outputs": [
    {
     "name": "stdout",
     "output_type": "stream",
     "text": [
      "Price of Stock_1 in Million $ : 0.2\n",
      "Price of Stock_2 in Million $ : 0.4\n"
     ]
    }
   ],
   "source": [
    "stock_1 = 0.2\n",
    "print('Price of Stock_1 in Million $ :', stock_1)\n",
    "price_updated = stock_1 + stock_1\n",
    "print('Price of Stock_2 in Million $ :', price_updated)"
   ]
  },
  {
   "cell_type": "code",
   "execution_count": 59,
   "id": "9deabcf6-0ea6-435c-89c9-66a7997a9ca6",
   "metadata": {},
   "outputs": [
    {
     "name": "stdout",
     "output_type": "stream",
     "text": [
      "Price of one  Stock in Million $ : 0.2\n",
      "Price of 10 Stocks in Million $ : 2.0\n"
     ]
    }
   ],
   "source": [
    "stock_1 = 0.2\n",
    "print('Price of one  Stock in Million $ :', stock_1)\n",
    "price_updated = 10 * stock_1 \n",
    "print('Price of 10 Stocks in Million $ :', price_updated)"
   ]
  },
  {
   "cell_type": "code",
   "execution_count": 55,
   "id": "1b10ae4e-fb37-4fa5-a38f-96fd5adbcfee",
   "metadata": {},
   "outputs": [
    {
     "data": {
      "text/plain": [
       "4"
      ]
     },
     "execution_count": 55,
     "metadata": {},
     "output_type": "execute_result"
    }
   ],
   "source": [
    "2**2"
   ]
  },
  {
   "cell_type": "code",
   "execution_count": 56,
   "id": "c41b8feb-b3a0-4166-b4dd-f9ad25f377a8",
   "metadata": {},
   "outputs": [
    {
     "data": {
      "text/plain": [
       "9"
      ]
     },
     "execution_count": 56,
     "metadata": {},
     "output_type": "execute_result"
    }
   ],
   "source": [
    "3**2"
   ]
  },
  {
   "cell_type": "code",
   "execution_count": 4,
   "id": "76283149-4498-4094-b34e-90dbdd294657",
   "metadata": {},
   "outputs": [
    {
     "name": "stdout",
     "output_type": "stream",
     "text": [
      "The Average Downtime Hours for last month is  3.5999999999999996\n"
     ]
    }
   ],
   "source": [
    "downtime_hours = 90\n",
    "total_time = 2500\n",
    "average_downtime = downtime_hours / total_time * 100\n",
    "print('The Average Downtime Hours for last month is ', average_downtime)"
   ]
  },
  {
   "cell_type": "markdown",
   "id": "c5bec1e6-56a0-4685-b7a8-fb8dff683e58",
   "metadata": {},
   "source": [
    "Incidents per employee per month"
   ]
  },
  {
   "cell_type": "code",
   "execution_count": 4,
   "id": "72344b50-c753-4610-be0d-7c4a8e79c3cd",
   "metadata": {},
   "outputs": [
    {
     "data": {
      "text/plain": [
       "73.17142857142858"
      ]
     },
     "execution_count": 4,
     "metadata": {},
     "output_type": "execute_result"
    }
   ],
   "source": [
    "safety_incidents = 35\n",
    "Total_employees = 2561\n",
    "safety_per_employee = Total_employees / safety_incidents\n",
    "safety_per_employee\n"
   ]
  },
  {
   "cell_type": "code",
   "execution_count": 5,
   "id": "7060164d-d1c5-441f-8e4b-e5e48d624d4a",
   "metadata": {},
   "outputs": [],
   "source": [
    "\n",
    "#Data Structure"
   ]
  },
  {
   "cell_type": "code",
   "execution_count": 8,
   "id": "90c4f6d3-1936-494d-8904-0400398359f3",
   "metadata": {},
   "outputs": [
    {
     "name": "stdout",
     "output_type": "stream",
     "text": [
      "In stock: ['Tv', 'Laptop', 'Mobile Phone', 'Table fan']\n"
     ]
    }
   ],
   "source": [
    "stocks = ['Tv', 'Laptop', 'Mobile Phone', 'Table fan']\n",
    "print('In stock:',stocks)"
   ]
  },
  {
   "cell_type": "code",
   "execution_count": 9,
   "id": "26119837-9756-4f4d-a4ec-d2875ad239d3",
   "metadata": {},
   "outputs": [],
   "source": [
    "stock1= 'Tv'\n",
    "stock2= 'Laptop'\n",
    "stock3= 'Mobile Phone'\n",
    "stock4= 'Table fan'"
   ]
  },
  {
   "cell_type": "code",
   "execution_count": 11,
   "id": "97ed844d-c5ba-488c-93bb-1b02c9624ba0",
   "metadata": {},
   "outputs": [
    {
     "name": "stdout",
     "output_type": "stream",
     "text": [
      "In stock: Tv , Laptop , Mobile Phone , Table fan\n"
     ]
    }
   ],
   "source": [
    "print('In stock:',stock1, ',',stock2,',',stock3,',',stock4)"
   ]
  },
  {
   "cell_type": "code",
   "execution_count": 13,
   "id": "67db7f54-734c-456e-97e1-e420c5be9c70",
   "metadata": {},
   "outputs": [
    {
     "data": {
      "text/plain": [
       "['Tv', 'Laptop', 'Mobile Phone', 'Table fan', 'Tv']"
      ]
     },
     "execution_count": 13,
     "metadata": {},
     "output_type": "execute_result"
    }
   ],
   "source": [
    "stocks_1 = ['Tv', 'Laptop', 'Mobile Phone', 'Table fan', 'Tv']\n",
    "stocks_1"
   ]
  },
  {
   "cell_type": "code",
   "execution_count": 14,
   "id": "c4ed2ea7-a13b-471b-b2fa-49cc464a69a2",
   "metadata": {},
   "outputs": [
    {
     "name": "stdout",
     "output_type": "stream",
     "text": [
      "Production: [200, 600, 400, 300]\n"
     ]
    }
   ],
   "source": [
    "production = [200, 600, 400,300]\n",
    "print('Production:', production)"
   ]
  },
  {
   "cell_type": "code",
   "execution_count": 54,
   "id": "4515adc5-5725-4007-a83f-2ebc343f4f7d",
   "metadata": {},
   "outputs": [
    {
     "name": "stdout",
     "output_type": "stream",
     "text": [
      "Stocks:Sales :: Tv : 200 , Laptop : 652 , Mobile Phone : 412 , Table fan : 123\n"
     ]
    }
   ],
   "source": [
    "stocks = ['Tv', 'Laptop', 'Mobile Phone', 'Table fan']\n",
    "sales = [ 200,652,412,123]\n",
    "#print(stocks)\n",
    "#print(sales)\n",
    "print('Stocks:Sales ::',stocks[0],':',sales[0], ',',stocks[1],':',sales[1],',',stocks[2],':',sales[2],',',stocks[3],':',sales[3],)\n"
   ]
  },
  {
   "cell_type": "code",
   "execution_count": 36,
   "id": "2bb2b888-852c-4147-9e22-0553157c61a2",
   "metadata": {},
   "outputs": [
    {
     "data": {
      "text/plain": [
       "{'Tv': 200, 'Laptop': 652, 'Mobile Phone': 412, 'Table fan': 123}"
      ]
     },
     "execution_count": 36,
     "metadata": {},
     "output_type": "execute_result"
    }
   ],
   "source": [
    "Sales = {'Tv':200, 'Laptop':652, 'Mobile Phone':412, 'Table fan':123}\n",
    "Sales"
   ]
  },
  {
   "cell_type": "code",
   "execution_count": 20,
   "id": "5ab2d931-c038-4a32-a315-469da381efcc",
   "metadata": {},
   "outputs": [],
   "source": [
    "stocks.append('Printer')"
   ]
  },
  {
   "cell_type": "code",
   "execution_count": 7,
   "id": "b10841bf-18f9-42c9-858b-fa0ab02b06d4",
   "metadata": {},
   "outputs": [
    {
     "data": {
      "text/plain": [
       "['Tv', 'Laptop', 'Mobile Phone', 'Table fan', 'Printer']"
      ]
     },
     "execution_count": 7,
     "metadata": {},
     "output_type": "execute_result"
    }
   ],
   "source": [
    "stocks"
   ]
  },
  {
   "cell_type": "code",
   "execution_count": 21,
   "id": "2b9ca840-219a-4a75-aa6e-a499d2d4ebc5",
   "metadata": {},
   "outputs": [],
   "source": [
    "stocks.remove('Table fan')"
   ]
  },
  {
   "cell_type": "code",
   "execution_count": 9,
   "id": "edb1583e-de1f-4aac-843d-fd2fa99895be",
   "metadata": {},
   "outputs": [
    {
     "data": {
      "text/plain": [
       "['Tv', 'Laptop', 'Mobile Phone', 'Printer']"
      ]
     },
     "execution_count": 9,
     "metadata": {},
     "output_type": "execute_result"
    }
   ],
   "source": [
    "stocks"
   ]
  },
  {
   "cell_type": "code",
   "execution_count": 22,
   "id": "ca65684e-20be-4511-b8fc-93a063bfd22c",
   "metadata": {},
   "outputs": [
    {
     "data": {
      "text/plain": [
       "['Tv', 'Scanner', 'Laptop', 'Mobile Phone', 'Printer']"
      ]
     },
     "execution_count": 22,
     "metadata": {},
     "output_type": "execute_result"
    }
   ],
   "source": [
    "stocks.insert(1,'Scanner')\n",
    "stocks"
   ]
  },
  {
   "cell_type": "code",
   "execution_count": 29,
   "id": "66767bc6-5e76-449e-9b24-9fafe919308d",
   "metadata": {},
   "outputs": [
    {
     "data": {
      "text/plain": [
       "['Tv', 'Table fan']"
      ]
     },
     "execution_count": 29,
     "metadata": {},
     "output_type": "execute_result"
    }
   ],
   "source": [
    "del stocks[1:3]\n",
    "stocks"
   ]
  },
  {
   "cell_type": "code",
   "execution_count": 39,
   "id": "4973eee7-5ce5-4da5-a47e-bc9bd9fb8c6f",
   "metadata": {},
   "outputs": [
    {
     "data": {
      "text/plain": [
       "['Tv', 'Laptop', 'Mobile Phone']"
      ]
     },
     "execution_count": 39,
     "metadata": {},
     "output_type": "execute_result"
    }
   ],
   "source": [
    "stocks = ['Tv', 'Laptop', 'Mobile Phone', 'Table fan']\n",
    "\n",
    "del stocks[-1]\n",
    "stocks"
   ]
  },
  {
   "cell_type": "code",
   "execution_count": 53,
   "id": "8eb5a912-9d24-44bc-a20d-8716c16069f7",
   "metadata": {},
   "outputs": [
    {
     "data": {
      "text/plain": [
       "['Tv', 'Laptop', 'Mobile Phone']"
      ]
     },
     "execution_count": 53,
     "metadata": {},
     "output_type": "execute_result"
    }
   ],
   "source": [
    "stocks = ['Tv', 'Laptop', 'Mobile Phone', 'Table fan']\n",
    "stocks.remove(stocks[-1])\n",
    "stocks"
   ]
  },
  {
   "cell_type": "code",
   "execution_count": 52,
   "id": "33200df2-2048-4046-9fdb-1f1bfb63764f",
   "metadata": {},
   "outputs": [
    {
     "name": "stdout",
     "output_type": "stream",
     "text": [
      "['Mobile Phone', 'Table fan']\n"
     ]
    }
   ],
   "source": [
    "print(stocks[2:])"
   ]
  },
  {
   "cell_type": "code",
   "execution_count": 55,
   "id": "37c59186-5a24-40f1-a8d8-66cc465b7ef5",
   "metadata": {},
   "outputs": [
    {
     "name": "stdout",
     "output_type": "stream",
     "text": [
      "['Laptop', 'Mobile Phone']\n"
     ]
    }
   ],
   "source": [
    "print(stocks[1:3])"
   ]
  },
  {
   "cell_type": "code",
   "execution_count": 78,
   "id": "913485bb-8592-41f3-89b8-20e0f0df4f23",
   "metadata": {},
   "outputs": [
    {
     "data": {
      "text/plain": [
       "[8, 6, 4, 2, 0]"
      ]
     },
     "execution_count": 78,
     "metadata": {},
     "output_type": "execute_result"
    }
   ],
   "source": [
    "x= [0,1,2,3,4,5,6,7,8,9]\n",
    "x[-1]\n",
    "x[-2:-11:-2]"
   ]
  },
  {
   "cell_type": "code",
   "execution_count": 81,
   "id": "c5f3511e-779d-4828-97b4-1397d5128d02",
   "metadata": {},
   "outputs": [
    {
     "data": {
      "text/plain": [
       "[0, 1, 2, 3, 4, 5, 6, 7, 8, 9]"
      ]
     },
     "execution_count": 81,
     "metadata": {},
     "output_type": "execute_result"
    }
   ],
   "source": [
    "x= [0,1,2,3,4,5,6,7,8,9]\n",
    "\n",
    "del x[-2:-5]\n",
    "x"
   ]
  },
  {
   "cell_type": "code",
   "execution_count": null,
   "id": "3349125a-253f-4448-bfb2-f8f984b14aa8",
   "metadata": {},
   "outputs": [],
   "source": []
  }
 ],
 "metadata": {
  "kernelspec": {
   "display_name": "Python 3 (ipykernel)",
   "language": "python",
   "name": "python3"
  },
  "language_info": {
   "codemirror_mode": {
    "name": "ipython",
    "version": 3
   },
   "file_extension": ".py",
   "mimetype": "text/x-python",
   "name": "python",
   "nbconvert_exporter": "python",
   "pygments_lexer": "ipython3",
   "version": "3.10.6"
  }
 },
 "nbformat": 4,
 "nbformat_minor": 5
}
