{
 "cells": [
  {
   "cell_type": "code",
   "execution_count": 2,
   "id": "34cf5534-8da2-428b-8431-4bb640ced4b1",
   "metadata": {},
   "outputs": [
    {
     "name": "stdin",
     "output_type": "stream",
     "text": [
      "Enter a number:a= 12\n",
      "Enter a number:b= 23\n",
      "Enter a number:c= 56\n"
     ]
    },
    {
     "name": "stdout",
     "output_type": "stream",
     "text": [
      "c is the greatest \n"
     ]
    }
   ],
   "source": [
    "#find largest among three numbers\n",
    "a= input(\"Enter a number:a=\")\n",
    "b=input(\"Enter a number:b=\")\n",
    "c=input(\"Enter a number:c=\")\n",
    "\n",
    "if a>b and a>c:\n",
    "    print(\"a is the greatest\")\n",
    "elif b>a and b>c:\n",
    "    print(\"b is the greatest\")\n",
    "else:\n",
    "    print(\"c is the greatest \")"
   ]
  },
  {
   "cell_type": "code",
   "execution_count": 3,
   "id": "318accaf-672e-40ae-9f79-aaef9ce6b7ef",
   "metadata": {},
   "outputs": [
    {
     "name": "stdin",
     "output_type": "stream",
     "text": [
      "Enter the number:a= 21\n",
      "Enter the number:b= 12.2\n",
      "Enter the number:c= 21.3\n"
     ]
    },
    {
     "name": "stdout",
     "output_type": "stream",
     "text": [
      "c is the greatest  21.3\n"
     ]
    }
   ],
   "source": [
    "#find largest among three numbers\n",
    "a=float( input(\"Enter the number:a=\"))\n",
    "b=float(input(\"Enter the number:b=\"))\n",
    "c=float(input(\"Enter the number:c=\"))\n",
    "\n",
    "if a>b and a>c:\n",
    "    print(\"a is the greatest\",a)\n",
    "elif b>a and b>c:\n",
    "    print(\"b is the greatest\",b)\n",
    "else:\n",
    "    print(\"c is the greatest \",c)"
   ]
  },
  {
   "cell_type": "code",
   "execution_count": 4,
   "id": "d36901f6-f96b-4044-b3d8-97d6eb1c4bca",
   "metadata": {},
   "outputs": [
    {
     "name": "stdin",
     "output_type": "stream",
     "text": [
      "Enter your choice of calculation(+ , - , * , /) +\n",
      "Enter the number:a= 5\n",
      "Enter the number:b= 6\n"
     ]
    },
    {
     "name": "stdout",
     "output_type": "stream",
     "text": [
      "Addition of a and b is : 11.0\n"
     ]
    }
   ],
   "source": [
    "#Let us make simple calculator which takes the choice of operation from user.\n",
    "#also user enter two numbers which needed to be computed.\n",
    "\n",
    "choice=input(\"Enter your choice of calculation(+ , - , * , /)\")\n",
    "a= float(input(\"Enter the number:a=\"))\n",
    "b=float(input(\"Enter the number:b=\")) \n",
    "             \n",
    "if choice == \"+\": \n",
    "             print(\"Addition of a and b is :\",a+b)\n",
    "elif choice== \"-\" :\n",
    "             print(\"Subtraction of a and b is : \",a-b)\n",
    "elif choice==\"*\" :\n",
    "             print(\"Multiplication of a and b is : \",a*b)\n",
    "else :\n",
    "             print(\"Division of a and b is :\", a/b)"
   ]
  },
  {
   "cell_type": "code",
   "execution_count": 12,
   "id": "fc8b3b3a-8756-4d8f-b26c-433a00002751",
   "metadata": {
    "tags": []
   },
   "outputs": [
    {
     "name": "stdin",
     "output_type": "stream",
     "text": [
      "Enter the number:a= 23\n",
      "Enter the number:b= 21\n"
     ]
    },
    {
     "name": "stdout",
     "output_type": "stream",
     "text": [
      "23.0 - 21.0 = 2.0\n"
     ]
    }
   ],
   "source": [
    "# choice=input(\"Enter your choice of calculation(+ , - , * , /)\")\n",
    "a= float(input(\"Enter the number:a=\"))\n",
    "b=float(input(\"Enter the number:b=\")) \n",
    "             \n",
    "if choice == \"+\": \n",
    "             print(a,\"+\",b,\"=\",a+b)\n",
    "elif choice== \"-\" :\n",
    "             print(a,\"-\",b ,\"=\",a-b)\n",
    "elif choice==\"*\" :\n",
    "             print(a,\"*\",b,\"=\",a*b)\n",
    "elif choice==\"/\":\n",
    "             print(a,\"/\",b,\"=\" ,a/b)\n",
    "else:\n",
    "    print(\"Invalid input\")"
   ]
  },
  {
   "cell_type": "code",
   "execution_count": 6,
   "id": "0f4e5287-4d32-4d12-b8e5-23af26a00db0",
   "metadata": {},
   "outputs": [
    {
     "name": "stdin",
     "output_type": "stream",
     "text": [
      "Enter the designation 1 for Executive, 2 for Manager, 3 for Senior Manager 1\n"
     ]
    },
    {
     "name": "stdout",
     "output_type": "stream",
     "text": [
      "Salary Range of Executive is 30,000-50,000\n"
     ]
    }
   ],
   "source": [
    "#we have 3 positions : Executive, Manager, Senior Manager\n",
    "#take input from the user \"Designation\" and print salary range of that designation\n",
    "\n",
    "Designation= input(\"Enter the designation 1 for Executive, 2 for Manager, 3 for Senior Manager\")\n",
    "\n",
    "if Designation == \"1\" :\n",
    "    print(\"Salary Range of Executive is 30,000-50,000\")\n",
    "elif Designation == \"2\" :\n",
    "    print(\"Salary Range of Manager is  60,000-80,000\")    \n",
    "elif Designation == \"3\" :\n",
    "    print(\"Salary Range of Senior manager is 90,000-1,20,000\")   \n",
    "else:\n",
    "     print(\"Invaild designation.\")     \n",
    "                   \n"
   ]
  },
  {
   "cell_type": "code",
   "execution_count": 7,
   "id": "1a6c599e-bbec-4a09-9872-c5adcc5d6ea6",
   "metadata": {},
   "outputs": [
    {
     "name": "stdin",
     "output_type": "stream",
     "text": [
      "Enter the designation Executive,  Manager,  Senior Manager 3\n"
     ]
    },
    {
     "name": "stdout",
     "output_type": "stream",
     "text": [
      "Invaild designation.\n"
     ]
    }
   ],
   "source": [
    "Designation= input(\"Enter the designation Executive,  Manager,  Senior Manager\")\n",
    "Designation= Designation.lower()\n",
    "\n",
    "if Designation == \"executive\" :\n",
    "    print(\"Salary Range of Executive is 30,000-50,000\")\n",
    "elif Designation == \"manager\" :\n",
    "    print(\"Salary Range of Manager is  60,000-80,000\")    \n",
    "elif Designation == \"senior manager\" :\n",
    "    print(\"Salary Range of Senior manager is 90,000-1,20,000\")   \n",
    "else:\n",
    "     print(\"Invaild designation.\")     \n",
    "                   "
   ]
  },
  {
   "cell_type": "code",
   "execution_count": 8,
   "id": "3e1543a1-8a91-4eb9-b967-0155d6eb809a",
   "metadata": {},
   "outputs": [
    {
     "name": "stdin",
     "output_type": "stream",
     "text": [
      "Enter the designation Executive,  Manager,  Senior Manager manger\n"
     ]
    },
    {
     "name": "stdout",
     "output_type": "stream",
     "text": [
      "Invaild designation.\n"
     ]
    }
   ],
   "source": [
    "Designation= input(\"Enter the designation Executive,  Manager,  Senior Manager\")\n",
    "Designation= Designation.upper()\n",
    "\n",
    "if Designation == \"EXECUTIVE\" :\n",
    "    print(\"Salary Range of Executive is 30,000-50,000\")\n",
    "elif Designation == \"MANAGER\" :\n",
    "    print(\"Salary Range of Manager is  60,000-80,000\")    \n",
    "elif Designation == \"SENIOR MANAGER\" :\n",
    "    print(\"Salary Range of Senior manager is 90,000-1,20,000\")   \n",
    "else:\n",
    "     print(\"Invaild designation.\")     \n",
    "                   "
   ]
  },
  {
   "cell_type": "code",
   "execution_count": 9,
   "id": "208fb11b-7ed0-4211-896f-8edbbc46fa9f",
   "metadata": {},
   "outputs": [],
   "source": [
    "#for loop\n",
    "\n",
    "#i=10\n",
    "#for()\n",
    "#   i=i+1\n",
    "    "
   ]
  },
  {
   "cell_type": "code",
   "execution_count": 10,
   "id": "73e14e31-11e5-4b50-ad32-c82005e04bf1",
   "metadata": {},
   "outputs": [
    {
     "name": "stdout",
     "output_type": "stream",
     "text": [
      "0\n",
      "1\n",
      "2\n",
      "3\n",
      "4\n"
     ]
    }
   ],
   "source": [
    "for i in range(5):# i=0, i=i+1, checking range, (upper limit will not be included)\n",
    "        print(i)  \n",
    "      "
   ]
  },
  {
   "cell_type": "code",
   "execution_count": 11,
   "id": "93e8c7b8-0a4a-4af1-b4b8-e7d183351400",
   "metadata": {},
   "outputs": [
    {
     "name": "stdout",
     "output_type": "stream",
     "text": [
      "0\n",
      "1\n",
      "2\n",
      "3\n",
      "4\n",
      "5\n",
      "6\n",
      "7\n",
      "8\n",
      "9\n",
      "10\n",
      "11\n",
      "12\n",
      "13\n",
      "14\n",
      "15\n",
      "16\n",
      "17\n",
      "18\n",
      "19\n"
     ]
    }
   ],
   "source": [
    "for i in range(20):# starts at 0 and ends at 19 (upper limit will not be included)\n",
    "        print(i)  \n",
    "      "
   ]
  },
  {
   "cell_type": "code",
   "execution_count": 44,
   "id": "df1ff947-c3d4-444f-9fad-cb204e6ac301",
   "metadata": {},
   "outputs": [
    {
     "name": "stdout",
     "output_type": "stream",
     "text": [
      "12\n",
      "13\n",
      "14\n",
      "15\n",
      "16\n",
      "17\n",
      "18\n",
      "19\n"
     ]
    }
   ],
   "source": [
    "for i in range(12,20):# starts at 12 and ends at 19(upper limit will not be included)\n",
    "        print(i)  "
   ]
  },
  {
   "cell_type": "code",
   "execution_count": 45,
   "id": "fd624e45-625e-42b7-a38b-837b6957f36c",
   "metadata": {},
   "outputs": [
    {
     "name": "stdout",
     "output_type": "stream",
     "text": [
      "12\n",
      "14\n",
      "16\n",
      "18\n"
     ]
    }
   ],
   "source": [
    "for i in range(12,20,2):# starts at 12 and ends at 20 having interval width 2\n",
    "        print(i)        #(upper limit will not be included)\n",
    "         "
   ]
  },
  {
   "cell_type": "code",
   "execution_count": 46,
   "id": "1f3841ba-8226-4fc5-b637-6776b316747e",
   "metadata": {},
   "outputs": [
    {
     "name": "stdout",
     "output_type": "stream",
     "text": [
      "apple\n",
      "grape\n",
      "cherry\n",
      "pineapple\n"
     ]
    }
   ],
   "source": [
    "# Lets have for loop on list\n",
    "fruits=[\"apple\",\"grape\",\"cherry\",\"pineapple\"]\n",
    "\n",
    "for fruit in fruits:\n",
    "    print(fruit)"
   ]
  },
  {
   "cell_type": "code",
   "execution_count": 1,
   "id": "84168d25-5698-4497-af0a-07cd1d0f71e8",
   "metadata": {},
   "outputs": [
    {
     "name": "stdout",
     "output_type": "stream",
     "text": [
      "Anna\n",
      "Elsa\n",
      "Luiz\n",
      "Amal\n",
      "Alfred\n",
      "Antony\n"
     ]
    }
   ],
   "source": [
    "students=[\"Anna\",\"Elsa\",\"Luiz\",\"Amal\",\"Alfred\",\"Antony\"]\n",
    "\n",
    "for student in students:\n",
    "    print(student)"
   ]
  },
  {
   "cell_type": "code",
   "execution_count": 16,
   "id": "8c0b9388-915a-4b58-bebc-a1287163aeeb",
   "metadata": {},
   "outputs": [
    {
     "name": "stdout",
     "output_type": "stream",
     "text": [
      "Anna\n",
      "Elsa\n",
      "Luiz\n",
      "Amal\n",
      "Alfred\n",
      "Antony\n",
      "6\n"
     ]
    }
   ],
   "source": [
    "#different way\n",
    "students=[\"Anna\",\"Elsa\",\"Luiz\",\"Amal\",\"Alfred\",\"Antony\"]\n",
    "\n",
    "for student in range(len(students)):\n",
    "    print(students[student])\n",
    "print(len(students))    "
   ]
  },
  {
   "cell_type": "code",
   "execution_count": 28,
   "id": "f9495ac1-e847-4efb-8f52-a2302fc4067f",
   "metadata": {},
   "outputs": [
    {
     "name": "stdout",
     "output_type": "stream",
     "text": [
      "Anna\n",
      "['Luiz', 'Amal']\n"
     ]
    }
   ],
   "source": [
    "students=[\"Anna\",\"Elsa\",\"Luiz\",\"Amal\",\"Alfred\",\"Antony\"]\n",
    "print(students[0])\n",
    "\n",
    "print(students[2:4])"
   ]
  },
  {
   "cell_type": "code",
   "execution_count": 30,
   "id": "b18a757a-c8d2-46d5-a767-d9472510b9ac",
   "metadata": {},
   "outputs": [],
   "source": [
    "#Examples of loops\n",
    "\n",
    "#banks\n",
    "#insurance\n",
    "#credit limits\n"
   ]
  },
  {
   "cell_type": "code",
   "execution_count": 37,
   "id": "ca548073-b115-4092-a28f-32cdb999a0aa",
   "metadata": {},
   "outputs": [
    {
     "name": "stdout",
     "output_type": "stream",
     "text": [
      "* \n",
      "* * \n",
      "* * * \n",
      "* * * * \n",
      "* * * * * \n"
     ]
    }
   ],
   "source": [
    "#complex example of for loop\n",
    "# nested loops\n",
    "\n",
    "# *\n",
    "# * *\n",
    "# * * *\n",
    "# * * * * \n",
    "# * * * * *\n",
    "\n",
    "row = 5\n",
    "\n",
    "for i in range(row):\n",
    "    for j in range(i+1):\n",
    "        print(\"*\",end=\" \")\n",
    "    print()\n",
    " \n",
    "\n"
   ]
  },
  {
   "cell_type": "code",
   "execution_count": 13,
   "id": "29bfee8d-5784-4c2b-b83b-afac1fc9bd89",
   "metadata": {},
   "outputs": [
    {
     "name": "stdout",
     "output_type": "stream",
     "text": [
      "    *\n",
      "   ***\n",
      "  *****\n",
      " *******\n",
      "*********\n"
     ]
    }
   ],
   "source": [
    "row = 5\n",
    "for i in range(1, row+1):\n",
    "    \n",
    "    for j in range(row-i):\n",
    "        print(' ', end='')\n",
    "        \n",
    "    for k in range(2 * i - 1):\n",
    "        print('*', end='')\n",
    "    \n",
    "    print()\n"
   ]
  },
  {
   "cell_type": "code",
   "execution_count": 12,
   "id": "c4173cf3-4f5c-4ae7-beb9-50be046a9d92",
   "metadata": {},
   "outputs": [
    {
     "name": "stdout",
     "output_type": "stream",
     "text": [
      "|||| \n",
      "|||   \n",
      "||     \n",
      "|       \n",
      "         \n"
     ]
    }
   ],
   "source": [
    "row = 5\n",
    "for i in range(1, row+1):\n",
    "    \n",
    "    for j in range(row-i):\n",
    "        print('|', end='')\n",
    "        \n",
    "    for k in range(2 * i - 1):\n",
    "        print(' ', end='')\n",
    "    \n",
    "    print()\n"
   ]
  },
  {
   "cell_type": "code",
   "execution_count": 2,
   "id": "7f8706a3-ed9d-473c-9e03-2a5be26de213",
   "metadata": {},
   "outputs": [],
   "source": [
    "def pattern(n):\n",
    "    i=1\n",
    "    while i<=n:\n",
    "        print (\" \"*(n-i) + \"* \" * i)\n",
    "        \n",
    "    \n",
    "    "
   ]
  },
  {
   "cell_type": "code",
   "execution_count": 54,
   "id": "5bd6f2b4-1d31-47f3-a29b-e6ca16ce0f49",
   "metadata": {},
   "outputs": [],
   "source": [
    "# print(\"*\",end=\" \")\n",
    "#print astericks sign\n",
    "#end =\" \" to have space between *"
   ]
  },
  {
   "cell_type": "code",
   "execution_count": 40,
   "id": "2e0ad170-7554-441c-893b-040b73054379",
   "metadata": {},
   "outputs": [
    {
     "name": "stdout",
     "output_type": "stream",
     "text": [
      "0 \n",
      "0 1 \n",
      "0 1 2 \n",
      "0 1 2 3 \n",
      "0 1 2 3 4 \n"
     ]
    }
   ],
   "source": [
    "row = 5\n",
    "\n",
    "for i in range(row):\n",
    "    for j in range(i+1):\n",
    "        print(j,end=\" \")\n",
    "    print() #newline corrector \n",
    " \n"
   ]
  },
  {
   "cell_type": "code",
   "execution_count": 41,
   "id": "c162c702-1284-4843-8da8-337d91e75cf6",
   "metadata": {},
   "outputs": [
    {
     "name": "stdout",
     "output_type": "stream",
     "text": [
      "1 \n",
      "1 2 \n",
      "1 2 3 \n",
      "1 2 3 4 \n",
      "1 2 3 4 5 \n"
     ]
    }
   ],
   "source": [
    "row = 5\n",
    "\n",
    "for i in range(row):\n",
    "    for j in range(i+1):\n",
    "        print(j+1,end=\" \")\n",
    "    print() #newline corrector \n",
    " "
   ]
  },
  {
   "cell_type": "code",
   "execution_count": 57,
   "id": "e8dc08f4-c388-42c3-9963-59d8c37226a9",
   "metadata": {},
   "outputs": [
    {
     "name": "stdout",
     "output_type": "stream",
     "text": [
      "\n",
      "1 \n",
      "2 2 \n",
      "3 3 3 \n",
      "4 4 4 4 \n",
      "5 5 5 5 5 \n"
     ]
    }
   ],
   "source": [
    "rows = 6\n",
    "# if you want user to enter a number, uncomment the below line\n",
    "# rows = int(input('Enter the number of rows'))\n",
    "\n",
    "for i in range(rows):         # outer loop\n",
    "    for j in range(i):        # nested loop\n",
    "        print(i, end=' ')     # display number\n",
    "    print('')                 # new line after each row\n"
   ]
  },
  {
   "cell_type": "code",
   "execution_count": 58,
   "id": "061d0c33-adfd-41a8-9ea1-ab51b48b36da",
   "metadata": {},
   "outputs": [
    {
     "name": "stdout",
     "output_type": "stream",
     "text": [
      "1\n",
      "2\n",
      "3\n",
      "4\n",
      "5\n"
     ]
    }
   ],
   "source": [
    "#While loop\n",
    "\n",
    "\n",
    "count = 1         #initial value \n",
    "while count <= 5: #checking the condition\n",
    "    print(count)  # printing\n",
    "    count += 1    # count= count+1 (incrementing)"
   ]
  },
  {
   "cell_type": "code",
   "execution_count": 59,
   "id": "9c97304a-b7f9-4424-861c-b4579443d740",
   "metadata": {},
   "outputs": [
    {
     "name": "stdout",
     "output_type": "stream",
     "text": [
      "2\n",
      "3\n",
      "4\n",
      "5\n",
      "6\n"
     ]
    }
   ],
   "source": [
    "count = 1\n",
    "while count <= 5:\n",
    "    count += 1     # count= count+1\n",
    "    print(count)\n",
    "                   #terminates when the conditions became wrong    "
   ]
  },
  {
   "cell_type": "code",
   "execution_count": 60,
   "id": "93a2a8d0-c128-40e0-bbb1-9cf871c6b0cc",
   "metadata": {},
   "outputs": [
    {
     "name": "stdout",
     "output_type": "stream",
     "text": [
      "1\n",
      "2\n",
      "3\n",
      "4\n",
      "5\n",
      "6\n"
     ]
    }
   ],
   "source": [
    "count = 1\n",
    "print(count)\n",
    "while count <= 5:\n",
    "    count += 1     # count= count+1\n",
    "    print(count)\n",
    "                   #terminates when the conditions became wrong    "
   ]
  },
  {
   "cell_type": "code",
   "execution_count": 62,
   "id": "861660f1-3065-474e-86c8-1a0a76983fd9",
   "metadata": {},
   "outputs": [
    {
     "name": "stdin",
     "output_type": "stream",
     "text": [
      "Enter a word or quit to exit: hello there\n"
     ]
    },
    {
     "name": "stdout",
     "output_type": "stream",
     "text": [
      "You entered : hello there\n"
     ]
    },
    {
     "name": "stdin",
     "output_type": "stream",
     "text": [
      "Enter a word or quit to exit: quit\n"
     ]
    },
    {
     "name": "stdout",
     "output_type": "stream",
     "text": [
      "You entered : quit\n"
     ]
    }
   ],
   "source": [
    "#another example\n",
    "\n",
    "text= \" \"\n",
    "\n",
    "while text != \"quit\" :\n",
    "    text= input(\"Enter a word or quit to exit:\")\n",
    "    print(\"You entered :\",text)\n",
    "   "
   ]
  },
  {
   "cell_type": "code",
   "execution_count": 98,
   "id": "cd3208f4-26b1-4c49-b1df-3c6b888da1ac",
   "metadata": {},
   "outputs": [
    {
     "name": "stdin",
     "output_type": "stream",
     "text": [
      "Is boss happy or not .Type 1 for 'yes' and 0 for 'no'  1\n"
     ]
    },
    {
     "name": "stdout",
     "output_type": "stream",
     "text": [
      "Congragulations Annu!!, your salary has incremented to 525000.0\n"
     ]
    }
   ],
   "source": [
    "#for loop we used  generally we know when to stop\n",
    "# while is generally use when stop condition will be satisfied, we do not know\n",
    "\n",
    "#we have a list name=[\"Anna \",\"Elsa\",\"Luiz\",\"Annu\"]\n",
    "# we have another list salary =[\"100000\",\"200000\",\"300000\",\"500000\"]\n",
    "#give  5% bonus to james as he is performing great . boss is happy.\n",
    "# HaHaHa what a bullshit :)\n",
    "\n",
    "name=[\"Anna \",\"Elsa\",\"Luiz\",\"Annu\"]\n",
    "salary =[100000,200000,300000,500000]\n",
    "\n",
    "\n",
    "text= input(\"Is boss happy or not .Type 1 for 'yes' and 0 for 'no' \")\n",
    "\n",
    "if text == \"1\":\n",
    "        salary = salary[3]+ salary[3]* 0.05\n",
    "        print(\"Congragulations Annu!!, your salary has incremented to\" ,salary) \n",
    "        \n",
    "        \n",
    "else :\n",
    "    print (\"Sorry try harder\")"
   ]
  },
  {
   "cell_type": "code",
   "execution_count": 101,
   "id": "4802dd59-43a3-450f-b3d3-cf573ce8fc9e",
   "metadata": {},
   "outputs": [
    {
     "name": "stdout",
     "output_type": "stream",
     "text": [
      "old salary is: [100000, 200000, 300000, 500000]\n",
      "updated salary is:  [100000, 200000, 300000, 525000.0]\n"
     ]
    }
   ],
   "source": [
    "name= [\"Anna \",\"Elsa\",\"Luiz\",\"Annu\"]\n",
    "salary =[100000,200000,300000,500000]\n",
    "\n",
    "\n",
    "#first sub-problem is we will iterate both lists\n",
    "#we need to update salary of james only \n",
    "print(\"old salary is:\", salary)\n",
    "for i in range(len(name)):\n",
    "      if name[i] == \"Annu\":\n",
    "            increment = salary[i] *0.05\n",
    "            salary[i] += increment \n",
    "print(\"updated salary is: \", salary)            \n",
    "\n"
   ]
  },
  {
   "cell_type": "code",
   "execution_count": 5,
   "id": "44e8f188-17a1-482b-ab05-90eb863132ac",
   "metadata": {},
   "outputs": [
    {
     "name": "stdin",
     "output_type": "stream",
     "text": [
      " 5\n"
     ]
    },
    {
     "name": "stdout",
     "output_type": "stream",
     "text": [
      "0\n",
      "1\n",
      "4\n",
      "9\n",
      "16\n"
     ]
    }
   ],
   "source": [
    "n = int(input())\n",
    "for i in range(0,n):\n",
    "        print(i**2)"
   ]
  },
  {
   "cell_type": "code",
   "execution_count": 12,
   "id": "71b0da32-2f26-49e9-aa0e-84046f9ff25f",
   "metadata": {},
   "outputs": [
    {
     "name": "stdin",
     "output_type": "stream",
     "text": [
      " 9\n"
     ]
    },
    {
     "name": "stdout",
     "output_type": "stream",
     "text": [
      "123456789"
     ]
    }
   ],
   "source": [
    "if __name__ == '__main__':\n",
    "    n = int(input())\n",
    "    for i in range(1,n+1):\n",
    "         print(i,end='')"
   ]
  },
  {
   "cell_type": "code",
   "execution_count": null,
   "id": "681d74ba-a977-4941-aa24-cd4bcdc06689",
   "metadata": {},
   "outputs": [],
   "source": []
  }
 ],
 "metadata": {
  "kernelspec": {
   "display_name": "Python 3 (ipykernel)",
   "language": "python",
   "name": "python3"
  },
  "language_info": {
   "codemirror_mode": {
    "name": "ipython",
    "version": 3
   },
   "file_extension": ".py",
   "mimetype": "text/x-python",
   "name": "python",
   "nbconvert_exporter": "python",
   "pygments_lexer": "ipython3",
   "version": "3.10.6"
  }
 },
 "nbformat": 4,
 "nbformat_minor": 5
}
