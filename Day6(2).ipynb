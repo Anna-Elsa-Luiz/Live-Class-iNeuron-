{
 "cells": [
  {
   "cell_type": "code",
   "execution_count": 5,
   "id": "34cf5534-8da2-428b-8431-4bb640ced4b1",
   "metadata": {},
   "outputs": [
    {
     "name": "stdin",
     "output_type": "stream",
     "text": [
      "Enter a number:a= 3333\n",
      "Enter a number:b= 6666\n",
      "Enter a number:c= 7777\n"
     ]
    },
    {
     "name": "stdout",
     "output_type": "stream",
     "text": [
      "c is the greatest \n"
     ]
    }
   ],
   "source": [
    "#find largest among three numbers\n",
    "a= input(\"Enter a number:a=\")\n",
    "b=input(\"Enter a number:b=\")\n",
    "c=input(\"Enter a number:c=\")\n",
    "\n",
    "if a>b and a>c:\n",
    "    print(\"a is the greatest\")\n",
    "elif b>a and b>c:\n",
    "    print(\"b is the greatest\")\n",
    "else:\n",
    "    print(\"c is the greatest \")"
   ]
  },
  {
   "cell_type": "code",
   "execution_count": null,
   "id": "318accaf-672e-40ae-9f79-aaef9ce6b7ef",
   "metadata": {},
   "outputs": [],
   "source": []
  }
 ],
 "metadata": {
  "kernelspec": {
   "display_name": "Python 3 (ipykernel)",
   "language": "python",
   "name": "python3"
  },
  "language_info": {
   "codemirror_mode": {
    "name": "ipython",
    "version": 3
   },
   "file_extension": ".py",
   "mimetype": "text/x-python",
   "name": "python",
   "nbconvert_exporter": "python",
   "pygments_lexer": "ipython3",
   "version": "3.10.6"
  }
 },
 "nbformat": 4,
 "nbformat_minor": 5
}
