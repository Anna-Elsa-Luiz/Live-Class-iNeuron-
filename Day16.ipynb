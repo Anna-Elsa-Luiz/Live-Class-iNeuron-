{
 "cells": [
  {
   "cell_type": "markdown",
   "id": "32c95018-a971-49e8-b1d1-fb01807a7011",
   "metadata": {},
   "source": [
    "## Inheritance Classes"
   ]
  },
  {
   "cell_type": "code",
   "execution_count": 67,
   "id": "78a582b6-6748-4c61-bb90-aae98aafdf9f",
   "metadata": {},
   "outputs": [],
   "source": [
    "class Person:                 # -----> parent class \n",
    "    \n",
    "    def __init__(self,name):\n",
    "        self.name = name \n",
    "        \n",
    "    def display_info(self):\n",
    "        print(f\"Name : {self.name}\")"
   ]
  },
  {
   "cell_type": "code",
   "execution_count": 68,
   "id": "d434e66a-4958-44f9-8c8f-74f8e681e215",
   "metadata": {},
   "outputs": [],
   "source": [
    "class Student(Person): #inheritting the class Person  # child class student\n",
    "    \n",
    "    def __init__(self,name,grade): \n",
    "        super().__init__(name)  #super() referring  to the parent derived class\n",
    "        self.grade = grade  \n",
    "        \n",
    "    def display_info(self):\n",
    "        super().display_info()\n",
    "        print(f\"Grade: {self.grade}\")"
   ]
  },
  {
   "cell_type": "code",
   "execution_count": 69,
   "id": "b8107a36-c2cf-43b9-8f35-07ab409c5f3a",
   "metadata": {},
   "outputs": [],
   "source": [
    "class Teacher(Person):    #inheritting the class Person  # child class teacher\n",
    "    \n",
    "    def __init__(self,name,subject):\n",
    "        super().__init__(name)  #super() referring  to the parent derived class \n",
    "        self.subject = subject\n",
    "        \n",
    "    def display_info(self):\n",
    "        super().display_info()\n",
    "        print(f\"Subject: {self.subject}\")    "
   ]
  },
  {
   "cell_type": "code",
   "execution_count": 70,
   "id": "ef91aa88-0376-46eb-b10b-f3af5f3f5b67",
   "metadata": {},
   "outputs": [
    {
     "name": "stdout",
     "output_type": "stream",
     "text": [
      "Name : Anna Elsa Luiz\n"
     ]
    }
   ],
   "source": [
    "person = Person('Anna Elsa Luiz')\n",
    "person.display_info()\n",
    "                 "
   ]
  },
  {
   "cell_type": "code",
   "execution_count": 71,
   "id": "bbbe0394-a286-4c8c-944b-77c23a2fa574",
   "metadata": {},
   "outputs": [
    {
     "name": "stdout",
     "output_type": "stream",
     "text": [
      "Name : Maria\n",
      "Grade: A\n"
     ]
    }
   ],
   "source": [
    "student1 = Student(\"Maria\",\"A\")\n",
    "student1.display_info()  "
   ]
  },
  {
   "cell_type": "code",
   "execution_count": 72,
   "id": "3adea910-9585-454b-9b6a-2a1c5a27ec0f",
   "metadata": {},
   "outputs": [
    {
     "name": "stdout",
     "output_type": "stream",
     "text": [
      "Name : Ram\n",
      "Subject: Statistics\n"
     ]
    }
   ],
   "source": [
    "Teacher1= Teacher('Ram','Statistics')\n",
    "Teacher1.display_info()"
   ]
  },
  {
   "cell_type": "markdown",
   "id": "c162fb42-61ac-455c-9697-c410edf98eac",
   "metadata": {},
   "source": [
    "## Vehicle\n",
    "Vehicle  ---> Parent class\n",
    "\n",
    "attributes--> Model , Brand \n",
    "\n",
    "functions --> start(method) , stop \n",
    "\n",
    "for different vehicles like bicycle, bike, car,"
   ]
  },
  {
   "cell_type": "code",
   "execution_count": 140,
   "id": "73869461-bd61-4b68-9a37-a8e889e85c5c",
   "metadata": {},
   "outputs": [],
   "source": [
    "class Vehicle:\n",
    "     \n",
    "    def __init__(self,Brand):\n",
    "        self.Brand = Brand \n",
    "        \n",
    "    def display_info(self):\n",
    "        print(\"Welcome!!\")\n",
    "        \n",
    "    def start(self):\n",
    "        print(f\"The {self.Brand} is starting\")"
   ]
  },
  {
   "cell_type": "code",
   "execution_count": 147,
   "id": "ae591131-19ef-4f66-bf4a-0090e194c269",
   "metadata": {},
   "outputs": [],
   "source": [
    "class Bicycle(Vehicle):\n",
    "    \n",
    "    def __init__(self,Brand,Model):\n",
    "        super().__init__(Brand)\n",
    "        self.Model = Model\n",
    "        \n",
    "    def display_info(self): \n",
    "        super().display_info()\n",
    "        print(f\"Hey You are driving a bicycle {self.Brand}  {self.Model}\")\n",
    "       \n",
    "\n",
    "    def start(self):\n",
    "        super().start()\n",
    "        print(\"Have a nice ride!!\")\n",
    "         "
   ]
  },
  {
   "cell_type": "code",
   "execution_count": 148,
   "id": "5c1368e1-83d0-4f9d-b83a-4c525797ca57",
   "metadata": {},
   "outputs": [],
   "source": [
    "class Car(Vehicle):\n",
    "    \n",
    "    def __init__(self,Brand,Model):\n",
    "        super().__init__(Brand)\n",
    "        self.Model = Model\n",
    "        \n",
    "    def display_info(self): \n",
    "        super().display_info()\n",
    "        print(f\"Hey You are driving a car {self.Brand}  {self.Model}\")\n",
    "        \n",
    "        \n",
    "    def start(self):\n",
    "        super().start()\n",
    "        print(f\"Please fasten your seat belt!\")\n",
    "         "
   ]
  },
  {
   "cell_type": "code",
   "execution_count": 151,
   "id": "575c20e3-fe5b-4dae-b1ff-886f35cfb4aa",
   "metadata": {},
   "outputs": [],
   "source": [
    "#Vehicle1= ('BSA')\n",
    "Bicycle1 = Bicycle('Hercules','S4')\n",
    "Car1= Car('Baleno','Zeta')"
   ]
  },
  {
   "cell_type": "code",
   "execution_count": 152,
   "id": "ede708e0-b64c-46c2-ae12-8348d1b7d7a5",
   "metadata": {},
   "outputs": [],
   "source": [
    "Bicycle1 = Bicycle('Hercules','S4')"
   ]
  },
  {
   "cell_type": "code",
   "execution_count": 153,
   "id": "5ee7fc6f-7d44-4479-8b3c-37d98325f106",
   "metadata": {},
   "outputs": [
    {
     "name": "stdout",
     "output_type": "stream",
     "text": [
      "The Hercules is starting\n",
      "Have a nice ride!!\n"
     ]
    }
   ],
   "source": [
    "Bicycle1.start()"
   ]
  },
  {
   "cell_type": "code",
   "execution_count": 154,
   "id": "b707bdea-bd11-4217-b26e-78755cb1f5b5",
   "metadata": {},
   "outputs": [
    {
     "name": "stdout",
     "output_type": "stream",
     "text": [
      "Welcome!!\n",
      "Hey You are driving a bicycle Hercules  S4\n"
     ]
    }
   ],
   "source": [
    "Bicycle1.display_info()"
   ]
  },
  {
   "cell_type": "code",
   "execution_count": 155,
   "id": "449f3608-65a6-43bc-8f1a-5b94f6f2c110",
   "metadata": {},
   "outputs": [
    {
     "name": "stdout",
     "output_type": "stream",
     "text": [
      "Welcome!!\n",
      "Hey You are driving a car Baleno  Zeta\n"
     ]
    }
   ],
   "source": [
    "Car1.display_info()"
   ]
  },
  {
   "cell_type": "code",
   "execution_count": 156,
   "id": "9f3e172a-ce51-418a-a519-9af1eed14208",
   "metadata": {},
   "outputs": [
    {
     "name": "stdout",
     "output_type": "stream",
     "text": [
      "The Baleno is starting\n",
      "Please fasten your seat belt!\n"
     ]
    }
   ],
   "source": [
    "Car1.start()"
   ]
  },
  {
   "cell_type": "markdown",
   "id": "7c78b8af-d1a1-40e6-b1ff-53edd04b95e0",
   "metadata": {},
   "source": [
    "## Animal Parent class"
   ]
  },
  {
   "cell_type": "code",
   "execution_count": 17,
   "id": "48bffab3-ad8d-41fd-9606-4a973b3b5f87",
   "metadata": {},
   "outputs": [],
   "source": [
    "class Animal:\n",
    "    def __init__(self,name):\n",
    "        self.name  = name\n",
    "        \n",
    "        \n",
    "    def sound(self):\n",
    "        pass\n",
    "        "
   ]
  },
  {
   "cell_type": "code",
   "execution_count": 18,
   "id": "3d45c5f3-8ec1-4c55-9f56-b941cc1608d0",
   "metadata": {},
   "outputs": [],
   "source": [
    "class Dog(Animal):\n",
    "    def __init__(self,name):\n",
    "        super().__init__(name)\n",
    "        \n",
    "    def sound(self):\n",
    "        print(f\"{self.name} barks\")"
   ]
  },
  {
   "cell_type": "code",
   "execution_count": 19,
   "id": "0e770244-b951-4e72-8b5f-9488e2184a5e",
   "metadata": {},
   "outputs": [],
   "source": [
    "class Cat(Animal): # derived class # hierarchical inheritance\n",
    "    \n",
    "    def __init__(self,name):\n",
    "        super().__init__(name)\n",
    "        \n",
    "    def sound(self):\n",
    "        print(f\"{self.name} meows\")"
   ]
  },
  {
   "cell_type": "code",
   "execution_count": 23,
   "id": "06792410-55d4-4791-8b8f-e7e69de5c986",
   "metadata": {},
   "outputs": [],
   "source": [
    "animal1 = Animal('dog')\n",
    "animal1.sound()"
   ]
  },
  {
   "cell_type": "code",
   "execution_count": 24,
   "id": "61164b0e-e250-400b-84a1-37c7c0cf618a",
   "metadata": {},
   "outputs": [],
   "source": [
    "dog1 = Dog('Pug')\n",
    "cat1 = Cat('Persian')"
   ]
  },
  {
   "cell_type": "code",
   "execution_count": 25,
   "id": "f3479627-db9a-4ff8-9bdb-1489081e1f42",
   "metadata": {},
   "outputs": [
    {
     "name": "stdout",
     "output_type": "stream",
     "text": [
      "Pug barks\n"
     ]
    }
   ],
   "source": [
    "dog1.sound()"
   ]
  },
  {
   "cell_type": "code",
   "execution_count": 26,
   "id": "8a60c192-0538-409a-8563-a5ed13473a04",
   "metadata": {},
   "outputs": [],
   "source": [
    "#animal1 cat1.sound()\n",
    "animal1.sound()"
   ]
  },
  {
   "cell_type": "code",
   "execution_count": 27,
   "id": "a417c025-d509-4e07-86de-58fc7aae97fd",
   "metadata": {},
   "outputs": [
    {
     "name": "stdout",
     "output_type": "stream",
     "text": [
      "Persian meows\n"
     ]
    }
   ],
   "source": [
    "cat1.sound()"
   ]
  },
  {
   "cell_type": "code",
   "execution_count": 28,
   "id": "f68b39b0-ec33-450d-944f-3ca1265a5234",
   "metadata": {},
   "outputs": [],
   "source": [
    "dog1= Dog('Pug')"
   ]
  },
  {
   "cell_type": "markdown",
   "id": "057f860c-9351-47c5-8624-f635faf36a13",
   "metadata": {},
   "source": [
    "## Public Access Modifier:"
   ]
  },
  {
   "cell_type": "markdown",
   "id": "a2df124c-ab72-49bf-8383-df756140f5fd",
   "metadata": {},
   "source": [
    "The member of a class that are declared public are easily accessible from any part of the program.\n",
    "\n",
    "All data members and member functions of a class are public by default."
   ]
  },
  {
   "cell_type": "code",
   "execution_count": 35,
   "id": "76ed3124-4674-4fbb-a0ba-09237dd240e9",
   "metadata": {},
   "outputs": [],
   "source": [
    "class Person:\n",
    "    def __init__(self,first_name,last_name):\n",
    "        self.first_name = first_name # .name is a public variable \n",
    "        self.last_name = last_name\n",
    "        \n",
    "        \n",
    "    def display(self):\n",
    "        print(f\"The  First name : {self.first_name}  and  Last name :{self.last_name}\")"
   ]
  },
  {
   "cell_type": "code",
   "execution_count": 36,
   "id": "b68ca8ca-bdce-4e33-8786-7bd21449af52",
   "metadata": {},
   "outputs": [],
   "source": [
    "person1 = Person('Anna Elsa ','Luiz')"
   ]
  },
  {
   "cell_type": "code",
   "execution_count": 37,
   "id": "b168b0d0-067c-453f-b28c-135938657831",
   "metadata": {},
   "outputs": [
    {
     "name": "stdout",
     "output_type": "stream",
     "text": [
      "The  First name : Anna Elsa   and  Last name :Luiz\n"
     ]
    }
   ],
   "source": [
    "person1.display()"
   ]
  },
  {
   "cell_type": "code",
   "execution_count": 38,
   "id": "f9f43169-f0a4-4a5d-a338-0165968fb5e9",
   "metadata": {},
   "outputs": [
    {
     "data": {
      "text/plain": [
       "['__class__',\n",
       " '__delattr__',\n",
       " '__dict__',\n",
       " '__dir__',\n",
       " '__doc__',\n",
       " '__eq__',\n",
       " '__format__',\n",
       " '__ge__',\n",
       " '__getattribute__',\n",
       " '__gt__',\n",
       " '__hash__',\n",
       " '__init__',\n",
       " '__init_subclass__',\n",
       " '__le__',\n",
       " '__lt__',\n",
       " '__module__',\n",
       " '__ne__',\n",
       " '__new__',\n",
       " '__reduce__',\n",
       " '__reduce_ex__',\n",
       " '__repr__',\n",
       " '__setattr__',\n",
       " '__sizeof__',\n",
       " '__str__',\n",
       " '__subclasshook__',\n",
       " '__weakref__',\n",
       " 'display',\n",
       " 'first_name',\n",
       " 'last_name']"
      ]
     },
     "execution_count": 38,
     "metadata": {},
     "output_type": "execute_result"
    }
   ],
   "source": [
    "dir(person1)"
   ]
  },
  {
   "cell_type": "markdown",
   "id": "568628c4-1e6d-4108-8658-2ae773b14f79",
   "metadata": {},
   "source": [
    "## Protected Access Modifiers"
   ]
  },
  {
   "cell_type": "code",
   "execution_count": 39,
   "id": "21236bbe-f0ee-4521-a3f7-5140d1b8368d",
   "metadata": {},
   "outputs": [],
   "source": [
    "# They are variable , only accessed/called  from the derived class"
   ]
  },
  {
   "cell_type": "code",
   "execution_count": 61,
   "id": "3f1a2169-62e3-4519-b1c8-58cb1fb46114",
   "metadata": {},
   "outputs": [],
   "source": [
    "class Student:\n",
    "    \n",
    "    #protected attributes\n",
    "    def __init__(self,name,roll_no):\n",
    "        self._name = name  # '_'  indicates the protected variables and it only used in the derived class\n",
    "        self._roll_no = roll_no\n",
    "        \n",
    "    def  _display(self) :\n",
    "        print(f\"The  Name : {self._name}  and  Roll Number :{self._roll_no}\")\n",
    "\n",
    "        \n",
    "class Topper(Student):\n",
    "    \n",
    "    def __init__(self,name,roll_no):\n",
    "        super().__init__(name,roll_no)\n",
    "                \n",
    "    def display_details(self) :\n",
    "        print(f\"My protected data members are {self._name} and {self._roll_no}\")\n",
    "        self._display() # because it is a protected function\n",
    "        "
   ]
  },
  {
   "cell_type": "code",
   "execution_count": 62,
   "id": "16e537ac-80f0-4c06-bc76-4af8ca93c5fc",
   "metadata": {},
   "outputs": [],
   "source": [
    "Student1 = Student('Anna ', 23)\n",
    "Topper1 = Topper('Elsa', 26)"
   ]
  },
  {
   "cell_type": "code",
   "execution_count": 69,
   "id": "6e0bb227-d851-444b-8c54-05a544f80ff7",
   "metadata": {},
   "outputs": [
    {
     "name": "stdout",
     "output_type": "stream",
     "text": [
      "The  Name : Anna   and  Roll Number :23\n"
     ]
    }
   ],
   "source": [
    "Student1._display()"
   ]
  },
  {
   "cell_type": "code",
   "execution_count": 70,
   "id": "31e6ec26-bcdb-42d7-9adc-5c2b40e9de8d",
   "metadata": {},
   "outputs": [
    {
     "name": "stdout",
     "output_type": "stream",
     "text": [
      "My protected data members are Elsa and 26\n",
      "The  Name : Elsa  and  Roll Number :26\n"
     ]
    }
   ],
   "source": [
    "Topper1.display_details()"
   ]
  },
  {
   "cell_type": "code",
   "execution_count": 71,
   "id": "a05ad960-dd7f-4493-be70-79878e32fe44",
   "metadata": {},
   "outputs": [],
   "source": [
    "# super() is used to access the parent class \n",
    "# In protected mode without using super() you can access the members "
   ]
  },
  {
   "cell_type": "code",
   "execution_count": 72,
   "id": "b753dce8-167d-44f3-9e02-640cb60495d3",
   "metadata": {},
   "outputs": [
    {
     "data": {
      "text/plain": [
       "['__class__',\n",
       " '__delattr__',\n",
       " '__dict__',\n",
       " '__dir__',\n",
       " '__doc__',\n",
       " '__eq__',\n",
       " '__format__',\n",
       " '__ge__',\n",
       " '__getattribute__',\n",
       " '__gt__',\n",
       " '__hash__',\n",
       " '__init__',\n",
       " '__init_subclass__',\n",
       " '__le__',\n",
       " '__lt__',\n",
       " '__module__',\n",
       " '__ne__',\n",
       " '__new__',\n",
       " '__reduce__',\n",
       " '__reduce_ex__',\n",
       " '__repr__',\n",
       " '__setattr__',\n",
       " '__sizeof__',\n",
       " '__str__',\n",
       " '__subclasshook__',\n",
       " '__weakref__',\n",
       " '_display',\n",
       " '_name',\n",
       " '_roll_no']"
      ]
     },
     "execution_count": 72,
     "metadata": {},
     "output_type": "execute_result"
    }
   ],
   "source": [
    "dir(Student1)"
   ]
  },
  {
   "cell_type": "code",
   "execution_count": 66,
   "id": "1522c099-4e10-4f82-924a-dd3f876f81c1",
   "metadata": {},
   "outputs": [
    {
     "name": "stdout",
     "output_type": "stream",
     "text": [
      "The  Name : Elsa  and  Roll Number :26\n"
     ]
    }
   ],
   "source": [
    "Topper1._display()"
   ]
  },
  {
   "cell_type": "markdown",
   "id": "820fcb03-872d-42ba-ac9c-2233b95d19ea",
   "metadata": {},
   "source": [
    "## Private Access Modifiers"
   ]
  },
  {
   "cell_type": "code",
   "execution_count": 5,
   "id": "371fd8a4-72e7-4b1b-a028-267dd4d74f0a",
   "metadata": {},
   "outputs": [],
   "source": [
    "class Student:\n",
    "    \n",
    "    #protected attributes\n",
    "    def __init__(self,name,roll_no):\n",
    "        self._name = name  # '_'  indicates the protected variables and it only used in the derived class\n",
    "        self._roll_no = roll_no\n",
    "        \n",
    "    def  __display(self) :\n",
    "        print(f\"The  Name : {self._name}  and  Roll Number :{self._roll_no}\")\n",
    "\n",
    "    def display(self):\n",
    "        self.__display()\n",
    "        \n",
    "class Topper(Student):\n",
    "    \n",
    "    def __init__(self,name,roll_no,subject):\n",
    "        super().__init__(name,roll_no)\n",
    "        self.subject = subject\n",
    "                \n",
    "    def display_details(self) :\n",
    "        print(f\"My protected data members are {self._name} and {self._roll_no}\")\n",
    "        self._display() # because it is a protected function\n",
    "                "
   ]
  },
  {
   "cell_type": "code",
   "execution_count": 6,
   "id": "98485c51-df18-46c9-aa2d-369698c94ed3",
   "metadata": {},
   "outputs": [],
   "source": [
    "Topper1= Topper('Roy',26,'Maths')"
   ]
  },
  {
   "cell_type": "code",
   "execution_count": 12,
   "id": "88551aa3-1dec-4468-afac-3f523be45491",
   "metadata": {},
   "outputs": [
    {
     "name": "stdout",
     "output_type": "stream",
     "text": [
      "The  Name : Roy  and  Roll Number :26\n"
     ]
    }
   ],
   "source": [
    "Topper1.display()"
   ]
  },
  {
   "cell_type": "code",
   "execution_count": 8,
   "id": "8f0e15db-c25e-477b-b006-9037a19f91ac",
   "metadata": {},
   "outputs": [
    {
     "data": {
      "text/plain": [
       "['_Student__display',\n",
       " '__class__',\n",
       " '__delattr__',\n",
       " '__dict__',\n",
       " '__dir__',\n",
       " '__doc__',\n",
       " '__eq__',\n",
       " '__format__',\n",
       " '__ge__',\n",
       " '__getattribute__',\n",
       " '__gt__',\n",
       " '__hash__',\n",
       " '__init__',\n",
       " '__init_subclass__',\n",
       " '__le__',\n",
       " '__lt__',\n",
       " '__module__',\n",
       " '__ne__',\n",
       " '__new__',\n",
       " '__reduce__',\n",
       " '__reduce_ex__',\n",
       " '__repr__',\n",
       " '__setattr__',\n",
       " '__sizeof__',\n",
       " '__str__',\n",
       " '__subclasshook__',\n",
       " '__weakref__',\n",
       " '_name',\n",
       " '_roll_no',\n",
       " 'display',\n",
       " 'display_details',\n",
       " 'subject']"
      ]
     },
     "execution_count": 8,
     "metadata": {},
     "output_type": "execute_result"
    }
   ],
   "source": [
    "dir(Topper1)"
   ]
  },
  {
   "cell_type": "code",
   "execution_count": 2,
   "id": "20212fc3-22ca-442b-8a0f-9da23f8e2349",
   "metadata": {},
   "outputs": [],
   "source": [
    "Student1 = Student('Anna ', 23)"
   ]
  },
  {
   "cell_type": "code",
   "execution_count": 3,
   "id": "4a3a84d8-754a-4e03-9b0f-a3a4ddd6946d",
   "metadata": {},
   "outputs": [
    {
     "name": "stdout",
     "output_type": "stream",
     "text": [
      "The  Name : Anna   and  Roll Number :23\n"
     ]
    }
   ],
   "source": [
    "Student1.display()"
   ]
  },
  {
   "cell_type": "code",
   "execution_count": 11,
   "id": "4fbfc72a-4ca0-4272-9032-efbff933a8ad",
   "metadata": {},
   "outputs": [
    {
     "name": "stdout",
     "output_type": "stream",
     "text": [
      "The  Name : Anna   and  Roll Number :23\n"
     ]
    }
   ],
   "source": [
    "Student1.display()"
   ]
  },
  {
   "cell_type": "code",
   "execution_count": 4,
   "id": "6757c910-b1cd-46bf-8480-19569fbee1ba",
   "metadata": {},
   "outputs": [
    {
     "data": {
      "text/plain": [
       "['_Student__display',\n",
       " '__class__',\n",
       " '__delattr__',\n",
       " '__dict__',\n",
       " '__dir__',\n",
       " '__doc__',\n",
       " '__eq__',\n",
       " '__format__',\n",
       " '__ge__',\n",
       " '__getattribute__',\n",
       " '__gt__',\n",
       " '__hash__',\n",
       " '__init__',\n",
       " '__init_subclass__',\n",
       " '__le__',\n",
       " '__lt__',\n",
       " '__module__',\n",
       " '__ne__',\n",
       " '__new__',\n",
       " '__reduce__',\n",
       " '__reduce_ex__',\n",
       " '__repr__',\n",
       " '__setattr__',\n",
       " '__sizeof__',\n",
       " '__str__',\n",
       " '__subclasshook__',\n",
       " '__weakref__',\n",
       " '_name',\n",
       " '_roll_no',\n",
       " 'display']"
      ]
     },
     "execution_count": 4,
     "metadata": {},
     "output_type": "execute_result"
    }
   ],
   "source": [
    "dir(Student1)   #private variable is not visible in the directory"
   ]
  },
  {
   "cell_type": "code",
   "execution_count": 81,
   "id": "286b26c1-1e9c-4f5d-96a2-2003abdfaa98",
   "metadata": {},
   "outputs": [],
   "source": [
    "Student1._name= 'Ammu'"
   ]
  },
  {
   "cell_type": "code",
   "execution_count": 82,
   "id": "1aa64346-48e2-4717-985e-34f636e877c5",
   "metadata": {},
   "outputs": [
    {
     "name": "stdout",
     "output_type": "stream",
     "text": [
      "The  Name : Ammu  and  Roll Number :23\n"
     ]
    }
   ],
   "source": [
    "Student1.display()"
   ]
  },
  {
   "cell_type": "markdown",
   "id": "af4ca926-4cdb-40f6-ac1e-3a53598f7ec2",
   "metadata": {},
   "source": [
    "## Polymorphism : Multilple Forms "
   ]
  },
  {
   "cell_type": "code",
   "execution_count": 47,
   "id": "e6db3cb7-9305-48c7-8dec-566a48ea2f2e",
   "metadata": {},
   "outputs": [],
   "source": [
    "class Animal:\n",
    "    def __init__(self,name):\n",
    "        self.name = name \n",
    "        \n",
    "    def make_sound(self):\n",
    "        print('hey')\n",
    "        return \"generic voice\" "
   ]
  },
  {
   "cell_type": "code",
   "execution_count": 52,
   "id": "f2d1de88-0eef-49f3-9377-2403354e7a40",
   "metadata": {},
   "outputs": [],
   "source": [
    "class Dog (Animal):\n",
    "    \n",
    "    def make_sound(self): #polymorphism\n",
    "        super().make_sound()\n",
    "        \n",
    "    \n",
    "class Cat(Animal):\n",
    "    \n",
    "     def make_sound(self): ##polymorphism\n",
    "        super().make_sound()"
   ]
  },
  {
   "cell_type": "code",
   "execution_count": 53,
   "id": "c327e8b1-2a7c-42d3-823f-939bc6612c9f",
   "metadata": {},
   "outputs": [],
   "source": [
    "Dog1= Dog('name')"
   ]
  },
  {
   "cell_type": "code",
   "execution_count": 54,
   "id": "cb5bcc3b-6320-427d-aced-727b51355f97",
   "metadata": {},
   "outputs": [
    {
     "name": "stdout",
     "output_type": "stream",
     "text": [
      "hey\n"
     ]
    }
   ],
   "source": [
    "Dog1.make_sound()"
   ]
  },
  {
   "cell_type": "code",
   "execution_count": 55,
   "id": "7577f6da-804f-4433-adaa-25f65430920c",
   "metadata": {},
   "outputs": [],
   "source": [
    "#doubt??? ^^^^^^^^^"
   ]
  },
  {
   "cell_type": "code",
   "execution_count": 56,
   "id": "e0317774-7b44-42c7-9c3e-0365aa67936f",
   "metadata": {},
   "outputs": [],
   "source": [
    "#Class Assignments"
   ]
  },
  {
   "cell_type": "code",
   "execution_count": null,
   "id": "4b4c4326-992c-4bd4-8fb6-15397da0d621",
   "metadata": {},
   "outputs": [],
   "source": []
  }
 ],
 "metadata": {
  "kernelspec": {
   "display_name": "Python 3 (ipykernel)",
   "language": "python",
   "name": "python3"
  },
  "language_info": {
   "codemirror_mode": {
    "name": "ipython",
    "version": 3
   },
   "file_extension": ".py",
   "mimetype": "text/x-python",
   "name": "python",
   "nbconvert_exporter": "python",
   "pygments_lexer": "ipython3",
   "version": "3.10.6"
  }
 },
 "nbformat": 4,
 "nbformat_minor": 5
}
