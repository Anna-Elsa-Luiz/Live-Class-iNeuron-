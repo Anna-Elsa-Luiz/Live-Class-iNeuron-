{
 "cells": [
  {
   "cell_type": "code",
   "execution_count": 1,
   "id": "20a27d12-f365-49f9-8140-1db23e4a83fa",
   "metadata": {},
   "outputs": [],
   "source": [
    "# Exception handling\n",
    "\n",
    "# code issue \n",
    "# Try :\n",
    "# except"
   ]
  },
  {
   "cell_type": "code",
   "execution_count": 2,
   "id": "5969e9bf-5698-459a-9e34-f7fdf1fdcd4f",
   "metadata": {},
   "outputs": [
    {
     "name": "stdout",
     "output_type": "stream",
     "text": [
      "There is no X\n"
     ]
    }
   ],
   "source": [
    "try : \n",
    "    print(x) # what code can throw an error/ errors will be in 'try'\n",
    "    \n",
    "except:\n",
    "    print('There is no X') # After try , except will be executed"
   ]
  },
  {
   "cell_type": "code",
   "execution_count": 3,
   "id": "12682d8e-080f-4330-ab0b-7bf30c2a7743",
   "metadata": {},
   "outputs": [],
   "source": [
    "#run time error"
   ]
  },
  {
   "cell_type": "code",
   "execution_count": 5,
   "id": "190ec569-6b6b-4673-a74c-b8120e53c360",
   "metadata": {},
   "outputs": [
    {
     "name": "stdout",
     "output_type": "stream",
     "text": [
      "10\n"
     ]
    }
   ],
   "source": [
    "try : \n",
    "    print(y) # what code can throw an error/ errors will be in 'try'\n",
    "    \n",
    "except:\n",
    "    print('There is no Y') # After try , except will be executed"
   ]
  },
  {
   "cell_type": "code",
   "execution_count": 9,
   "id": "040ffe8d-04c0-45d4-9867-931eef0cf84b",
   "metadata": {},
   "outputs": [
    {
     "name": "stdout",
     "output_type": "stream",
     "text": [
      "10\n",
      "No Error\n"
     ]
    }
   ],
   "source": [
    "try : \n",
    "    y=10\n",
    "    print(y) \n",
    "    \n",
    "except:\n",
    "    print('There is no Y') \n",
    "    \n",
    "else:\n",
    "    print('No Error')"
   ]
  },
  {
   "cell_type": "code",
   "execution_count": null,
   "id": "8c9b8be0-6b24-4fb4-8dae-18df4f899051",
   "metadata": {},
   "outputs": [
    {
     "name": "stdout",
     "output_type": "stream",
     "text": [
      "There is no Z\n"
     ]
    }
   ],
   "source": [
    "try : \n",
    "    print(z) \n",
    "    \n",
    "except:\n",
    "    print('There is no Z') \n",
    "    \n",
    "else:  #execute only if except is not executed\n",
    "    print('Try and except are executed')"
   ]
  },
  {
   "cell_type": "code",
   "execution_count": 24,
   "id": "b97f3ded-4452-4e03-b043-e4204671ce14",
   "metadata": {},
   "outputs": [
    {
     "name": "stdout",
     "output_type": "stream",
     "text": [
      "There is no Z\n",
      "Try and except are executed\n"
     ]
    }
   ],
   "source": [
    "try : \n",
    "    print(z) \n",
    "    \n",
    "except:\n",
    "    print('There is no Z') \n",
    "    \n",
    "finally:  #execute no matter when except is executed or not \n",
    "    print('Try and except are executed')"
   ]
  },
  {
   "cell_type": "code",
   "execution_count": 28,
   "id": "a14422e3-bf3c-457f-a107-c4fa0d944de8",
   "metadata": {},
   "outputs": [
    {
     "ename": "Exception",
     "evalue": "There is a issue.... X is below 20 ",
     "output_type": "error",
     "traceback": [
      "\u001b[0;31m---------------------------------------------------------------------------\u001b[0m",
      "\u001b[0;31mException\u001b[0m                                 Traceback (most recent call last)",
      "Cell \u001b[0;32mIn [28], line 3\u001b[0m\n\u001b[1;32m      1\u001b[0m x\u001b[38;5;241m=\u001b[39m \u001b[38;5;241m5\u001b[39m\n\u001b[1;32m      2\u001b[0m \u001b[38;5;28;01mif\u001b[39;00m x \u001b[38;5;241m<\u001b[39m \u001b[38;5;241m20\u001b[39m:\n\u001b[0;32m----> 3\u001b[0m     \u001b[38;5;28;01mraise\u001b[39;00m \u001b[38;5;167;01mException\u001b[39;00m(\u001b[38;5;124m'\u001b[39m\u001b[38;5;124mThere is a issue.... X is below 20 \u001b[39m\u001b[38;5;124m'\u001b[39m)\n",
      "\u001b[0;31mException\u001b[0m: There is a issue.... X is below 20 "
     ]
    }
   ],
   "source": [
    "x= 5\n",
    "if x < 20:\n",
    "    raise Exception('There is a issue.... X is below 20 ')"
   ]
  },
  {
   "cell_type": "code",
   "execution_count": 33,
   "id": "37885614-0d51-4585-8d63-ac2e79c97b9b",
   "metadata": {},
   "outputs": [
    {
     "name": "stdin",
     "output_type": "stream",
     "text": [
      "Enter the number1  6\n",
      "Enter the number2  0\n"
     ]
    },
    {
     "ename": "ZeroDivisionError",
     "evalue": "division by zero",
     "output_type": "error",
     "traceback": [
      "\u001b[0;31m---------------------------------------------------------------------------\u001b[0m",
      "\u001b[0;31mZeroDivisionError\u001b[0m                         Traceback (most recent call last)",
      "Cell \u001b[0;32mIn [33], line 4\u001b[0m\n\u001b[1;32m      1\u001b[0m n\u001b[38;5;241m=\u001b[39m \u001b[38;5;28mint\u001b[39m(\u001b[38;5;28minput\u001b[39m(\u001b[38;5;124m'\u001b[39m\u001b[38;5;124mEnter the number1 \u001b[39m\u001b[38;5;124m'\u001b[39m))\n\u001b[1;32m      2\u001b[0m d\u001b[38;5;241m=\u001b[39m \u001b[38;5;28mint\u001b[39m(\u001b[38;5;28minput\u001b[39m(\u001b[38;5;124m'\u001b[39m\u001b[38;5;124mEnter the number2 \u001b[39m\u001b[38;5;124m'\u001b[39m))\n\u001b[0;32m----> 4\u001b[0m result \u001b[38;5;241m=\u001b[39m \u001b[43mn\u001b[49m\u001b[38;5;241;43m/\u001b[39;49m\u001b[43md\u001b[49m\n\u001b[1;32m      5\u001b[0m \u001b[38;5;28mprint\u001b[39m(\u001b[38;5;124m'\u001b[39m\u001b[38;5;124mResults\u001b[39m\u001b[38;5;124m'\u001b[39m,result)\n",
      "\u001b[0;31mZeroDivisionError\u001b[0m: division by zero"
     ]
    }
   ],
   "source": [
    "n= int(input('Enter the number1 '))\n",
    "d= int(input('Enter the number2 '))\n",
    "\n",
    "result = n/d\n",
    "print('Results',result)"
   ]
  },
  {
   "cell_type": "code",
   "execution_count": 4,
   "id": "2dee7902-0aad-4d43-9c25-e1ce6775b25f",
   "metadata": {},
   "outputs": [
    {
     "name": "stdin",
     "output_type": "stream",
     "text": [
      "Enter the number1  6\n",
      "Enter the number2  0\n"
     ]
    },
    {
     "name": "stdout",
     "output_type": "stream",
     "text": [
      "Division by zero is not defined \n"
     ]
    }
   ],
   "source": [
    "try:\n",
    "    n= int(input('Enter the number1 '))\n",
    "    d= int(input('Enter the number2 '))\n",
    "\n",
    "    result = n/d\n",
    "    print('Results',result)\n",
    "    \n",
    "except ZeroDivisionError:\n",
    "    print('Division by zero is not defined ')"
   ]
  },
  {
   "cell_type": "code",
   "execution_count": 34,
   "id": "0d9fe6df-b9b2-433b-93c3-1324b96bcb27",
   "metadata": {},
   "outputs": [
    {
     "name": "stdin",
     "output_type": "stream",
     "text": [
      "Enter the number1  6\n",
      "Enter the number2  1.2\n"
     ]
    },
    {
     "name": "stdout",
     "output_type": "stream",
     "text": [
      "You have entered a float instead of integer\n"
     ]
    }
   ],
   "source": [
    "try:\n",
    "    n= int(input('Enter the number1 '))\n",
    "    d= int(input('Enter the number2 '))\n",
    "\n",
    "    result = n/d\n",
    "    print('Results',result)\n",
    "    \n",
    "except ValueError:\n",
    "    print('You have entered a float instead of integer')"
   ]
  },
  {
   "cell_type": "code",
   "execution_count": 35,
   "id": "05ba23fb-1a6a-4939-ba1e-a7d44f161b69",
   "metadata": {},
   "outputs": [
    {
     "name": "stdin",
     "output_type": "stream",
     "text": [
      "Enter the number1  6\n",
      "Enter the number2  0\n"
     ]
    },
    {
     "name": "stdout",
     "output_type": "stream",
     "text": [
      "Division by zero is not defined \n"
     ]
    }
   ],
   "source": [
    "try:\n",
    "    n= int(input('Enter the number1 '))\n",
    "    d= int(input('Enter the number2 '))\n",
    "\n",
    "    result = n/d\n",
    "    print('Results',result)\n",
    "    \n",
    "except ValueError:\n",
    "    print('You have entered a float instead of integer')\n",
    "    \n",
    "except ZeroDivisionError:\n",
    "    print('Division by zero is not defined ')    "
   ]
  },
  {
   "cell_type": "code",
   "execution_count": 36,
   "id": "9b589b77-d2d4-4220-90a6-3e86322c2f78",
   "metadata": {},
   "outputs": [
    {
     "name": "stdin",
     "output_type": "stream",
     "text": [
      "Enter the number1  9\n",
      "Enter the number2  1.0\n"
     ]
    },
    {
     "name": "stdout",
     "output_type": "stream",
     "text": [
      "You have entered a float instead of integer\n"
     ]
    }
   ],
   "source": [
    "try:\n",
    "    n= int(input('Enter the number1 '))\n",
    "    d= int(input('Enter the number2 '))\n",
    "\n",
    "    result = n/d\n",
    "    print('Results',result)\n",
    "    \n",
    "except ValueError:\n",
    "    print('You have entered a float instead of integer')\n",
    "    \n",
    "except ZeroDivisionError:\n",
    "    print('Division by zero is not defined ')    "
   ]
  },
  {
   "cell_type": "code",
   "execution_count": 41,
   "id": "2d7b3af7-bb52-4ba6-adb5-11783c5f27e6",
   "metadata": {},
   "outputs": [
    {
     "name": "stdin",
     "output_type": "stream",
     "text": [
      "Enter the number1  6\n",
      "Enter the number2  0\n"
     ]
    },
    {
     "name": "stdout",
     "output_type": "stream",
     "text": [
      "Division by zero is not defined \n"
     ]
    }
   ],
   "source": [
    "try:\n",
    "    n= int(input('Enter the number1 '))\n",
    "    d= int(input('Enter the number2 '))\n",
    "\n",
    "    result = n/d\n",
    "    print('Results',result)\n",
    "    \n",
    "except ValueError:\n",
    "    print('You have entered a float instead of integer')\n",
    "    \n",
    "except ZeroDivisionError:\n",
    "    print('Division by zero is not defined ')    "
   ]
  },
  {
   "cell_type": "code",
   "execution_count": null,
   "id": "0b93f36e-1e8d-4e2e-82a5-a5c8d29a1fd7",
   "metadata": {},
   "outputs": [],
   "source": [
    "#Type Errors "
   ]
  },
  {
   "cell_type": "code",
   "execution_count": 42,
   "id": "aabc7a4a-ee07-4cda-9484-6ae26e824286",
   "metadata": {},
   "outputs": [
    {
     "name": "stdout",
     "output_type": "stream",
     "text": [
      "Data type mismatch\n"
     ]
    }
   ],
   "source": [
    "try:\n",
    "    x= '10'\n",
    "    y= 20\n",
    "    z= x + y \n",
    "    print(z)\n",
    "    \n",
    "except TypeError :\n",
    "    print('Data type mismatch')"
   ]
  },
  {
   "cell_type": "code",
   "execution_count": 1,
   "id": "fc5b6583-9bb9-447d-97f3-5d3571423bf1",
   "metadata": {},
   "outputs": [
    {
     "name": "stdout",
     "output_type": "stream",
     "text": [
      "30\n"
     ]
    }
   ],
   "source": [
    "try:\n",
    "    x= 10\n",
    "    y= 20\n",
    "    z= x + y \n",
    "    print(z)\n",
    "    \n",
    "except TypeError :\n",
    "    print('Data type mismatch')"
   ]
  },
  {
   "cell_type": "code",
   "execution_count": 49,
   "id": "92b41f72-14eb-477a-9ef1-18de58d0213b",
   "metadata": {},
   "outputs": [
    {
     "name": "stdout",
     "output_type": "stream",
     "text": [
      "Wrong Index\n"
     ]
    }
   ],
   "source": [
    "try:\n",
    "    list1 = [1,2,3,4]\n",
    "    print(list1[5])\n",
    "    \n",
    "except IndexError:\n",
    "     print('Wrong Index')\n",
    "    "
   ]
  },
  {
   "cell_type": "code",
   "execution_count": 2,
   "id": "242a055d-343b-497a-bdc3-a2830a2e43a3",
   "metadata": {},
   "outputs": [
    {
     "name": "stdout",
     "output_type": "stream",
     "text": [
      "Luiz\n"
     ]
    }
   ],
   "source": [
    "try:\n",
    "    list1= ['Anna', 'Elsa', 'Luiz', 'Malu', 'Ammu']\n",
    "    print(list1[2])\n",
    "    \n",
    "except:\n",
    "    print('Wrong Index')"
   ]
  },
  {
   "cell_type": "code",
   "execution_count": 54,
   "id": "1208e6d6-1ba5-4509-9148-9046c9780331",
   "metadata": {},
   "outputs": [],
   "source": [
    "#key Error "
   ]
  },
  {
   "cell_type": "code",
   "execution_count": 62,
   "id": "8324db47-fe5e-4305-b672-ef290354b6e2",
   "metadata": {},
   "outputs": [
    {
     "name": "stdout",
     "output_type": "stream",
     "text": [
      "Key not found\n"
     ]
    }
   ],
   "source": [
    "try:\n",
    "    my_dict = {'name':'Anna','number':12}\n",
    "    print(my_dict['Name'])\n",
    "\n",
    "except KeyError:\n",
    "     print('Key not found')"
   ]
  },
  {
   "cell_type": "code",
   "execution_count": 3,
   "id": "4dc730a8-d2c6-49fb-8542-08532d3ba817",
   "metadata": {},
   "outputs": [
    {
     "ename": "KeyError",
     "evalue": "'Name'",
     "output_type": "error",
     "traceback": [
      "\u001b[0;31m---------------------------------------------------------------------------\u001b[0m",
      "\u001b[0;31mKeyError\u001b[0m                                  Traceback (most recent call last)",
      "Cell \u001b[0;32mIn [3], line 2\u001b[0m\n\u001b[1;32m      1\u001b[0m my_dict \u001b[38;5;241m=\u001b[39m {\u001b[38;5;124m'\u001b[39m\u001b[38;5;124mname\u001b[39m\u001b[38;5;124m'\u001b[39m:\u001b[38;5;124m'\u001b[39m\u001b[38;5;124mAnna\u001b[39m\u001b[38;5;124m'\u001b[39m,\u001b[38;5;124m'\u001b[39m\u001b[38;5;124mnumber\u001b[39m\u001b[38;5;124m'\u001b[39m:\u001b[38;5;241m12\u001b[39m}\n\u001b[0;32m----> 2\u001b[0m \u001b[38;5;28mprint\u001b[39m(\u001b[43mmy_dict\u001b[49m\u001b[43m[\u001b[49m\u001b[38;5;124;43m'\u001b[39;49m\u001b[38;5;124;43mName\u001b[39;49m\u001b[38;5;124;43m'\u001b[39;49m\u001b[43m]\u001b[49m)\n",
      "\u001b[0;31mKeyError\u001b[0m: 'Name'"
     ]
    }
   ],
   "source": [
    "my_dict = {'name':'Anna','number':12}\n",
    "print(my_dict['Name'])"
   ]
  },
  {
   "cell_type": "code",
   "execution_count": 4,
   "id": "a70548f6-4389-4894-8134-9a5a1ebbe152",
   "metadata": {},
   "outputs": [
    {
     "name": "stdout",
     "output_type": "stream",
     "text": [
      "Key not found\n"
     ]
    }
   ],
   "source": [
    "try:\n",
    "    my_dict = {'name':'Anna','number':12}\n",
    "    print(my_dict['Name'])\n",
    "\n",
    "except KeyError:\n",
    "     print('Key not found')"
   ]
  },
  {
   "cell_type": "code",
   "execution_count": 66,
   "id": "a744dead-d5e3-4ae1-9451-0d2eb4fa627d",
   "metadata": {},
   "outputs": [
    {
     "ename": "FileNotFoundError",
     "evalue": "[Errno 2] No such file or directory: 'my_file.txt'",
     "output_type": "error",
     "traceback": [
      "\u001b[0;31m---------------------------------------------------------------------------\u001b[0m",
      "\u001b[0;31mFileNotFoundError\u001b[0m                         Traceback (most recent call last)",
      "Cell \u001b[0;32mIn [66], line 2\u001b[0m\n\u001b[1;32m      1\u001b[0m file_location\u001b[38;5;241m=\u001b[39m \u001b[38;5;124m'\u001b[39m\u001b[38;5;124mmy_file.txt\u001b[39m\u001b[38;5;124m'\u001b[39m\n\u001b[0;32m----> 2\u001b[0m \u001b[38;5;28;01mwith\u001b[39;00m \u001b[38;5;28;43mopen\u001b[39;49m\u001b[43m(\u001b[49m\u001b[43mfile_location\u001b[49m\u001b[43m,\u001b[49m\u001b[43m \u001b[49m\u001b[38;5;124;43m'\u001b[39;49m\u001b[38;5;124;43mr\u001b[39;49m\u001b[38;5;124;43m'\u001b[39;49m\u001b[43m)\u001b[49m \u001b[38;5;28;01mas\u001b[39;00m file:\n\u001b[1;32m      3\u001b[0m         contents\u001b[38;5;241m=\u001b[39m file\u001b[38;5;241m.\u001b[39mread()\n",
      "\u001b[0;31mFileNotFoundError\u001b[0m: [Errno 2] No such file or directory: 'my_file.txt'"
     ]
    }
   ],
   "source": [
    "file_location= 'my_file.txt'\n",
    "with open(file_location, 'r') as file:\n",
    "        contents= file.read()"
   ]
  },
  {
   "cell_type": "code",
   "execution_count": 64,
   "id": "b3b98fad-341c-48a7-a8b0-f69e0f51739c",
   "metadata": {},
   "outputs": [
    {
     "name": "stdout",
     "output_type": "stream",
     "text": [
      "No files found\n"
     ]
    }
   ],
   "source": [
    "#file not found\n",
    "\n",
    "try:\n",
    "    file_location= 'my_file.txt'\n",
    "    \n",
    "    with open(file_location, 'r') as file:\n",
    "        contents= file.read()\n",
    "        \n",
    "except FileNotFoundError:\n",
    "     print('No files found')"
   ]
  },
  {
   "cell_type": "code",
   "execution_count": 85,
   "id": "816f76a4-1c03-49f9-8391-b9ac78fadf9b",
   "metadata": {},
   "outputs": [
    {
     "name": "stdout",
     "output_type": "stream",
     "text": [
      "unable to write to this file 'my_file.txt'.\n"
     ]
    }
   ],
   "source": [
    "try:\n",
    "    file_location= 'my_file.txt'\n",
    "    \n",
    "    with open(file_location, 'w') as file:\n",
    "        contents= file.read()\n",
    "        \n",
    "except IOError: \n",
    "     print(f\"unable to write to this file '{file_location}'.\")"
   ]
  },
  {
   "cell_type": "code",
   "execution_count": 79,
   "id": "d84a4de9-354f-4713-849f-2438f2042d29",
   "metadata": {},
   "outputs": [],
   "source": [
    "import math "
   ]
  },
  {
   "cell_type": "code",
   "execution_count": 80,
   "id": "f4ee2bf3-bc7d-4cfc-982e-dcd6173a5ac7",
   "metadata": {},
   "outputs": [
    {
     "ename": "ModuleNotFoundError",
     "evalue": "No module named 'mypackage'",
     "output_type": "error",
     "traceback": [
      "\u001b[0;31m---------------------------------------------------------------------------\u001b[0m",
      "\u001b[0;31mModuleNotFoundError\u001b[0m                       Traceback (most recent call last)",
      "Cell \u001b[0;32mIn [80], line 1\u001b[0m\n\u001b[0;32m----> 1\u001b[0m \u001b[38;5;28;01mimport\u001b[39;00m \u001b[38;5;21;01mmypackage\u001b[39;00m\n",
      "\u001b[0;31mModuleNotFoundError\u001b[0m: No module named 'mypackage'"
     ]
    }
   ],
   "source": [
    "import mypackage \n"
   ]
  },
  {
   "cell_type": "code",
   "execution_count": 81,
   "id": "d863e6fa-38e0-443b-959b-bc0293a85c7b",
   "metadata": {},
   "outputs": [
    {
     "name": "stdout",
     "output_type": "stream",
     "text": [
      "no module named mypackage\n"
     ]
    }
   ],
   "source": [
    "try:\n",
    "    import mypackage \n",
    "    \n",
    "except ModuleNotFoundError:\n",
    "       print('no module named mypackage')"
   ]
  },
  {
   "cell_type": "code",
   "execution_count": 82,
   "id": "da8f9f59-9937-4af6-9fc6-d4d46a8a2767",
   "metadata": {},
   "outputs": [
    {
     "name": "stdout",
     "output_type": "stream",
     "text": [
      "no module named mypackage\n"
     ]
    }
   ],
   "source": [
    "try:\n",
    "    import mypackage \n",
    "    \n",
    "except ImportError:\n",
    "       print('no module named mypackage')"
   ]
  },
  {
   "cell_type": "code",
   "execution_count": null,
   "id": "78b36d8d-ae5c-4b32-af19-f3e55d613964",
   "metadata": {},
   "outputs": [],
   "source": [
    "big_list = [1] * (10 ** 2)\n",
    "\n",
    "#big_list"
   ]
  },
  {
   "cell_type": "code",
   "execution_count": 93,
   "id": "b1f5fa50-b98b-4511-930c-6352aa1398ba",
   "metadata": {},
   "outputs": [
    {
     "ename": "MemoryError",
     "evalue": "",
     "output_type": "error",
     "traceback": [
      "\u001b[0;31m---------------------------------------------------------------------------\u001b[0m",
      "\u001b[0;31mMemoryError\u001b[0m                               Traceback (most recent call last)",
      "Cell \u001b[0;32mIn [93], line 1\u001b[0m\n\u001b[0;32m----> 1\u001b[0m big_list \u001b[38;5;241m=\u001b[39m \u001b[43m[\u001b[49m\u001b[38;5;241;43m1\u001b[39;49m\u001b[43m]\u001b[49m\u001b[43m \u001b[49m\u001b[38;5;241;43m*\u001b[39;49m\u001b[43m \u001b[49m\u001b[43m(\u001b[49m\u001b[38;5;241;43m10\u001b[39;49m\u001b[43m \u001b[49m\u001b[38;5;241;43m*\u001b[39;49m\u001b[38;5;241;43m*\u001b[39;49m\u001b[43m \u001b[49m\u001b[38;5;241;43m12\u001b[39;49m\u001b[43m)\u001b[49m\n",
      "\u001b[0;31mMemoryError\u001b[0m: "
     ]
    }
   ],
   "source": [
    " big_list = [1] * (10 ** 12)  #list contains 1s = 10^12\n",
    "    \n"
   ]
  },
  {
   "cell_type": "code",
   "execution_count": null,
   "id": "13db9c69-2389-49ff-89d1-df696ab90396",
   "metadata": {},
   "outputs": [],
   "source": [
    "try:\n",
    "    big_list = [1] * (10 ** 12)  #list contains 1s = 10^12\n",
    "    \n",
    "except MemoryError:\n",
    "    print('Insufficient memory for the list')"
   ]
  },
  {
   "cell_type": "code",
   "execution_count": 3,
   "id": "ffabead8-5da4-491f-afd9-c521dab9cec9",
   "metadata": {},
   "outputs": [
    {
     "name": "stdout",
     "output_type": "stream",
     "text": [
      "93326361850321887899008954472381716961709144637170802462171433979596691097577563445444032709788110235959498993032424262421548752135403239484152081720393075623441066613832515027399507598590183151110049079626511311824051251479593379080517827112541510381069837885442648111946981422866095922201766291044279845616944888714746652800632836845264742926182986216520279319528949360711785066366874106543980553071813632059984482604195410121322962986950219451460990421460866836124479295203482686461765792691604742006593638904173789582211836507804555662844427392538751712785479678155634640371487768176689985539206926543942400871197367470174986262669074729676253580392937623383398104692787455860525369644165039062500000000000000000000000000000000000000000000000000000000000000000000000000000000000000000000000000000000000000000000000000000000000000000000000000000000000000000000000000000000000000000000000000000000000000000000000000000000000000000000000000000000000000000000000000000000000000000000000000000000000000000000000000000000000000000000000000000000000000000000000000000000000000000000000000000000000000000000000000000000000000000000000000000000000000000000000000000000000000000000000000000000000000000000000000000000000000000000000000000000000000000000000000000000000000000000000000000000000000000000000000000000000000000000000000000000000000000000000000000000000000000000000000000000000000000000000000000000000000000000000000000000000000000000000000000000000000000000000000000000000000000000000000000000000000000000000000000000000000000000000000000000000000000000000000000000000000000000000000000000000000000000000000000000000000000000000000000000000000000000000000000000000000000000000000000000000000000000000000000000000000000000000000000000000000000000000000000000000000000000000000000000000000000000000000000000000000000000000000000000000000000000000000000000000000000000000000000000000000000000000000000000000000000000000000000000000000000000000000000000000000000000000000000000000000000000000000000000000000000000000000000000000000000000000000000000000000000000000000000000000000000000000000000000000000000000000000000000000000000000000000000000000000000000000000000000000000000000000000000000000000000000000000000000000000000000000000000000000000000000000000000000000000000000000000000000000000000000000000000000000000000000000000000000000000000000000000000000000000000000000000000000000000000000000000000000000000000000000000000000000000000000000000000000000000000000000000000000000000000000000000000000000000000000000000000000000000000000000000000000000000000000000000000000000000000000000000000000000000000000000000000000000000000000000000000000000000000000000000000000000000000000000000000000\n"
     ]
    }
   ],
   "source": [
    "try:\n",
    "    result =  500** 1000\n",
    "    \n",
    "except OverflowError:\n",
    "    print('Too big caclculation')\n",
    "else:\n",
    "    print(result)"
   ]
  },
  {
   "cell_type": "code",
   "execution_count": 7,
   "id": "79b24e28-1084-49c8-a44f-4e08031e665d",
   "metadata": {},
   "outputs": [
    {
     "name": "stdout",
     "output_type": "stream",
     "text": [
      "My age is 23 \n"
     ]
    }
   ],
   "source": [
    "try:\n",
    "    print('My age is 23 ')\n",
    "    \n",
    "except SyntaxError :\n",
    "          print('Invalid syntax')"
   ]
  },
  {
   "cell_type": "code",
   "execution_count": 8,
   "id": "488741b2-37dd-453b-9830-980ecd661a1b",
   "metadata": {},
   "outputs": [
    {
     "ename": "SyntaxError",
     "evalue": "incomplete input (3674799206.py, line 1)",
     "output_type": "error",
     "traceback": [
      "\u001b[0;36m  Cell \u001b[0;32mIn [8], line 1\u001b[0;36m\u001b[0m\n\u001b[0;31m    print('My age is 23 '\u001b[0m\n\u001b[0m                         ^\u001b[0m\n\u001b[0;31mSyntaxError\u001b[0m\u001b[0;31m:\u001b[0m incomplete input\n"
     ]
    }
   ],
   "source": [
    "print('My age is 23 '"
   ]
  },
  {
   "cell_type": "code",
   "execution_count": 9,
   "id": "bc7dd955-7609-4184-b39e-ca8647275400",
   "metadata": {},
   "outputs": [
    {
     "ename": "IndentationError",
     "evalue": "expected an indented block after 'if' statement on line 2 (1042303352.py, line 3)",
     "output_type": "error",
     "traceback": [
      "\u001b[0;36m  Cell \u001b[0;32mIn [9], line 3\u001b[0;36m\u001b[0m\n\u001b[0;31m    print(x)\u001b[0m\n\u001b[0m    ^\u001b[0m\n\u001b[0;31mIndentationError\u001b[0m\u001b[0;31m:\u001b[0m expected an indented block after 'if' statement on line 2\n"
     ]
    }
   ],
   "source": [
    "x= 5 \n",
    "if x == 5:\n",
    "print(x)    "
   ]
  },
  {
   "cell_type": "code",
   "execution_count": 10,
   "id": "26a95567-ea92-4803-b465-e46f7c6c4332",
   "metadata": {},
   "outputs": [
    {
     "ename": "IndentationError",
     "evalue": "expected an indented block after 'if' statement on line 3 (1985738682.py, line 4)",
     "output_type": "error",
     "traceback": [
      "\u001b[0;36m  Cell \u001b[0;32mIn [10], line 4\u001b[0;36m\u001b[0m\n\u001b[0;31m    print(x)\u001b[0m\n\u001b[0m    ^\u001b[0m\n\u001b[0;31mIndentationError\u001b[0m\u001b[0;31m:\u001b[0m expected an indented block after 'if' statement on line 3\n"
     ]
    }
   ],
   "source": [
    "try:\n",
    "    x= 5 \n",
    "    if x == 5:\n",
    "    print(x) \n",
    "    \n",
    "except IndentationError:\n",
    "    print('expected an indented block ')\n",
    "    "
   ]
  },
  {
   "cell_type": "code",
   "execution_count": 2,
   "id": "7c20ac79-9337-4d54-baac-1bebc5495eac",
   "metadata": {},
   "outputs": [
    {
     "ename": "NameError",
     "evalue": "name 'area' is not defined",
     "output_type": "error",
     "traceback": [
      "\u001b[0;31m---------------------------------------------------------------------------\u001b[0m",
      "\u001b[0;31mNameError\u001b[0m                                 Traceback (most recent call last)",
      "Cell \u001b[0;32mIn [2], line 2\u001b[0m\n\u001b[1;32m      1\u001b[0m side \u001b[38;5;241m=\u001b[39m \u001b[38;5;124m\"\u001b[39m\u001b[38;5;124m4\u001b[39m\u001b[38;5;124m\"\u001b[39m\n\u001b[0;32m----> 2\u001b[0m \u001b[38;5;28mprint\u001b[39m(\u001b[43marea\u001b[49m)\n",
      "\u001b[0;31mNameError\u001b[0m: name 'area' is not defined"
     ]
    }
   ],
   "source": [
    "side = \"4\"\n",
    "print(area)  # Attempting to access an undefined variable"
   ]
  },
  {
   "cell_type": "code",
   "execution_count": 3,
   "id": "972e9a2a-f9f1-4935-8c68-6c05d6c1d103",
   "metadata": {},
   "outputs": [
    {
     "name": "stdout",
     "output_type": "stream",
     "text": [
      "NameError is there\n"
     ]
    }
   ],
   "source": [
    "try:\n",
    "    side = \"4\"\n",
    "    print(area)  # Attempting to access an undefined variable\n",
    "\n",
    "except NameError:\n",
    "    print(\"NameError is there\")"
   ]
  },
  {
   "cell_type": "code",
   "execution_count": 5,
   "id": "132df3a5-36b9-4ff1-96d1-b4a85ee175b7",
   "metadata": {},
   "outputs": [
    {
     "ename": "IndentationError",
     "evalue": "unexpected indent (2172126899.py, line 2)",
     "output_type": "error",
     "traceback": [
      "\u001b[0;36m  Cell \u001b[0;32mIn [5], line 2\u001b[0;36m\u001b[0m\n\u001b[0;31m    age.append(12)    # Using append method\u001b[0m\n\u001b[0m    ^\u001b[0m\n\u001b[0;31mIndentationError\u001b[0m\u001b[0;31m:\u001b[0m unexpected indent\n"
     ]
    }
   ],
   "source": [
    "age = 20\n",
    "age.append(12)    # Using append method\n",
    "    \n"
   ]
  },
  {
   "cell_type": "code",
   "execution_count": 9,
   "id": "7f8a4730-cf63-4763-b8a1-6ee1c24876b6",
   "metadata": {},
   "outputs": [
    {
     "name": "stdout",
     "output_type": "stream",
     "text": [
      "'age' object has no attribute.\n"
     ]
    }
   ],
   "source": [
    "try:\n",
    "    age = 20\n",
    "    age.append(12)  # Using append method\n",
    "\n",
    "except AttributeError:\n",
    "    print(\"'age' object has no attribute.\")\n",
    "else: \n",
    "    print(result)"
   ]
  },
  {
   "cell_type": "code",
   "execution_count": 10,
   "id": "2d815b94-d706-4973-8c0c-2e51826001f3",
   "metadata": {},
   "outputs": [
    {
     "ename": "SyntaxError",
     "evalue": "unterminated string literal (detected at line 2) (2902008962.py, line 2)",
     "output_type": "error",
     "traceback": [
      "\u001b[0;36m  Cell \u001b[0;32mIn [10], line 2\u001b[0;36m\u001b[0m\n\u001b[0;31m    to be expressed by the normal number format.\"\"\"\"\u001b[0m\n\u001b[0m                                                   ^\u001b[0m\n\u001b[0;31mSyntaxError\u001b[0m\u001b[0;31m:\u001b[0m unterminated string literal (detected at line 2)\n"
     ]
    }
   ],
   "source": [
    "\"\"\"\"Raised when the result of an arithmetic operation is too large \n",
    "    to be expressed by the normal number format.\"\"\"\" \n",
    "try:\n",
    "    result = 5000 ** 10  # Attempting to calculate an extremely large number\n",
    "\n",
    "except OverflowError:\n",
    "    print(\"Error: Calculation resulted in an overflow.\")\n",
    "else: \n",
    "    print(result)"
   ]
  },
  {
   "cell_type": "code",
   "execution_count": 11,
   "id": "aa86a716-4332-4889-a76e-a50efd057895",
   "metadata": {},
   "outputs": [
    {
     "name": "stdout",
     "output_type": "stream",
     "text": [
      "9765625000000000000000000000000000000\n"
     ]
    }
   ],
   "source": [
    "try:\n",
    "    result = 5000 ** 1  # Attempting to calculate an extremely large number\n",
    "\n",
    "except OverflowError:\n",
    "    print(\"Error: Calculation resulted in an overflow.\")\n",
    "else: \n",
    "    print(result)"
   ]
  },
  {
   "cell_type": "code",
   "execution_count": 13,
   "id": "a91e6065-21a5-4601-b2f2-dfd7b9b161e1",
   "metadata": {},
   "outputs": [
    {
     "name": "stdout",
     "output_type": "stream",
     "text": [
      "1953125000000000000000000000000000\n"
     ]
    }
   ],
   "source": [
    "try:\n",
    "    result = 5000 ** 9  # Attempting to calculate an extremely large number\n",
    "\n",
    "except OverflowError:\n",
    "    print(\"Error: Calculation resulted in an overflow.\")\n",
    "else: \n",
    "    print(result)"
   ]
  },
  {
   "cell_type": "code",
   "execution_count": 16,
   "id": "6da5c239-4b6d-457f-abfa-dfe45a4f4db5",
   "metadata": {},
   "outputs": [],
   "source": [
    "def quiz_on_exception():\n",
    "    # Quiz Questions\n",
    "    quiz_data = [\n",
    "        {\n",
    "            \"question\": \"Which keyword is used for exception handling?\",\n",
    "            \"options\": ['a) raise', 'b) try', 'c) handle', 'd) exception'],\n",
    "            \"answer\": 'b'\n",
    "        },\n",
    "        {\n",
    "            \"question\": \"What is the purpose of the 'finally' clause in Python exception handling?\",\n",
    "            \"options\": ['a) It executes no matter what', 'b) It is executed if an exception occurs', 'c) It is executed if no exception', 'd) None of the above'],\n",
    "            \"answer\": 'a'\n",
    "        },\n",
    "        {\n",
    "            \"question\": \"Which built-in exception is raised when a function or operation is not implemented yet?\",\n",
    "            \"options\": ['a) NotImplementedError', 'b) ArithmeticError', 'c) BufferError', 'd) AssertionError'],\n",
    "            \"answer\": 'a'\n",
    "        },\n",
    "        {\n",
    "            \"question\": \"Which of the following exceptions is NOT raised by Python built-in operations?\",\n",
    "            \"options\": ['a) IOError', 'b) FileNotFoundError', 'c) KeyNotFoundError', 'd) ZeroDivisionError'],\n",
    "            \"answer\": 'c'\n",
    "        },\n",
    "        {\n",
    "            \"question\": \"What exception is raised when a local or global name is not found?\",\n",
    "            \"options\": ['a) AttributeError', 'b) KeyError', 'c) ImportError', 'd) NameError'],\n",
    "            \"answer\": 'd'\n",
    "        },\n",
    "        {\n",
    "            \"question\": \"What exception is raised when the parser encounters a syntax error?\",\n",
    "            \"options\": ['a) AttributeError', 'b) SyntaxError', 'c) IndentationError', 'd) ValueError'],\n",
    "            \"answer\": 'b'\n",
    "        },\n",
    "        {\n",
    "            \"question\": \"What exception is raised when there is incorrect indentation?\",\n",
    "            \"options\": ['a) IndentationError', 'b) ValueError', 'c) SyntaxError', 'd) TypeError'],\n",
    "            \"answer\": 'a'\n",
    "        },\n",
    "        {\n",
    "            \"question\": \"What exception is raised when an operation or function receives an argument of the right type but an inappropriate value?\",\n",
    "            \"options\": ['a) ValueError', 'b) TypeError', 'c) IndexError', 'd) KeyError'],\n",
    "            \"answer\": 'a'\n",
    "        },\n",
    "        {\n",
    "            \"question\": \"What exception is raised when a sequence subscript is out of range?\",\n",
    "            \"options\": ['a) KeyError', 'b) ValueError', 'c) TypeError', 'd) IndexError'],\n",
    "            \"answer\": 'd'\n",
    "        },\n",
    "        {\n",
    "            \"question\": \"What exception is raised when an import statement fails to find the module definition or when a from ... import fails to find a name that is to be imported?\",\n",
    "            \"options\": ['a) ImportError', 'b) ValueError', 'c) FileNotFoundError', 'd) AttributeError'],\n",
    "            \"answer\": 'a'\n",
    "        },\n",
    "        {\n",
    "            \"question\": \"What exception is raised when an operation runs out of memory?\",\n",
    "            \"options\": ['a) MemoryError', 'b) BufferError', 'c) OverflowError', 'd) ArithmeticError'],\n",
    "            \"answer\": 'a'\n",
    "        },\n",
    "        {\n",
    "            \"question\": \"What exception is raised when the result of an arithmetic operation is too large to be expressed by the normal number format?\",\n",
    "            \"options\": ['a) OverflowError', 'b) MemoryError', 'c) IndexError', 'd) ArithmeticError'],\n",
    "            \"answer\": 'a'\n",
    "        },\n",
    "        {\n",
    "            \"question\": \"What exception is raised when an attribute reference or assignment fails?\",\n",
    "            \"options\": ['a) AttributeError', 'b) KeyError', 'c) ImportError', 'd) NameError'],\n",
    "            \"answer\": 'a'\n",
    "        },\n",
    "        {\n",
    "            \"question\": \"What exception is raised when a file or directory is requested but doesn’t exist?\",\n",
    "            \"options\": ['a) FileNotFoundError', 'b) IOError', 'c) ImportError', 'd) KeyError'],\n",
    "            \"answer\": 'a'\n",
    "        },\n",
    "        {\n",
    "            \"question\": \"What exception is raised when a dictionary key is not found?\",\n",
    "            \"options\": ['a) KeyError', 'b) ValueError', 'c) IndexError', 'd) FileNotFoundError'],\n",
    "            \"answer\": 'a'\n",
    "        },\n",
    "    ]\n",
    "\n",
    "    def ask_question(question_data):\n",
    "        print(question_data[\"question\"])\n",
    "        for option in question_data[\"options\"]:\n",
    "            print(option)\n",
    "        while True:\n",
    "            try:\n",
    "                user_answer = input(\"Enter your answer: \")\n",
    "                if user_answer in ['a', 'b', 'c', 'd']:\n",
    "                    correct = user_answer == question_data[\"answer\"]\n",
    "                    if not correct:\n",
    "                        print(f\"Incorrect.\")\n",
    "                    return user_answer, question_data[\"answer\"], correct\n",
    "                else:\n",
    "                    raise ValueError(\"Invalid option. Please enter a, b, c, or d.\")\n",
    "            except ValueError as e:\n",
    "                print(e)\n",
    "\n",
    "    score = 0\n",
    "    all_answers = []  # a list to store all the user's answers and correct answers\n",
    "\n",
    "    for question_data in quiz_data:\n",
    "        user_answer, correct_answer, correct = ask_question(question_data)\n",
    "        all_answers.append((question_data[\"question\"], user_answer, correct_answer, correct))\n",
    "        if correct:\n",
    "            print(\"Correct!\")\n",
    "            score += 1\n",
    "\n",
    "    print(\"\\n\"+\"-\"*30+\"\\nQuiz Results\\n\"+\"-\"*30)\n",
    "    for item in all_answers:\n",
    "        print(f\"Question: {item[0]}\\nYour Answer: {item[1]}\\nCorrect Answer: {item[2]}\\n{'Correct' if item[3] else 'Incorrect'}\")\n",
    "        print(\"-\"*30)\n",
    "    print(f\"You scored {score}/{len(quiz_data)}.\")\n"
   ]
  },
  {
   "cell_type": "code",
   "execution_count": 18,
   "id": "5e1b98e8-6d00-4ea0-8359-793c4da019f9",
   "metadata": {},
   "outputs": [
    {
     "name": "stdout",
     "output_type": "stream",
     "text": [
      "Which keyword is used for exception handling?\n",
      "a) raise\n",
      "b) try\n",
      "c) handle\n",
      "d) exception\n"
     ]
    },
    {
     "name": "stdin",
     "output_type": "stream",
     "text": [
      "Enter your answer:  b\n"
     ]
    },
    {
     "name": "stdout",
     "output_type": "stream",
     "text": [
      "Correct!\n",
      "What is the purpose of the 'finally' clause in Python exception handling?\n",
      "a) It executes no matter what\n",
      "b) It is executed if an exception occurs\n",
      "c) It is executed if no exception\n",
      "d) None of the above\n"
     ]
    },
    {
     "name": "stdin",
     "output_type": "stream",
     "text": [
      "Enter your answer:  a\n"
     ]
    },
    {
     "name": "stdout",
     "output_type": "stream",
     "text": [
      "Correct!\n",
      "Which built-in exception is raised when a function or operation is not implemented yet?\n",
      "a) NotImplementedError\n",
      "b) ArithmeticError\n",
      "c) BufferError\n",
      "d) AssertionError\n"
     ]
    },
    {
     "name": "stdin",
     "output_type": "stream",
     "text": [
      "Enter your answer:  a\n"
     ]
    },
    {
     "name": "stdout",
     "output_type": "stream",
     "text": [
      "Correct!\n",
      "Which of the following exceptions is NOT raised by Python built-in operations?\n",
      "a) IOError\n",
      "b) FileNotFoundError\n",
      "c) KeyNotFoundError\n",
      "d) ZeroDivisionError\n"
     ]
    },
    {
     "name": "stdin",
     "output_type": "stream",
     "text": [
      "Enter your answer:  c\n"
     ]
    },
    {
     "name": "stdout",
     "output_type": "stream",
     "text": [
      "Correct!\n",
      "What exception is raised when a local or global name is not found?\n",
      "a) AttributeError\n",
      "b) KeyError\n",
      "c) ImportError\n",
      "d) NameError\n"
     ]
    },
    {
     "name": "stdin",
     "output_type": "stream",
     "text": [
      "Enter your answer:  a\n"
     ]
    },
    {
     "name": "stdout",
     "output_type": "stream",
     "text": [
      "Incorrect.\n",
      "What exception is raised when the parser encounters a syntax error?\n",
      "a) AttributeError\n",
      "b) SyntaxError\n",
      "c) IndentationError\n",
      "d) ValueError\n"
     ]
    },
    {
     "name": "stdin",
     "output_type": "stream",
     "text": [
      "Enter your answer:  a\n"
     ]
    },
    {
     "name": "stdout",
     "output_type": "stream",
     "text": [
      "Incorrect.\n",
      "What exception is raised when there is incorrect indentation?\n",
      "a) IndentationError\n",
      "b) ValueError\n",
      "c) SyntaxError\n",
      "d) TypeError\n"
     ]
    },
    {
     "name": "stdin",
     "output_type": "stream",
     "text": [
      "Enter your answer:  a\n"
     ]
    },
    {
     "name": "stdout",
     "output_type": "stream",
     "text": [
      "Correct!\n",
      "What exception is raised when an operation or function receives an argument of the right type but an inappropriate value?\n",
      "a) ValueError\n",
      "b) TypeError\n",
      "c) IndexError\n",
      "d) KeyError\n"
     ]
    },
    {
     "name": "stdin",
     "output_type": "stream",
     "text": [
      "Enter your answer:  a\n"
     ]
    },
    {
     "name": "stdout",
     "output_type": "stream",
     "text": [
      "Correct!\n",
      "What exception is raised when a sequence subscript is out of range?\n",
      "a) KeyError\n",
      "b) ValueError\n",
      "c) TypeError\n",
      "d) IndexError\n"
     ]
    },
    {
     "name": "stdin",
     "output_type": "stream",
     "text": [
      "Enter your answer:  a\n"
     ]
    },
    {
     "name": "stdout",
     "output_type": "stream",
     "text": [
      "Incorrect.\n",
      "What exception is raised when an import statement fails to find the module definition or when a from ... import fails to find a name that is to be imported?\n",
      "a) ImportError\n",
      "b) ValueError\n",
      "c) FileNotFoundError\n",
      "d) AttributeError\n"
     ]
    },
    {
     "name": "stdin",
     "output_type": "stream",
     "text": [
      "Enter your answer:  a\n"
     ]
    },
    {
     "name": "stdout",
     "output_type": "stream",
     "text": [
      "Correct!\n",
      "What exception is raised when an operation runs out of memory?\n",
      "a) MemoryError\n",
      "b) BufferError\n",
      "c) OverflowError\n",
      "d) ArithmeticError\n"
     ]
    },
    {
     "name": "stdin",
     "output_type": "stream",
     "text": [
      "Enter your answer:  a\n"
     ]
    },
    {
     "name": "stdout",
     "output_type": "stream",
     "text": [
      "Correct!\n",
      "What exception is raised when the result of an arithmetic operation is too large to be expressed by the normal number format?\n",
      "a) OverflowError\n",
      "b) MemoryError\n",
      "c) IndexError\n",
      "d) ArithmeticError\n"
     ]
    },
    {
     "name": "stdin",
     "output_type": "stream",
     "text": [
      "Enter your answer:  a\n"
     ]
    },
    {
     "name": "stdout",
     "output_type": "stream",
     "text": [
      "Correct!\n",
      "What exception is raised when an attribute reference or assignment fails?\n",
      "a) AttributeError\n",
      "b) KeyError\n",
      "c) ImportError\n",
      "d) NameError\n"
     ]
    },
    {
     "name": "stdin",
     "output_type": "stream",
     "text": [
      "Enter your answer:  a\n"
     ]
    },
    {
     "name": "stdout",
     "output_type": "stream",
     "text": [
      "Correct!\n",
      "What exception is raised when a file or directory is requested but doesn’t exist?\n",
      "a) FileNotFoundError\n",
      "b) IOError\n",
      "c) ImportError\n",
      "d) KeyError\n"
     ]
    },
    {
     "name": "stdin",
     "output_type": "stream",
     "text": [
      "Enter your answer:  a\n"
     ]
    },
    {
     "name": "stdout",
     "output_type": "stream",
     "text": [
      "Correct!\n",
      "What exception is raised when a dictionary key is not found?\n",
      "a) KeyError\n",
      "b) ValueError\n",
      "c) IndexError\n",
      "d) FileNotFoundError\n"
     ]
    },
    {
     "name": "stdin",
     "output_type": "stream",
     "text": [
      "Enter your answer:  a\n"
     ]
    },
    {
     "name": "stdout",
     "output_type": "stream",
     "text": [
      "Correct!\n",
      "\n",
      "------------------------------\n",
      "Quiz Results\n",
      "------------------------------\n",
      "Question: Which keyword is used for exception handling?\n",
      "Your Answer: b\n",
      "Correct Answer: b\n",
      "Correct\n",
      "------------------------------\n",
      "Question: What is the purpose of the 'finally' clause in Python exception handling?\n",
      "Your Answer: a\n",
      "Correct Answer: a\n",
      "Correct\n",
      "------------------------------\n",
      "Question: Which built-in exception is raised when a function or operation is not implemented yet?\n",
      "Your Answer: a\n",
      "Correct Answer: a\n",
      "Correct\n",
      "------------------------------\n",
      "Question: Which of the following exceptions is NOT raised by Python built-in operations?\n",
      "Your Answer: c\n",
      "Correct Answer: c\n",
      "Correct\n",
      "------------------------------\n",
      "Question: What exception is raised when a local or global name is not found?\n",
      "Your Answer: a\n",
      "Correct Answer: d\n",
      "Incorrect\n",
      "------------------------------\n",
      "Question: What exception is raised when the parser encounters a syntax error?\n",
      "Your Answer: a\n",
      "Correct Answer: b\n",
      "Incorrect\n",
      "------------------------------\n",
      "Question: What exception is raised when there is incorrect indentation?\n",
      "Your Answer: a\n",
      "Correct Answer: a\n",
      "Correct\n",
      "------------------------------\n",
      "Question: What exception is raised when an operation or function receives an argument of the right type but an inappropriate value?\n",
      "Your Answer: a\n",
      "Correct Answer: a\n",
      "Correct\n",
      "------------------------------\n",
      "Question: What exception is raised when a sequence subscript is out of range?\n",
      "Your Answer: a\n",
      "Correct Answer: d\n",
      "Incorrect\n",
      "------------------------------\n",
      "Question: What exception is raised when an import statement fails to find the module definition or when a from ... import fails to find a name that is to be imported?\n",
      "Your Answer: a\n",
      "Correct Answer: a\n",
      "Correct\n",
      "------------------------------\n",
      "Question: What exception is raised when an operation runs out of memory?\n",
      "Your Answer: a\n",
      "Correct Answer: a\n",
      "Correct\n",
      "------------------------------\n",
      "Question: What exception is raised when the result of an arithmetic operation is too large to be expressed by the normal number format?\n",
      "Your Answer: a\n",
      "Correct Answer: a\n",
      "Correct\n",
      "------------------------------\n",
      "Question: What exception is raised when an attribute reference or assignment fails?\n",
      "Your Answer: a\n",
      "Correct Answer: a\n",
      "Correct\n",
      "------------------------------\n",
      "Question: What exception is raised when a file or directory is requested but doesn’t exist?\n",
      "Your Answer: a\n",
      "Correct Answer: a\n",
      "Correct\n",
      "------------------------------\n",
      "Question: What exception is raised when a dictionary key is not found?\n",
      "Your Answer: a\n",
      "Correct Answer: a\n",
      "Correct\n",
      "------------------------------\n",
      "You scored 12/15.\n"
     ]
    }
   ],
   "source": [
    "quiz_on_exception()"
   ]
  },
  {
   "cell_type": "code",
   "execution_count": null,
   "id": "5f94d932-dda8-49ba-af72-b8e3242c0242",
   "metadata": {},
   "outputs": [],
   "source": []
  },
  {
   "cell_type": "code",
   "execution_count": null,
   "id": "6dcf863b-bd3c-4367-9d47-b6a62e466e40",
   "metadata": {},
   "outputs": [],
   "source": []
  },
  {
   "cell_type": "code",
   "execution_count": null,
   "id": "10cbae1b-4d93-4871-ae77-a8f7df421672",
   "metadata": {},
   "outputs": [],
   "source": []
  },
  {
   "cell_type": "code",
   "execution_count": null,
   "id": "57e5e165-746a-4b1d-a073-99fa7980e7d4",
   "metadata": {},
   "outputs": [],
   "source": []
  },
  {
   "cell_type": "code",
   "execution_count": null,
   "id": "96ac6e1c-9986-4b75-965e-cb0cf61c0a3d",
   "metadata": {},
   "outputs": [],
   "source": []
  },
  {
   "cell_type": "code",
   "execution_count": null,
   "id": "da0b70b8-1c2e-4dd2-a166-7d9595c28720",
   "metadata": {},
   "outputs": [],
   "source": []
  }
 ],
 "metadata": {
  "kernelspec": {
   "display_name": "Python 3 (ipykernel)",
   "language": "python",
   "name": "python3"
  },
  "language_info": {
   "codemirror_mode": {
    "name": "ipython",
    "version": 3
   },
   "file_extension": ".py",
   "mimetype": "text/x-python",
   "name": "python",
   "nbconvert_exporter": "python",
   "pygments_lexer": "ipython3",
   "version": "3.10.6"
  }
 },
 "nbformat": 4,
 "nbformat_minor": 5
}
