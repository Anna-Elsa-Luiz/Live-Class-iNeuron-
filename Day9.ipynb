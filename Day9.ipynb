{
 "cells": [
  {
   "cell_type": "code",
   "execution_count": 1,
   "id": "981a25c4-7bf1-4643-86b4-3c6736bdea14",
   "metadata": {},
   "outputs": [],
   "source": [
    "#1.User Defined functions\n",
    "#2.Built in function"
   ]
  },
  {
   "cell_type": "code",
   "execution_count": 2,
   "id": "7fe87af3-1e56-4073-bf21-aeb3fdc54ee3",
   "metadata": {},
   "outputs": [],
   "source": [
    "#Definition \n",
    "\n",
    "def calculator():  #name of the funct is calculator \n",
    "    input_1= float(input('Enter the number 1:'))           #body\n",
    "    input_2= float(input('Enter the number 2 :'))          #...\n",
    "    calc = input('Enter the calculations(+, -, /, * )')  \n",
    "      \n",
    "    \n",
    "    if calc== '+':\n",
    "        print('sum =', input_1 + input_2  )\n",
    "        \n",
    "    elif calc== '-':  \n",
    "        print('subtraction=', input_1 - input_2)                           #...\n",
    "        \n",
    "    elif calc== '*':  \n",
    "        print('multilpication=',input_1 * input_2)\n",
    "        \n",
    "    elif calc== '/':  \n",
    "        print('divivion=', input_1 / input_2)\n",
    "        \n",
    "    else:\n",
    "        print('Invalid')                                     #...\n",
    "        \n",
    "                                               \n",
    "           "
   ]
  },
  {
   "cell_type": "code",
   "execution_count": 4,
   "id": "8696865c-e971-44a3-a167-836a19cc5f4f",
   "metadata": {},
   "outputs": [
    {
     "name": "stdin",
     "output_type": "stream",
     "text": [
      "Enter the number 1: 6\n",
      "Enter the number 2 : 6\n",
      "Enter the calculations(+, -, /, * ) *\n"
     ]
    },
    {
     "name": "stdout",
     "output_type": "stream",
     "text": [
      "multilpication= 36.0\n"
     ]
    }
   ],
   "source": [
    "calculator()   #callin the function"
   ]
  },
  {
   "cell_type": "code",
   "execution_count": 5,
   "id": "4f68a248-aa67-4d6b-a6cd-b65ac46d7c32",
   "metadata": {},
   "outputs": [],
   "source": [
    "def introduction(first_name):\n",
    "    print(first_name + 'This is my name')"
   ]
  },
  {
   "cell_type": "code",
   "execution_count": 6,
   "id": "9c88bc22-435a-4415-814e-148783d76eeb",
   "metadata": {},
   "outputs": [
    {
     "name": "stdout",
     "output_type": "stream",
     "text": [
      "Anna This is my name\n"
     ]
    }
   ],
   "source": [
    "introduction('Anna ')"
   ]
  },
  {
   "cell_type": "code",
   "execution_count": 1,
   "id": "f882bb82-decc-4f25-8595-3be3a5c1866e",
   "metadata": {},
   "outputs": [],
   "source": [
    "def Names(first_name,middle_name,last_name):\n",
    "    print(first_name)\n",
    "    print(middle_name)\n",
    "    print(last_name)\n",
    "    "
   ]
  },
  {
   "cell_type": "code",
   "execution_count": 8,
   "id": "ed7d63b9-1297-4224-a119-a82cbbbfc279",
   "metadata": {},
   "outputs": [
    {
     "name": "stdout",
     "output_type": "stream",
     "text": [
      "Anna \n",
      "Elsa \n",
      "Luiz \n"
     ]
    }
   ],
   "source": [
    "Names('Anna ','Elsa ','Luiz ')"
   ]
  },
  {
   "cell_type": "code",
   "execution_count": 2,
   "id": "75a0ec48-903e-4b1c-bfe6-0965b2dcd465",
   "metadata": {},
   "outputs": [
    {
     "name": "stdout",
     "output_type": "stream",
     "text": [
      "Anna  Elsa  Luiz \n"
     ]
    }
   ],
   "source": [
    "def Names(first_name,middle_name,last_name):\n",
    "      print(first_name, middle_name,last_name)\n",
    "Names('Anna ','Elsa ','Luiz ')        "
   ]
  },
  {
   "cell_type": "code",
   "execution_count": 10,
   "id": "7d3883cf-d752-4f04-9280-f753a13118ae",
   "metadata": {},
   "outputs": [],
   "source": [
    "#Return "
   ]
  },
  {
   "cell_type": "code",
   "execution_count": 11,
   "id": "aa3aa6ed-bdf9-46cf-9d8e-5e91f22f0086",
   "metadata": {},
   "outputs": [
    {
     "name": "stdout",
     "output_type": "stream",
     "text": [
      "The sum of two number is: None\n"
     ]
    }
   ],
   "source": [
    "def add_num(num1,num2):\n",
    "    sum= num1 + num2 \n",
    "result = add_num(5,3)  \n",
    "print('The sum of two number is:',result)\n",
    "   "
   ]
  },
  {
   "cell_type": "code",
   "execution_count": 17,
   "id": "ea0abd12-00d6-4d03-b5ae-f42d2236226a",
   "metadata": {},
   "outputs": [
    {
     "name": "stdout",
     "output_type": "stream",
     "text": [
      "The sum of two number is: 71\n"
     ]
    }
   ],
   "source": [
    "def add_num(num1,num2):\n",
    "    Sum= num1 + num2 \n",
    "    return Sum\n",
    "result = add_num(68,3)  \n",
    "print('The sum of two number is:',result)\n",
    "   "
   ]
  },
  {
   "cell_type": "code",
   "execution_count": 14,
   "id": "36e9ebae-a509-474f-bdc2-d22a9230f133",
   "metadata": {},
   "outputs": [],
   "source": [
    "#Make a funt which takes two argument  nm1 and num2 and it performs multipliction divison and subtraction\n"
   ]
  },
  {
   "cell_type": "code",
   "execution_count": 31,
   "id": "74b56ffa-701d-4750-abcb-91f6a9b97bfc",
   "metadata": {},
   "outputs": [
    {
     "name": "stdin",
     "output_type": "stream",
     "text": [
      "Enter the first number: 10\n",
      "Enter the second number: 5\n"
     ]
    },
    {
     "name": "stdout",
     "output_type": "stream",
     "text": [
      "The sum of two number is: 15.0\n",
      "The diff of two number is : 5.0\n",
      "The mul of two number is : 50.0\n",
      "The div of two number is : 2.0\n"
     ]
    }
   ],
   "source": [
    "def calculator (): \n",
    "    num1= float(input('Enter the first number:')) \n",
    "    num2= float(input('Enter the second number:')) \n",
    "    #calc= input('Choose btw \\'Sum\\', \\'diff\\',\\'mul\\', \\'div' )\n",
    "    \n",
    "    result = num1 + num2 \n",
    "    print('The sum of two number is:',result)\n",
    "    \n",
    "    result= num1 - num2\n",
    "    print('The diff of two number is :',result)\n",
    "    \n",
    "    result= num1 * num2\n",
    "    print('The mul of two number is :',result) \n",
    "    \n",
    "    result= num1 / num2\n",
    "    print('The div of two number is :',result)  \n",
    "    \n",
    "    #return result \n",
    "\n",
    "\n",
    "#calc= input('Choose btw \\'Sum\\', \\'diff\\',\\'mul\\', \\'div' )\n",
    "\n",
    " \n",
    "#if   result ==  num1 + num2  :           \n",
    "#        print('The sum of two number is:',result)\n",
    "#elif result== num1 - num2:\n",
    "#         print('The diff of two number is :',result) \n",
    "            \n",
    "#elif result== num1 * num2 :\n",
    "#          print('The mul of two number is :',result) \n",
    "\n",
    "#elif result== num1 / num2  :\n",
    "#          print('The div of two number is :',result)  \n",
    "            \n",
    "#else:\n",
    "#            print('Invalid')\n",
    "#        \n",
    "calculator()            "
   ]
  },
  {
   "cell_type": "code",
   "execution_count": 40,
   "id": "1476a805-3af1-4868-abb7-af01fe281024",
   "metadata": {},
   "outputs": [
    {
     "name": "stdin",
     "output_type": "stream",
     "text": [
      "Enter the first number: 4\n",
      "Enter the second number: 2\n"
     ]
    },
    {
     "name": "stdout",
     "output_type": "stream",
     "text": [
      "The sum of two number is: 6.0\n",
      "The diff of two number is : 2.0\n",
      "The mul of two number is : 8.0\n",
      "The div of two number is : 2.0\n"
     ]
    },
    {
     "name": "stdin",
     "output_type": "stream",
     "text": [
      "Enter the first number: 4\n",
      "Enter the second number: 2\n"
     ]
    },
    {
     "data": {
      "text/plain": [
       "{'Sum': 6.0, 'diff': 2.0, 'mul': 8.0, 'div': 2.0}"
      ]
     },
     "execution_count": 40,
     "metadata": {},
     "output_type": "execute_result"
    }
   ],
   "source": [
    "def calculator (): \n",
    "    num1= float(input('Enter the first number:')) \n",
    "    num2= float(input('Enter the second number:')) \n",
    "    #calc= input('Choose btw +, -, *, /' )\n",
    "    \n",
    "    result1 = num1 + num2 \n",
    "    result2 = num1 - num2\n",
    "    result3 = num1 * num2\n",
    "    result4 = num1 / num2\n",
    "    \n",
    "    \n",
    "    return {\n",
    "          'Sum': result1,\n",
    "          'diff':result2,\n",
    "           'mul':result3,\n",
    "            'div' :result4\n",
    "\n",
    "             }\n",
    "\n",
    "#calc= input('Choose btw \\'Sum\\', \\'diff\\',\\'mul\\', \\'div' )\n",
    "\n",
    "results= calculator()\n",
    "print('The sum of two number is:',results['Sum'])\n",
    "print('The diff of two number is :',results['diff'])\n",
    "print('The mul of two number is :',results['mul']) \n",
    "print('The div of two number is :',results['div'])  \n",
    "          \n",
    "           \n",
    "        \n",
    "calculator()           "
   ]
  },
  {
   "cell_type": "code",
   "execution_count": 45,
   "id": "7706e4ba-4609-46e5-939b-1e440c29bc86",
   "metadata": {},
   "outputs": [
    {
     "name": "stdin",
     "output_type": "stream",
     "text": [
      "Enter the first number: 10\n",
      "Enter the second number: 20\n",
      "Enter the first number: 20\n",
      "Enter the second number: 20\n"
     ]
    },
    {
     "data": {
      "text/plain": [
       "{'Sum': 40.0, 'diff': 0.0, 'mul': 400.0, 'div': 1.0}"
      ]
     },
     "execution_count": 45,
     "metadata": {},
     "output_type": "execute_result"
    }
   ],
   "source": [
    "def calculator (): \n",
    "    num1= float(input('Enter the first number:')) \n",
    "    num2= float(input('Enter the second number:')) \n",
    "    #calc= input('Choose btw +, -, *, /' )\n",
    "    \n",
    "    result1 = num1 + num2 \n",
    "    result2 = num1 - num2\n",
    "    result3 = num1 * num2\n",
    "    result4 = num1 / num2\n",
    "    \n",
    "    \n",
    "    return {\n",
    "          'Sum': result1,\n",
    "          'diff':result2,\n",
    "           'mul':result3,\n",
    "            'div' :result4\n",
    "\n",
    "             }\n",
    "\n",
    "#calc= input('Choose btw \\'Sum\\', \\'diff\\',\\'mul\\', \\'div' )\n",
    "\n",
    "results= calculator()\n",
    "#print(results['Sum'])\n",
    "#print(results['diff'])\n",
    "#print(results['mul']) \n",
    "#print(results['div'])  \n",
    "          \n",
    "           \n",
    "        \n",
    "calculator()          "
   ]
  },
  {
   "cell_type": "code",
   "execution_count": 3,
   "id": "c6a42fbc-75dc-41dc-9c25-b54fa3bba4b5",
   "metadata": {},
   "outputs": [
    {
     "name": "stdout",
     "output_type": "stream",
     "text": [
      "Welcome to the Simple Calculator Program!\n",
      "\n",
      "Please select an operation:\n",
      "1. Addition (+)\n",
      "2. Subtraction (-)\n",
      "3. Multiplication (*)\n",
      "4. Division (/)\n",
      "5. Exit\n"
     ]
    },
    {
     "name": "stdin",
     "output_type": "stream",
     "text": [
      "Enter your choice (1-5):  8\n"
     ]
    },
    {
     "name": "stdout",
     "output_type": "stream",
     "text": [
      "Invalid choice! Please enter a number from 1 to 5.\n",
      "\n",
      "Please select an operation:\n",
      "1. Addition (+)\n",
      "2. Subtraction (-)\n",
      "3. Multiplication (*)\n",
      "4. Division (/)\n",
      "5. Exit\n"
     ]
    },
    {
     "name": "stdin",
     "output_type": "stream",
     "text": [
      "Enter your choice (1-5):  6\n"
     ]
    },
    {
     "name": "stdout",
     "output_type": "stream",
     "text": [
      "Invalid choice! Please enter a number from 1 to 5.\n",
      "\n",
      "Please select an operation:\n",
      "1. Addition (+)\n",
      "2. Subtraction (-)\n",
      "3. Multiplication (*)\n",
      "4. Division (/)\n",
      "5. Exit\n"
     ]
    },
    {
     "name": "stdin",
     "output_type": "stream",
     "text": [
      "Enter your choice (1-5):  5\n"
     ]
    },
    {
     "name": "stdout",
     "output_type": "stream",
     "text": [
      "Thank you for using the Simple Calculator Program!\n"
     ]
    }
   ],
   "source": [
    "def calculator():\n",
    "    print(\"Welcome to the Simple Calculator Program!\")\n",
    "\n",
    "    while True:\n",
    "        print(\"\\nPlease select an operation:\")\n",
    "        print(\"1. Addition (+)\")\n",
    "        print(\"2. Subtraction (-)\")\n",
    "        print(\"3. Multiplication (*)\")\n",
    "        print(\"4. Division (/)\")\n",
    "        print(\"5. Exit\")\n",
    "\n",
    "        choice = input(\"Enter your choice (1-5): \")\n",
    "\n",
    "        if choice == \"1\":\n",
    "            return perform_addition()\n",
    "        elif choice == \"2\":\n",
    "            return perform_subtraction()\n",
    "        elif choice == \"3\":\n",
    "            return perform_multiplication()\n",
    "        elif choice == \"4\":\n",
    "            return perform_division()\n",
    "        elif choice == \"5\":\n",
    "            print(\"Thank you for using the Simple Calculator Program!\")\n",
    "            return\n",
    "        else:\n",
    "            print(\"Invalid choice! Please enter a number from 1 to 5.\")\n",
    "\n",
    "def perform_addition():\n",
    "    num1 = float(input(\"Enter the first number: \"))\n",
    "    num2 = float(input(\"Enter the second number: \"))\n",
    "    result = num1 + num2\n",
    "    return result\n",
    "\n",
    "def perform_subtraction():\n",
    "    num1 = float(input(\"Enter the first number: \"))\n",
    "    num2 = float(input(\"Enter the second number: \"))\n",
    "    result = num1 - num2\n",
    "    return result\n",
    "\n",
    "def perform_multiplication():\n",
    "    num1 = float(input(\"Enter the first number: \"))\n",
    "    num2 = float(input(\"Enter the second number: \"))\n",
    "    result = num1 * num2\n",
    "    return result\n",
    "\n",
    "def perform_division():\n",
    "    num1 = float(input(\"Enter the first number: \"))\n",
    "    num2 = float(input(\"Enter the second number: \"))\n",
    "    result = num1 / num2\n",
    "    return result\n",
    "\n",
    "calculator()"
   ]
  },
  {
   "cell_type": "code",
   "execution_count": 18,
   "id": "8d29b865-4ae4-4f3f-b8c1-295460629116",
   "metadata": {},
   "outputs": [
    {
     "name": "stdin",
     "output_type": "stream",
     "text": [
      "Enter the your first name  anna\n",
      "Enter the your middle name  elsa\n",
      "Enter the your last name  luiz\n"
     ]
    },
    {
     "name": "stdout",
     "output_type": "stream",
     "text": [
      "Name is : Anna Elsa Luiz\n"
     ]
    }
   ],
   "source": [
    "#we can use built in function in user defined function\n",
    "\n",
    "#Let user enter first name and last name in any form (captial, small,both)\n",
    "\n",
    "#o/p : alice ALTER ---> Alice Alter \n",
    "\n",
    "\n",
    "def Format():\n",
    "    first_name = input(\"Enter the your first name \")\n",
    "    middle_name= input(\"Enter the your middle name \")\n",
    "    last_name= input(\"Enter the your last name \")\n",
    "    \n",
    "    \n",
    "    format_first_name= first_name.capitalize()\n",
    "    format_middle_name= middle_name.capitalize()\n",
    "    format_last_name= last_name.capitalize()\n",
    "    \n",
    "    print('Name is :', format_first_name , format_middle_name,format_last_name )\n",
    "Format()\n",
    "    "
   ]
  },
  {
   "cell_type": "code",
   "execution_count": 8,
   "id": "92e65ff5-9cb5-4fb1-aea5-f0b538d569d5",
   "metadata": {},
   "outputs": [
    {
     "name": "stdin",
     "output_type": "stream",
     "text": [
      "Enter the numbers: 6\n"
     ]
    },
    {
     "name": "stdout",
     "output_type": "stream",
     "text": [
      "Even number up to  6 are [2, 4, 6]\n"
     ]
    }
   ],
   "source": [
    "def print_even_numbers():\n",
    "    n= int(input('Enter the numbers:'))\n",
    "    even_numbers = []\n",
    "    for num in range(1,n + 1):\n",
    "        if num % 2 == 0:\n",
    "            even_numbers.append(num)\n",
    "    print('Even number up to ',n , 'are',even_numbers)  \n",
    "\n",
    "print_even_numbers()    "
   ]
  },
  {
   "cell_type": "code",
   "execution_count": 1,
   "id": "9a47fb38-0d0d-4fae-9cdf-34600801e54c",
   "metadata": {},
   "outputs": [
    {
     "name": "stdin",
     "output_type": "stream",
     "text": [
      "Enter the number: 30\n"
     ]
    },
    {
     "name": "stdout",
     "output_type": "stream",
     "text": [
      "Odd numbers upto  30 are [1, 3, 5, 7, 9, 11, 13, 15, 17, 19, 21, 23, 25, 27, 29]\n"
     ]
    }
   ],
   "source": [
    "def print_odd_numbers():\n",
    "    n = int(input('Enter the number:'))\n",
    "    odd_numbers = []\n",
    "    for num in range(1,n+1):\n",
    "        if num%2 != 0:\n",
    "            odd_numbers.append(num)\n",
    "    print(\"Odd numbers upto \", n, 'are',odd_numbers)   \n",
    "    \n",
    "print_odd_numbers()    "
   ]
  },
  {
   "cell_type": "markdown",
   "id": "e19907d9-6452-45f3-a002-c2a154f14b4f",
   "metadata": {},
   "source": [
    "## Lambda"
   ]
  },
  {
   "cell_type": "code",
   "execution_count": 54,
   "id": "bcc447d8-e671-4abe-bfe5-967880303982",
   "metadata": {},
   "outputs": [],
   "source": [
    "#only use simple functions"
   ]
  },
  {
   "cell_type": "code",
   "execution_count": 55,
   "id": "f2cb6ba5-b790-4e7e-9c21-853700fd36a2",
   "metadata": {},
   "outputs": [
    {
     "name": "stdout",
     "output_type": "stream",
     "text": [
      "10\n"
     ]
    }
   ],
   "source": [
    "add = lambda x,y: x + y \n",
    "print(add(6, 4))"
   ]
  },
  {
   "cell_type": "code",
   "execution_count": 56,
   "id": "21c085cc-3793-4e84-b045-fa5b432275ca",
   "metadata": {},
   "outputs": [
    {
     "name": "stdout",
     "output_type": "stream",
     "text": [
      "20\n"
     ]
    }
   ],
   "source": [
    "Mult= lambda x,y : x * y\n",
    "print(Mult(4,5))"
   ]
  },
  {
   "cell_type": "code",
   "execution_count": 57,
   "id": "cdf2cc7f-3e1c-46c3-90e2-c97e7b1d6ce8",
   "metadata": {},
   "outputs": [
    {
     "name": "stdout",
     "output_type": "stream",
     "text": [
      "16\n"
     ]
    }
   ],
   "source": [
    "Mult= lambda x,y,i,j: x * y * i*j\n",
    "print(Mult(2,2,2,2))"
   ]
  },
  {
   "cell_type": "code",
   "execution_count": 58,
   "id": "14e38880-42dc-4436-9b9e-f7f4f1db5095",
   "metadata": {},
   "outputs": [
    {
     "name": "stdout",
     "output_type": "stream",
     "text": [
      "16\n"
     ]
    }
   ],
   "source": [
    "squ= lambda x: x ** 2\n",
    "print(squ(4))"
   ]
  },
  {
   "cell_type": "code",
   "execution_count": 59,
   "id": "30644f80-7986-468f-8e07-d3668562c0f7",
   "metadata": {},
   "outputs": [
    {
     "name": "stdout",
     "output_type": "stream",
     "text": [
      "Good  Morning\n"
     ]
    }
   ],
   "source": [
    "concat= lambda x , y : x + y\n",
    "print(concat('Good', '  Morning'))"
   ]
  },
  {
   "cell_type": "code",
   "execution_count": 60,
   "id": "6806b209-a706-474d-a847-92ed39cd5105",
   "metadata": {},
   "outputs": [
    {
     "name": "stdout",
     "output_type": "stream",
     "text": [
      "odd\n"
     ]
    }
   ],
   "source": [
    "even_or_odd= lambda x:'even' if x % 2 == 0 else 'odd'\n",
    "print(even_or_odd(69))"
   ]
  },
  {
   "cell_type": "code",
   "execution_count": 61,
   "id": "e4ce9f7c-550d-4817-9d20-fe754421dc55",
   "metadata": {},
   "outputs": [
    {
     "name": "stdout",
     "output_type": "stream",
     "text": [
      "maximum number is : 800\n"
     ]
    }
   ],
   "source": [
    "Max = lambda x, y : x if x > y else y \n",
    "print('maximum number is :',Max(96,800))"
   ]
  },
  {
   "cell_type": "markdown",
   "id": "ae048837-c49d-462b-8b0e-a2e7ed02bcca",
   "metadata": {},
   "source": [
    "##### f= lambda :input(\"Enter a number:\")\n",
    "print('The number you have entered is:',f())"
   ]
  },
  {
   "cell_type": "code",
   "execution_count": 52,
   "id": "591a7ffe-0eec-46eb-ae67-d9fcf0ff0cd5",
   "metadata": {},
   "outputs": [
    {
     "name": "stdin",
     "output_type": "stream",
     "text": [
      "Enter a number: 5\n",
      "Enter a number: 5\n",
      "Enter a number: 5\n"
     ]
    },
    {
     "name": "stdout",
     "output_type": "stream",
     "text": [
      "125\n"
     ]
    }
   ],
   "source": [
    "f= lambda: int(input('Enter a number:'))\n",
    "print(f() * f()*f())"
   ]
  },
  {
   "cell_type": "code",
   "execution_count": 53,
   "id": "f8c694a2-cc0b-4439-a576-a76cdae2d151",
   "metadata": {},
   "outputs": [
    {
     "name": "stdin",
     "output_type": "stream",
     "text": [
      "Enter the number 5\n"
     ]
    },
    {
     "name": "stdout",
     "output_type": "stream",
     "text": [
      "25\n"
     ]
    }
   ],
   "source": [
    "f= lambda x: x * x\n",
    "num= int(input(\"Enter the number\"))\n",
    "print(f(num))"
   ]
  },
  {
   "cell_type": "code",
   "execution_count": null,
   "id": "35120bc7-d666-4ec3-a133-638b81ee28b8",
   "metadata": {},
   "outputs": [],
   "source": []
  }
 ],
 "metadata": {
  "kernelspec": {
   "display_name": "Python 3 (ipykernel)",
   "language": "python",
   "name": "python3"
  },
  "language_info": {
   "codemirror_mode": {
    "name": "ipython",
    "version": 3
   },
   "file_extension": ".py",
   "mimetype": "text/x-python",
   "name": "python",
   "nbconvert_exporter": "python",
   "pygments_lexer": "ipython3",
   "version": "3.10.6"
  }
 },
 "nbformat": 4,
 "nbformat_minor": 5
}
