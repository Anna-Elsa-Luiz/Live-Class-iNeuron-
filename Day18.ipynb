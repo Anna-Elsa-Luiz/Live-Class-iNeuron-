{
 "cells": [
  {
   "cell_type": "markdown",
   "id": "07df8f55-3d40-4c3e-8c23-10710e2b303f",
   "metadata": {},
   "source": [
    "# Vscode"
   ]
  },
  {
   "cell_type": "markdown",
   "id": "49cce2eb-be9b-4d92-a8f7-84ebadc3bfff",
   "metadata": {},
   "source": [
    "1.Download the VS code\n",
    "\n",
    "https://code.visualstudio.com/download"
   ]
  },
  {
   "cell_type": "markdown",
   "id": "0b47b746-a3cf-4799-bab6-fefce8ddb2e8",
   "metadata": {},
   "source": [
    "2.Download the Anaconda\n",
    "\n",
    "\n",
    "https://www.anaconda.com/download"
   ]
  },
  {
   "cell_type": "markdown",
   "id": "f20a88e3-f46a-48e4-9545-49957ac9ca9c",
   "metadata": {},
   "source": [
    "You need to install it.\n"
   ]
  },
  {
   "cell_type": "markdown",
   "id": "429eb4d5-3911-4616-b090-92b48ac3b690",
   "metadata": {},
   "source": [
    "3. Create a folder in your drive . Open that with your Vs code\n",
    "\n",
    "4. Install python extension in your vs code.\n",
    "\n",
    "5. Go in your view commands palette and the python interpreter.\n",
    "6. You need to select python base interpreter.\n",
    "\n",
    "7. Open your terminal and select the CMD ,dont go with the powershell.\n",
    "\n",
    "8. You will find out the base env in your terminal."
   ]
  },
  {
   "cell_type": "markdown",
   "id": "f0b5ef5c-941a-494a-9216-65e13583b1da",
   "metadata": {},
   "source": [
    "Basic commands regarding conda and pip"
   ]
  },
  {
   "cell_type": "markdown",
   "id": "2696289e-214e-428e-b19f-418d65bedc9e",
   "metadata": {},
   "source": [
    "9. Create a env with anaconda . \n",
    "* conda create -p <your_env_name> python=3.8\n",
    "10. Activate the env    \n",
    "* conda activate <your_env_name>\n",
    "11. pip list \n",
    "* You will get a listed/available pacakages.\n",
    "    \n",
    "    "
   ]
  },
  {
   "cell_type": "markdown",
   "id": "1c43a941-73fb-4562-93c1-934141aa42a8",
   "metadata": {},
   "source": [
    "# Variable"
   ]
  },
  {
   "cell_type": "markdown",
   "id": "f5a38b40-a8d7-4b6e-9d04-efaf1c133740",
   "metadata": {},
   "source": [
    "* Instance variables\n",
    "* Local variables\n",
    "* Class variables"
   ]
  },
  {
   "cell_type": "markdown",
   "id": "ff17413e-5aa6-4add-ac36-d514ca879045",
   "metadata": {},
   "source": [
    "# Methods\n",
    "\n"
   ]
  },
  {
   "cell_type": "markdown",
   "id": "d1c54f0c-cd68-4e44-8a44-40cb8ca90dc9",
   "metadata": {},
   "source": [
    "* Instance methods\n",
    "* Class methods\n",
    "* Static methods"
   ]
  },
  {
   "cell_type": "markdown",
   "id": "037319b5-f990-41b8-a0d3-d8ddbe5a179c",
   "metadata": {},
   "source": [
    "# Types of variables and methods"
   ]
  },
  {
   "cell_type": "markdown",
   "id": "d88265dc-c37b-4e96-bb4b-3e736a84748b",
   "metadata": {},
   "source": [
    "* Public\n",
    "* Protected \n",
    "* Private"
   ]
  },
  {
   "cell_type": "markdown",
   "id": "01a3f7dd-d15d-4517-a57c-16a7977e25c5",
   "metadata": {},
   "source": [
    "# OOPs"
   ]
  },
  {
   "cell_type": "markdown",
   "id": "bf5ea3ed-5745-4f1a-92ab-e42a7d04064c",
   "metadata": {},
   "source": [
    "1. Encapsulation\n",
    "2. Inheritance\n",
    "3. Polymorphism\n",
    "4. Abstraction"
   ]
  },
  {
   "cell_type": "markdown",
   "id": "9c989123-9308-4ae6-940b-b5fd26d86636",
   "metadata": {},
   "source": [
    "# Modularity"
   ]
  },
  {
   "cell_type": "markdown",
   "id": "9f9be4d1-3e0e-4a78-b739-921af2942f92",
   "metadata": {},
   "source": [
    "package modules:\n",
    "    "
   ]
  },
  {
   "cell_type": "code",
   "execution_count": null,
   "id": "5cb269f8-2614-4c7b-9d8a-38da5b5592fe",
   "metadata": {},
   "outputs": [],
   "source": []
  }
 ],
 "metadata": {
  "kernelspec": {
   "display_name": "Python 3 (ipykernel)",
   "language": "python",
   "name": "python3"
  },
  "language_info": {
   "codemirror_mode": {
    "name": "ipython",
    "version": 3
   },
   "file_extension": ".py",
   "mimetype": "text/x-python",
   "name": "python",
   "nbconvert_exporter": "python",
   "pygments_lexer": "ipython3",
   "version": "3.10.6"
  }
 },
 "nbformat": 4,
 "nbformat_minor": 5
}
