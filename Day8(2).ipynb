{
 "cells": [
  {
   "cell_type": "code",
   "execution_count": null,
   "id": "f0627cef-2246-4a1b-be20-4e010261f9f0",
   "metadata": {},
   "outputs": [],
   "source": []
  },
  {
   "cell_type": "code",
   "execution_count": 2,
   "id": "7d0e1f94-20e0-44be-813c-d3ee95639df4",
   "metadata": {},
   "outputs": [
    {
     "name": "stdout",
     "output_type": "stream",
     "text": [
      "{'UK', 'USA', 'UAE', 'UN'}\n"
     ]
    }
   ],
   "source": [
    "set1={\"UK\",\"USA\",\"UAE\",\"UN\"}\n",
    "print(set1)"
   ]
  },
  {
   "cell_type": "code",
   "execution_count": 3,
   "id": "caa68183-c72c-4275-98ee-c078382f456b",
   "metadata": {},
   "outputs": [],
   "source": [
    "# we can change the list but not tuple\n",
    "# cannot have duplicates  "
   ]
  },
  {
   "cell_type": "code",
   "execution_count": 4,
   "id": "34ed5075-690d-4264-bdb2-71a28d29f6ee",
   "metadata": {},
   "outputs": [
    {
     "data": {
      "text/plain": [
       "{'UAE', 'UK', 'UN', 'USA'}"
      ]
     },
     "execution_count": 4,
     "metadata": {},
     "output_type": "execute_result"
    }
   ],
   "source": [
    "#print only unique values \n",
    "set1 = {\"UK\",\"USA\",\"UAE\",\"UN\",\"UN\"} \n",
    "set1"
   ]
  },
  {
   "cell_type": "code",
   "execution_count": 5,
   "id": "60cc7ae8-2c9e-4d70-9e31-1637beed268d",
   "metadata": {},
   "outputs": [
    {
     "name": "stdout",
     "output_type": "stream",
     "text": [
      "4\n"
     ]
    }
   ],
   "source": [
    "#count only unique values \n",
    "set1 = {\"UK\",\"USA\",\"UAE\",\"UN\",\"UN\"} \n",
    "print(len(set1))"
   ]
  },
  {
   "cell_type": "code",
   "execution_count": 6,
   "id": "8c4b6c41-5dda-40c0-bc82-1ba0671746cd",
   "metadata": {},
   "outputs": [
    {
     "data": {
      "text/plain": [
       "set"
      ]
     },
     "execution_count": 6,
     "metadata": {},
     "output_type": "execute_result"
    }
   ],
   "source": [
    "type(set1)"
   ]
  },
  {
   "cell_type": "code",
   "execution_count": 7,
   "id": "8de0c053-8eaf-4657-a427-6e6df1629aaa",
   "metadata": {},
   "outputs": [
    {
     "data": {
      "text/plain": [
       "{'UAE', 'UK', 'UN', 'USA'}"
      ]
     },
     "execution_count": 7,
     "metadata": {},
     "output_type": "execute_result"
    }
   ],
   "source": [
    "#set() constructor\n",
    "#instead of {} use ()\n",
    "set1= set((\"UK\",\"USA\",\"UAE\",\"UN\",\"UN\")) \n",
    "set1"
   ]
  },
  {
   "cell_type": "code",
   "execution_count": 8,
   "id": "aa2a0cda-fb2d-41e3-ab17-7f72c3f9bde5",
   "metadata": {},
   "outputs": [
    {
     "name": "stdout",
     "output_type": "stream",
     "text": [
      "{1, 2, 3, 'UN', 4, 'UAE', 'UK', 'USA'}\n"
     ]
    }
   ],
   "source": [
    "#union()\n",
    "\n",
    "set1= {\"UK\",\"USA\",\"UAE\",\"UN\",\"UN\"} \n",
    "set2= {1,2,3,4}\n",
    "\n",
    "#union()\n",
    "set3 = set1.union(set2)\n",
    "print(set3)  \n",
    "\n",
    "#CONCATENATION------------------>"
   ]
  },
  {
   "cell_type": "code",
   "execution_count": 9,
   "id": "6b1fc2f5-ee49-4ce3-a4fe-71db49adb68a",
   "metadata": {},
   "outputs": [
    {
     "name": "stdout",
     "output_type": "stream",
     "text": [
      "{2}\n"
     ]
    }
   ],
   "source": [
    "#intersection()\n",
    "\n",
    "set1= {\"UK\",2,\"UAE\",\"UN\",\"UN\"} \n",
    "set2= {1,2,3,4}\n",
    "\n",
    "#union()\n",
    "set3 = set1.intersection(set2)\n",
    "print(set3)"
   ]
  },
  {
   "cell_type": "code",
   "execution_count": 10,
   "id": "f319ed65-c150-4834-babc-1bed2b828bbc",
   "metadata": {},
   "outputs": [
    {
     "name": "stdout",
     "output_type": "stream",
     "text": [
      "set()\n"
     ]
    }
   ],
   "source": [
    "#intersection()\n",
    "\n",
    "set1= {\"UK\",\"USA\",\"UAE\",\"UN\",\"UN\"} \n",
    "set2= {1,2,3,4}\n",
    "\n",
    "#union()\n",
    "set3 = set1.intersection(set2)\n",
    "print(set3) "
   ]
  },
  {
   "cell_type": "code",
   "execution_count": 11,
   "id": "4147c157-11e8-48c4-93d9-34d9fcea6140",
   "metadata": {},
   "outputs": [
    {
     "name": "stdout",
     "output_type": "stream",
     "text": [
      "set()\n"
     ]
    }
   ],
   "source": [
    "#intersection_update()\n",
    "\n",
    "set1= {\"UK\",\"USA\",\"UAE\",\"UN\",\"UN\"} \n",
    "set2= {1,2,3,4}\n",
    "\n",
    "#union()\n",
    "set1.intersection_update(set2)\n",
    "print(set1) \n"
   ]
  },
  {
   "cell_type": "code",
   "execution_count": 12,
   "id": "acbba10f-7868-4dc3-9ff1-c7fe94d2f84c",
   "metadata": {},
   "outputs": [
    {
     "name": "stdout",
     "output_type": "stream",
     "text": [
      "{2}\n"
     ]
    }
   ],
   "source": [
    "#intersection_update()\n",
    "\n",
    "set1= {\"UK\",2,\"UAE\",\"UN\",\"UN\"} \n",
    "set2= {1,2,3,4}\n",
    "\n",
    "#intersection\n",
    "set1.intersection_update(set2)\n",
    "print(set1)"
   ]
  },
  {
   "cell_type": "code",
   "execution_count": 13,
   "id": "5a4063fa-d7de-4589-b2b7-8dd94f5b743d",
   "metadata": {},
   "outputs": [
    {
     "data": {
      "text/plain": [
       "{1, 2, 3, 4, 'UAE', 'UK', 'UN', 'USA'}"
      ]
     },
     "execution_count": 13,
     "metadata": {},
     "output_type": "execute_result"
    }
   ],
   "source": [
    "#update()\n",
    "\n",
    "#In 'update()' just updating the already created set.\n",
    "#whereas in 'union()' another set is being created.\n",
    "\n",
    "set1= {\"UK\",\"USA\",\"UAE\",\"UN\",\"UN\"} \n",
    "set2= {1,2,3,4}\n",
    "\n",
    "set1.update(set2) \n",
    "set1\n",
    "\n"
   ]
  },
  {
   "cell_type": "code",
   "execution_count": 14,
   "id": "2cc1a288-3fd7-4000-bf58-06c765580f2a",
   "metadata": {},
   "outputs": [
    {
     "data": {
      "text/plain": [
       "{1, 2, 3, 4, 'UAE', 'UK', 'UN', 'USA'}"
      ]
     },
     "execution_count": 14,
     "metadata": {},
     "output_type": "execute_result"
    }
   ],
   "source": [
    "\n",
    "\n",
    "set1= {\"UK\",\"USA\",\"UAE\",\"UN\",\"UN\"} \n",
    "set2= {1,2,3,4}\n",
    "\n",
    "set2.update(set1)\n",
    "set2"
   ]
  },
  {
   "cell_type": "code",
   "execution_count": 15,
   "id": "323ef8ea-70c0-44c6-b814-edeebfe8b28f",
   "metadata": {},
   "outputs": [
    {
     "name": "stdout",
     "output_type": "stream",
     "text": [
      "{3, 'UAE', 4, 'UK', 'USA'}\n"
     ]
    }
   ],
   "source": [
    "#difference \n",
    "\n",
    "set1= {\"UK\",\"USA\",1,2,\"UAE\",\"UN\",\"UN\"} \n",
    "set2= {1,2,3,4,\"UN\"}\n",
    "\n",
    "set1.symmetric_difference_update(set2)\n",
    "print(set1)\n"
   ]
  },
  {
   "cell_type": "code",
   "execution_count": 16,
   "id": "eb57f6cd-9aa2-4aff-a615-555bedbda2b4",
   "metadata": {},
   "outputs": [
    {
     "name": "stdout",
     "output_type": "stream",
     "text": [
      "qualified participants are: {'anu', 'ravi', 'tom', 'zach', 'alex', 'malu'}\n"
     ]
    }
   ],
   "source": [
    "#person participating in two teams will be disqualified \n",
    "\n",
    "team1={\"tom\",\"alex\",\"ravi\",\"appu\"}\n",
    "team2={\"anu\",\"appu\",\"malu\",\"zach\"}\n",
    "\n",
    "team1.symmetric_difference_update(team2)\n",
    "print(\"qualified participants are:\", team1)"
   ]
  },
  {
   "cell_type": "code",
   "execution_count": 17,
   "id": "e11ec370-c628-49b5-be85-a3d4a68b99df",
   "metadata": {},
   "outputs": [
    {
     "name": "stdout",
     "output_type": "stream",
     "text": [
      "qualified participants are: {'anu', 'ravi', 'tom', 'alex', 'zach', 'malu'}\n"
     ]
    }
   ],
   "source": [
    "team1={\"tom\",\"alex\",\"ravi\",\"appu\"}\n",
    "team2={\"anu\",\"appu\",\"malu\",\"zach\"}\n",
    "\n",
    "team3= team1.symmetric_difference(team2)\n",
    "print(\"qualified participants are:\", team3)"
   ]
  },
  {
   "cell_type": "code",
   "execution_count": 18,
   "id": "5b5d404f-82ab-46e3-93ca-8e31994149c5",
   "metadata": {},
   "outputs": [
    {
     "name": "stdout",
     "output_type": "stream",
     "text": [
      "tom\n",
      "appu\n",
      "alex\n",
      "ravi\n"
     ]
    }
   ],
   "source": [
    "team1={\"tom\",\"alex\",\"ravi\",\"appu\"} #indexing cannot be done as it is not ordered\n",
    "for i in team1:\n",
    "    print(i)"
   ]
  },
  {
   "cell_type": "code",
   "execution_count": 19,
   "id": "efc88c60-2de5-4a06-82b6-7a2ef8c39b58",
   "metadata": {},
   "outputs": [
    {
     "name": "stdout",
     "output_type": "stream",
     "text": [
      "{'name': 'Alice', 'Age': 23, 'city': 'Ernakulam'}\n"
     ]
    }
   ],
   "source": [
    "#dictionaries\n",
    "#In python 3.7 are ordered \n",
    "#In previous vaersion they are unordered\n",
    "#dont allow duplicate values \n",
    "\n",
    "d1={\"name\":\"Alice\",\"Age\":23,\"city\":\"Ernakulam\"}\n",
    "print(d1)"
   ]
  },
  {
   "cell_type": "code",
   "execution_count": 20,
   "id": "e4edf763-3348-4a46-a3eb-837b34799e37",
   "metadata": {},
   "outputs": [
    {
     "name": "stdout",
     "output_type": "stream",
     "text": [
      "Alice\n"
     ]
    }
   ],
   "source": [
    "print(d1[\"name\"])"
   ]
  },
  {
   "cell_type": "code",
   "execution_count": 21,
   "id": "3da80d4a-de1a-4be6-be84-91ba4d39f8b8",
   "metadata": {},
   "outputs": [
    {
     "name": "stdout",
     "output_type": "stream",
     "text": [
      "{'name': 'Alice', 'Age': 23, 'city': 'Tvm'}\n"
     ]
    }
   ],
   "source": [
    "#duplicates are not allowed in dict\n",
    "#neglecting same key values and \n",
    "#its always consider the last key-value pair\n",
    "\n",
    "d2= {\"name\":\"Alice\",\"Age\":23,\"city\":\"Ernakulam\",\"city\":\"Tvm\"}\n",
    "print(d2)"
   ]
  },
  {
   "cell_type": "code",
   "execution_count": 22,
   "id": "ee495356-9ece-4035-b433-8c4051240c44",
   "metadata": {},
   "outputs": [
    {
     "name": "stdout",
     "output_type": "stream",
     "text": [
      "dict_keys(['name', 'Age', 'city'])\n"
     ]
    }
   ],
   "source": [
    "#to know the keys alone\n",
    "keys=d1.keys() \n",
    "print(keys)"
   ]
  },
  {
   "cell_type": "code",
   "execution_count": 23,
   "id": "45fc6e0e-32f4-4706-b02d-b990ced72463",
   "metadata": {},
   "outputs": [
    {
     "name": "stdout",
     "output_type": "stream",
     "text": [
      "dict_values(['Alice', 23, 'Ernakulam'])\n"
     ]
    }
   ],
   "source": [
    "#To know the values alone\n",
    "values=d1.values()\n",
    "print(values)"
   ]
  },
  {
   "cell_type": "code",
   "execution_count": 24,
   "id": "8b3a26a1-b829-49c0-84ce-0d84038941e3",
   "metadata": {},
   "outputs": [
    {
     "name": "stdout",
     "output_type": "stream",
     "text": [
      "name\n",
      "Age\n",
      "city\n"
     ]
    }
   ],
   "source": [
    "for i in keys :\n",
    "    print(i)"
   ]
  },
  {
   "cell_type": "code",
   "execution_count": 25,
   "id": "0f1bdab9-fe78-4f73-ad37-d7bbbc015dad",
   "metadata": {},
   "outputs": [
    {
     "name": "stdout",
     "output_type": "stream",
     "text": [
      "Alice\n",
      "23\n",
      "Ernakulam\n"
     ]
    }
   ],
   "source": [
    "for i in values :\n",
    "    print(i)\n"
   ]
  },
  {
   "cell_type": "code",
   "execution_count": 26,
   "id": "40dd09d9-dd12-4727-919b-c1a31db88185",
   "metadata": {},
   "outputs": [
    {
     "data": {
      "text/plain": [
       "3"
      ]
     },
     "execution_count": 26,
     "metadata": {},
     "output_type": "execute_result"
    }
   ],
   "source": [
    "len(d2) #duplicated key value excluded"
   ]
  },
  {
   "cell_type": "code",
   "execution_count": 27,
   "id": "fa3e42dc-0d76-406e-b032-fa57c0387c98",
   "metadata": {},
   "outputs": [
    {
     "data": {
      "text/plain": [
       "dict"
      ]
     },
     "execution_count": 27,
     "metadata": {},
     "output_type": "execute_result"
    }
   ],
   "source": [
    "type(d2)"
   ]
  },
  {
   "cell_type": "code",
   "execution_count": 28,
   "id": "d4a2f278-fd7d-4e76-9b72-9019fc8e3439",
   "metadata": {},
   "outputs": [
    {
     "name": "stdout",
     "output_type": "stream",
     "text": [
      "<class 'dict'>\n"
     ]
    }
   ],
   "source": [
    "print(type(d2))"
   ]
  },
  {
   "cell_type": "code",
   "execution_count": 29,
   "id": "4d628697-31ae-4f23-9240-712407cab6f7",
   "metadata": {},
   "outputs": [
    {
     "name": "stdout",
     "output_type": "stream",
     "text": [
      "{'Name': 'Anna', 'Age': 23}\n"
     ]
    }
   ],
   "source": [
    "# dictionary constructor \n",
    "\n",
    "d3= dict(Name=\"Anna\",Age=23)\n",
    "print(d3)"
   ]
  },
  {
   "cell_type": "code",
   "execution_count": 30,
   "id": "931c37d8-efe0-4698-a10a-c33160274130",
   "metadata": {},
   "outputs": [
    {
     "name": "stdout",
     "output_type": "stream",
     "text": [
      "{'name': 'Alice', 'Age': 23, 'Roll No.': 312, 'city': 'Tvm'}\n",
      "-----------------------------------------------------------\n",
      "{'name': 'Marie', 'Age': 23, 'Roll No.': 312, 'city': 'Tvm'}\n"
     ]
    }
   ],
   "source": [
    "#Changing the name \n",
    "\n",
    "d2= {\"name\":\"Alice\",\"Age\":23,\"Roll No.\":312,\"city\":\"Tvm\"}\n",
    "print(d2)\n",
    "print(\"-----------------------------------------------------------\")\n",
    "d2[\"name\"]= \"Marie\"\n",
    "print(d2)"
   ]
  },
  {
   "cell_type": "code",
   "execution_count": 31,
   "id": "2e6db9d5-621e-4061-a968-1ce33d193c02",
   "metadata": {},
   "outputs": [
    {
     "name": "stdout",
     "output_type": "stream",
     "text": [
      "{'name': 'Alice', 'Age': 23, 'Roll No.': 312, 'city': 'Tvm'}\n",
      "-----------------------------------------------------------\n",
      "{'name': 'Marie', 'Age': 23, 'Roll No.': 312, 'city': 'Tvm'}\n"
     ]
    }
   ],
   "source": [
    "#using uodate()\n",
    "\n",
    "d2= {\"name\":\"Alice\",\"Age\":23,\"Roll No.\":312,\"city\":\"Tvm\"}\n",
    "print(d2)\n",
    "print(\"-----------------------------------------------------------\")\n",
    "d2.update({\"name\":\"Marie\"})  #replacing already existing value \n",
    "print(d2)"
   ]
  },
  {
   "cell_type": "code",
   "execution_count": 32,
   "id": "867859d6-3ba2-43ba-ad43-0f4572afc812",
   "metadata": {},
   "outputs": [
    {
     "name": "stdout",
     "output_type": "stream",
     "text": [
      "{'name': 'Alice', 'Age': 23, 'Roll No.': 312, 'city': 'Tvm'}\n",
      "-----------------------------------------------------------\n",
      "{'name': 'Alice', 'Age': 23, 'Roll No.': 312, 'city': 'Tvm', 'Grade': 'A'}\n"
     ]
    }
   ],
   "source": [
    "\n",
    "d2= {\"name\":\"Alice\",\"Age\":23,\"Roll No.\":312,\"city\":\"Tvm\"}\n",
    "print(d2)\n",
    "print(\"-----------------------------------------------------------\")\n",
    "d2[\"Grade\"]= \"A\"\n",
    "print(d2)"
   ]
  },
  {
   "cell_type": "code",
   "execution_count": 33,
   "id": "8850cc69-2a97-427e-8319-4946ca09972b",
   "metadata": {},
   "outputs": [
    {
     "name": "stdout",
     "output_type": "stream",
     "text": [
      "{'name': 'Alice', 'Age': 23, 'Roll No.': 312, 'city': 'Tvm'}\n",
      "-----------------------------------------------------------\n",
      "{'name': 'Alice', 'Age': 23, 'Roll No.': 312, 'city': 'Tvm', 'Grade': 'A'}\n"
     ]
    }
   ],
   "source": [
    "d2= {\"name\":\"Alice\",\"Age\":23,\"Roll No.\":312,\"city\":\"Tvm\"}\n",
    "print(d2)\n",
    "print(\"-----------------------------------------------------------\")\n",
    "d2.update({\"Grade\":\"A\"})  #Adding a new kay-value \n",
    "print(d2)"
   ]
  },
  {
   "cell_type": "code",
   "execution_count": 34,
   "id": "c965e41e-0d5c-422b-9417-2de70391f349",
   "metadata": {},
   "outputs": [
    {
     "name": "stdout",
     "output_type": "stream",
     "text": [
      "{'name': 'Alice', 'Age': 23, 'Roll No.': 312, 'city': 'Tvm'}\n",
      "-----------------------------------------------------------\n",
      "{'name': 'Alice', 'Age': 23, 'Roll No.': 312, 'city': 'Tvm', 'Grade': 'A', 'Category': 'Excellent'}\n"
     ]
    }
   ],
   "source": [
    "d2= {\"name\":\"Alice\",\"Age\":23,\"Roll No.\":312,\"city\":\"Tvm\"}\n",
    "print(d2)\n",
    "print(\"-----------------------------------------------------------\")\n",
    "d2.update({\"Grade\":\"A\",\"Category\":\"Excellent\"})  #Adding a new kay-value \n",
    "print(d2)"
   ]
  },
  {
   "cell_type": "code",
   "execution_count": 35,
   "id": "43e9ebfa-6db3-4714-91ce-07bf0f8ce3ba",
   "metadata": {},
   "outputs": [
    {
     "name": "stdout",
     "output_type": "stream",
     "text": [
      "{'name': 'Alice', 'Age': 23, 'Roll No.': 312, 'city': 'Tvm'}\n",
      "-----------------------------------------------------------\n",
      "{'Age': 23, 'Roll No.': 312, 'city': 'Tvm'}\n"
     ]
    }
   ],
   "source": [
    "d2= {\"name\":\"Alice\",\"Age\":23,\"Roll No.\":312,\"city\":\"Tvm\"}\n",
    "print(d2)\n",
    "print(\"-----------------------------------------------------------\")\n",
    "d2.pop(\"name\")  #deleting a specified key value pair \n",
    "print(d2)"
   ]
  },
  {
   "cell_type": "code",
   "execution_count": 36,
   "id": "2c83b30e-5f3c-4d0e-9799-a2a77d8b22db",
   "metadata": {},
   "outputs": [
    {
     "name": "stdout",
     "output_type": "stream",
     "text": [
      "{'name': 'Alice', 'Age': 23, 'Roll No.': 312, 'city': 'Tvm'}\n",
      "-----------------------------------------------------------\n",
      "{'Age': 23, 'Roll No.': 312, 'city': 'Tvm'}\n"
     ]
    }
   ],
   "source": [
    "d2= {\"name\":\"Alice\",\"Age\":23,\"Roll No.\":312,\"city\":\"Tvm\"}\n",
    "print(d2)\n",
    "print(\"-----------------------------------------------------------\")\n",
    "del d2[\"name\"]  #deleting a specified key value pair \n",
    "print(d2)"
   ]
  },
  {
   "cell_type": "code",
   "execution_count": 37,
   "id": "99eb1990-9a5f-47ee-8406-5e9cbdb2fbeb",
   "metadata": {},
   "outputs": [
    {
     "ename": "NameError",
     "evalue": "name 'd2' is not defined",
     "output_type": "error",
     "traceback": [
      "\u001b[0;31m---------------------------------------------------------------------------\u001b[0m",
      "\u001b[0;31mNameError\u001b[0m                                 Traceback (most recent call last)",
      "Cell \u001b[0;32mIn [37], line 3\u001b[0m\n\u001b[1;32m      1\u001b[0m \u001b[38;5;66;03m# deleting the who0le dict\u001b[39;00m\n\u001b[1;32m      2\u001b[0m \u001b[38;5;28;01mdel\u001b[39;00m d2\n\u001b[0;32m----> 3\u001b[0m \u001b[38;5;28mprint\u001b[39m(\u001b[43md2\u001b[49m)\n",
      "\u001b[0;31mNameError\u001b[0m: name 'd2' is not defined"
     ]
    }
   ],
   "source": [
    "# deleting the who0le dict\n",
    "del d2\n",
    "print(d2)"
   ]
  },
  {
   "cell_type": "code",
   "execution_count": null,
   "id": "745d0201-c8e6-4739-8e43-139fee8494fc",
   "metadata": {},
   "outputs": [],
   "source": [
    "d2= {\"name\":\"Alice\",\"Age\":23,\"Roll No.\":312,\"city\":\"Tvm\"}\n",
    "print(d2)\n",
    "\n"
   ]
  },
  {
   "cell_type": "code",
   "execution_count": 38,
   "id": "f53bf257-da6d-496c-a8a0-7ada21ae0bf3",
   "metadata": {},
   "outputs": [
    {
     "ename": "NameError",
     "evalue": "name 'd2' is not defined",
     "output_type": "error",
     "traceback": [
      "\u001b[0;31m---------------------------------------------------------------------------\u001b[0m",
      "\u001b[0;31mNameError\u001b[0m                                 Traceback (most recent call last)",
      "Cell \u001b[0;32mIn [38], line 1\u001b[0m\n\u001b[0;32m----> 1\u001b[0m \u001b[43md2\u001b[49m\u001b[38;5;241m.\u001b[39mclear()\n",
      "\u001b[0;31mNameError\u001b[0m: name 'd2' is not defined"
     ]
    }
   ],
   "source": [
    "d2.clear()"
   ]
  },
  {
   "cell_type": "code",
   "execution_count": 39,
   "id": "96724450-03da-4ecf-8493-2ab7fd2863d9",
   "metadata": {},
   "outputs": [
    {
     "ename": "NameError",
     "evalue": "name 'd2' is not defined",
     "output_type": "error",
     "traceback": [
      "\u001b[0;31m---------------------------------------------------------------------------\u001b[0m",
      "\u001b[0;31mNameError\u001b[0m                                 Traceback (most recent call last)",
      "Cell \u001b[0;32mIn [39], line 1\u001b[0m\n\u001b[0;32m----> 1\u001b[0m \u001b[38;5;28mprint\u001b[39m(\u001b[43md2\u001b[49m)\n",
      "\u001b[0;31mNameError\u001b[0m: name 'd2' is not defined"
     ]
    }
   ],
   "source": [
    "print(d2)"
   ]
  },
  {
   "cell_type": "code",
   "execution_count": 40,
   "id": "afaa8521-d63d-4822-ad9e-5cb6ec152aa8",
   "metadata": {},
   "outputs": [
    {
     "ename": "NameError",
     "evalue": "name 'd2' is not defined",
     "output_type": "error",
     "traceback": [
      "\u001b[0;31m---------------------------------------------------------------------------\u001b[0m",
      "\u001b[0;31mNameError\u001b[0m                                 Traceback (most recent call last)",
      "Cell \u001b[0;32mIn [40], line 1\u001b[0m\n\u001b[0;32m----> 1\u001b[0m \u001b[38;5;28mlen\u001b[39m(\u001b[43md2\u001b[49m)\n",
      "\u001b[0;31mNameError\u001b[0m: name 'd2' is not defined"
     ]
    }
   ],
   "source": [
    "len(d2)"
   ]
  },
  {
   "cell_type": "code",
   "execution_count": 41,
   "id": "27f382eb-360a-42ff-bb45-5f006a2369ac",
   "metadata": {},
   "outputs": [
    {
     "name": "stdout",
     "output_type": "stream",
     "text": [
      "name\n",
      "Age\n",
      "Roll No.\n",
      "city\n"
     ]
    }
   ],
   "source": [
    "d2= {\"name\":\"Alice\",\"Age\":23,\"Roll No.\":312,\"city\":\"Tvm\"}\n",
    "\n",
    "\n",
    "for i in d2:\n",
    "    print(i)"
   ]
  },
  {
   "cell_type": "code",
   "execution_count": 42,
   "id": "dd73f83b-290f-4939-bf4e-de57a7ea63ec",
   "metadata": {},
   "outputs": [
    {
     "name": "stdout",
     "output_type": "stream",
     "text": [
      "Alice\n",
      "23\n",
      "312\n",
      "Tvm\n"
     ]
    }
   ],
   "source": [
    "d2= {\"name\":\"Alice\",\"Age\":23,\"Roll No.\":312,\"city\":\"Tvm\"}\n",
    "\n",
    "for i in d2.values():\n",
    "    print(i)"
   ]
  },
  {
   "cell_type": "code",
   "execution_count": 47,
   "id": "12d01808-b42b-46ea-b5f8-fa41a3404ba6",
   "metadata": {},
   "outputs": [
    {
     "name": "stdout",
     "output_type": "stream",
     "text": [
      "{'name': 'Alice', 'Age': 23, 'Designation': 312, 'city': 'Tvm', 'Salary': 200000}\n"
     ]
    }
   ],
   "source": [
    "d3= {\"name\":\"Alice\",\"Age\":23,\"Designation\":312,\"city\":\"Tvm\",\"Salary\":200000}\n",
    "d4= d3.copy()\n",
    "print(d4)"
   ]
  },
  {
   "cell_type": "code",
   "execution_count": 49,
   "id": "ba78cf7f-be50-4b01-95e9-1d2419f809be",
   "metadata": {},
   "outputs": [
    {
     "name": "stdout",
     "output_type": "stream",
     "text": [
      "{'d1': {'name': 'Anna', 'Age': 23}, 'd2': {'name': 'Elsa', 'Age': 23}, 'd3': {'name': 'Luiz', 'Age': 23}}\n"
     ]
    }
   ],
   "source": [
    "#nested dictionaries\n",
    "\n",
    "d= {\"d1\":{\"name\":\"Anna\",\"Age\":23},\"d2\":{\"name\":\"Elsa\",\"Age\":23},\"d3\":{\"name\":\"Luiz\",\"Age\":23}}\n",
    "print(d)"
   ]
  },
  {
   "cell_type": "code",
   "execution_count": 50,
   "id": "8c0a0ed6-967b-4923-b5ee-a30f142314cb",
   "metadata": {},
   "outputs": [],
   "source": [
    "#general functions \n",
    "#(1)built in functions-----> # It is there in python.\n",
    "                             # no need to code.\n",
    "                             # Already there we are just using it.\n",
    "                             # saves time\n",
    "                             # speeds up time \n",
    "\n",
    "#(2)user defined functions---> # customise our own function\n",
    "                               #\n",
    "#benefits \n",
    "# you can use multiple times"
   ]
  },
  {
   "cell_type": "code",
   "execution_count": 53,
   "id": "56563aa6-9c22-4ec4-a443-753c750818a2",
   "metadata": {},
   "outputs": [],
   "source": [
    "#declaring a function\n",
    "\n",
    "#keyword-->def\n",
    "#funt name--> MyFirstFunction\n",
    "\n",
    "def MyFirstFunction():  \n",
    "    print(\"This is our third week\")\n",
    "    \n",
    "    "
   ]
  },
  {
   "cell_type": "code",
   "execution_count": 54,
   "id": "42ed6480-21b9-4780-9eb4-a6ba10591ac5",
   "metadata": {},
   "outputs": [
    {
     "name": "stdout",
     "output_type": "stream",
     "text": [
      "This is our third week\n"
     ]
    }
   ],
   "source": [
    "#calling a function\n",
    "\n",
    "MyFirstFunction()"
   ]
  },
  {
   "cell_type": "code",
   "execution_count": 1,
   "id": "c263517b-c10c-48c4-aad2-012c514816eb",
   "metadata": {},
   "outputs": [
    {
     "name": "stdout",
     "output_type": "stream",
     "text": [
      "Anna sings well\n"
     ]
    }
   ],
   "source": [
    "# (name) -->name:argument\n",
    "\n",
    "def MyFirstFunction(name):  \n",
    "    print(name + \" sings well\")\n",
    "MyFirstFunction(\"Anna\")    "
   ]
  },
  {
   "cell_type": "code",
   "execution_count": null,
   "id": "6e26364c-536f-43ac-b0af-7edddf796c0b",
   "metadata": {},
   "outputs": [],
   "source": []
  }
 ],
 "metadata": {
  "kernelspec": {
   "display_name": "Python 3 (ipykernel)",
   "language": "python",
   "name": "python3"
  },
  "language_info": {
   "codemirror_mode": {
    "name": "ipython",
    "version": 3
   },
   "file_extension": ".py",
   "mimetype": "text/x-python",
   "name": "python",
   "nbconvert_exporter": "python",
   "pygments_lexer": "ipython3",
   "version": "3.10.6"
  }
 },
 "nbformat": 4,
 "nbformat_minor": 5
}
