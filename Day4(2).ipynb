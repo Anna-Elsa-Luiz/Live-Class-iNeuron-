{
 "cells": [
  {
   "cell_type": "code",
   "execution_count": 1,
   "id": "2fca2cc0-8fee-4fd3-b0a5-1d2779a4b240",
   "metadata": {},
   "outputs": [
    {
     "name": "stdout",
     "output_type": "stream",
     "text": [
      "['False', 'None', 'True', 'and', 'as', 'assert', 'async', 'await', 'break', 'class', 'continue', 'def', 'del', 'elif', 'else', 'except', 'finally', 'for', 'from', 'global', 'if', 'import', 'in', 'is', 'lambda', 'nonlocal', 'not', 'or', 'pass', 'raise', 'return', 'try', 'while', 'with', 'yield']\n"
     ]
    }
   ],
   "source": [
    "import keyword\n",
    "print(keyword.kwlist)"
   ]
  },
  {
   "cell_type": "code",
   "execution_count": 3,
   "id": "132fd34d-470e-434a-a2c6-c2fbba75fdf3",
   "metadata": {},
   "outputs": [
    {
     "name": "stdout",
     "output_type": "stream",
     "text": [
      "5.0\n"
     ]
    }
   ],
   "source": [
    "import math\n",
    "result=math.sqrt(25)\n",
    "print(result)"
   ]
  },
  {
   "cell_type": "code",
   "execution_count": 4,
   "id": "6ed74496-7f90-49f6-b5ce-3884e63eb649",
   "metadata": {},
   "outputs": [
    {
     "name": "stdout",
     "output_type": "stream",
     "text": [
      "9.0\n"
     ]
    }
   ],
   "source": [
    "from math import sqrt\n",
    "result=sqrt(81)\n",
    "print(result)"
   ]
  },
  {
   "cell_type": "code",
   "execution_count": 5,
   "id": "ac23672d-3814-418d-bf41-8a85e97a0ac0",
   "metadata": {},
   "outputs": [
    {
     "name": "stdout",
     "output_type": "stream",
     "text": [
      "4.0\n"
     ]
    }
   ],
   "source": [
    "print(sqrt(16))"
   ]
  },
  {
   "cell_type": "code",
   "execution_count": 2,
   "id": "f964c3c9-b963-4c3f-9342-8c15a3ab22cb",
   "metadata": {},
   "outputs": [
    {
     "name": "stdout",
     "output_type": "stream",
     "text": [
      "30\n"
     ]
    }
   ],
   "source": [
    "marks1=10\n",
    "marks2=20\n",
    "\n",
    "tot=marks1+marks2\n",
    "print(tot)"
   ]
  },
  {
   "cell_type": "code",
   "execution_count": 9,
   "id": "414a9542-178b-4e6c-8f92-16926e8db7ff",
   "metadata": {},
   "outputs": [
    {
     "name": "stdout",
     "output_type": "stream",
     "text": [
      "21\n",
      "21\n",
      "21\n"
     ]
    }
   ],
   "source": [
    "#identifiers\n",
    "#cant start with digit can use digits in btw\n",
    "#use underscore,capital and small letters\n",
    "\n",
    "_age=21\n",
    "print(_age)\n",
    "\n",
    "age=21\n",
    "print(age)\n",
    "\n",
    "Age=21\n",
    "print(21)"
   ]
  },
  {
   "cell_type": "code",
   "execution_count": 16,
   "id": "cba037d0-f2ac-4ab5-ac84-4c248e4fd0b3",
   "metadata": {},
   "outputs": [
    {
     "data": {
      "text/plain": [
       "'\\nYou can use the  variables  a nd b\\nyou can use the  values 1 and 2\\n'"
      ]
     },
     "execution_count": 16,
     "metadata": {},
     "output_type": "execute_result"
    }
   ],
   "source": [
    "#comments\n",
    "\n",
    "\"\"\"\n",
    "You can use the  variables  a nd b\n",
    "you can use the  values 1 and 2\n",
    "\"\"\""
   ]
  },
  {
   "cell_type": "code",
   "execution_count": 22,
   "id": "8e9126a1-fe7c-4e28-910b-6983845e5977",
   "metadata": {},
   "outputs": [
    {
     "name": "stdout",
     "output_type": "stream",
     "text": [
      "positive number\n"
     ]
    }
   ],
   "source": [
    "#indentation\n",
    "x=5\n",
    "if x>2:\n",
    "    print(\"positive number\")\n",
    "    "
   ]
  },
  {
   "cell_type": "code",
   "execution_count": 23,
   "id": "82a45917-6a19-4e29-ad2e-53fcccafcb90",
   "metadata": {},
   "outputs": [
    {
     "name": "stdout",
     "output_type": "stream",
     "text": [
      "positive number\n",
      "positive no.\n"
     ]
    }
   ],
   "source": [
    "#indentation\n",
    "x=5\n",
    "if x>2:\n",
    "    print(\"positive number\")\n",
    "if x>4:\n",
    "    print(\"positive no.\")"
   ]
  },
  {
   "cell_type": "code",
   "execution_count": 24,
   "id": "3e456143-be79-4f74-825a-537f96a00c02",
   "metadata": {},
   "outputs": [
    {
     "name": "stdout",
     "output_type": "stream",
     "text": [
      "['black', 'white', 'red', 'green', 'yellow']\n"
     ]
    }
   ],
   "source": [
    "#list\n",
    "#mutable\n",
    "#heterogenous\n",
    "#declaration-->[]\n",
    "color=['black','white','red','green','yellow']\n",
    "print(color)"
   ]
  },
  {
   "cell_type": "code",
   "execution_count": 33,
   "id": "2b808386-e65a-4e85-b8b0-740b1f407fce",
   "metadata": {},
   "outputs": [
    {
     "name": "stdout",
     "output_type": "stream",
     "text": [
      "('black', 'white', 'red', 'green', 'yellow')\n"
     ]
    }
   ],
   "source": [
    "#tuple\n",
    "#immutable\n",
    "#heterogenous\n",
    "#declaration-->()\n",
    "color = ('black','white','red','green','yellow')\n",
    "print(color)\n",
    "\n",
    "\n",
    "\n"
   ]
  },
  {
   "cell_type": "code",
   "execution_count": 44,
   "id": "8e2932d6-d13a-4118-bb2d-dadd9c022a01",
   "metadata": {},
   "outputs": [
    {
     "name": "stdout",
     "output_type": "stream",
     "text": [
      "{'name': 'Anna', 'roll no': '12'}\n"
     ]
    }
   ],
   "source": [
    "#dictionaries\n",
    "#mutable\n",
    "#heterogenous\n",
    "#key-value pairs\n",
    "#declaration-->{}\n",
    "my_dict={'name':'Anna','roll no':'12'}\n",
    "print(my_dict)"
   ]
  },
  {
   "cell_type": "code",
   "execution_count": 45,
   "id": "00b7efe4-f7af-456c-adb2-184298f9b5e4",
   "metadata": {},
   "outputs": [
    {
     "name": "stdout",
     "output_type": "stream",
     "text": [
      "{'book1', 'book2', 'book4', 'book3'}\n"
     ]
    }
   ],
   "source": [
    "#sets\n",
    "#can be homogenous and heterogenous (depends)\n",
    "#no key value pairs\n",
    "\n",
    "my_dict={'book1','book2','book3','book4'}\n",
    "print(my_dict)"
   ]
  },
  {
   "cell_type": "code",
   "execution_count": 46,
   "id": "34bd2a22-f3dd-48d0-9924-d6292fd67419",
   "metadata": {},
   "outputs": [],
   "source": [
    "#eg: of set\n",
    "#Table 1= Name,salary,Designation--->country\n",
    "#Table 1= Name,salary,Designation--->state\n",
    "\n"
   ]
  },
  {
   "cell_type": "code",
   "execution_count": 48,
   "id": "6936db62-7a91-4c24-ae44-5b7568006063",
   "metadata": {},
   "outputs": [
    {
     "data": {
      "text/plain": [
       "20"
      ]
     },
     "execution_count": 48,
     "metadata": {},
     "output_type": "execute_result"
    }
   ],
   "source": [
    "a=10\n",
    "b=20\n",
    "a\n",
    "b\n",
    "#last output will be printed"
   ]
  },
  {
   "cell_type": "code",
   "execution_count": null,
   "id": "10630e39-89f4-4a97-8c7d-f3ebff3b8588",
   "metadata": {},
   "outputs": [],
   "source": []
  }
 ],
 "metadata": {
  "kernelspec": {
   "display_name": "Python 3 (ipykernel)",
   "language": "python",
   "name": "python3"
  },
  "language_info": {
   "codemirror_mode": {
    "name": "ipython",
    "version": 3
   },
   "file_extension": ".py",
   "mimetype": "text/x-python",
   "name": "python",
   "nbconvert_exporter": "python",
   "pygments_lexer": "ipython3",
   "version": "3.10.6"
  }
 },
 "nbformat": 4,
 "nbformat_minor": 5
}
